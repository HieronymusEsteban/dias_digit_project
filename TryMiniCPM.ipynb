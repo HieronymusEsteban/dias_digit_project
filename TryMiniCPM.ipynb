{
 "cells": [
  {
   "cell_type": "code",
   "execution_count": null,
   "id": "3dc82551-6251-49ea-83c6-26d13d65df06",
   "metadata": {},
   "outputs": [],
   "source": [
    "import pandas as pd\n",
    "from source import image_id_converter as img_idc\n",
    "import matplotlib.pyplot as plt\n",
    "from PIL import Image\n",
    "import numpy as np\n",
    "import matplotlib.pyplot as plt\n",
    "import pandas as pd\n",
    "import pathlib as pl\n",
    "from pathlib import Path\n",
    "import os"
   ]
  },
  {
   "cell_type": "code",
   "execution_count": null,
   "id": "67e1afd3-185c-4e21-b274-af61483ad246",
   "metadata": {},
   "outputs": [],
   "source": [
    "import ollama\n",
    "import json\n",
    "import re"
   ]
  },
  {
   "cell_type": "code",
   "execution_count": null,
   "id": "2b0a1cc0-9327-45bf-80b3-c28f8d22bf78",
   "metadata": {},
   "outputs": [],
   "source": []
  },
  {
   "cell_type": "code",
   "execution_count": null,
   "id": "61871fe8-adcc-4d23-83b3-54cc38b2b47d",
   "metadata": {},
   "outputs": [],
   "source": [
    "\n",
    "project_path = Path.cwd()\n",
    "root_path = (project_path / '..').resolve()\n",
    "\n",
    "# Define paths\n",
    "image_dir = root_path/'visual_genome_proc_data'  # Replace with your directory containing images\n",
    "image_dir_2 = root_path/'data_1'"
   ]
  },
  {
   "cell_type": "code",
   "execution_count": null,
   "id": "96c39c4e-280c-47e5-83a1-16e82c4e81e1",
   "metadata": {},
   "outputs": [],
   "source": []
  },
  {
   "cell_type": "markdown",
   "id": "e14f0645-11ad-4a2e-ad4f-987a04e1c6c2",
   "metadata": {},
   "source": [
    "### minicpm-v for image analysis first try:"
   ]
  },
  {
   "cell_type": "code",
   "execution_count": null,
   "id": "4cda2a02-82b2-431c-ae8c-5545ad455924",
   "metadata": {},
   "outputs": [],
   "source": [
    "\n",
    "\n",
    "# For batch processing your images\n",
    "def analyze_image(image_path, prompt):\n",
    "    response = ollama.chat(\n",
    "        model=\"minicpm-v\",  # or \"llava\"\n",
    "        messages=[{\n",
    "            'role': 'user', \n",
    "            'content': prompt,\n",
    "            'images': [image_path]\n",
    "        }]\n",
    "    \n",
    "    )\n",
    "    return response['message']['content']\n",
    "\n",
    "# Your specific use case\n",
    "prompt = \"List the 5 most prominent objects in this image and categorize the image type (photography, map, painting, etc.)\"\n",
    "\n"
   ]
  },
  {
   "cell_type": "code",
   "execution_count": null,
   "id": "3946c26c-d9e4-447b-a6fb-e04d70d32a4f",
   "metadata": {},
   "outputs": [],
   "source": []
  },
  {
   "cell_type": "code",
   "execution_count": null,
   "id": "a500da1d-b2ba-45b2-905f-022f0dedc39f",
   "metadata": {},
   "outputs": [],
   "source": [
    "image_files = os.listdir(image_dir)"
   ]
  },
  {
   "cell_type": "code",
   "execution_count": null,
   "id": "c7351f85-4844-4ac3-a3b0-da3c0bbf8baa",
   "metadata": {},
   "outputs": [],
   "source": [
    "image_files[0]"
   ]
  },
  {
   "cell_type": "code",
   "execution_count": null,
   "id": "0e13f5bd-dfed-4580-8331-19036fbd6fea",
   "metadata": {},
   "outputs": [],
   "source": [
    "#image_file_path = image_dir / image_files[0]\n",
    "image_file_path = image_dir / 'visual_genome_proc_2356444.jpg'\n",
    "image_file_path"
   ]
  },
  {
   "cell_type": "code",
   "execution_count": null,
   "id": "db011053-373f-47a2-8bf5-ae3fa52a026f",
   "metadata": {},
   "outputs": [],
   "source": [
    "analyze_image(image_file_path, prompt)"
   ]
  },
  {
   "cell_type": "code",
   "execution_count": null,
   "id": "81d3423b-9c1d-4522-834e-8c17c19b222b",
   "metadata": {},
   "outputs": [],
   "source": [
    "image = Image.open(image_file_path)"
   ]
  },
  {
   "cell_type": "code",
   "execution_count": null,
   "id": "cc89e7a6-8ac8-494e-83e7-a3cf3bb30bac",
   "metadata": {},
   "outputs": [],
   "source": [
    "plt.imshow(image)"
   ]
  },
  {
   "cell_type": "code",
   "execution_count": null,
   "id": "cc709edb-0c0e-4824-ad97-dc81a6b2fe0e",
   "metadata": {},
   "outputs": [],
   "source": []
  },
  {
   "cell_type": "markdown",
   "id": "59926e7b-e7d5-4198-9a43-f99cf5cf2463",
   "metadata": {},
   "source": [
    "### Trying to get structured answers:"
   ]
  },
  {
   "cell_type": "code",
   "execution_count": null,
   "id": "33e0fb6f-06a0-438a-8945-a7cbe447807c",
   "metadata": {},
   "outputs": [],
   "source": [
    "def create_analysis_prompt():\n",
    "    \"\"\"Create the structured prompt for image analysis.\"\"\"\n",
    "    return \"\"\"\n",
    "    Analyze this image and return ONLY a Python dictionary in exactly this format:\n",
    "    \n",
    "    {\n",
    "        'image_type': [],  # List all that apply: photography, drawing, painting, statistics_figure, map, scheme\n",
    "        'person': X,              # 1 if present, 0 if not\n",
    "        'person_confidence': Y,   # Confidence 0-1 (1=certain, 0.5=completely uncertain)\n",
    "        'mountain': X,            # 1 if present, 0 if not\n",
    "        'mountain_confidence': Y, # Confidence 0-1\n",
    "        'river': X,               # 1 if present, 0 if not\n",
    "        'river_confidence': Y,    # Confidence 0-1\n",
    "        'lake': X,                # 1 if present, 0 if not\n",
    "        'lake_confidence': Y,     # Confidence 0-1\n",
    "        'building': X,            # 1 if present, 0 if not\n",
    "        'building_confidence': Y, # Confidence 0-1\n",
    "        'church': X,              # 1 if present, 0 if not\n",
    "        'church_confidence': Y,   # Confidence 0-1\n",
    "        'city': X,                # 1 if present, 0 if not\n",
    "        'city_confidence': Y,     # Confidence 0-1\n",
    "        'village': X,             # 1 if present, 0 if not\n",
    "        'village_confidence': Y,  # Confidence 0-1\n",
    "        'glacier': X,             # 1 if present, 0 if not\n",
    "        'glacier_confidence': Y,  # Confidence 0-1\n",
    "        'other_objects': [],      # List of other noteworthy/dominant objects\n",
    "        'additional_comments': '' # Any additional observations or empty string if none\n",
    "    }\n",
    "    \n",
    "    Replace X with 1 (present) or 0 (not present).\n",
    "    Replace Y with confidence score 0-1 (1.0=completely certain, 0.5=completely uncertain, 0.0=certain of absence).\n",
    "    Return ONLY the dictionary, no other text.\n",
    "    \"\"\""
   ]
  },
  {
   "cell_type": "code",
   "execution_count": null,
   "id": "f258e9b5-0dd7-4905-9a73-2a932abde040",
   "metadata": {},
   "outputs": [],
   "source": [
    "create_analysis_prompt()"
   ]
  },
  {
   "cell_type": "code",
   "execution_count": null,
   "id": "5ab9f9ec-60b6-4c09-b900-69d2fd09c143",
   "metadata": {},
   "outputs": [],
   "source": [
    "def call_ollama_model(image_path, prompt):\n",
    "    \"\"\"Make the API call to Ollama.\"\"\"\n",
    "    response = ollama.chat(\n",
    "        model=\"minicpm-v\",  \n",
    "        messages=[{\n",
    "            'role': 'user', \n",
    "            'content': prompt,\n",
    "            'images': [image_path]\n",
    "        }]\n",
    "    )\n",
    "    return response['message']['content']"
   ]
  },
  {
   "cell_type": "code",
   "execution_count": null,
   "id": "8bb87453-9c6a-4897-a1ed-ec76ee358e7a",
   "metadata": {},
   "outputs": [],
   "source": []
  },
  {
   "cell_type": "code",
   "execution_count": null,
   "id": "eeb0c279-d7bd-4714-9271-57dc7ce8a131",
   "metadata": {},
   "outputs": [],
   "source": [
    "def parse_response_to_dict(response_text):\n",
    "    \"\"\"Parse the model response into a Python dictionary.\"\"\"\n",
    "    try:\n",
    "        dict_match = re.search(r'\\{.*\\}', response_text, re.DOTALL)\n",
    "        if dict_match:\n",
    "            dict_str = dict_match.group()\n",
    "            dict_str = dict_str.replace('\\\\_', '_')\n",
    "            result_dict = ast.literal_eval(dict_str)\n",
    "            success = True\n",
    "        else:\n",
    "            result_dict = None\n",
    "            success = False\n",
    "    except Exception as e:\n",
    "        result_dict = None\n",
    "        success = False\n",
    "    \n",
    "    return success, result_dict\n"
   ]
  },
  {
   "cell_type": "code",
   "execution_count": null,
   "id": "86300d8d-aa62-4e57-8939-4d07facbea46",
   "metadata": {},
   "outputs": [],
   "source": []
  },
  {
   "cell_type": "code",
   "execution_count": null,
   "id": "b2362431-2d4a-4966-9cb7-c1a9ec9152ff",
   "metadata": {},
   "outputs": [],
   "source": [
    "def analyze_image_structured(image_path):\n",
    "    \"\"\"Main function that orchestrates the image analysis.\"\"\"\n",
    "    prompt = create_analysis_prompt()\n",
    "    response_text = call_ollama_model(image_path, prompt)\n",
    "    success, result_dict = parse_response_to_dict(response_text)\n",
    "    \n",
    "    if success:\n",
    "        return result_dict\n",
    "    else:\n",
    "        print(f\"Failed to parse response for {image_path}\")\n",
    "        print(f\"Raw response: {response_text}\")\n",
    "        return None"
   ]
  },
  {
   "cell_type": "code",
   "execution_count": null,
   "id": "384a8908-15e5-4db8-82e4-8f65a7cdceb7",
   "metadata": {},
   "outputs": [],
   "source": [
    "def analyze_image_structured(image_path):\n",
    "    \"\"\"Main function that orchestrates the image analysis.\"\"\"\n",
    "    prompt = create_analysis_prompt()\n",
    "    response_text = call_ollama_model(image_path, prompt)\n",
    "    success, result_dict = parse_response_to_dict(response_text)\n",
    "    \n",
    "    if success:\n",
    "        return result_dict\n",
    "    else:\n",
    "        llm_response = {\"raw_response\": response_text}\n",
    "        return llm_response"
   ]
  },
  {
   "cell_type": "code",
   "execution_count": null,
   "id": "ce10ff07-547e-4243-8734-ccec9bbd407b",
   "metadata": {},
   "outputs": [],
   "source": [
    "analyze_image_structured(image_file_path)"
   ]
  },
  {
   "cell_type": "code",
   "execution_count": null,
   "id": "21e0b3af-c9e0-4322-810b-288292fb5277",
   "metadata": {},
   "outputs": [],
   "source": [
    "image = Image.open(image_file_path)\n",
    "plt.imshow(image)\n",
    "plt.show()"
   ]
  },
  {
   "cell_type": "code",
   "execution_count": null,
   "id": "79ede80f-61d4-42eb-a1ad-d12e82995f14",
   "metadata": {},
   "outputs": [],
   "source": [
    "image_files = os.listdir(image_dir)"
   ]
  },
  {
   "cell_type": "code",
   "execution_count": null,
   "id": "d731689d-071d-4af6-bfb2-2e683e52f680",
   "metadata": {},
   "outputs": [],
   "source": [
    "image_descr = []\n",
    "\n",
    "for image_file in image_files[17:20]:\n",
    "    image_path = image_dir / image_file\n",
    "\n",
    "    image = Image.open(image_path)\n",
    "    plt.imshow(image)\n",
    "    plt.show()\n",
    "\n",
    "    image_description = analyze_image_structured(image_path)\n",
    "    print(image_description)\n",
    "    image_descr.append(image_description)\n",
    "    "
   ]
  },
  {
   "cell_type": "code",
   "execution_count": null,
   "id": "20ed6fbb-6535-49b8-a5ff-3c33b055e4f4",
   "metadata": {},
   "outputs": [],
   "source": []
  },
  {
   "cell_type": "code",
   "execution_count": null,
   "id": "122e5597-e743-4448-900b-2f5fd75c0328",
   "metadata": {},
   "outputs": [],
   "source": []
  },
  {
   "cell_type": "code",
   "execution_count": null,
   "id": "a38d0eb8-b64e-4b5f-ac5a-ef972bb4ff12",
   "metadata": {},
   "outputs": [],
   "source": [
    "prompt_2 = \"Do you see a person in this picture? If so, answer by returning 1, if not return 0.\""
   ]
  },
  {
   "cell_type": "code",
   "execution_count": null,
   "id": "8deac08f-acbe-4280-98d7-cbc909eae089",
   "metadata": {},
   "outputs": [],
   "source": [
    "giub_images = os.listdir(image_dir_2)\n",
    "giub_images[0:4]"
   ]
  },
  {
   "cell_type": "code",
   "execution_count": null,
   "id": "2055187b-e6cb-4033-8f04-347a8c9811c0",
   "metadata": {},
   "outputs": [],
   "source": []
  },
  {
   "cell_type": "code",
   "execution_count": null,
   "id": "77d74095-6497-42b6-8a53-712758775330",
   "metadata": {},
   "outputs": [],
   "source": []
  },
  {
   "cell_type": "code",
   "execution_count": null,
   "id": "ec4029e0-374d-49bb-beeb-a49d412fb41d",
   "metadata": {},
   "outputs": [],
   "source": []
  },
  {
   "cell_type": "code",
   "execution_count": null,
   "id": "68c92e98-eaac-4910-b99a-20b857e7186d",
   "metadata": {},
   "outputs": [],
   "source": [
    "from PIL import Image\n",
    "import os\n",
    "from pathlib import Path\n",
    "\n",
    "def convert_image_if_needed(image_path):\n",
    "    \"\"\"Convert TIFF (and other unsupported formats) to JPG.\"\"\"\n",
    "    path = Path(image_path)\n",
    "    \n",
    "    if path.suffix.lower() in ['.tif', '.tiff']:\n",
    "        try:\n",
    "            img = Image.open(path)\n",
    "            if img.mode != 'RGB':\n",
    "                img = img.convert('RGB')\n",
    "            \n",
    "            # Build new path manually\n",
    "            jpg_path = path.parent / f\"{path.stem}_converted.jpg\"\n",
    "            \n",
    "            img.save(jpg_path, 'JPEG', quality=95)\n",
    "            print(f\"Converted {path} to {jpg_path}\")\n",
    "            return str(jpg_path)\n",
    "        except Exception as e:\n",
    "            print(f\"Error converting {path}: {e}\")\n",
    "            return None\n",
    "    else:\n",
    "        return str(path)\n",
    "\n",
    "def call_ollama_model(image_path, prompt):\n",
    "    \"\"\"Make the API call to Ollama.\"\"\"\n",
    "    # Convert image if needed\n",
    "    processed_path = convert_image_if_needed(image_path)\n",
    "    if processed_path is None:\n",
    "        raise ValueError(f\"Could not process image: {image_path}\")\n",
    "    \n",
    "    response = ollama.chat(\n",
    "        model=\"minicpm-v\",  \n",
    "        messages=[{\n",
    "            'role': 'user', \n",
    "            'content': prompt,\n",
    "            'images': [processed_path]\n",
    "        }],\n",
    "        options={\n",
    "        'temperature': 0.1,  # Lower = more deterministic (0.0 to 1.0)\n",
    "        'seed': 42           # Fixed seed for reproducibility\n",
    "    }\n",
    "    )\n",
    "    return response['message']['content']"
   ]
  },
  {
   "cell_type": "code",
   "execution_count": null,
   "id": "bf1a0c92-2c18-4c5d-8bfd-6aeb7141a329",
   "metadata": {},
   "outputs": [],
   "source": []
  },
  {
   "cell_type": "code",
   "execution_count": null,
   "id": "356c9d33-b117-45dd-bac8-613f00597e61",
   "metadata": {},
   "outputs": [],
   "source": [
    "giub_images = os.listdir(image_dir_2)\n",
    "giub_images[0:4]\n",
    "\n",
    "image_descr = []\n",
    "\n",
    "for image_file in giub_images[0:27]:\n",
    "    image_path = image_dir_2 / image_file\n",
    "\n",
    "    image = Image.open(image_path)\n",
    "    plt.imshow(image)\n",
    "    plt.show()\n",
    "\n",
    "    image_description = call_ollama_model(image_path, prompt_2)\n",
    "    print(image_description)\n",
    "\n",
    "    "
   ]
  },
  {
   "cell_type": "code",
   "execution_count": null,
   "id": "25e0b750-1b89-4e29-a6e1-428ea98fbadd",
   "metadata": {},
   "outputs": [],
   "source": []
  },
  {
   "cell_type": "code",
   "execution_count": null,
   "id": "f7c1cf9b-e1b7-4eee-bb07-937ca3413a9d",
   "metadata": {},
   "outputs": [],
   "source": []
  },
  {
   "cell_type": "code",
   "execution_count": null,
   "id": "978d9553-578a-4605-ab70-2c705eccdf3f",
   "metadata": {},
   "outputs": [],
   "source": [
    "import shutil\n",
    "from pathlib import Path\n",
    "\n",
    "def move_jpg_files(source_folder, destination_folder):\n",
    "    \"\"\"\n",
    "    Move all JPG files from source folder to destination folder.\n",
    "    TIF files remain in the source folder.\n",
    "    \n",
    "    Args:\n",
    "        source_folder (str or Path): Path to source folder\n",
    "        destination_folder (str or Path): Path to destination folder\n",
    "    \"\"\"\n",
    "    source_path = Path(source_folder)\n",
    "    dest_path = Path(destination_folder)\n",
    "    \n",
    "    # Create destination folder if it doesn't exist\n",
    "    dest_path.mkdir(parents=True, exist_ok=True)\n",
    "    \n",
    "    # Find all JPG files (case insensitive)\n",
    "    jpg_extensions = ['.jpg', '.jpeg']\n",
    "    jpg_files = []\n",
    "    \n",
    "    for ext in jpg_extensions:\n",
    "        jpg_files.extend(source_path.glob(f'*{ext}'))\n",
    "        jpg_files.extend(source_path.glob(f'*{ext.upper()}'))\n",
    "    \n",
    "    # Move each JPG file\n",
    "    moved_count = 0\n",
    "    for jpg_file in jpg_files:\n",
    "        try:\n",
    "            destination_file = dest_path / jpg_file.name\n",
    "            shutil.move(str(jpg_file), str(destination_file))\n",
    "            print(f\"Moved: {jpg_file.name}\")\n",
    "            moved_count += 1\n",
    "        except Exception as e:\n",
    "            print(f\"Error moving {jpg_file.name}: {e}\")\n",
    "    \n",
    "    print(f\"\\nTotal files moved: {moved_count}\")\n",
    "    \n",
    "    # Show what's left in source folder\n",
    "    remaining_files = list(source_path.glob('*'))\n",
    "    remaining_files = [f for f in remaining_files if f.is_file()]\n",
    "    print(f\"Files remaining in source: {len(remaining_files)}\")\n",
    "\n"
   ]
  },
  {
   "cell_type": "code",
   "execution_count": null,
   "id": "852980ab-3185-4b76-ad21-4e16f1422c5b",
   "metadata": {},
   "outputs": [],
   "source": [
    "image_dir_2"
   ]
  },
  {
   "cell_type": "code",
   "execution_count": null,
   "id": "ec4d3d66-9eea-428f-8ed3-ee73a227a8b0",
   "metadata": {},
   "outputs": [],
   "source": [
    "# Usage\n",
    "source_folder = image_dir_2\n",
    "destination_folder = root_path/'data_jpg'\n",
    "\n",
    "move_jpg_files(source_folder, destination_folder)"
   ]
  },
  {
   "cell_type": "code",
   "execution_count": null,
   "id": "299f570a-01ee-40e9-9cb1-ee4d1e40d0e1",
   "metadata": {},
   "outputs": [],
   "source": []
  },
  {
   "cell_type": "code",
   "execution_count": null,
   "id": "6f882475-1e6f-4dd9-a426-d9e381332782",
   "metadata": {},
   "outputs": [],
   "source": []
  },
  {
   "cell_type": "code",
   "execution_count": null,
   "id": "ed31e65d-b0e0-445d-9c1f-c1eb62d88630",
   "metadata": {},
   "outputs": [],
   "source": []
  },
  {
   "cell_type": "code",
   "execution_count": null,
   "id": "5ad559e9-6c4d-4e06-94af-1f6535bd88ae",
   "metadata": {},
   "outputs": [],
   "source": [
    "image_dir_3 = root_path/'data_jpg'\n",
    "giub_images = os.listdir(image_dir_3)\n",
    "\n",
    "\n",
    "image_descr = []\n",
    "\n",
    "for image_file in giub_images:\n",
    "    image_path = image_dir_3 / image_file\n",
    "\n",
    "    image = Image.open(image_path)\n",
    "    plt.imshow(image)\n",
    "    plt.show()\n",
    "\n",
    "    image_description = analyze_image_structured(image_path)\n",
    "    print(image_description)\n",
    "    image_descr.append(image_description)\n"
   ]
  },
  {
   "cell_type": "code",
   "execution_count": null,
   "id": "5efab7da-592c-4901-8a32-fe9108f9da69",
   "metadata": {},
   "outputs": [],
   "source": []
  }
 ],
 "metadata": {
  "kernelspec": {
   "display_name": "Python 3 (ipykernel)",
   "language": "python",
   "name": "python3"
  },
  "language_info": {
   "codemirror_mode": {
    "name": "ipython",
    "version": 3
   },
   "file_extension": ".py",
   "mimetype": "text/x-python",
   "name": "python",
   "nbconvert_exporter": "python",
   "pygments_lexer": "ipython3",
   "version": "3.12.5"
  }
 },
 "nbformat": 4,
 "nbformat_minor": 5
}
