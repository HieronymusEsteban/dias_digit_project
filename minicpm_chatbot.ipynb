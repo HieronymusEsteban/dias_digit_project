{
 "cells": [
  {
   "cell_type": "code",
   "execution_count": null,
   "id": "008be045-43f9-4e6d-ae02-501e0640e208",
   "metadata": {},
   "outputs": [],
   "source": []
  },
  {
   "cell_type": "code",
   "execution_count": null,
   "id": "fc3c7542-5be2-46e7-b6dd-1d6f011b0d30",
   "metadata": {},
   "outputs": [],
   "source": []
  },
  {
   "cell_type": "code",
   "execution_count": null,
   "id": "2a6dbb0c-e420-486c-86c7-8224cbd1e2f3",
   "metadata": {},
   "outputs": [],
   "source": []
  },
  {
   "cell_type": "code",
   "execution_count": null,
   "id": "0acc6c17-bcc7-4ad5-a3c2-4637a89ef08f",
   "metadata": {},
   "outputs": [],
   "source": [
    "import ollama\n",
    "\n",
    "\n",
    "# Choose a chat-capable model (ensured it is pulled)\n",
    "model_name = 'minicpm-v'\n",
    "\n",
    "# Initialize conversation with a system prompt (optional) and a user message\n",
    "messages = [\n",
    "    {\"role\": \"system\", \"content\": \"You are a helpful assistant.\"},\n",
    "    {\"role\": \"user\", \"content\": \"Hello!\"},\n",
    "]\n",
    "\n",
    "# First response from the bot\n",
    "response = ollama.chat(model=model_name, messages=messages)\n",
    "print(\"Bot:\", response.message.content)\n",
    "\n",
    "# Continue the conversation:\n",
    "while True:\n",
    "    user_input = input(\"You: \")\n",
    "    if not user_input:\n",
    "        break  # exit loop on empty input\n",
    "    messages.append({\"role\": \"user\", \"content\": user_input})\n",
    "    response = ollama.chat(model=model_name, messages=messages)\n",
    "    answer = response.message.content\n",
    "    print(\"Bot:\", answer)\n",
    "    messages.append({\"role\": \"assistant\", \"content\": answer})"
   ]
  },
  {
   "cell_type": "code",
   "execution_count": null,
   "id": "c248e023-9256-487d-8b65-eb616a0e548f",
   "metadata": {},
   "outputs": [],
   "source": []
  }
 ],
 "metadata": {
  "kernelspec": {
   "display_name": "Python 3 (ipykernel)",
   "language": "python",
   "name": "python3"
  },
  "language_info": {
   "codemirror_mode": {
    "name": "ipython",
    "version": 3
   },
   "file_extension": ".py",
   "mimetype": "text/x-python",
   "name": "python",
   "nbconvert_exporter": "python",
   "pygments_lexer": "ipython3",
   "version": "3.12.5"
  }
 },
 "nbformat": 4,
 "nbformat_minor": 5
}
