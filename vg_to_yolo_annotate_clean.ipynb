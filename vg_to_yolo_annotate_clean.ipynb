{
 "cells": [
  {
   "cell_type": "code",
   "execution_count": null,
   "id": "dec97a58-207d-41dd-be35-1131e3940a8a",
   "metadata": {},
   "outputs": [],
   "source": [
    "import os\n",
    "from pathlib import Path\n",
    "import shutil\n",
    "import cv2\n",
    "import numpy as np\n",
    "from PIL import Image, ImageEnhance, ImageFilter\n",
    "import random\n"
   ]
  },
  {
   "cell_type": "code",
   "execution_count": null,
   "id": "14a85f25-c0b4-400d-91d3-7c6a3225fda4",
   "metadata": {},
   "outputs": [],
   "source": [
    "import matplotlib.pyplot as plt\n",
    "import numpy as np\n",
    "from PIL import Image\n",
    "from IPython.display import clear_output"
   ]
  },
  {
   "cell_type": "code",
   "execution_count": null,
   "id": "74379923-3ad0-4904-ab85-40011d7303db",
   "metadata": {},
   "outputs": [],
   "source": [
    "from source.visual_genome_meta_data import read_json_to_dict\n",
    "from source.visual_genome_meta_data import get_image_meta_data\n",
    "from source.visual_genome_meta_data import count_occurrences\n",
    "from source.visual_genome_data import get_file_by_id\n",
    "from source.visual_genome_to_yolo import create_class_mapping_from_list\n",
    "from source.visual_genome_to_yolo import save_class_map_to_yaml\n",
    "from source.visual_genome_to_yolo import convert_single_image_to_yolo\n",
    "from source.visual_genome_to_yolo import read_yaml_to_class_map\n",
    "from source.visual_genome_to_yolo import read_yolo_metadata\n",
    "from source.visual_genome_to_yolo import visual_genome_to_yolo_data_n\n",
    "from source.visual_genome_meta_data import plot_image_with_multiple_bboxes\n",
    "from source.visual_genome_meta_data import get_image_ids\n",
    "from source.yolo_training_structure import distribute_train_val_files as dist_train_val\n"
   ]
  },
  {
   "cell_type": "code",
   "execution_count": null,
   "id": "fa19427e-0da4-4871-abe3-5693d341f64d",
   "metadata": {},
   "outputs": [],
   "source": [
    "def clear_yolo_metadata_by_id(data_path, identifier, id_end=True):\n",
    "   \"\"\"\n",
    "   Clear YOLO metadata file by identifier - makes it empty (removes all bounding boxes)\n",
    "   \n",
    "   Args:\n",
    "       data_path: Path to directory containing .txt files\n",
    "       identifier: Integer identifier to search for\n",
    "       id_end: If True (default), select file with ID at end only.\n",
    "               If False, select file with ID surrounded by underscores.\n",
    "   \"\"\"\n",
    "   #import os\n",
    "   #\n",
    "   #def get_file_by_id(data_path, identifier, file_extension):\n",
    "   #    filenames = []\n",
    "   #    identifier_underlines = '_' + str(identifier) + '_'\n",
    "   #    identifier_end = '_' + str(identifier) + '.'\n",
    "   #    for file in os.listdir(str(data_path)):\n",
    "   #        id_underline_bool = identifier_underlines in file\n",
    "   #        id_end_bool = identifier_end in file\n",
    "   #        id_bool = id_underline_bool or id_end_bool\n",
    "   #        file_ext_bool = file.endswith(file_extension)\n",
    "   #        if id_bool and file_ext_bool:\n",
    "   #            filenames.append(file)                 \n",
    "   #    return filenames\n",
    "   \n",
    "   # Get all matching files\n",
    "   txt_files = get_file_by_id(data_path, identifier, '.txt')\n",
    "   \n",
    "   if not txt_files:\n",
    "       print(f\"No .txt file found with identifier {identifier}\")\n",
    "       return False\n",
    "   \n",
    "   # Filter based on id_end parameter\n",
    "   if id_end:\n",
    "       # Select only files where ID is at the end\n",
    "       filtered_files = [f for f in txt_files if f.endswith(f'_{identifier}.txt')]\n",
    "   else:\n",
    "       # Select only files where ID is surrounded by underscores\n",
    "       filtered_files = [f for f in txt_files if f'_{identifier}_' in f]\n",
    "   \n",
    "   if not filtered_files:\n",
    "       pattern_type = \"at end\" if id_end else \"with underscores\"\n",
    "       print(f\"No .txt file found with identifier {identifier} {pattern_type}\")\n",
    "       return False\n",
    "   \n",
    "   # Overwrite with empty content\n",
    "   file_path = os.path.join(data_path, filtered_files[0])\n",
    "   with open(file_path, 'w') as f:\n",
    "       pass\n",
    "   \n",
    "   print(f\"Cleared metadata file: {filtered_files[0]}\")\n",
    "   return True"
   ]
  },
  {
   "cell_type": "code",
   "execution_count": null,
   "id": "80a85eec-4b44-4bb4-bcbb-4d0943bd23a0",
   "metadata": {},
   "outputs": [],
   "source": [
    "def delete_files_by_id(data_path, identifier, file_extension, id_end=True):\n",
    "   \"\"\"\n",
    "   Delete files by identifier.\n",
    "   \n",
    "   Args:\n",
    "       data_path: Path to directory containing files\n",
    "       identifier: Integer identifier to search for\n",
    "       file_extension: File extension (e.g., '.txt', '.jpg')\n",
    "       id_end: If True (default), delete only files with ID at end.\n",
    "               If False, delete files with ID surrounded by underscores.\n",
    "   \"\"\"\n",
    "   #import os\n",
    "   #\n",
    "   #def get_file_by_id(data_path, identifier, file_extension):\n",
    "   #    filenames = []\n",
    "   #    identifier_underlines = '_' + str(identifier) + '_'\n",
    "   #    identifier_end = '_' + str(identifier) + '.'\n",
    "   #    for file in os.listdir(str(data_path)):\n",
    "   #        id_underline_bool = identifier_underlines in file\n",
    "   #        id_end_bool = identifier_end in file\n",
    "   #        id_bool = id_underline_bool or id_end_bool\n",
    "   #        file_ext_bool = file.endswith(file_extension)\n",
    "   #        if id_bool and file_ext_bool:\n",
    "   #            filenames.append(file)\n",
    "   #    return filenames\n",
    "   \n",
    "   # Get all matching files\n",
    "   files = get_file_by_id(data_path, identifier, file_extension)\n",
    "   \n",
    "   # Filter based on id_end parameter\n",
    "   if id_end:\n",
    "       filtered_files = [f for f in files if f.endswith(f'_{identifier}{file_extension}')]\n",
    "   else:\n",
    "       filtered_files = [f for f in files if f'_{identifier}_' in f]\n",
    "   \n",
    "   # Delete filtered files\n",
    "   deleted_count = 0\n",
    "   for filename in filtered_files:\n",
    "       file_path = os.path.join(data_path, filename)\n",
    "       try:\n",
    "           os.remove(file_path)\n",
    "           print(f\"Deleted: {filename}\")\n",
    "           deleted_count += 1\n",
    "       except OSError as e:\n",
    "           print(f\"Error deleting {filename}: {e}\")\n",
    "   \n",
    "   print(f\"Deleted {deleted_count} files\")\n",
    "   return deleted_count\n",
    "\n",
    "# Usage:\n",
    "# delete_files_by_id('/path/to/files', 2324505, '.txt')  # Delete files ending with _2324505.txt"
   ]
  },
  {
   "cell_type": "code",
   "execution_count": null,
   "id": "60cbef4e-d222-4ee5-b915-b7efb8c99732",
   "metadata": {},
   "outputs": [],
   "source": [
    "def plot_image_with_yolo_grid(image_path, grid_divisions=10, figsize=(12, 10), label_size=12, \n",
    "                            zoom_region=None):\n",
    "   \"\"\"\n",
    "   Plot image with YOLO-compatible grid overlay and labeled axes.\n",
    "   \n",
    "   Args:\n",
    "       image_path: Path to image file (.jpg, .tif, etc.)\n",
    "       grid_divisions: Number of grid divisions (default 10 for 0.1 increments)\n",
    "       figsize: Figure size as (width, height) tuple (default (12, 10))\n",
    "       label_size: Font size for grid labels (default 12)\n",
    "       zoom_region: Tuple (x_min, y_min, x_max, y_max) in YOLO coordinates (0.0-1.0)\n",
    "                   to zoom into specific region. None for full image (default)\n",
    "   \"\"\"\n",
    "   import matplotlib.pyplot as plt\n",
    "   import numpy as np\n",
    "   from PIL import Image\n",
    "   print(f\"Current image: {image_path}\")    \n",
    "\n",
    "\n",
    "   \n",
    "   # Load image\n",
    "   img = Image.open(image_path)\n",
    "   \n",
    "   # Create plot with custom figure size\n",
    "   fig, ax = plt.subplots(figsize=figsize)\n",
    "   ax.imshow(img)\n",
    "   \n",
    "   # Get image dimensions\n",
    "   width, height = img.size\n",
    "   \n",
    "   # Determine zoom bounds\n",
    "   if zoom_region is None:\n",
    "       x_min, y_min, x_max, y_max = 0.0, 0.0, 1.0, 1.0\n",
    "   else:\n",
    "       x_min, y_min, x_max, y_max = zoom_region\n",
    "   \n",
    "   # Create grid lines within zoom region\n",
    "   grid_positions_x = np.linspace(x_min, x_max, grid_divisions + 1)\n",
    "   grid_positions_y = np.linspace(y_min, y_max, grid_divisions + 1)\n",
    "   \n",
    "   # Vertical grid lines (x-coordinates)\n",
    "   for pos in grid_positions_x:\n",
    "       x_pixel = pos * width\n",
    "       ax.axvline(x=x_pixel, color='red', alpha=0.7, linewidth=1)\n",
    "   \n",
    "   # Horizontal grid lines (y-coordinates) \n",
    "   for pos in grid_positions_y:\n",
    "       y_pixel = pos * height\n",
    "       ax.axhline(y=y_pixel, color='red', alpha=0.7, linewidth=1)\n",
    "   \n",
    "   # Create labels with appropriate precision based on grid fineness\n",
    "   if grid_divisions <= 10:\n",
    "       decimal_places = 1\n",
    "   elif grid_divisions <= 100:\n",
    "       decimal_places = 2\n",
    "   else:\n",
    "       decimal_places = 3\n",
    "   \n",
    "   x_labels = [f\"{pos:.{decimal_places}f}\" for pos in grid_positions_x]\n",
    "   y_labels = [f\"{pos:.{decimal_places}f}\" for pos in grid_positions_y]\n",
    "   \n",
    "   # Set tick positions and labels with custom font size\n",
    "   ax.set_xticks([pos * width for pos in grid_positions_x])\n",
    "   ax.set_xticklabels(x_labels, fontsize=label_size)\n",
    "   ax.set_yticks([pos * height for pos in grid_positions_y])\n",
    "   ax.set_yticklabels(y_labels, fontsize=label_size)\n",
    "   \n",
    "   # Set zoom limits if specified\n",
    "   if zoom_region is not None:\n",
    "       ax.set_xlim(x_min * width, x_max * width)\n",
    "       ax.set_ylim(y_max * height, y_min * height)  # Note: y-axis is flipped in images\n",
    "   \n",
    "   # Labels with custom font size\n",
    "   ax.set_xlabel('YOLO X-coordinate (normalized)', fontsize=label_size)\n",
    "   ax.set_ylabel('YOLO Y-coordinate (normalized)', fontsize=label_size)\n",
    "   \n",
    "   zoom_text = f\" (zoomed: {x_min:.2f}-{x_max:.2f}, {y_min:.2f}-{y_max:.2f})\" if zoom_region else \"\"\n",
    "   ax.set_title(f'YOLO Grid Overlay - {image_path}{zoom_text}', fontsize=label_size)\n",
    "   \n",
    "   plt.tight_layout()\n",
    "   plt.show()"
   ]
  },
  {
   "cell_type": "code",
   "execution_count": null,
   "id": "c7fe6ae2-8eb3-43a2-8c86-97e1d55be39e",
   "metadata": {},
   "outputs": [],
   "source": [
    "def parse_zoom_input(user_input):\n",
    "   \"\"\"Parse zoom region from user input\"\"\"\n",
    "   if not user_input.strip():\n",
    "       return None\n",
    "   \n",
    "   try:\n",
    "       coords = [float(x.strip()) for x in user_input.strip().split(',')]\n",
    "       if len(coords) == 4:\n",
    "           return tuple(coords)\n",
    "       else:\n",
    "           print(\"Invalid format. Please enter 4 values: x_min, y_min, x_max, y_max\")\n",
    "           return False\n",
    "   except ValueError:\n",
    "       print(\"Invalid input. Please enter numbers separated by commas.\")\n",
    "       return False"
   ]
  },
  {
   "cell_type": "code",
   "execution_count": null,
   "id": "8bff448a-24c8-44d1-9aa0-467cb19227ad",
   "metadata": {},
   "outputs": [],
   "source": [
    "def grid_coords_to_yolo(top_left, bottom_right, image_path):\n",
    "   \"\"\"\n",
    "   Convert grid coordinates to YOLO format bounding box.\n",
    "   \n",
    "   Args:\n",
    "       top_left: Tuple (x, y) of top-left corner in grid coordinates (0.0-1.0)\n",
    "       bottom_right: Tuple (x, y) of bottom-right corner in grid coordinates (0.0-1.0)\n",
    "       image_path: Path to image (needed to get dimensions for validation)\n",
    "   \n",
    "   Returns:\n",
    "       Tuple (x_center, y_center, width, height) in YOLO format (all 0.0-1.0)\n",
    "   \"\"\"\n",
    "   from PIL import Image\n",
    "   \n",
    "   # Load image to validate (optional, but good practice)\n",
    "   img = Image.open(image_path)\n",
    "   img_width, img_height = img.size\n",
    "   \n",
    "   # Extract coordinates\n",
    "   x1, y1 = top_left      # Top-left corner\n",
    "   x2, y2 = bottom_right  # Bottom-right corner\n",
    "   \n",
    "   # Validate coordinates are in correct order\n",
    "   if x1 >= x2 or y1 >= y2:\n",
    "       raise ValueError(f\"Invalid coordinates: top_left {top_left} should be above and left of bottom_right {bottom_right}\")\n",
    "   \n",
    "   # Validate coordinates are in valid range\n",
    "   if not (0 <= x1 <= 1 and 0 <= y1 <= 1 and 0 <= x2 <= 1 and 0 <= y2 <= 1):\n",
    "       raise ValueError(\"All coordinates must be between 0.0 and 1.0\")\n",
    "   \n",
    "   # Calculate YOLO format\n",
    "   x_center = (x1 + x2) / 2\n",
    "   y_center = (y1 + y2) / 2\n",
    "   width = x2 - x1\n",
    "   height = y2 - y1\n",
    "   \n",
    "   print(f\"Grid coordinates: top_left=({x1:.3f}, {y1:.3f}), bottom_right=({x2:.3f}, {y2:.3f})\")\n",
    "   print(f\"YOLO format: center=({x_center:.6f}, {y_center:.6f}), size=({width:.6f}, {height:.6f})\")\n",
    "   \n",
    "   return x_center, y_center, width, height\n",
    "\n",
    "# Usage examples:\n",
    "# yolo_coords = grid_coords_to_yolo((0.2, 0.1), (0.8, 0.7), 'image.jpg')\n",
    "# x_center, y_center, width, height = grid_coords_to_yolo((0.3, 0.2), (0.9, 0.6), 'image.jpg')"
   ]
  },
  {
   "cell_type": "code",
   "execution_count": null,
   "id": "00860c73-d38e-4760-bdc5-15362ea3fb44",
   "metadata": {},
   "outputs": [],
   "source": [
    "def create_yolo_metadata_file(output_path, bounding_boxes):\n",
    "    \"\"\"\n",
    "    Create and save YOLO metadata file with multiple bounding boxes.\n",
    "    \n",
    "    Args:\n",
    "        output_path: Path where to save the .txt file\n",
    "        bounding_boxes: List of tuples, each containing (class_id, x_center, y_center, width, height)\n",
    "    \"\"\"\n",
    "    with open(output_path, 'w') as f:\n",
    "        for class_id, x_center, y_center, width, height in bounding_boxes:\n",
    "            yolo_line = f\"{class_id} {x_center:.6f} {y_center:.6f} {width:.6f} {height:.6f}\\n\"\n",
    "            f.write(yolo_line)\n",
    "    \n",
    "    print(f\"YOLO metadata saved to: {output_path}\")\n",
    "    print(f\"Added {len(bounding_boxes)} bounding boxes\")\n",
    "\n"
   ]
  },
  {
   "cell_type": "markdown",
   "id": "dc747ce4-3f11-49b5-9d69-cd5e80a2b03d",
   "metadata": {},
   "source": [
    "### Define paths: "
   ]
  },
  {
   "cell_type": "raw",
   "id": "fce1d6b9-68cc-4a5d-960c-1b2bdf9b960f",
   "metadata": {},
   "source": [
    "\n",
    "project_path = Path.cwd()\n",
    "root_path = (project_path / '..' / 'test_yolo_annotation').resolve()\n",
    "data_path = root_path / 'visual_genome_data'\n",
    "\n",
    "yolo_path = root_path / 'visual_genome_yolo'"
   ]
  },
  {
   "cell_type": "code",
   "execution_count": null,
   "id": "f49f0dc7-aadf-47c3-9d7a-7811b695364c",
   "metadata": {},
   "outputs": [],
   "source": [
    "#root_path = Path('/Users/stephanehess/Documents/CAS_AML/dias_digit_project')\n",
    "#root_path = Path('/Users/stephanehess/Documents/CAS_AML/dias_digit_project/test_yolo_object_train')\n",
    "\n",
    "project_path = Path.cwd()\n",
    "root_path = (project_path / '..').resolve()\n",
    "#root_path = (project_path / '..' / 'test_yolo_object_train').resolve()\n",
    "\n",
    "data_path = root_path / 'visual_genome_data'\n",
    "#data_path = root_path / 'visual_genome_data_all'\n",
    "yolo_path = root_path / 'visual_genome_yolo'\n",
    "#yolo_path = root_path / 'visual_genome_yolo_all'"
   ]
  },
  {
   "cell_type": "code",
   "execution_count": null,
   "id": "666e1863-ea31-4d96-93f0-aa1d33c9563a",
   "metadata": {},
   "outputs": [],
   "source": [
    "print(data_path)\n",
    "print(yolo_path)"
   ]
  },
  {
   "cell_type": "code",
   "execution_count": null,
   "id": "eebf6cc2-9b67-40ff-8db9-774a0d8aa69d",
   "metadata": {},
   "outputs": [],
   "source": [
    "data_path"
   ]
  },
  {
   "cell_type": "code",
   "execution_count": null,
   "id": "370db129-2fac-4abb-95e3-6e0eb90059dd",
   "metadata": {},
   "outputs": [],
   "source": [
    "yolo_path"
   ]
  },
  {
   "cell_type": "code",
   "execution_count": null,
   "id": "fe76eaf1-bca9-4dfa-ac20-778a794c73d1",
   "metadata": {},
   "outputs": [],
   "source": [
    "os.listdir(yolo_path)"
   ]
  },
  {
   "cell_type": "code",
   "execution_count": null,
   "id": "2814d9c6-de53-44e9-b432-2e113ffaa110",
   "metadata": {},
   "outputs": [],
   "source": []
  },
  {
   "cell_type": "code",
   "execution_count": null,
   "id": "6a6d90d6-63b1-40f0-97c7-58acfac7fdb3",
   "metadata": {},
   "outputs": [],
   "source": []
  },
  {
   "cell_type": "code",
   "execution_count": null,
   "id": "4edbe0e0-e9d9-46ff-ba17-8f353f5775fc",
   "metadata": {},
   "outputs": [],
   "source": []
  },
  {
   "cell_type": "markdown",
   "id": "ce525404-23c9-4949-a97d-095a66a5ac37",
   "metadata": {},
   "source": [
    "### Read in objects file with meta data about visual genome data: "
   ]
  },
  {
   "cell_type": "code",
   "execution_count": null,
   "id": "dc77fa7e-9aab-4c3a-923a-764bc220bd6c",
   "metadata": {},
   "outputs": [],
   "source": [
    "objects_file_path = data_path/'objects.json'\n"
   ]
  },
  {
   "cell_type": "code",
   "execution_count": null,
   "id": "23cdad0b-02bb-4009-b078-eec600d79e4e",
   "metadata": {},
   "outputs": [],
   "source": [
    "objects = read_json_to_dict(objects_file_path)"
   ]
  },
  {
   "cell_type": "markdown",
   "id": "28d482a4-18e4-46df-9330-eba87a9ca925",
   "metadata": {},
   "source": [
    "### Get image identifiers: "
   ]
  },
  {
   "cell_type": "code",
   "execution_count": null,
   "id": "d860b1b3-0f38-42cf-b2d4-e36597bd91ee",
   "metadata": {},
   "outputs": [],
   "source": [
    "image_id_list = get_image_ids(data_path)\n",
    "image_id_list.sort()\n",
    "len(image_id_list)"
   ]
  },
  {
   "cell_type": "code",
   "execution_count": null,
   "id": "d7805fe7-a434-4775-a579-360c28cf0810",
   "metadata": {},
   "outputs": [],
   "source": [
    "image_id_list[0:3]"
   ]
  },
  {
   "cell_type": "code",
   "execution_count": null,
   "id": "f65e8feb-3666-4e31-97f5-df0fdcf10d34",
   "metadata": {},
   "outputs": [],
   "source": [
    "len(objects)"
   ]
  },
  {
   "cell_type": "code",
   "execution_count": null,
   "id": "0c2d65a6-bac2-4e90-a037-5b5a4fbb3fff",
   "metadata": {},
   "outputs": [],
   "source": []
  },
  {
   "cell_type": "markdown",
   "id": "8094fb14-fe0c-4a1a-b069-1c09bc7fc7b7",
   "metadata": {},
   "source": [
    "### Choose the desired objects:"
   ]
  },
  {
   "cell_type": "code",
   "execution_count": null,
   "id": "1af7a288-183e-404c-bbdb-0c54b9a439db",
   "metadata": {},
   "outputs": [],
   "source": [
    "#desired_objects = ['forest', 'mountain', 'mountains', 'building', 'house', \n",
    "#                   'church', 'city', 'village', 'lake', 'river', 'stream', 'glacier']\n",
    "\n",
    "#desired_objects = ['mountain']\n",
    "desired_objects = ['church']\n",
    "#desired_objects = ['lighthouse']\n",
    "\n",
    "\n",
    "desired_objects"
   ]
  },
  {
   "cell_type": "markdown",
   "id": "c3b5ee5e-b9ab-47a8-902e-0355b78b7ff9",
   "metadata": {},
   "source": [
    "### Create class map based on desired objects: "
   ]
  },
  {
   "cell_type": "code",
   "execution_count": null,
   "id": "a749c35a-79a3-4d33-bb67-897af6efb091",
   "metadata": {},
   "outputs": [],
   "source": [
    "class_map = create_class_mapping_from_list(desired_objects)"
   ]
  },
  {
   "cell_type": "code",
   "execution_count": null,
   "id": "d529143a-1794-42e0-868c-276b4c02e308",
   "metadata": {},
   "outputs": [],
   "source": [
    "class_map"
   ]
  },
  {
   "cell_type": "code",
   "execution_count": null,
   "id": "a28ced4f-0ce2-4e7e-99fc-c0d2c14b0d4b",
   "metadata": {},
   "outputs": [],
   "source": [
    "\n",
    "file_path = str(yolo_path) + '/'\n",
    "\n",
    "output_path = file_path + 'class_map.yaml'\n",
    "save_class_map_to_yaml(class_map, output_path)"
   ]
  },
  {
   "cell_type": "markdown",
   "id": "c31123a8-fb55-40de-b06b-afd440b1cf7f",
   "metadata": {},
   "source": [
    "### Check content of class_map.yaml file:"
   ]
  },
  {
   "cell_type": "code",
   "execution_count": null,
   "id": "1522ff2f-044d-4f93-b4ac-738ce4254cc0",
   "metadata": {},
   "outputs": [],
   "source": [
    "file_list = os.listdir(yolo_path)\n",
    "for filename in file_list:\n",
    "    if filename.split('_')[-1] == 'map.yaml':\n",
    "        yaml_file_name = filename\n",
    "yaml_file_name"
   ]
  },
  {
   "cell_type": "code",
   "execution_count": null,
   "id": "585de55f-bde9-4042-848f-d905c379b7ba",
   "metadata": {},
   "outputs": [],
   "source": [
    "yaml_path = yolo_path/yaml_file_name\n",
    "\n",
    "class_map = read_yaml_to_class_map(str(yaml_path))\n",
    "\n",
    "# Print the class mapping\n",
    "print(class_map)"
   ]
  },
  {
   "cell_type": "code",
   "execution_count": null,
   "id": "ff8767bd-a67e-4cd4-aed9-e8adc39f8332",
   "metadata": {},
   "outputs": [],
   "source": [
    "len(image_id_list)"
   ]
  },
  {
   "cell_type": "code",
   "execution_count": null,
   "id": "22ada098-9fb0-4dda-a5be-3a3558604d05",
   "metadata": {},
   "outputs": [],
   "source": [
    "#convert_single_image_to_yolo(objects[0], class_map, data_path, yolo_path)"
   ]
  },
  {
   "cell_type": "markdown",
   "id": "d5d3dec1-aa40-418a-bc23-bbcc3fe1cc34",
   "metadata": {},
   "source": [
    "### Create yolo compatible meta data files (bounding box information) for images containing the desired object:"
   ]
  },
  {
   "cell_type": "code",
   "execution_count": null,
   "id": "27ea4d4f-bfd4-4e3d-a97b-56431d984195",
   "metadata": {},
   "outputs": [],
   "source": [
    "\n",
    "objects_and_ids = (objects, desired_objects, image_id_list)\n",
    "paths = (data_path, yolo_path)\n",
    "\n",
    "label_paths_w, occurrence_counts = visual_genome_to_yolo_data_n(objects_and_ids, paths, class_map)\n",
    "len(label_paths_w)"
   ]
  },
  {
   "cell_type": "code",
   "execution_count": null,
   "id": "32f97925-a90c-4915-b33f-73ca60fe13c5",
   "metadata": {},
   "outputs": [],
   "source": [
    "occurrence_counts"
   ]
  },
  {
   "cell_type": "code",
   "execution_count": null,
   "id": "2ed6c8d3-efdf-4a54-b959-a33c5da1e0e1",
   "metadata": {},
   "outputs": [],
   "source": [
    "label_paths_w[0:3]"
   ]
  },
  {
   "cell_type": "code",
   "execution_count": null,
   "id": "23ebcbfd-d082-42e6-bf2a-916fc377f394",
   "metadata": {},
   "outputs": [],
   "source": [
    "class_map"
   ]
  },
  {
   "cell_type": "code",
   "execution_count": null,
   "id": "a4a575b0-66d7-4778-988d-f85ff0cadc5d",
   "metadata": {},
   "outputs": [],
   "source": [
    "label_paths_w[0:3]"
   ]
  },
  {
   "cell_type": "markdown",
   "id": "0d2732ab-c3ff-435e-833c-53cac394c3a4",
   "metadata": {},
   "source": [
    "### Get number of required images without desired object for balanced data set:"
   ]
  },
  {
   "cell_type": "code",
   "execution_count": null,
   "id": "a51904c7-ef0f-448a-b9f1-1a87913dcc4d",
   "metadata": {},
   "outputs": [],
   "source": [
    "desired_objects"
   ]
  },
  {
   "cell_type": "code",
   "execution_count": null,
   "id": "d994510c-5f00-4355-b47d-57e540ddd045",
   "metadata": {},
   "outputs": [],
   "source": [
    "desired_objects[0]"
   ]
  },
  {
   "cell_type": "code",
   "execution_count": null,
   "id": "48c03467-ce62-402e-9fa2-7f4ca4f0b984",
   "metadata": {},
   "outputs": [],
   "source": [
    "if len(desired_objects) == 1:\n",
    "    number_occurrences = occurrence_counts[desired_objects[0]]\n",
    "    print(number_occurrences)\n",
    "else:\n",
    "    number_occurrences = 'No unique answer: more than one desired objects!'\n",
    "    print(number_occurrences)"
   ]
  },
  {
   "cell_type": "code",
   "execution_count": null,
   "id": "86a7ae61-7b31-41d0-bcc1-5bf85026ab59",
   "metadata": {},
   "outputs": [],
   "source": [
    "number_images_without = round((number_occurrences/100) * 30)\n",
    "number_images_without"
   ]
  },
  {
   "cell_type": "markdown",
   "id": "184e094c-ba7d-4c20-8d61-dfb3ac368a38",
   "metadata": {},
   "source": [
    "### Create meta data text files for images without desired object:"
   ]
  },
  {
   "cell_type": "code",
   "execution_count": null,
   "id": "67a2f704-13c6-4baa-877e-ffa931ce3b90",
   "metadata": {},
   "outputs": [],
   "source": [
    "label_paths_n, occurrence_counts = visual_genome_to_yolo_data_n(objects_and_ids, paths, class_map,\n",
    "                                                           with_class = False, number_of_images = number_images_without)\n",
    "len(label_paths_n)"
   ]
  },
  {
   "cell_type": "code",
   "execution_count": null,
   "id": "53237ab4-365e-4146-991e-df19a7607c3b",
   "metadata": {},
   "outputs": [],
   "source": [
    "label_paths_n[0:3]"
   ]
  },
  {
   "cell_type": "code",
   "execution_count": null,
   "id": "71d12cde-e79f-4b00-8397-c2949a4c6759",
   "metadata": {},
   "outputs": [],
   "source": []
  },
  {
   "cell_type": "code",
   "execution_count": null,
   "id": "c1e23733-183a-4391-90ba-c76fb59a1bd5",
   "metadata": {},
   "outputs": [],
   "source": []
  },
  {
   "cell_type": "markdown",
   "id": "a45acaa6-1d9b-4c71-8292-a92a92e2e8f3",
   "metadata": {},
   "source": [
    "### The paths to the meta data files contain the image ids defining the image files to be used"
   ]
  },
  {
   "cell_type": "markdown",
   "id": "3b93f830-7936-4a6e-bc28-b1231613123f",
   "metadata": {},
   "source": [
    "#### Paths to label files with desired objects:"
   ]
  },
  {
   "cell_type": "code",
   "execution_count": null,
   "id": "bd7e7be4-a219-43ef-a279-a27d62536f44",
   "metadata": {},
   "outputs": [],
   "source": [
    "# Paths to label files with desired objects:\n",
    "print(type(label_paths_w))\n",
    "print(len(label_paths_w))"
   ]
  },
  {
   "cell_type": "markdown",
   "id": "4d2c4293-5a54-4c16-9ed9-d12f9621d9f4",
   "metadata": {},
   "source": [
    "#### Paths to label files without desired objects:"
   ]
  },
  {
   "cell_type": "code",
   "execution_count": null,
   "id": "24c76f14-778e-457d-b134-f0f5d35bba4b",
   "metadata": {},
   "outputs": [],
   "source": [
    "# Paths to label files without desired objects: \n",
    "print(type(label_paths_n))\n",
    "print(len(label_paths_n))"
   ]
  },
  {
   "cell_type": "code",
   "execution_count": null,
   "id": "00f00005-7ecc-409a-b2fe-c17bbe7232ac",
   "metadata": {},
   "outputs": [],
   "source": [
    "label_paths = label_paths_w + label_paths_n\n",
    "len(label_paths)"
   ]
  },
  {
   "cell_type": "markdown",
   "id": "7c901a54-46ee-4252-8f96-f6a0d3cf86fa",
   "metadata": {},
   "source": [
    "### Plot images containing desired object and use class_map file to plot bounding boxes:"
   ]
  },
  {
   "cell_type": "code",
   "execution_count": null,
   "id": "b27d0da1-e298-49f3-91a9-49c6b665b212",
   "metadata": {},
   "outputs": [],
   "source": [
    "for label_path in label_paths[0:3]:\n",
    "\n",
    "    img_id = label_path.split('_')[-1].split('.')[0]\n",
    "    print(img_id)\n",
    "    \n",
    "    labels, bboxes = read_yolo_metadata(label_path, class_map)\n",
    "    class_names = list(labels)\n",
    "    image_path_gen = data_path/'visual_genome_'\n",
    "    image_path = str(image_path_gen) + str(img_id) + '.jpg'\n",
    "    print(image_path)\n",
    "    plot_image_with_multiple_bboxes(image_path, bboxes, class_names)\n",
    "    "
   ]
  },
  {
   "cell_type": "code",
   "execution_count": null,
   "id": "41517acb-ea93-4a3e-b42d-9f8e3954d46d",
   "metadata": {},
   "outputs": [],
   "source": []
  },
  {
   "cell_type": "code",
   "execution_count": null,
   "id": "848b8c4a-988a-421e-b6d0-b29d03dacb8c",
   "metadata": {},
   "outputs": [],
   "source": []
  },
  {
   "cell_type": "code",
   "execution_count": null,
   "id": "27a4e60d-c1dd-4e55-928f-85e463aab23f",
   "metadata": {},
   "outputs": [],
   "source": [
    "files_to_delete = []\n",
    "files_to_clear = []\n",
    "files_to_annotate = []"
   ]
  },
  {
   "cell_type": "code",
   "execution_count": null,
   "id": "85964fb9-e316-42f4-bdea-f7550fab115b",
   "metadata": {},
   "outputs": [],
   "source": []
  },
  {
   "cell_type": "code",
   "execution_count": null,
   "id": "1f400a74-f238-41f1-bc3e-1c530579fb74",
   "metadata": {},
   "outputs": [],
   "source": [
    "# Files with incomplete annotation need to be annotated\n",
    "# manually: \n",
    "files_to_annotate_incomplete = ['visual_genome_2569.jpg',\n",
    "'visual_genome_2861.jpg',\n",
    "'visual_genome_3443.jpg',\n",
    "'visual_genome_1592640.jpg',\n",
    "'visual_genome_2414118.jpg',\n",
    "'visual_genome_2407261.jpg',\n",
    "'visual_genome_2404517.jpg',\n",
    "'visual_genome_2403320.jpg',\n",
    "'visual_genome_2401281.jpg',\n",
    "'visual_genome_2395319.jpg',\n",
    "'visual_genome_2393416.jpg',\n",
    "'visual_genome_2391458.jpg',\n",
    "'visual_genome_2390174.jpg',\n",
    "'visual_genome_2387016.jpg',\n",
    "'visual_genome_2386301.jpg',\n",
    "'visual_genome_2381437.jpg',\n",
    "'visual_genome_2380423.jpg',\n",
    "'visual_genome_2377936.jpg',\n",
    "'visual_genome_2368816.jpg',\n",
    "'visual_genome_2365476.jpg',\n",
    "'visual_genome_2362585.jpg',\n",
    "'visual_genome_2350086.jpg',\n",
    "'visual_genome_2347182.jpg',\n",
    "'visual_genome_2338872.jpg',\n",
    "'visual_genome_2338000.jpg',\n",
    "'visual_genome_2335182.jpg',\n",
    "'visual_genome_2331993.jpg',\n",
    "'visual_genome_2322632.jpg',\n",
    "'visual_genome_2412891.jpg',\n",
    "'visual_genome_2411961.jpg']\n",
    "\n",
    "files_to_annotate.extend(files_to_annotate_incomplete)"
   ]
  },
  {
   "cell_type": "code",
   "execution_count": null,
   "id": "1e2409f4-8aaa-4db1-9ac8-df72b314f9c7",
   "metadata": {},
   "outputs": [],
   "source": [
    "# Images showing the interior of Church with architectural characteristics,\n",
    "# don't know what to do with them so delete the respective meta-data-files: \n",
    "\n",
    "files_interior_with_features = ['visual_genome_4164.jpg',\n",
    "'visual_genome_4166.jpg',\n",
    "'visual_genome_498224.jpg',\n",
    "'visual_genome_2414880.jpg',\n",
    "'visual_genome_2410675.jpg',\n",
    "'visual_genome_2397641.jpg',\n",
    "'visual_genome_2376269.jpg',\n",
    "'visual_genome_2374462.jpg',\n",
    "'visual_genome_2373973.jpg',\n",
    "'visual_genome_2368090.jpg',\n",
    "'visual_genome_2360455.jpg',\n",
    "'visual_genome_2350745.jpg',\n",
    "'visual_genome_2341636.jpg',\n",
    "'visual_genome_2327026.jpg',\n",
    "'visual_genome_2322689.jpg',\n",
    "'visual_genome_2417527.jpg']\n",
    "\n",
    "files_to_delete_interior = ['visual_genome_4164.txt',\n",
    "'visual_genome_4166.txt',\n",
    "'visual_genome_498224.txt',\n",
    "'visual_genome_2414880.txt',\n",
    "'visual_genome_2410675.txt',\n",
    "'visual_genome_2397641.txt',\n",
    "'visual_genome_2376269.txt',\n",
    "'visual_genome_2374462.txt',\n",
    "'visual_genome_2373973.txt',\n",
    "'visual_genome_2368090.txt',\n",
    "'visual_genome_2360455.txt',\n",
    "'visual_genome_2350745.txt',\n",
    "'visual_genome_2341636.txt',\n",
    "'visual_genome_2327026.txt',\n",
    "'visual_genome_2322689.txt',\n",
    "'visual_genome_2417527.txt']\n",
    "\n",
    "files_to_delete.extend(files_to_delete_interior)"
   ]
  },
  {
   "cell_type": "code",
   "execution_count": null,
   "id": "4aac59a6-8062-4821-8216-36d75e3d1b7f",
   "metadata": {},
   "outputs": [],
   "source": [
    "# Images showing interior of Church without features\n",
    "# can be considered as images not showing churches\n",
    "# i.e. content should be cleared from meta data files: \n",
    "files_interior_without_features = ['visual_genome_2404416.jpg',\n",
    "'visual_genome_2396536.jpg',\n",
    "'visual_genome_2389289.jpg',\n",
    "'visual_genome_2384205.jpg',\n",
    "'visual_genome_2352008.jpg',\n",
    "'visual_genome_2416136.jpg']\n",
    "\n",
    "files_to_clear_interior =['visual_genome_2404416.txt',\n",
    "'visual_genome_2396536.txt',\n",
    "'visual_genome_2389289.txt',\n",
    "'visual_genome_2384205.txt',\n",
    "'visual_genome_2352008.txt',\n",
    "'visual_genome_2416136.txt']\n",
    "\n",
    "files_to_clear.extend(files_to_clear_interior)"
   ]
  },
  {
   "cell_type": "code",
   "execution_count": null,
   "id": "db718fbc-f23c-4f24-9e8c-28152f47c215",
   "metadata": {},
   "outputs": [],
   "source": [
    "# Written word \"church\":\n",
    "# A character string signifying church is not a church, \n",
    "# content must be cleared from meta data files:\n",
    "files_word_church = ['visual_genome_61591.jpg',\n",
    "'visual_genome_1591985.jpg',\n",
    "'visual_genome_2386541.jpg',\n",
    "'visual_genome_2379525.jpg',\n",
    "'visual_genome_2363367.jpg']\n",
    "\n",
    "files_to_clear_word = ['visual_genome_61591.txt',\n",
    "'visual_genome_1591985.txt',\n",
    "'visual_genome_2386541.txt',\n",
    "'visual_genome_2379525.txt',\n",
    "'visual_genome_2363367.txt']\n",
    "\n",
    "files_to_clear.extend(files_to_clear_word)"
   ]
  },
  {
   "cell_type": "code",
   "execution_count": null,
   "id": "97b7ad5f-a265-4cc8-b002-82374a06c227",
   "metadata": {},
   "outputs": [],
   "source": [
    "# Church like buildings will be removed:\n",
    "\n",
    "#Church like building without annotation:\n",
    "files_church_like_no_bb = ['visual_genome_1592399.jpg',\n",
    "'visual_genome_2407154.jpg',\n",
    "'visual_genome_2353987.jpg',\n",
    "'visual_genome_2324725.jpg',\n",
    "'visual_genome_2415943.jpg',\n",
    "'visual_genome_54.jpg']\n",
    "\n",
    "#Church like building with annotation: \n",
    "files_church_like_with_bb = ['visual_genome_2368326.jpg',\n",
    "'visual_genome_2411961.jpg']\n",
    "\n",
    "#Church like building without annotation:\n",
    "files_to_delete_church_like_no_bb = ['visual_genome_1592399.txt',\n",
    "'visual_genome_2407154.txt',\n",
    "'visual_genome_2353987.txt',\n",
    "'visual_genome_2324725.txt',\n",
    "'visual_genome_2415943.txt',\n",
    "'visual_genome_54.txt']\n",
    "\n",
    "#Church like building with annotation: \n",
    "files_to_delete_church_like_with_bb = ['visual_genome_2368326.txt',\n",
    "'visual_genome_2411961.txt']\n",
    "\n",
    "files_to_clear.extend(files_to_delete_church_like_no_bb)\n",
    "files_to_clear.extend(files_to_delete_church_like_with_bb)"
   ]
  },
  {
   "cell_type": "code",
   "execution_count": null,
   "id": "c12be66a-9631-4870-b05d-299ed48aec40",
   "metadata": {},
   "outputs": [],
   "source": [
    "# Church not visible: \n",
    "# Images where no church is visible or recognisable should\n",
    "# be considered as not showing a church: There meta data\n",
    "# files should be cleared (content removed).\n",
    "\n",
    "files_church_not_visible = ['visual_genome_2389082.jpg',\n",
    "'visual_genome_2387130.jpg',\n",
    "'visual_genome_2373067.jpg',\n",
    "'visual_genome_2369703.jpg',\n",
    "'visual_genome_2369464.jpg',\n",
    "'visual_genome_2366835.jpg',\n",
    "'visual_genome_2354921.jpg',\n",
    "'visual_genome_2332124.jpg',\n",
    "'visual_genome_2319489.jpg',\n",
    "'visual_genome_2412891.jpg']\n",
    "\n",
    "files_to_clear_not_visible = ['visual_genome_2389082.txt',\n",
    "'visual_genome_2387130.txt',\n",
    "'visual_genome_2373067.txt',\n",
    "'visual_genome_2369703.txt',\n",
    "'visual_genome_2369464.txt',\n",
    "'visual_genome_2366835.txt',\n",
    "'visual_genome_2354921.txt',\n",
    "'visual_genome_2332124.txt',\n",
    "'visual_genome_2319489.txt',\n",
    "'visual_genome_2412891.txt']\n",
    "\n",
    "files_to_clear.extend(files_to_clear_not_visible)"
   ]
  },
  {
   "cell_type": "code",
   "execution_count": null,
   "id": "d553401e-1e62-411c-a721-620facb04d63",
   "metadata": {},
   "outputs": [],
   "source": []
  },
  {
   "cell_type": "code",
   "execution_count": null,
   "id": "417a6d6e-aa1d-47b4-8722-4ec7023064b8",
   "metadata": {},
   "outputs": [],
   "source": [
    "print(files_to_delete[0:3])\n",
    "print(files_to_clear[0:3])\n",
    "print(files_to_annotate[0:3])"
   ]
  },
  {
   "cell_type": "code",
   "execution_count": null,
   "id": "2be94d49-315d-45fb-add1-62be1083d312",
   "metadata": {},
   "outputs": [],
   "source": []
  },
  {
   "cell_type": "code",
   "execution_count": null,
   "id": "6799f207-7559-4e12-85c2-617c68cb4d55",
   "metadata": {},
   "outputs": [],
   "source": []
  },
  {
   "cell_type": "markdown",
   "id": "2c8ddfb8-7292-4d92-8934-b7d3678ad33f",
   "metadata": {},
   "source": [
    "### Remove meta data files of images not to include in the analysis: "
   ]
  },
  {
   "cell_type": "markdown",
   "id": "2349938b-a36e-4970-b5b0-2bf3d9c15485",
   "metadata": {},
   "source": [
    "#### Check if files to delete are there:"
   ]
  },
  {
   "cell_type": "code",
   "execution_count": null,
   "id": "7b082f03-285d-4dc2-8095-14b1e13ee864",
   "metadata": {},
   "outputs": [],
   "source": [
    "files_found = []\n",
    "for file_to_delete in files_to_delete:\n",
    "    end_part = file_to_delete.split('_')[-1].split('.')[0]\n",
    "    print(end_part)\n",
    "    file_found = get_file_by_id(yolo_path, int(end_part), 'txt')[0]\n",
    "    files_found.append(file_found)\n",
    "files_found"
   ]
  },
  {
   "cell_type": "code",
   "execution_count": null,
   "id": "bfe8f6c0-2421-4057-b949-fa29a05dc610",
   "metadata": {},
   "outputs": [],
   "source": []
  },
  {
   "cell_type": "markdown",
   "id": "7bfd638e-9eb2-47e0-96e0-3cc299491259",
   "metadata": {},
   "source": [
    "#### Delete files: "
   ]
  },
  {
   "cell_type": "code",
   "execution_count": null,
   "id": "47406d25-9178-4b82-b8e1-f27613ad2fd3",
   "metadata": {},
   "outputs": [],
   "source": [
    "for file_to_delete in files_to_delete:\n",
    "    end_part = file_to_delete.split('_')[-1].split('.')[0]\n",
    "    print(end_part)\n",
    "    delete_files_by_id(yolo_path, int(end_part), '.txt')"
   ]
  },
  {
   "cell_type": "markdown",
   "id": "8b667ac3-4a59-4ff9-bb33-66c852044c1b",
   "metadata": {},
   "source": [
    "#### Check if files to delete are still there (they should be gone):"
   ]
  },
  {
   "cell_type": "code",
   "execution_count": null,
   "id": "dc5c432b-9366-42b9-af83-57e9398c9fb2",
   "metadata": {},
   "outputs": [],
   "source": [
    "#del file_found\n",
    "files_found = []\n",
    "for file_to_delete in files_to_delete:\n",
    "    end_part = file_to_delete.split('_')[-1].split('.')[0]\n",
    "    print(end_part)\n",
    "    files_found = get_file_by_id(yolo_path, int(end_part), 'txt')\n",
    "    if len(files_found) > 0:\n",
    "        file_found = files_found[0]\n",
    "        print(file_found)\n",
    "        files_found.append(file_found)\n",
    "    else:\n",
    "        files_found.extend(files_found)\n",
    "files_found"
   ]
  },
  {
   "cell_type": "code",
   "execution_count": null,
   "id": "609e85a4-8b20-4266-89af-41797f61ff14",
   "metadata": {},
   "outputs": [],
   "source": []
  },
  {
   "cell_type": "markdown",
   "id": "ef39ca97-c1c1-48c8-b0b9-67a01ecdf585",
   "metadata": {},
   "source": [
    "#### Check content of files to be cleared: "
   ]
  },
  {
   "cell_type": "code",
   "execution_count": null,
   "id": "1d486c5e-9bb5-4b14-88d8-835c7f68ad5b",
   "metadata": {},
   "outputs": [],
   "source": [
    "for file in files_to_clear[0:7]:\n",
    "    file_path = os.path.join(yolo_path, file)\n",
    "    print(file_path)\n",
    "    with open(file_path, 'r') as file:\n",
    "        content = file.read()\n",
    "        print(content)"
   ]
  },
  {
   "cell_type": "markdown",
   "id": "2e8e8ac0-ab77-4c90-8dfb-39cd07c836e5",
   "metadata": {},
   "source": [
    "#### Clear files:"
   ]
  },
  {
   "cell_type": "code",
   "execution_count": null,
   "id": "5dcce248-b6b6-4aec-aafe-f184ac71fdb3",
   "metadata": {},
   "outputs": [],
   "source": [
    "for file_to_clear in files_to_clear:\n",
    "    end_part = file_to_clear.split('_')[-1].split('.')[0]\n",
    "    \n",
    "    clear_yolo_metadata_by_id(yolo_path, int(end_part), id_end=True)"
   ]
  },
  {
   "cell_type": "markdown",
   "id": "cab825fc-54d5-4f84-996c-919964692c1b",
   "metadata": {},
   "source": [
    "#### Check if content was cleared from files:"
   ]
  },
  {
   "cell_type": "code",
   "execution_count": null,
   "id": "262f60ca-8fc0-4e77-b7d8-ca3d002068e8",
   "metadata": {},
   "outputs": [],
   "source": [
    "for file in files_to_clear[0:7]:\n",
    "    file_path = os.path.join(yolo_path, file)\n",
    "    print(file_path)\n",
    "    with open(file_path, 'r') as file:\n",
    "        content = file.read()\n",
    "        print(content)"
   ]
  },
  {
   "cell_type": "code",
   "execution_count": null,
   "id": "6d17bc3a-2f3e-4191-ab35-2e0b161a0b3d",
   "metadata": {},
   "outputs": [],
   "source": []
  },
  {
   "cell_type": "code",
   "execution_count": null,
   "id": "a2437d85-23ea-4bcc-a184-62e2ffcb8445",
   "metadata": {},
   "outputs": [],
   "source": [
    "def parse_zoom_input(user_input):\n",
    "   \"\"\"Parse zoom region from user input\"\"\"\n",
    "   if not user_input.strip():\n",
    "       return None\n",
    "   \n",
    "   try:\n",
    "       coords = [float(x.strip()) for x in user_input.strip().split(',')]\n",
    "       if len(coords) == 4:\n",
    "           return tuple(coords)\n",
    "       else:\n",
    "           print(\"Invalid format. Please enter 4 values: x_min, y_min, x_max, y_max\")\n",
    "           return False\n",
    "   except ValueError:\n",
    "       print(\"Invalid input. Please enter numbers separated by commas.\")\n",
    "       return False\n",
    "\n"
   ]
  },
  {
   "cell_type": "code",
   "execution_count": null,
   "id": "bca20175-ea59-4d3c-93a8-408bb04d93be",
   "metadata": {},
   "outputs": [],
   "source": []
  },
  {
   "cell_type": "code",
   "execution_count": null,
   "id": "156f5721-1b2d-40a4-b244-70276907fd4d",
   "metadata": {},
   "outputs": [],
   "source": [
    "for file in files_to_annotate[0:15]:\n",
    "\n",
    "    img_id = file.split('_')[-1].split('.')[0]\n",
    "    print(img_id)\n",
    "\n",
    "    label_file = 'visual_genome_' + img_id + '.txt'\n",
    "    label_path = os.path.join(yolo_path, label_file)\n",
    "    print(label_path)\n",
    "    \n",
    "    \n",
    "    labels, bboxes = read_yolo_metadata(label_path, class_map)\n",
    "    class_names = list(labels)\n",
    "    \n",
    "    image_path = os.path.join(data_path, file)\n",
    "    \n",
    "    print(image_path)\n",
    "    \n",
    "    plot_image_with_multiple_bboxes(image_path, bboxes, class_names)"
   ]
  },
  {
   "cell_type": "raw",
   "id": "710dbb02-7632-4880-964a-dba28a31ab73",
   "metadata": {},
   "source": [
    "files_to_annotate_selection = files_to_annotate[0:7]\n",
    "\n",
    "img_idx = 0\n",
    "exit_viewer = False\n",
    "\n",
    "while img_idx < len(files_to_annotate_selection) and not exit_viewer:\n",
    "    img_file = files_to_annotate_selection[img_idx] \n",
    "    image_path = os.path.join(data_path, img_file)\n",
    "    zoom_region = None\n",
    "\n",
    "    \n",
    "    while True:\n",
    "\n",
    "        plot_image_with_yolo_grid(image_path, zoom_region=zoom_region)\n",
    "        plt.show()\n",
    "        \n",
    "        user_input = input(\"Press Enter for next image, enter zoom region (x_min,y_min,x_max,y_max), or 'q' to quit: \")\n",
    "        plt.close()\n",
    "        clear_output(wait=True)\n",
    "        \n",
    "        if user_input.strip().lower() in ['q', 'quit']:\n",
    "            exit_viewer = True\n",
    "            break\n",
    "        elif not user_input.strip():\n",
    "            break\n",
    "        else:\n",
    "            parsed_zoom = parse_zoom_input(user_input)\n",
    "            if parsed_zoom is None:\n",
    "                break\n",
    "            elif parsed_zoom is False:\n",
    "                continue\n",
    "                \n",
    "            else:\n",
    "                zoom_region = parsed_zoom\n",
    "    \n",
    "    img_idx += 1"
   ]
  },
  {
   "cell_type": "code",
   "execution_count": null,
   "id": "7c4ecee0-1463-4a8a-acd6-cef94963b1d2",
   "metadata": {},
   "outputs": [],
   "source": [
    "files_to_annotate_selection = files_to_annotate[0:7]\n",
    "\n",
    "img_idx = 0\n",
    "exit_viewer = False\n",
    "\n",
    "while img_idx < len(files_to_annotate_selection) and not exit_viewer:\n",
    "    img_file = files_to_annotate_selection[img_idx] \n",
    "    image_path = os.path.join(data_path, img_file)\n",
    "    zoom_region = None\n",
    "\n",
    "    \n",
    "    while True:\n",
    "\n",
    "        plot_image_with_yolo_grid(image_path, grid_divisions=15, figsize=(20,16), label_size=22, zoom_region=zoom_region)\n",
    "        plt.show()\n",
    "        \n",
    "        user_input = input(\"Press Enter for next image, enter zoom region (x_min,y_min,x_max,y_max), or 'q' to quit: \")\n",
    "        plt.close()\n",
    "        clear_output(wait=True)\n",
    "        \n",
    "        if user_input.strip().lower() in ['q', 'quit']:\n",
    "            exit_viewer = True\n",
    "            break\n",
    "        elif not user_input.strip():\n",
    "            break\n",
    "        else:\n",
    "            parsed_zoom = parse_zoom_input(user_input)\n",
    "            if parsed_zoom is None:\n",
    "                break\n",
    "            elif parsed_zoom is False:\n",
    "                continue\n",
    "                \n",
    "            else:\n",
    "                zoom_region = parsed_zoom\n",
    "        ####\n",
    "        # Auto-adjust grid divisions based on zoom region size\n",
    "        if zoom_region is not None:\n",
    "            x_min, y_min, x_max, y_max = zoom_region\n",
    "            zoom_width = x_max - x_min\n",
    "            zoom_height = y_max - y_min\n",
    "            zoom_area = zoom_width * zoom_height\n",
    "            \n",
    "            # Scale grid divisions inversely with zoom area (smaller area = more divisions)\n",
    "            if zoom_area < 0.1:\n",
    "                grid_divisions = 50\n",
    "            elif zoom_area < 0.25:\n",
    "                grid_divisions = 30\n",
    "            elif zoom_area < 0.5:\n",
    "                grid_divisions = 20\n",
    "            else:\n",
    "                grid_divisions = 10\n",
    "        else:\n",
    "            grid_divisions = 20\n",
    "            \n",
    "    ####\n",
    "    \n",
    "    img_idx += 1"
   ]
  },
  {
   "cell_type": "code",
   "execution_count": null,
   "id": "d3e70a09-b64a-4688-9b08-959d0a6bd0fd",
   "metadata": {},
   "outputs": [],
   "source": [
    "image_path"
   ]
  },
  {
   "cell_type": "raw",
   "id": "f68368a3-3520-4899-a606-3a111da81e34",
   "metadata": {},
   "source": [
    "{'image_file': 'visual_genome_2407261.jpg', \n",
    " 'objects': [\n",
    "     {'object_class': 0,\n",
    "      'top_left_values': [(0.03, 0.27)], \n",
    "      'bottom_right_values': [(0.6, 0.87)]}\n",
    " ]\n",
    " }"
   ]
  },
  {
   "cell_type": "code",
   "execution_count": null,
   "id": "4f97c9ae-71db-4811-87ef-9fffbd79455c",
   "metadata": {},
   "outputs": [],
   "source": []
  },
  {
   "cell_type": "code",
   "execution_count": null,
   "id": "aa5649c1-b709-4313-a667-96ef69e81410",
   "metadata": {},
   "outputs": [],
   "source": [
    "\n",
    "\n"
   ]
  },
  {
   "cell_type": "code",
   "execution_count": null,
   "id": "f8d3f2fe-14c0-4cde-9a03-b46d030a9b67",
   "metadata": {},
   "outputs": [],
   "source": []
  },
  {
   "cell_type": "code",
   "execution_count": null,
   "id": "598bdce3-c8c4-4a71-9f8c-06af0483c7c7",
   "metadata": {},
   "outputs": [],
   "source": []
  },
  {
   "cell_type": "code",
   "execution_count": null,
   "id": "44bf84c2-4228-41e9-a1f4-29c587a5522e",
   "metadata": {},
   "outputs": [],
   "source": [
    "image_files_no_object = [\n",
    "\n",
    "]"
   ]
  },
  {
   "cell_type": "code",
   "execution_count": null,
   "id": "17b297ff-9617-41a1-9fef-edeac06077c5",
   "metadata": {},
   "outputs": [],
   "source": []
  },
  {
   "cell_type": "code",
   "execution_count": null,
   "id": "cc13fbf6-48de-4eae-9c6d-453b027e80b0",
   "metadata": {},
   "outputs": [],
   "source": [
    "files_for_annotation = [\n",
    "{'image_file': 'visual_genome_2569.jpg', \n",
    " 'objects': [\n",
    "     {'object_class': 0, \n",
    "      'top_left_values': [(0.33, 0.42)],\n",
    "      'bottom_right_values': [(0.56, 0.58)]}\n",
    " ]\n",
    " },\n",
    "{'image_file': 'visual_genome_2861.jpg', \n",
    " 'objects': [\n",
    "     {'object_class': 0,\n",
    "      'top_left_values': [(0.4, 0.01)], \n",
    "      'bottom_right_values': [(0.87, 0.6)]}\n",
    " ]\n",
    " },\n",
    "{'image_file': 'visual_genome_3443.jpg', \n",
    " 'objects': [\n",
    "     {'object_class': 0,\n",
    "      'top_left_values': [(0.18, 0.03)], \n",
    "      'bottom_right_values': [(0.47, 0.27)]}\n",
    " ]\n",
    " },\n",
    "{'image_file': 'visual_genome_1592640.jpg', \n",
    " 'objects': [\n",
    "     {'object_class': 0,\n",
    "      'top_left_values': [(0.0, 0.02)], \n",
    "      'bottom_right_values': [(0.6, 0.67)]}\n",
    " ]\n",
    " },\n",
    "{'image_file': 'visual_genome_2414118.jpg', \n",
    " 'objects': [\n",
    "     {'object_class': 0,\n",
    "      'top_left_values': [(0.14, 0.01)], \n",
    "      'bottom_right_values': [(0.99, 0.99)]}\n",
    " ]\n",
    " },\n",
    "{'image_file': 'visual_genome_2407261.jpg', \n",
    " 'objects': [\n",
    "     {'object_class': 0,\n",
    "      'top_left_values': [(0.27, 0.03)], \n",
    "      'bottom_right_values': [(0.6, 0.87)]}\n",
    " ]\n",
    " },\n",
    "{'image_file': 'visual_genome_2404517.jpg', \n",
    " 'objects': [\n",
    "     {'object_class': 0,\n",
    "      'top_left_values': [(0.01, 0.01)], \n",
    "      'bottom_right_values': [(0.99, 0.99)]}\n",
    " ]\n",
    " },\n",
    "{'image_file': 'visual_genome_2403320.jpg', \n",
    " 'objects': [\n",
    "     {'object_class': 0,\n",
    "      'top_left_values': [(0.0, 0.0)], \n",
    "      'bottom_right_values': [(0.99, 0.99)]}\n",
    " ]\n",
    " },\n",
    "  {'image_file': 'visual_genome_2401281.jpg', \n",
    " 'objects': [\n",
    "     {'object_class': 0,\n",
    "      'top_left_values': [(0.0, 0.03)], \n",
    "      'bottom_right_values': [(0.9, 0.9)]}\n",
    " ]\n",
    " },\n",
    "{'image_file': 'visual_genome_2395319.jpg', \n",
    " 'objects': [\n",
    "     {'object_class': 0,\n",
    "      'top_left_values': [(0.0, 0.0)], \n",
    "      'bottom_right_values': [(0.99, 0.99)]}\n",
    " ]\n",
    " },\n",
    "{'image_file': 'visual_genome_2393416.jpg', \n",
    " 'objects': [\n",
    "     {'object_class': 0,\n",
    "      'top_left_values': [(0.0, 0.0)], \n",
    "      'bottom_right_values': [(0.99, 0.99)]}\n",
    " ]\n",
    " },\n",
    "{'image_file': 'visual_genome_2391458.jpg', \n",
    " 'objects': [\n",
    "     {'object_class': 0,\n",
    "      'top_left_values': [(0.47, 0.27)], \n",
    "      'bottom_right_values': [(0.8, 0.9)]}\n",
    " ]\n",
    " },\n",
    "{'image_file': 'visual_genome_2390174.jpg', \n",
    " 'objects': [\n",
    "     {'object_class': 0,\n",
    "      'top_left_values': [(0.0, 0.0)], \n",
    "      'bottom_right_values': [(0.99, 0.99)]}\n",
    " ]\n",
    " },\n",
    "{'image_file': 'visual_genome_2387016.jpg', \n",
    " 'objects': [\n",
    "     {'object_class': 0,\n",
    "      'top_left_values': [(0.0, 0.0)], \n",
    "      'bottom_right_values': [(0.99, 0.99)]}\n",
    " ]\n",
    " },\n",
    "{'image_file': 'visual_genome_2386301.jpg', \n",
    " 'objects': [\n",
    "     {'object_class': 0,\n",
    "      'top_left_values': [(0.04, 0.07)], \n",
    "      'bottom_right_values': [(0.25, 0.34)]}\n",
    " ]\n",
    " },\n",
    "{'image_file': 'visual_genome_2381437.jpg', \n",
    " 'objects': [\n",
    "     {'object_class': 0,\n",
    "      'top_left_values': [(0.22, 0.02)], \n",
    "      'bottom_right_values': [(0.9, 0.82)]}\n",
    " ]\n",
    " },\n",
    "{'image_file': 'visual_genome_2380423.jpg', \n",
    " 'objects': [\n",
    "     {'object_class': 0,\n",
    "      'top_left_values': [(0.0, 0.0)], \n",
    "      'bottom_right_values': [(0.93, 0.99)]}\n",
    " ]\n",
    " },\n",
    "{'image_file': 'visual_genome_2377936.jpg', \n",
    " 'objects': [\n",
    "     {'object_class': 0,\n",
    "      'top_left_values': [(0.73, 0.07)], \n",
    "      'bottom_right_values': [(0.99, 0.27)]}\n",
    " ]\n",
    " },\n",
    "{'image_file': 'visual_genome_2368816.jpg', \n",
    " 'objects': [\n",
    "     {'object_class': 0,\n",
    "      'top_left_values': [(0.23, 0.03)], \n",
    "      'bottom_right_values': [(0.88, 0.97)]}\n",
    " ]\n",
    " },\n",
    "{'image_file': 'visual_genome_2365476.jpg', \n",
    " 'objects': [\n",
    "     {'object_class': 0,\n",
    "      'top_left_values': [(0.44, 0.11), (0.26, 0.13)], \n",
    "      'bottom_right_values': [(0.73, 0.38), (0.9, 0.46)]}\n",
    " ]\n",
    " },\n",
    "{'image_file': 'visual_genome_2362585.jpg', \n",
    " 'objects': [\n",
    "     {'object_class': 0,\n",
    "      'top_left_values': [(0.0, 0.0)], \n",
    "      'bottom_right_values': [(0.99, 0.99)]}\n",
    " ]\n",
    " },\n",
    "{'image_file': 'visual_genome_2350086.jpg', \n",
    " 'objects': [\n",
    "     {'object_class': 0,\n",
    "      'top_left_values': [(0.4, 0.0)], \n",
    "      'bottom_right_values': [(0.99, 0.99)]}\n",
    " ]\n",
    " },\n",
    "{'image_file': 'visual_genome_2347182.jpg', \n",
    " 'objects': [\n",
    "     {'object_class': 0,\n",
    "      'top_left_values': [(0.07, 0.13)], \n",
    "      'bottom_right_values': [(0.99, 0.99)]}\n",
    " ]\n",
    " },\n",
    "{'image_file': 'visual_genome_2338872.jpg', \n",
    " 'objects': [\n",
    "     {'object_class': 0,\n",
    "      'top_left_values': [(0.27, 0.0)], \n",
    "      'bottom_right_values': [(0.99, 0.6)]}\n",
    " ]\n",
    " },\n",
    "{'image_file': 'visual_genome_2338000.jpg', \n",
    " 'objects': [\n",
    "     {'object_class': 0,\n",
    "      'top_left_values': [(0.0, 0.0)], \n",
    "      'bottom_right_values': [(0.99, 0.99)]}\n",
    " ]\n",
    " },\n",
    "{'image_file': 'visual_genome_2335182.jpg', \n",
    " 'objects': [\n",
    "     {'object_class': 0,\n",
    "      'top_left_values': [(0.35, 0.2)], \n",
    "      'bottom_right_values': [(0.81, 0.67)]}\n",
    " ]\n",
    " },\n",
    "{'image_file': 'visual_genome_2331993.jpg', \n",
    " 'objects': [\n",
    "     {'object_class': 0,\n",
    "      'top_left_values': [(0.13, 0.13), (0.6, 0.33)], \n",
    "      'bottom_right_values': [(0.47, 0.67), (0.93, 0.55)]}\n",
    " ]\n",
    " },\n",
    "{'image_file': 'visual_genome_2322632.jpg', \n",
    " 'objects': [\n",
    "     {'object_class': 0,\n",
    "      'top_left_values': [(0.27, 0.02)], \n",
    "      'bottom_right_values': [(0.93, 0.73)]}\n",
    " ]\n",
    " },\n",
    "{'image_file': 'visual_genome_2412891.jpg', \n",
    " 'objects': [\n",
    "     {'object_class': 0,\n",
    "      'top_left_values': [(0.13, 0.11)], \n",
    "      'bottom_right_values': [(0.95, 0.95)]}\n",
    " ]\n",
    " },\n",
    "{'image_file': 'visual_genome_2411961.jpg', \n",
    " 'objects': [\n",
    "     {'object_class': 0,\n",
    "      'top_left_values': [(0.27, 0.12)], \n",
    "      'bottom_right_values': [(0.99, 0.87)]}\n",
    " ]\n",
    " }\n",
    "]"
   ]
  },
  {
   "cell_type": "code",
   "execution_count": null,
   "id": "6b4f9929-684a-41de-8155-ff8c1a1109ed",
   "metadata": {},
   "outputs": [],
   "source": []
  },
  {
   "cell_type": "code",
   "execution_count": null,
   "id": "a75f6e0f-0ce3-4947-b2fe-dc3a2de5a58a",
   "metadata": {},
   "outputs": [],
   "source": [
    "meta_data_for_annotation = []\n",
    "file_names_for_annotation = []\n",
    "\n",
    "for file in files_for_annotation:\n",
    "    file_name = file['image_file']\n",
    "    #print(file_name)\n",
    "    file_names_for_annotation.append(file_name)\n",
    "    image_path = os.path.join(data_path, file_name)\n",
    "    img_id = image_path.split('_')[-1].split('.')[0]\n",
    "    #print(img_id)\n",
    "    label_file = 'visual_genome_' + img_id + '.txt'\n",
    "    label_path = os.path.join(yolo_path, label_file)\n",
    "    #print(label_path)\n",
    "    file_meta_data = {'file_name': file_name,\n",
    "                     'output_path': label_path,\n",
    "                     'objects': []}\n",
    "    \n",
    "    for img_object in file['objects']:\n",
    "        \n",
    "        object_class = img_object['object_class']\n",
    "        #print(object_class)\n",
    "        \n",
    "        top_left_values = img_object['top_left_values']\n",
    "        #print(top_left_values)\n",
    "        \n",
    "        bottom_right_values = img_object['bottom_right_values']\n",
    "        #print(bottom_right_values)\n",
    "        \n",
    "        #object_meta_data = []\n",
    "        for top_left, bottom_right in zip(top_left_values, bottom_right_values):\n",
    "            x_center, y_center, width, height = grid_coords_to_yolo(top_left, bottom_right, image_path)\n",
    "            yolo_meta_data = (object_class, x_center, y_center, width, height)\n",
    "            #object_meta_data.append(yolo_meta_data)\n",
    "            file_meta_data['objects'].append(yolo_meta_data)\n",
    "\n",
    "    meta_data_for_annotation.append(file_meta_data)\n",
    "        \n",
    "        \n",
    "        "
   ]
  },
  {
   "cell_type": "code",
   "execution_count": null,
   "id": "ed78d620-3d14-44a3-83e4-f3af9e972b6d",
   "metadata": {},
   "outputs": [],
   "source": []
  },
  {
   "cell_type": "code",
   "execution_count": null,
   "id": "02875448-b506-4e51-a802-91d810518110",
   "metadata": {},
   "outputs": [],
   "source": [
    "files_newly_annotated = file_names_for_annotation + image_files_no_object"
   ]
  },
  {
   "cell_type": "code",
   "execution_count": null,
   "id": "e8ec656b-3691-4072-9435-ad4f26012ec6",
   "metadata": {},
   "outputs": [],
   "source": []
  },
  {
   "cell_type": "code",
   "execution_count": null,
   "id": "ab73e727-c82b-4adc-88cc-43d024195ec4",
   "metadata": {},
   "outputs": [],
   "source": [
    "for file_meta_data in meta_data_for_annotation:\n",
    "    #print(file_meta_data)\n",
    "    label_path = file_meta_data['output_path']\n",
    "    yolo_meta_data = file_meta_data['objects']\n",
    "    #print(type(yolo_meta_data))\n",
    "    create_yolo_metadata_file(label_path, yolo_meta_data)"
   ]
  },
  {
   "cell_type": "code",
   "execution_count": null,
   "id": "1d1d9d02-e91e-490b-b5f8-8c6d5889253c",
   "metadata": {},
   "outputs": [],
   "source": []
  },
  {
   "cell_type": "code",
   "execution_count": null,
   "id": "8c59c395-af91-47ca-8633-3f6cf8496a61",
   "metadata": {},
   "outputs": [],
   "source": [
    "# Method 3: For multiple empty annotation files\n",
    "#image_names = ['image_001.jpg', 'image_002.jpg', 'image_003.jpg']\n",
    "for img_name in image_files_no_object:\n",
    "    #print(img_name)\n",
    "    txt_name = img_name.replace('.jpg', '.txt')\n",
    "    #print(txt_name)\n",
    "    output_path = os.path.join(yolo_path, txt_name)\n",
    "    with open(output_path, 'w') as file:\n",
    "        pass\n"
   ]
  },
  {
   "cell_type": "code",
   "execution_count": null,
   "id": "67049e55-65ec-4de5-b554-280df36f844e",
   "metadata": {},
   "outputs": [],
   "source": [
    "\n",
    "\n",
    "for file in files_newly_annotated:\n",
    "\n",
    "    img_id = file.split('_')[-1].split('.')[0]\n",
    "    print(img_id)\n",
    "\n",
    "    label_file = 'visual_genome_' + img_id + '.txt'\n",
    "    label_path = os.path.join(yolo_path, label_file)\n",
    "    print(label_path)\n",
    "    \n",
    "    \n",
    "    labels, bboxes = read_yolo_metadata(label_path, class_map)\n",
    "    class_names = list(labels)\n",
    "    \n",
    "    #image_path = os.path.join(data_path, file)\n",
    "    image_path = data_path / file\n",
    "    \n",
    "    print(image_path)\n",
    "    \n",
    "    plot_image_with_multiple_bboxes(image_path, bboxes, class_names)"
   ]
  },
  {
   "cell_type": "code",
   "execution_count": null,
   "id": "655a01eb-63c2-4f5a-beb0-730afdde941d",
   "metadata": {},
   "outputs": [],
   "source": []
  },
  {
   "cell_type": "markdown",
   "id": "681717cc-1ed8-4b59-a7e2-065631042c7c",
   "metadata": {},
   "source": [
    "### Since some meta data files have been deleted, get label paths list again:"
   ]
  },
  {
   "cell_type": "code",
   "execution_count": null,
   "id": "5b7d8dd3-b6b9-452b-9086-fa43f3a7571c",
   "metadata": {},
   "outputs": [],
   "source": [
    "label_paths = []\n",
    "for file_name in os.listdir(yolo_path): \n",
    "    if file_name.split('.')[-1] == 'txt':\n",
    "        label_path = os.path.join(yolo_path, file_name)\n",
    "        label_paths.append(label_path)\n",
    "\n",
    "len(label_paths)\n",
    "        "
   ]
  },
  {
   "cell_type": "code",
   "execution_count": null,
   "id": "fc0f3e18-e167-4c62-ae7c-3ee2eb44addb",
   "metadata": {},
   "outputs": [],
   "source": [
    "label_paths[0:7]"
   ]
  },
  {
   "cell_type": "code",
   "execution_count": null,
   "id": "2e689c44-dca6-4b3d-b213-3ec5b365ca2c",
   "metadata": {},
   "outputs": [],
   "source": [
    "root_path"
   ]
  },
  {
   "cell_type": "markdown",
   "id": "8da27592-99ae-4262-81d0-67dc1d779f8c",
   "metadata": {},
   "source": [
    "### Create file structure to train for recognition of desired object class:"
   ]
  },
  {
   "cell_type": "code",
   "execution_count": null,
   "id": "44e4d5ed-c30c-49a6-984b-5fa7e03b7eac",
   "metadata": {},
   "outputs": [],
   "source": [
    "train_val_trial_path = root_path / 'yolo_object_train'\n",
    "\n",
    "\n",
    "if not os.path.exists(train_val_trial_path):\n",
    "    os.makedirs(train_val_trial_path)"
   ]
  },
  {
   "cell_type": "code",
   "execution_count": null,
   "id": "2898175e-9fb5-40b1-98b3-ef1f47a94dda",
   "metadata": {},
   "outputs": [],
   "source": [
    "train_val_trial_path"
   ]
  },
  {
   "cell_type": "code",
   "execution_count": null,
   "id": "a323acef-4ec8-4432-9919-7e5cf7919e92",
   "metadata": {},
   "outputs": [],
   "source": []
  },
  {
   "cell_type": "code",
   "execution_count": null,
   "id": "f21b0a01-fd30-4817-87f1-ad35f6b36a78",
   "metadata": {},
   "outputs": [],
   "source": [
    "train_data_path = train_val_trial_path / 'train'\n",
    "\n",
    "if not os.path.exists(train_data_path):\n",
    "    os.makedirs(train_data_path)\n"
   ]
  },
  {
   "cell_type": "code",
   "execution_count": null,
   "id": "ac4406ac-bdc0-4e8a-a53a-b413fc7b12d3",
   "metadata": {},
   "outputs": [],
   "source": [
    "os.getcwd()"
   ]
  },
  {
   "cell_type": "code",
   "execution_count": null,
   "id": "41e32f3f-16fb-41ff-b7b0-1a8eb8125a19",
   "metadata": {},
   "outputs": [],
   "source": [
    "train_imgages_path = train_data_path / 'images'\n",
    "\n",
    "if not os.path.exists(train_imgages_path):\n",
    "    os.makedirs(train_imgages_path)\n",
    "\n",
    "train_labels_path = train_data_path / 'labels'\n",
    "\n",
    "if not os.path.exists(train_labels_path):\n",
    "    os.makedirs(train_labels_path)\n"
   ]
  },
  {
   "cell_type": "code",
   "execution_count": null,
   "id": "bac4bfe4-6107-45af-9a66-ea3cc58deb6a",
   "metadata": {},
   "outputs": [],
   "source": [
    "val_data_path = train_val_trial_path  / 'val'\n",
    "if not os.path.exists(val_data_path):\n",
    "    os.makedirs(val_data_path)\n",
    "\n",
    "os.listdir(val_data_path)"
   ]
  },
  {
   "cell_type": "code",
   "execution_count": null,
   "id": "77a32b55-7dfc-4513-a3dc-3c39f11ecc6f",
   "metadata": {},
   "outputs": [],
   "source": [
    "val_imgages_path = val_data_path / 'images'\n",
    "if not os.path.exists(val_imgages_path):\n",
    "    os.makedirs(val_imgages_path)\n",
    "\n",
    "val_labels_path = val_data_path / 'labels'\n",
    "if not os.path.exists(val_labels_path):\n",
    "    os.makedirs(val_labels_path)\n"
   ]
  },
  {
   "cell_type": "code",
   "execution_count": null,
   "id": "b7e25bb0-0fee-49c2-a3c4-514fa0661484",
   "metadata": {},
   "outputs": [],
   "source": [
    "train_images_path = train_data_path / 'images'\n",
    "if not os.path.exists(train_images_path):\n",
    "    os.makedirs(train_images_path)\n",
    "\n",
    "train_labels_path = train_data_path / 'labels'\n",
    "if not os.path.exists(train_labels_path):\n",
    "    os.makedirs(train_labels_path)\n"
   ]
  },
  {
   "cell_type": "code",
   "execution_count": null,
   "id": "24fccb07-48da-48b9-b740-287559add66d",
   "metadata": {},
   "outputs": [],
   "source": [
    "val_images_path = val_data_path / 'images'\n",
    "if not os.path.exists(val_images_path):\n",
    "    os.makedirs(val_images_path)\n",
    "\n",
    "val_labels_path = val_data_path / 'labels'\n",
    "if not os.path.exists(val_labels_path):\n",
    "    os.makedirs(val_labels_path)\n"
   ]
  },
  {
   "cell_type": "code",
   "execution_count": null,
   "id": "b965310c-31f6-40f8-9c84-59597ff166d8",
   "metadata": {},
   "outputs": [],
   "source": [
    "train_images_grey_path = train_val_trial_path / 'train_grey/images'\n",
    " \n",
    "if not os.path.exists(train_images_grey_path):\n",
    "    os.makedirs(train_images_grey_path)"
   ]
  },
  {
   "cell_type": "code",
   "execution_count": null,
   "id": "77c518f8-3474-448b-ac7f-f38e31aec55b",
   "metadata": {},
   "outputs": [],
   "source": [
    "val_images_grey_path = train_val_trial_path / 'val_grey/images'\n",
    "\n",
    "if not os.path.exists(val_images_grey_path):\n",
    "    os.makedirs(val_images_grey_path)"
   ]
  },
  {
   "cell_type": "code",
   "execution_count": null,
   "id": "ca31aae8-6ce3-41d5-b259-627b6b43d830",
   "metadata": {},
   "outputs": [],
   "source": []
  },
  {
   "cell_type": "code",
   "execution_count": null,
   "id": "eb0b4bcd-aaf9-4ecc-84db-8bef9524b5fb",
   "metadata": {},
   "outputs": [],
   "source": [
    "train_val_trial_path"
   ]
  },
  {
   "cell_type": "code",
   "execution_count": null,
   "id": "aecdd27e-adaf-4d16-9706-54817bdf8e60",
   "metadata": {},
   "outputs": [],
   "source": [
    "val_data_path"
   ]
  },
  {
   "cell_type": "code",
   "execution_count": null,
   "id": "058e24e4-967f-4946-a2c5-b519d5999551",
   "metadata": {},
   "outputs": [],
   "source": []
  },
  {
   "cell_type": "code",
   "execution_count": null,
   "id": "61d5aa8a-5f1e-44c9-84f5-ece75eaa2629",
   "metadata": {},
   "outputs": [],
   "source": []
  },
  {
   "cell_type": "markdown",
   "id": "7a1d1d5c-54d7-48cb-8e28-c93e5c7b6361",
   "metadata": {},
   "source": [
    "### Make a list of all selected image ids by looping through the label paths: "
   ]
  },
  {
   "cell_type": "code",
   "execution_count": null,
   "id": "17512f2a-31f3-4f6c-80b3-2cb9abbefddb",
   "metadata": {},
   "outputs": [],
   "source": [
    "round_counter = 0\n",
    "selected_image_ids = []\n",
    "for label_path in label_paths:\n",
    "    #print(label_path)\n",
    "    last_part = label_path.split('_')[-1]\n",
    "    image_id = int(last_part.split('.')[0])\n",
    "    selected_image_ids.append(image_id)\n",
    "    round_counter += 1\n",
    "    #if round_counter > 2:\n",
    "     #   break"
   ]
  },
  {
   "cell_type": "code",
   "execution_count": null,
   "id": "65164427-edff-4d95-8952-78fe53ab56b5",
   "metadata": {},
   "outputs": [],
   "source": [
    "print(len(selected_image_ids))\n",
    "print(selected_image_ids[0:7])\n"
   ]
  },
  {
   "cell_type": "markdown",
   "id": "88ebef3e-6850-4466-bab9-0b3721d9ebe0",
   "metadata": {},
   "source": [
    "### Shuffle selected image ids and subdivide them into training and validation set:"
   ]
  },
  {
   "cell_type": "code",
   "execution_count": null,
   "id": "8decf08b-eb80-4ef5-bdf9-469ad82ae294",
   "metadata": {},
   "outputs": [],
   "source": [
    "import random\n",
    "\n",
    "def split_shuffle(string_list, split_ratio=0.8):\n",
    "    # Shuffle the list in place\n",
    "    random.shuffle(string_list)\n",
    "    \n",
    "    # Calculate split point\n",
    "    split_point = int(len(string_list) * split_ratio)\n",
    "    \n",
    "    # Split the list\n",
    "    train_set = string_list[:split_point]\n",
    "    test_set = string_list[split_point:]\n",
    "    \n",
    "    return train_set, test_set"
   ]
  },
  {
   "cell_type": "code",
   "execution_count": null,
   "id": "cc15f166-e601-4950-80f5-ce39bb009b66",
   "metadata": {},
   "outputs": [],
   "source": [
    "print(len(selected_image_ids))\n",
    "train_ids, val_ids = split_shuffle(selected_image_ids)\n",
    "print(len(train_ids))\n",
    "print(len(val_ids))"
   ]
  },
  {
   "cell_type": "markdown",
   "id": "c664f0f6-085c-4a08-965a-fa492befe34b",
   "metadata": {},
   "source": [
    "### Get a list of all image files:"
   ]
  },
  {
   "cell_type": "code",
   "execution_count": null,
   "id": "e0349c5c-c396-4311-939b-6057a6601f6c",
   "metadata": {},
   "outputs": [],
   "source": [
    "all_file_list = os.listdir(data_path)\n",
    "image_file_list = []\n",
    "for filename in all_file_list:\n",
    "    file_extension = filename.split('.')[-1]\n",
    "    if file_extension == 'jpg':\n",
    "        image_file_list.append(filename)\n",
    "    \n",
    "print(len(image_file_list))\n",
    "\n",
    "image_file_list[0:7]"
   ]
  },
  {
   "cell_type": "code",
   "execution_count": null,
   "id": "16808a97-efae-44f6-97f8-8f78ace343bc",
   "metadata": {},
   "outputs": [],
   "source": []
  },
  {
   "cell_type": "code",
   "execution_count": null,
   "id": "7362355b-1965-4568-a729-b84a1bfcf3e1",
   "metadata": {},
   "outputs": [],
   "source": []
  },
  {
   "cell_type": "code",
   "execution_count": null,
   "id": "e9658a0b-555e-4a70-9455-03cf77b3d22e",
   "metadata": {},
   "outputs": [],
   "source": []
  },
  {
   "cell_type": "code",
   "execution_count": null,
   "id": "5562efe5-2263-4ac6-a60e-8aa9afe9c8ce",
   "metadata": {},
   "outputs": [],
   "source": []
  },
  {
   "cell_type": "code",
   "execution_count": null,
   "id": "a8a6ebdc-b05b-487e-8f8c-a637703a6495",
   "metadata": {},
   "outputs": [],
   "source": []
  },
  {
   "cell_type": "markdown",
   "id": "51440b9c-08b9-4b2d-887f-341e2e8699d0",
   "metadata": {},
   "source": [
    "### Loop through image file list and label_paths list and move files to the training or validation folder according to their id:"
   ]
  },
  {
   "cell_type": "code",
   "execution_count": null,
   "id": "2902518b-03e1-47b2-a0e7-a2048139361d",
   "metadata": {},
   "outputs": [],
   "source": [
    "train_imgages_path"
   ]
  },
  {
   "cell_type": "code",
   "execution_count": null,
   "id": "ec9cf46a-30e4-4362-b564-3a5da10622e6",
   "metadata": {},
   "outputs": [],
   "source": [
    "train_labels_path"
   ]
  },
  {
   "cell_type": "code",
   "execution_count": null,
   "id": "269aad96-c22a-4b11-a2d7-ff64f7a0dd9c",
   "metadata": {},
   "outputs": [],
   "source": [
    "train_ids[0:7]"
   ]
  },
  {
   "cell_type": "code",
   "execution_count": null,
   "id": "b04ca787-aff0-45a0-9037-0e5dd2ffa335",
   "metadata": {},
   "outputs": [],
   "source": [
    "val_ids[0:7]"
   ]
  },
  {
   "cell_type": "code",
   "execution_count": null,
   "id": "c70c15d3-3b0a-4a48-ab44-adc9730976a4",
   "metadata": {},
   "outputs": [],
   "source": [
    "image_file_list.sort(key=len, reverse=True)\n",
    "for file in image_file_list:\n",
    "    print(len(file))\n",
    "    print(file)\n",
    "    break"
   ]
  },
  {
   "cell_type": "code",
   "execution_count": null,
   "id": "b0ca5f95-14a9-4de9-85e1-7c5f1469c793",
   "metadata": {},
   "outputs": [],
   "source": [
    "label_paths[0:2]"
   ]
  },
  {
   "cell_type": "code",
   "execution_count": null,
   "id": "66448102-60a0-4000-9b1c-9f997c474762",
   "metadata": {},
   "outputs": [],
   "source": [
    "import shutil"
   ]
  },
  {
   "cell_type": "code",
   "execution_count": null,
   "id": "9196b54f-a094-416e-bb48-77af96e6f13d",
   "metadata": {},
   "outputs": [],
   "source": [
    "dist_train_val(image_file_list, train_ids, val_ids, data_path, \n",
    "               train_imgages_path, val_imgages_path)\n",
    "dist_train_val(label_paths, train_ids, val_ids, yolo_path, \n",
    "                           train_labels_path, val_labels_path, full_path=True)\n"
   ]
  },
  {
   "cell_type": "code",
   "execution_count": null,
   "id": "1cf41263-c671-4097-ab3f-615722f02ffa",
   "metadata": {},
   "outputs": [],
   "source": []
  },
  {
   "cell_type": "code",
   "execution_count": null,
   "id": "bf6a62d2-e071-4cf2-91c0-e4e4b6e6c770",
   "metadata": {},
   "outputs": [],
   "source": []
  },
  {
   "cell_type": "markdown",
   "id": "9820c6ee-3100-4b0d-a06b-5662e593346d",
   "metadata": {},
   "source": [
    "### Convert images to grey scale images"
   ]
  },
  {
   "cell_type": "code",
   "execution_count": null,
   "id": "c6f2f16f-2272-4f74-aa31-bd16f6956b9b",
   "metadata": {},
   "outputs": [],
   "source": [
    "import cv2\n",
    "import os\n",
    "from pathlib import Path\n",
    "\n",
    "def convert_dataset_to_grayscale(input_dir, output_dir):\n",
    "    \"\"\"Convert all images in dataset to grayscale\"\"\"\n",
    "    os.makedirs(output_dir, exist_ok=True)\n",
    "    \n",
    "    for img_path in Path(input_dir).glob('*.jpg'):\n",
    "        # Read image\n",
    "        img = cv2.imread(str(img_path))\n",
    "        \n",
    "        # Convert to grayscale\n",
    "        gray_img = cv2.cvtColor(img, cv2.COLOR_BGR2GRAY)\n",
    "        \n",
    "        # Convert back to 3-channel (YOLO expects 3 channels)\n",
    "        gray_3channel = cv2.cvtColor(gray_img, cv2.COLOR_GRAY2BGR)\n",
    "        \n",
    "        # Save\n",
    "        output_path = os.path.join(output_dir, img_path.name)\n",
    "        cv2.imwrite(output_path, gray_3channel)\n"
   ]
  },
  {
   "cell_type": "code",
   "execution_count": null,
   "id": "c6c6aace-7c99-4822-b504-72a8411f5a24",
   "metadata": {},
   "outputs": [],
   "source": [
    "train_data_path "
   ]
  },
  {
   "cell_type": "code",
   "execution_count": null,
   "id": "31e63abc-3de4-4dac-9d30-cd998836318e",
   "metadata": {},
   "outputs": [],
   "source": [
    "val_data_path"
   ]
  },
  {
   "cell_type": "code",
   "execution_count": null,
   "id": "09c1a063-1045-4385-9463-6f349b798d3c",
   "metadata": {},
   "outputs": [],
   "source": [
    "train_data_path"
   ]
  },
  {
   "cell_type": "code",
   "execution_count": null,
   "id": "b6f745a6-530c-434a-9432-8289c349f072",
   "metadata": {},
   "outputs": [],
   "source": []
  },
  {
   "cell_type": "code",
   "execution_count": null,
   "id": "f5905ed2-2c8d-45a7-b589-6ca6b5e22132",
   "metadata": {},
   "outputs": [],
   "source": [
    "# Convert your training images\n",
    "convert_dataset_to_grayscale(train_images_path, train_images_grey_path)\n",
    "convert_dataset_to_grayscale(val_images_path, val_images_grey_path)"
   ]
  },
  {
   "cell_type": "code",
   "execution_count": null,
   "id": "9a4a8ef7-6da4-444e-b7bf-c69a451f5435",
   "metadata": {},
   "outputs": [],
   "source": [
    "os.getcwd()"
   ]
  },
  {
   "cell_type": "code",
   "execution_count": null,
   "id": "6d0af53e-7d23-4374-b83d-344be9f85939",
   "metadata": {},
   "outputs": [],
   "source": [
    "test_files_path = root_path / 'test_files'\n",
    "test_files_grey_path = root_path / 'test_files_grey'"
   ]
  },
  {
   "cell_type": "code",
   "execution_count": null,
   "id": "475a2fe8-e8d7-4762-963c-d57b1a067e92",
   "metadata": {},
   "outputs": [],
   "source": [
    "convert_dataset_to_grayscale(test_files_path, test_files_grey_path)"
   ]
  },
  {
   "cell_type": "markdown",
   "id": "17502db1-c909-4d1f-8841-6728a804e1a0",
   "metadata": {},
   "source": [
    "### Adapt brightness and contrast of grey scale images to make them look old:"
   ]
  },
  {
   "cell_type": "code",
   "execution_count": null,
   "id": "9b9bfa9c-0c3d-49dd-8385-5ce8599eb4d3",
   "metadata": {},
   "outputs": [],
   "source": [
    "import cv2\n",
    "import numpy as np\n",
    "from PIL import Image, ImageEnhance, ImageFilter\n",
    "import random\n",
    "import os"
   ]
  },
  {
   "cell_type": "code",
   "execution_count": null,
   "id": "646350aa-124e-409e-8cb3-e54edc6f7c74",
   "metadata": {},
   "outputs": [],
   "source": [
    "def simulate_specific_old_effects(image_path, output_path):\n",
    "    \"\"\"\n",
    "    Apply specific effects that match your old photos.\n",
    "    Adjust these based on what you observe in your test images.\n",
    "    \"\"\"\n",
    "    img = Image.open(image_path).convert('RGB')\n",
    "    \n",
    "    # Heavy JPEG compression (very low quality)\n",
    "    img.save('temp.jpg', 'JPEG', quality=15)\n",
    "    img = Image.open('temp.jpg')\n",
    "    os.remove('temp.jpg')\n",
    "    \n",
    "    # Significant brightness reduction\n",
    "    enhancer = ImageEnhance.Brightness(img)\n",
    "    img = enhancer.enhance(0.8)\n",
    "    \n",
    "    # Low contrast\n",
    "    enhancer = ImageEnhance.Contrast(img)\n",
    "    img = enhancer.enhance(0.9)\n",
    "    \n",
    "    # Add significant noise\n",
    "    img_array = np.array(img)\n",
    "    noise = np.random.normal(0, 0.1, img_array.shape).astype(np.uint8)\n",
    "    img_array = np.clip(img_array.astype(np.int16) + noise, 0, 255).astype(np.uint8)\n",
    "    img = Image.fromarray(img_array)\n",
    "    \n",
    "    # Strong blur\n",
    "    img = img.filter(ImageFilter.GaussianBlur(radius=1.5))\n",
    "    \n",
    "    img.save(output_path, 'JPEG', quality=85) \n"
   ]
  },
  {
   "cell_type": "code",
   "execution_count": null,
   "id": "58bdd262-67f6-4981-8d40-7312e3b72f3c",
   "metadata": {},
   "outputs": [],
   "source": [
    "def process_training_dataset_spec(input_dir, output_dir, augmentation_ratio=0.5):\n",
    "    \"\"\"\n",
    "    Process a directory of training images to simulate old photo effects.\n",
    "    \n",
    "    Args:\n",
    "        input_dir: Directory with original images\n",
    "        output_dir: Directory to save processed images\n",
    "        augmentation_ratio: Fraction of images to augment (0.5 = 50%)\n",
    "    \"\"\"\n",
    "    os.makedirs(output_dir, exist_ok=True)\n",
    "    \n",
    "    image_files = [f for f in os.listdir(input_dir) if f.lower().endswith(('.jpg', '.jpeg', '.png', '.tif'))]\n",
    "    \n",
    "    for img_file in image_files:\n",
    "        input_path = os.path.join(input_dir, img_file)\n",
    "        \n",
    "        # Always copy original\n",
    "        original_output = os.path.join(output_dir, img_file)\n",
    "        #img = Image.open(input_path)\n",
    "        #img.save(original_output)\n",
    "        \n",
    "\n",
    "        # Create filename for augmented version\n",
    "        name, ext = os.path.splitext(img_file)\n",
    "        aug_filename = f\"{name}_aged{ext}\"\n",
    "        aug_output = os.path.join(output_dir, aug_filename)\n",
    "        #aug_output = os.path.join(output_dir, img_file)\n",
    "        \n",
    "        # Apply aging effects with random intensity\n",
    "        intensity = random.uniform(0.3, 0.8)\n",
    "        simulate_specific_old_effects(input_path, aug_output)\n",
    "    \n",
    "    print(f\"Processed {len(image_files)} images in {input_dir}\")"
   ]
  },
  {
   "cell_type": "code",
   "execution_count": null,
   "id": "fb1642c3-2fce-4f17-bf55-b500fe398377",
   "metadata": {},
   "outputs": [],
   "source": []
  },
  {
   "cell_type": "code",
   "execution_count": null,
   "id": "9c5d6f43-8f7d-46b0-885e-ad4ab683556e",
   "metadata": {},
   "outputs": [],
   "source": [
    "train_images_aged_path = train_val_trial_path / 'train_grey/images_aged'\n",
    "val_images_aged_path = train_val_trial_path / 'val_grey/images_aged'"
   ]
  },
  {
   "cell_type": "code",
   "execution_count": null,
   "id": "ae2ea54c-0a09-49db-b704-50d97d0129ec",
   "metadata": {},
   "outputs": [],
   "source": [
    "process_training_dataset_spec(train_images_grey_path, train_images_aged_path)\n",
    "process_training_dataset_spec(val_images_grey_path, val_images_aged_path)"
   ]
  },
  {
   "cell_type": "code",
   "execution_count": null,
   "id": "4564abb6-8c72-433e-b051-424f46360f37",
   "metadata": {},
   "outputs": [],
   "source": []
  },
  {
   "cell_type": "markdown",
   "id": "447b429e-0d6f-4da6-a7a1-2aebd9287172",
   "metadata": {},
   "source": [
    "### Move all grey images back to train and val folders (overwriting the coloured images)"
   ]
  },
  {
   "cell_type": "code",
   "execution_count": null,
   "id": "49dc32e2-71d3-49c9-a8be-87f93ec22097",
   "metadata": {},
   "outputs": [],
   "source": [
    "grey_image_list = os.listdir(train_images_grey_path)\n",
    "for image in grey_image_list:\n",
    "    grey_image_path = train_images_grey_path / image\n",
    "    dest_grey_image_path = train_images_path / image\n",
    "    shutil.copy(grey_image_path, dest_grey_image_path)"
   ]
  },
  {
   "cell_type": "code",
   "execution_count": null,
   "id": "18a63410-80f8-4494-ae6c-781ec2192726",
   "metadata": {},
   "outputs": [],
   "source": [
    "grey_image_list = os.listdir(val_images_grey_path)\n",
    "for image in grey_image_list:\n",
    "    grey_image_path = val_images_grey_path / image\n",
    "    dest_grey_image_path = val_images_path / image\n",
    "    shutil.copy(grey_image_path, dest_grey_image_path)"
   ]
  },
  {
   "cell_type": "code",
   "execution_count": null,
   "id": "30932251-422f-4905-aaf6-e3cac5bc85b8",
   "metadata": {},
   "outputs": [],
   "source": [
    "grey_image_list = os.listdir(test_files_grey_path)\n",
    "for image in grey_image_list:\n",
    "    grey_image_path = test_files_grey_path / image\n",
    "    dest_grey_image_path = test_files_path / image\n",
    "    shutil.copy(grey_image_path, dest_grey_image_path)"
   ]
  },
  {
   "cell_type": "code",
   "execution_count": null,
   "id": "e6acce0e-e999-4a04-97c6-d51e556d06f9",
   "metadata": {},
   "outputs": [],
   "source": [
    "from source.visual_genome_aged_effect import simulate_specific_old_effects\n",
    "from source.visual_genome_aged_effect import process_training_dataset_spec\n",
    "from source.visual_genome_aged_effect import copy_with_new_id\n",
    "from source.visual_genome_aged_effect import add_new_id_img_meta"
   ]
  },
  {
   "cell_type": "code",
   "execution_count": null,
   "id": "6b78da94-c459-4a0a-a484-cd8f5179ead7",
   "metadata": {},
   "outputs": [],
   "source": [
    "train_images_aged_path"
   ]
  },
  {
   "cell_type": "markdown",
   "id": "82017ade-2c4b-481e-9daa-d7115c8bdd5c",
   "metadata": {},
   "source": [
    "### Get identifiers of training and validation images:"
   ]
  },
  {
   "cell_type": "code",
   "execution_count": null,
   "id": "211cbe7c-a006-41db-a977-fc12fed3ccb4",
   "metadata": {},
   "outputs": [],
   "source": [
    "train_img_ids = get_image_ids(str(train_images_path))\n",
    "val_img_ids = get_image_ids(str(val_images_path))\n",
    "train_max_id = max(train_img_ids)\n",
    "val_max_id = max(val_img_ids)\n",
    "max_id = max([train_max_id, val_max_id])\n",
    "max_id"
   ]
  },
  {
   "cell_type": "markdown",
   "id": "136cb5da-dfd3-44be-b73c-1b1499dfb17b",
   "metadata": {},
   "source": [
    "### Create and add new identifiers to aged versions of images; move files to train and val folder:"
   ]
  },
  {
   "cell_type": "markdown",
   "id": "4c130bac-1748-42cf-9e57-0a9ca028d47e",
   "metadata": {},
   "source": [
    "#### The aged image versions are added to the original grey scale images, so that for every image there is an original and a grey scale version"
   ]
  },
  {
   "cell_type": "code",
   "execution_count": null,
   "id": "118fb860-df97-41ef-a8eb-af27a5b3b2cb",
   "metadata": {},
   "outputs": [],
   "source": [
    "file_extensions = ['.jpg', '.txt']\n",
    "tag = 'aged'\n",
    "add_new_id_img_meta(train_images_aged_path, train_labels_path, \n",
    "                    train_images_path, train_labels_path, \n",
    "                    train_img_ids, max_id, tag, file_extensions)"
   ]
  },
  {
   "cell_type": "code",
   "execution_count": null,
   "id": "f68a72e0-d55a-43bf-9517-50d76c32b34b",
   "metadata": {},
   "outputs": [],
   "source": [
    "train_img_ids = get_image_ids(str(train_images_path))\n",
    "val_img_ids = get_image_ids(str(val_images_path))\n",
    "train_max_id = max(train_img_ids)\n",
    "val_max_id = max(val_img_ids)\n",
    "max_id = max([train_max_id, val_max_id])\n",
    "max_id"
   ]
  },
  {
   "cell_type": "code",
   "execution_count": null,
   "id": "c93c4c8c-4810-4e1a-b607-ba73f8d2274f",
   "metadata": {},
   "outputs": [],
   "source": [
    "file_extensions = ['.jpg', '.txt']\n",
    "tag = 'aged'\n",
    "\n",
    "add_new_id_img_meta(val_images_aged_path, val_labels_path, \n",
    "                    val_images_path, val_labels_path, \n",
    "                    val_img_ids, max_id, tag, file_extensions)"
   ]
  },
  {
   "cell_type": "code",
   "execution_count": null,
   "id": "42d3412e-9e7c-4c7b-8945-fb75fda2cdc9",
   "metadata": {},
   "outputs": [],
   "source": []
  },
  {
   "cell_type": "markdown",
   "id": "ed35fc50-dac5-4874-a2d7-35295a7fb7ed",
   "metadata": {},
   "source": [
    "### Copy yaml file to training folder:"
   ]
  },
  {
   "cell_type": "code",
   "execution_count": null,
   "id": "0cbeda41-6f70-4600-912e-af3626b4acdc",
   "metadata": {},
   "outputs": [],
   "source": [
    "yaml_path"
   ]
  },
  {
   "cell_type": "code",
   "execution_count": null,
   "id": "0440b9a8-1e87-4441-99e4-1a7bd88f3694",
   "metadata": {},
   "outputs": [],
   "source": [
    "yolo_yaml_path = train_val_trial_path / yaml_file_name\n",
    "yolo_yaml_path"
   ]
  },
  {
   "cell_type": "code",
   "execution_count": null,
   "id": "95af2f6d-d9f0-4f81-aaa1-acf0e6c926b3",
   "metadata": {},
   "outputs": [],
   "source": [
    "shutil.copy(yaml_path, yolo_yaml_path)"
   ]
  },
  {
   "cell_type": "code",
   "execution_count": null,
   "id": "87dda670-79d7-4afc-8afe-1d20732e01a2",
   "metadata": {},
   "outputs": [],
   "source": []
  },
  {
   "cell_type": "code",
   "execution_count": null,
   "id": "8b948ae2-5121-4c3c-a8d9-eb8e9bff2708",
   "metadata": {},
   "outputs": [],
   "source": []
  },
  {
   "cell_type": "code",
   "execution_count": null,
   "id": "3fc9e545-3713-456f-943b-7a042ade1fc1",
   "metadata": {},
   "outputs": [],
   "source": []
  },
  {
   "cell_type": "code",
   "execution_count": null,
   "id": "bcb52c64-371f-4d09-ba56-2fa179a3a81f",
   "metadata": {},
   "outputs": [],
   "source": []
  },
  {
   "cell_type": "code",
   "execution_count": null,
   "id": "ceb70edd-be73-42ad-a2b1-b84ece4352d2",
   "metadata": {},
   "outputs": [],
   "source": []
  },
  {
   "cell_type": "code",
   "execution_count": null,
   "id": "5c43915a-481e-43f7-bbe4-b3a3cb5901f2",
   "metadata": {},
   "outputs": [],
   "source": []
  },
  {
   "cell_type": "code",
   "execution_count": null,
   "id": "0a20cbc7-5b0d-467e-a68e-721d46c70b34",
   "metadata": {},
   "outputs": [],
   "source": []
  },
  {
   "cell_type": "code",
   "execution_count": null,
   "id": "d7ba7502-b9d6-48f4-bc73-b73103c5a4cd",
   "metadata": {},
   "outputs": [],
   "source": []
  },
  {
   "cell_type": "code",
   "execution_count": null,
   "id": "fd0e26fc-ccfa-4a89-beb2-9f32537cf988",
   "metadata": {},
   "outputs": [],
   "source": []
  },
  {
   "cell_type": "code",
   "execution_count": null,
   "id": "05ec46b0-0c08-4749-9f61-bf856ce5fe81",
   "metadata": {},
   "outputs": [],
   "source": []
  },
  {
   "cell_type": "code",
   "execution_count": null,
   "id": "f539a944-9f3d-4e9e-8975-8a6a6311c0b8",
   "metadata": {},
   "outputs": [],
   "source": []
  },
  {
   "cell_type": "code",
   "execution_count": null,
   "id": "bf5adee6-40f5-4a8d-bcb8-bf14f8d4ef32",
   "metadata": {},
   "outputs": [],
   "source": []
  },
  {
   "cell_type": "code",
   "execution_count": null,
   "id": "28a0b570-1e91-48fb-a5d9-0b12ee276a3b",
   "metadata": {},
   "outputs": [],
   "source": []
  },
  {
   "cell_type": "code",
   "execution_count": null,
   "id": "48deabf4-7093-4a3d-ab06-26187dc4ec3b",
   "metadata": {},
   "outputs": [],
   "source": []
  },
  {
   "cell_type": "code",
   "execution_count": null,
   "id": "6e27d91e-2c24-4bc7-8683-cbeb978c863a",
   "metadata": {},
   "outputs": [],
   "source": []
  },
  {
   "cell_type": "code",
   "execution_count": null,
   "id": "2ce40e37-d6bc-42d8-be06-4955aacc0e9a",
   "metadata": {},
   "outputs": [],
   "source": []
  },
  {
   "cell_type": "code",
   "execution_count": null,
   "id": "1ec53f7c-9700-4b9f-b100-a7cdd836546e",
   "metadata": {},
   "outputs": [],
   "source": []
  },
  {
   "cell_type": "code",
   "execution_count": null,
   "id": "922e2579-8d9a-4be6-981e-daaa5a1c7f49",
   "metadata": {},
   "outputs": [],
   "source": []
  },
  {
   "cell_type": "code",
   "execution_count": null,
   "id": "cda9423c-49ce-416b-9a9c-f5745fdca4bf",
   "metadata": {},
   "outputs": [],
   "source": []
  },
  {
   "cell_type": "code",
   "execution_count": null,
   "id": "b8f33089-7ff2-4230-be8a-18cbff03cf53",
   "metadata": {},
   "outputs": [],
   "source": []
  },
  {
   "cell_type": "code",
   "execution_count": null,
   "id": "ba3b3423-9ad6-4f01-98c5-c4d210082e02",
   "metadata": {},
   "outputs": [],
   "source": []
  },
  {
   "cell_type": "code",
   "execution_count": null,
   "id": "03c0e0f7-c6f2-4071-a0cd-434a0dab97ae",
   "metadata": {},
   "outputs": [],
   "source": []
  },
  {
   "cell_type": "code",
   "execution_count": null,
   "id": "7494bfac-8c17-4cbc-9237-b5169f3e5beb",
   "metadata": {},
   "outputs": [],
   "source": []
  },
  {
   "cell_type": "code",
   "execution_count": null,
   "id": "bbaac1ca-568b-4129-8631-ce133c42338f",
   "metadata": {},
   "outputs": [],
   "source": []
  },
  {
   "cell_type": "code",
   "execution_count": null,
   "id": "3c7d711b-03e1-4142-981e-67baf27bca57",
   "metadata": {},
   "outputs": [],
   "source": []
  },
  {
   "cell_type": "code",
   "execution_count": null,
   "id": "6e98d46e-df69-46c3-b606-341c5d10a950",
   "metadata": {},
   "outputs": [],
   "source": []
  },
  {
   "cell_type": "code",
   "execution_count": null,
   "id": "0e17bf7e-01fb-4057-9594-f7ff74c2c5b6",
   "metadata": {},
   "outputs": [],
   "source": []
  },
  {
   "cell_type": "code",
   "execution_count": null,
   "id": "d80cb815-179e-4abe-8d96-5e317a968f00",
   "metadata": {},
   "outputs": [],
   "source": []
  },
  {
   "cell_type": "code",
   "execution_count": null,
   "id": "765f1bbc-5b12-461a-9324-324af7720bea",
   "metadata": {},
   "outputs": [],
   "source": []
  },
  {
   "cell_type": "code",
   "execution_count": null,
   "id": "495cf7d3-17da-41b6-b618-2f5ec9230804",
   "metadata": {},
   "outputs": [],
   "source": []
  }
 ],
 "metadata": {
  "kernelspec": {
   "display_name": "Python 3 (ipykernel)",
   "language": "python",
   "name": "python3"
  },
  "language_info": {
   "codemirror_mode": {
    "name": "ipython",
    "version": 3
   },
   "file_extension": ".py",
   "mimetype": "text/x-python",
   "name": "python",
   "nbconvert_exporter": "python",
   "pygments_lexer": "ipython3",
   "version": "3.12.5"
  }
 },
 "nbformat": 4,
 "nbformat_minor": 5
}
