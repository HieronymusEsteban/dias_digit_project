{
 "cells": [
  {
   "cell_type": "code",
   "execution_count": null,
   "id": "131ae6a2-e922-4e34-82e6-a73fca67274d",
   "metadata": {},
   "outputs": [],
   "source": [
    "import urllib.request\n",
    "import os\n",
    "import cv2 as cv\n",
    "from IPython.display import Image, display\n",
    "import numpy as np\n",
    "from pathlib import Path\n",
    "from PIL import Image\n",
    "import matplotlib.pyplot as plt\n",
    "import pandas as pd"
   ]
  },
  {
   "cell_type": "code",
   "execution_count": null,
   "id": "0ca8c499-273c-4743-962a-bfb79e6a71a9",
   "metadata": {},
   "outputs": [],
   "source": [
    "import mediapipe as mp"
   ]
  },
  {
   "cell_type": "code",
   "execution_count": null,
   "id": "f998444e-e1c4-4907-a415-1c0def4a2145",
   "metadata": {},
   "outputs": [],
   "source": [
    "# modi"
   ]
  },
  {
   "cell_type": "code",
   "execution_count": null,
   "id": "3263458f-a25d-47f2-ba4d-de0bf5731ca7",
   "metadata": {},
   "outputs": [],
   "source": [
    "# mm"
   ]
  },
  {
   "cell_type": "code",
   "execution_count": null,
   "id": "40071872-6696-4941-9387-8f207e928adb",
   "metadata": {},
   "outputs": [],
   "source": [
    "\n",
    "# Load pre-trained face cascade\n",
    "face_cascade = cv.CascadeClassifier(cv.data.haarcascades + 'haarcascade_frontalface_default.xml')\n",
    "#face_cascade = cv.CascadeClassifier(cv.data.haarcascades + 'haarcascade_profileface.xml')\n",
    "\n",
    "def process_image_casc(image_path):\n",
    "    img = cv.imread(image_path)\n",
    "    gray = cv.cvtColor(img, cv.COLOR_BGR2GRAY)\n",
    "    faces = face_cascade.detectMultiScale(gray, scaleFactor=1.05,  # Smaller = more detections but slower (try 1.05-1.4)\n",
    "    minNeighbors=6,   # Lower = more detections but more false positives (try 3-6)\n",
    "    minSize=(1, 1)  # Minimum face size to detect\n",
    "                                         )\n",
    "    \n",
    "    has_face = len(faces) > 0\n",
    "    \n",
    "    if has_face:\n",
    "        for (x, y, w, h) in faces:\n",
    "            cv.rectangle(img, (x, y), (x+w, y+h), (0, 255, 0), 2)\n",
    "        plt.imshow(img)\n",
    "        plt.show()\n",
    "        \n",
    "    return has_face, img"
   ]
  },
  {
   "cell_type": "code",
   "execution_count": null,
   "id": "62e86f81-a8d2-4ef5-9acd-1e44907e02d2",
   "metadata": {},
   "outputs": [],
   "source": [
    "os.getcwd()"
   ]
  },
  {
   "cell_type": "code",
   "execution_count": null,
   "id": "9ab2ca0b-bafb-4dd1-8487-65ec49ef44bf",
   "metadata": {},
   "outputs": [],
   "source": [
    "root_path = Path(os.getcwd())"
   ]
  },
  {
   "cell_type": "code",
   "execution_count": null,
   "id": "039903ba-a176-430c-9b70-93a425fd661d",
   "metadata": {},
   "outputs": [],
   "source": [
    "root_path"
   ]
  },
  {
   "cell_type": "code",
   "execution_count": null,
   "id": "90fe2b77-5763-4c8a-a930-64f76120c042",
   "metadata": {},
   "outputs": [],
   "source": [
    "\n",
    "# Define paths\n",
    "image_dir = root_path/\"../test_data\"  # Replace with your directory containing images\n",
    "output_dir_with_face = root_path/\"../test_with_face\"  # Replace with output directory for images with persons\n",
    "output_dir_without_face = root_path/\"../test_without_face\"  # Replace with output directory for images without persons\n"
   ]
  },
  {
   "cell_type": "code",
   "execution_count": null,
   "id": "f2a5c27c-9476-4b46-91e1-504c7b1f7769",
   "metadata": {},
   "outputs": [],
   "source": []
  },
  {
   "cell_type": "code",
   "execution_count": null,
   "id": "b597595e-e625-4cdb-9d32-f1a782a050db",
   "metadata": {},
   "outputs": [],
   "source": [
    "# Create output directories\n",
    "#os.chdir(root_path/'..')\n",
    "os.makedirs(output_dir_with_face, exist_ok=True)\n",
    "os.makedirs(output_dir_without_face, exist_ok=True)\n",
    "#os.chdir('root_path')"
   ]
  },
  {
   "cell_type": "code",
   "execution_count": null,
   "id": "8689443b-53a2-42d7-b747-32e702bf6969",
   "metadata": {},
   "outputs": [],
   "source": [
    "images = os.listdir(image_dir)\n",
    "len(images)"
   ]
  },
  {
   "cell_type": "code",
   "execution_count": null,
   "id": "fcb62740-5d58-41b6-b9cc-0e6c0f444af2",
   "metadata": {},
   "outputs": [],
   "source": [
    "if '.DS_Store' in images:\n",
    "  images.remove('.DS_Store')\n"
   ]
  },
  {
   "cell_type": "code",
   "execution_count": null,
   "id": "2ede3cdf-3d0e-414a-baa4-ea9d6c3dbca6",
   "metadata": {},
   "outputs": [],
   "source": [
    "images[0]"
   ]
  },
  {
   "cell_type": "code",
   "execution_count": null,
   "id": "43950bd8-4457-4093-af38-07372e16ddf8",
   "metadata": {},
   "outputs": [],
   "source": [
    "image_path = image_dir/images[0]\n",
    "image_path"
   ]
  },
  {
   "cell_type": "code",
   "execution_count": null,
   "id": "4f517a2c-3aaa-45a0-962a-ec3eb579103c",
   "metadata": {},
   "outputs": [],
   "source": [
    "has_face, img = process_image_casc(image_path)\n",
    "plt.imshow(img)"
   ]
  },
  {
   "cell_type": "code",
   "execution_count": null,
   "id": "5981758b-4fb0-4d96-9e48-90f23dd3b8b8",
   "metadata": {},
   "outputs": [],
   "source": [
    "results = []\n",
    "images_processed = []\n",
    "round_counter = 0\n",
    "\n",
    "images = Path(image_dir).glob(\"*.tif\")\n",
    "for image in images:\n",
    "    print(round_counter)\n",
    "    image_path = image_dir/image\n",
    "    has_face, img = process_image_casc(image_path)\n",
    "    results.append(has_face)\n",
    "    images_processed.append(img)\n",
    "    round_counter += 1"
   ]
  },
  {
   "cell_type": "code",
   "execution_count": null,
   "id": "b350425a-a850-4e1f-a8e0-b1813ff7020d",
   "metadata": {},
   "outputs": [],
   "source": [
    "results_imgs = pd.DataFrame({'images_processed': images_processed, 'results': results})\n",
    "results_imgs.head()"
   ]
  },
  {
   "cell_type": "code",
   "execution_count": null,
   "id": "d423fabf-6fed-4d30-925a-ecf536561bb1",
   "metadata": {},
   "outputs": [],
   "source": []
  },
  {
   "cell_type": "code",
   "execution_count": null,
   "id": "7e1fe8b8-68aa-4c7f-aa5f-fe2edf7cd7e8",
   "metadata": {},
   "outputs": [],
   "source": [
    "plt.imshow(results_imgs[results_imgs.results].iloc[1,0])"
   ]
  },
  {
   "cell_type": "code",
   "execution_count": null,
   "id": "3115ac8c-8519-4e13-91ed-7b93a4b24964",
   "metadata": {},
   "outputs": [],
   "source": [
    "sum(results)"
   ]
  },
  {
   "cell_type": "code",
   "execution_count": null,
   "id": "165d26be-35f1-4b4a-80fc-0f1172db9981",
   "metadata": {},
   "outputs": [],
   "source": []
  },
  {
   "cell_type": "code",
   "execution_count": null,
   "id": "d42f07d8-2dc8-4396-bd10-fa8fed97587b",
   "metadata": {},
   "outputs": [],
   "source": []
  },
  {
   "cell_type": "code",
   "execution_count": null,
   "id": "97102be7-25f8-4355-a439-fb016ebb11b8",
   "metadata": {},
   "outputs": [],
   "source": []
  },
  {
   "cell_type": "code",
   "execution_count": null,
   "id": "8972b6a1-de58-4acb-a9a7-cfbe9eceb414",
   "metadata": {},
   "outputs": [],
   "source": [
    "\n",
    "\n"
   ]
  },
  {
   "cell_type": "code",
   "execution_count": null,
   "id": "47c2321d-f3bc-4ffe-97ba-a7a74fa5bac2",
   "metadata": {},
   "outputs": [],
   "source": []
  },
  {
   "cell_type": "code",
   "execution_count": null,
   "id": "18134175-1c4c-4234-b41f-2386ba4ab2bd",
   "metadata": {},
   "outputs": [],
   "source": []
  },
  {
   "cell_type": "code",
   "execution_count": null,
   "id": "1ec35fcd-b7ce-4905-bfa9-0e3822281c35",
   "metadata": {},
   "outputs": [],
   "source": []
  },
  {
   "cell_type": "code",
   "execution_count": null,
   "id": "5e6fd25a-3a19-4911-9771-41492b730593",
   "metadata": {},
   "outputs": [],
   "source": [
    "# Define paths\n",
    "image_dir = root_path/\"../test_data\"  # Replace with your directory containing images\n",
    "output_dir_with_face = root_path/\"../test_with_face\"  # Replace with output directory for images with persons\n",
    "output_dir_without_face = root_path/\"../test_without_face\"  # Replace with output directory for images without persons\n"
   ]
  },
  {
   "cell_type": "code",
   "execution_count": null,
   "id": "c3ca7baf-0c87-42ae-b15e-e8c20f46ad1d",
   "metadata": {},
   "outputs": [],
   "source": [
    "from mtcnn import MTCNN\n",
    "mtcnn = MTCNN()\n",
    "\n",
    "def detect_faces_mtcnn(image):\n",
    "    faces = mtcnn.detect_faces(image,\n",
    "                              min_face_size=10,  # Detect smaller faces\n",
    "    threshold_pnet=0.6,  # More proposals from PNet\n",
    "    threshold_rnet=0.7,  # Loosen RNet filtering\n",
    "    threshold_onet=0.8   # More final faces accepted by ONet\n",
    "                              )\n",
    "    return len(faces) > 0, faces"
   ]
  },
  {
   "cell_type": "code",
   "execution_count": null,
   "id": "6a04600d-7c49-4774-87a9-bd4037ba79d0",
   "metadata": {},
   "outputs": [],
   "source": [
    "def process_faces(image_dir, output_dir_with_face, output_dir_without_face):\n",
    "   images = Path(image_dir).glob(\"*.tif\")\n",
    "   for img_path in images:\n",
    "       # Read and process image\n",
    "       image = cv.imread(str(img_path))\n",
    "       has_faces, faces = detect_faces_mtcnn(image)\n",
    "       \n",
    "       if has_faces:\n",
    "           # Draw boxes\n",
    "           for face in faces:\n",
    "               x, y, w, h = face['box']\n",
    "               cv.rectangle(image, (x,y), (x+w, y+h), (0,255,0), 2)\n",
    "           \n",
    "           # Display\n",
    "           plt.imshow(cv.cvtColor(image, cv.COLOR_BGR2RGB))\n",
    "           plt.show()\n",
    "           \n",
    "           # Save\n",
    "           img_path_output = str(img_path).replace('test_data', 'test_with_face')\n",
    "           new_path = str(img_path_output).replace('.tif', '_mtcnn.tif')\n",
    "           print(new_path)\n",
    "           cv.imwrite(new_path, image)\n",
    "       else:\n",
    "           img_path_output = str(img_path).replace('test_data', 'test_without_face')\n",
    "           new_path = str(img_path_output).replace('.tif', '_mtcnn.tif')\n",
    "           print(new_path)\n",
    "           cv.imwrite(new_path, image)"
   ]
  },
  {
   "cell_type": "code",
   "execution_count": null,
   "id": "ef40ebba-6f01-4e43-b28d-c4513c55626f",
   "metadata": {},
   "outputs": [],
   "source": [
    "output_dir_with_face"
   ]
  },
  {
   "cell_type": "code",
   "execution_count": null,
   "id": "e3cca470-fabf-420c-ac95-a9115c20cefb",
   "metadata": {},
   "outputs": [],
   "source": [
    "output_dir_without_face"
   ]
  },
  {
   "cell_type": "code",
   "execution_count": null,
   "id": "c5f16971-e89a-4278-944c-26192076d927",
   "metadata": {},
   "outputs": [],
   "source": [
    "process_faces(image_dir, output_dir_with_face, output_dir_without_face)"
   ]
  },
  {
   "cell_type": "code",
   "execution_count": null,
   "id": "d39c2f30-1d4a-4f71-b495-aed8b4d2c51f",
   "metadata": {},
   "outputs": [],
   "source": []
  },
  {
   "cell_type": "code",
   "execution_count": null,
   "id": "01e5451f-3957-4b13-a78c-05eb6a10397a",
   "metadata": {},
   "outputs": [],
   "source": [
    "images = Path(image_dir).glob(\"*.tif\")\n",
    "for image in images:\n",
    "    image = cv.imread(image)\n",
    "    length, output = detect_faces_mtcnn(image)\n",
    "    print(length)\n",
    "    print(output)\n",
    "    plt.imshow(image)\n",
    "    plt.show()"
   ]
  },
  {
   "cell_type": "code",
   "execution_count": null,
   "id": "0364a510-b8e0-4666-ac67-0c16089f7c4b",
   "metadata": {},
   "outputs": [],
   "source": []
  },
  {
   "cell_type": "code",
   "execution_count": null,
   "id": "27bef673-e863-4170-a792-e2797479c61b",
   "metadata": {},
   "outputs": [],
   "source": []
  },
  {
   "cell_type": "code",
   "execution_count": null,
   "id": "c72400dd-8511-44ab-872b-6d975a52bcef",
   "metadata": {},
   "outputs": [],
   "source": []
  },
  {
   "cell_type": "code",
   "execution_count": null,
   "id": "ef35530b-b12b-47dc-aa96-acbc019a5fc1",
   "metadata": {},
   "outputs": [],
   "source": []
  },
  {
   "cell_type": "code",
   "execution_count": null,
   "id": "dd211db6-d23c-498a-b732-2f9b804e96fc",
   "metadata": {},
   "outputs": [],
   "source": []
  },
  {
   "cell_type": "code",
   "execution_count": null,
   "id": "6a5f71ac-16a4-4cb3-bb5e-b88dee41f085",
   "metadata": {},
   "outputs": [],
   "source": [
    "mp_face_detection = mp.solutions.face_detection\n",
    "face_detection = mp_face_detection.FaceDetection(\n",
    "    model_selection=0.8,  # 0 for close-range, 1 for far-range detection\n",
    "    min_detection_confidence=0.1  # Lower this to detect more faces (0.1-0.9)\n",
    ")\n",
    "\n",
    "def detect_faces(image):\n",
    "    image_rgb = cv.cvtColor(image, cv.COLOR_BGR2RGB)\n",
    "    results = face_detection.process(image_rgb)\n",
    "    if results.detections:\n",
    "        print(f\"Found {len(results.detections)} face(s)\")\n",
    "        return results.detections\n",
    "    else:\n",
    "        print(\"No faces detected\")\n",
    "        return None"
   ]
  },
  {
   "cell_type": "code",
   "execution_count": null,
   "id": "a921405f-c8e5-483d-b360-026a2cfeb5ea",
   "metadata": {},
   "outputs": [],
   "source": [
    "round_counter = 0\n",
    "images = Path(image_dir).glob(\"*.tif\")\n",
    "for image in images:\n",
    "    if round_counter > 1:\n",
    "        break\n",
    "    image = cv.imread(image)\n",
    "    image_rgb = cv.cvtColor(image, cv.COLOR_BGR2RGB)\n",
    "    detect_faces(image_rgb)\n",
    "    round_counter += 1"
   ]
  }
 ],
 "metadata": {
  "kernelspec": {
   "display_name": "Python 3 (ipykernel)",
   "language": "python",
   "name": "python3"
  },
  "language_info": {
   "codemirror_mode": {
    "name": "ipython",
    "version": 3
   },
   "file_extension": ".py",
   "mimetype": "text/x-python",
   "name": "python",
   "nbconvert_exporter": "python",
   "pygments_lexer": "ipython3",
   "version": "3.12.5"
  }
 },
 "nbformat": 4,
 "nbformat_minor": 5
}
