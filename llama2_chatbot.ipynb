{
 "cells": [
  {
   "cell_type": "code",
   "execution_count": null,
   "id": "67d305c6-c613-4ffe-8a12-2a9b7731a9f9",
   "metadata": {},
   "outputs": [],
   "source": [
    "import ollama\n",
    "\n",
    "\n",
    "# Choose a chat-capable model (ensured it is pulled)\n",
    "model_name = 'llama2-uncensored'\n",
    "\n",
    "# Initialize conversation with a system prompt (optional) and a user message\n",
    "messages = [\n",
    "    {\"role\": \"system\", \"content\": \"You are a helpful assistant.\"},\n",
    "    {\"role\": \"user\", \"content\": \"Hello!\"},\n",
    "]\n",
    "\n",
    "# First response from the bot\n",
    "response = ollama.chat(model=model_name, messages=messages)\n",
    "print(\"Bot:\", response.message.content)\n",
    "\n",
    "# Continue the conversation:\n",
    "while True:\n",
    "    user_input = input(\"You: \")\n",
    "    if not user_input:\n",
    "        break  # exit loop on empty input\n",
    "    messages.append({\"role\": \"user\", \"content\": user_input})\n",
    "    response = ollama.chat(model=model_name, messages=messages)\n",
    "    answer = response.message.content\n",
    "    print(\"Bot:\", answer)\n",
    "    messages.append({\"role\": \"assistant\", \"content\": answer})"
   ]
  },
  {
   "cell_type": "code",
   "execution_count": null,
   "id": "d53baf40-0fe4-4cdf-9cfd-7f5bbd4dd144",
   "metadata": {},
   "outputs": [],
   "source": []
  }
 ],
 "metadata": {
  "kernelspec": {
   "display_name": "Python 3 (ipykernel)",
   "language": "python",
   "name": "python3"
  },
  "language_info": {
   "codemirror_mode": {
    "name": "ipython",
    "version": 3
   },
   "file_extension": ".py",
   "mimetype": "text/x-python",
   "name": "python",
   "nbconvert_exporter": "python",
   "pygments_lexer": "ipython3",
   "version": "3.12.5"
  }
 },
 "nbformat": 4,
 "nbformat_minor": 5
}
