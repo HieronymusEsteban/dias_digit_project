{
 "cells": [
  {
   "cell_type": "code",
   "execution_count": null,
   "id": "e8ffa8f4-f99c-46af-88f8-5ea78afd0e42",
   "metadata": {},
   "outputs": [],
   "source": [
    "import os\n",
    "from source.visual_genome_data import get_file_by_id\n",
    "from pathlib import Path"
   ]
  },
  {
   "cell_type": "code",
   "execution_count": null,
   "id": "9aac9ea8-03fe-40a0-a487-f5affee45d7e",
   "metadata": {},
   "outputs": [],
   "source": [
    "root_path = Path.cwd()\n",
    "\n",
    "#data_path = root_path / '..' / 'test_clear_yolo_metadata_by_id'\n",
    "data_path = root_path / '..' / 'test_yolo_object_train' / 'visual_genome_data'"
   ]
  },
  {
   "cell_type": "code",
   "execution_count": null,
   "id": "f8b38a49-e813-41bb-8f0a-a8669c0de6fe",
   "metadata": {},
   "outputs": [],
   "source": [
    "os.getcwd()"
   ]
  },
  {
   "cell_type": "code",
   "execution_count": null,
   "id": "767555b0-a09e-4463-9044-634a04c1d5ea",
   "metadata": {},
   "outputs": [],
   "source": [
    "os.listdir(data_path)"
   ]
  },
  {
   "cell_type": "raw",
   "id": "6b8b7cb5-7071-47bd-b8f9-139bcdac64b9",
   "metadata": {},
   "source": [
    "def clear_yolo_metadata_by_id(data_path, identifier):\n",
    "   \"\"\"\n",
    "   Clear YOLO metadata file by identifier - makes it empty (removes all bounding boxes)\n",
    "   \"\"\"\n",
    "#   import os\n",
    "#   \n",
    "#   def get_file_by_id(data_path, identifier, file_extension):\n",
    "#       filenames = []\n",
    "#       identifier_underlines = '_' + str(identifier) + '_'\n",
    "#       identifier_end = '_' + str(identifier) + '.'\n",
    "#       for file in os.listdir(str(data_path)):\n",
    "#           id_underline_bool = identifier_underlines in file\n",
    "#           id_end_bool = identifier_end in file\n",
    "#           id_bool = id_underline_bool or id_end_bool\n",
    "#           file_ext_bool = file.endswith(file_extension)\n",
    "#           if id_bool and file_ext_bool:\n",
    "#               filenames.append(file)\n",
    "#       return filenames\n",
    "   \n",
    "   # Find the .txt metadata file\n",
    "   txt_files = get_file_by_id(data_path, identifier, '.txt')\n",
    "   \n",
    "   if not txt_files:\n",
    "       print(f\"No .txt file found with identifier {identifier}\")\n",
    "       return False\n",
    "   \n",
    "   if len(txt_files) > 1:\n",
    "       print(f\"Warning: Multiple .txt files found: {txt_files}. Using first one.\")\n",
    "   \n",
    "   # Overwrite with empty content\n",
    "   file_path = os.path.join(data_path, txt_files[0])\n",
    "   with open(file_path, 'w') as f:\n",
    "       pass  # Creates empty file\n",
    "   \n",
    "   print(f\"Cleared metadata file: {txt_files[0]}\")\n",
    "   return True\n",
    "\n",
    "# Usage:\n",
    "# clear_yolo_metadata_by_id('/path/to/labels', 123)"
   ]
  },
  {
   "cell_type": "code",
   "execution_count": null,
   "id": "74adc6be-c39b-4604-9e7e-c8f2dd822392",
   "metadata": {},
   "outputs": [],
   "source": [
    "def clear_yolo_metadata_by_id(data_path, identifier, id_end=True):\n",
    "   \"\"\"\n",
    "   Clear YOLO metadata file by identifier - makes it empty (removes all bounding boxes)\n",
    "   \n",
    "   Args:\n",
    "       data_path: Path to directory containing .txt files\n",
    "       identifier: Integer identifier to search for\n",
    "       id_end: If True (default), select file with ID at end only.\n",
    "               If False, select file with ID surrounded by underscores.\n",
    "   \"\"\"\n",
    "   #import os\n",
    "   #\n",
    "   #def get_file_by_id(data_path, identifier, file_extension):\n",
    "   #    filenames = []\n",
    "   #    identifier_underlines = '_' + str(identifier) + '_'\n",
    "   #    identifier_end = '_' + str(identifier) + '.'\n",
    "   #    for file in os.listdir(str(data_path)):\n",
    "   #        id_underline_bool = identifier_underlines in file\n",
    "   #        id_end_bool = identifier_end in file\n",
    "   #        id_bool = id_underline_bool or id_end_bool\n",
    "   #        file_ext_bool = file.endswith(file_extension)\n",
    "   #        if id_bool and file_ext_bool:\n",
    "   #            filenames.append(file)                 \n",
    "   #    return filenames\n",
    "   \n",
    "   # Get all matching files\n",
    "   txt_files = get_file_by_id(data_path, identifier, '.txt')\n",
    "   \n",
    "   if not txt_files:\n",
    "       print(f\"No .txt file found with identifier {identifier}\")\n",
    "       return False\n",
    "   \n",
    "   # Filter based on id_end parameter\n",
    "   if id_end:\n",
    "       # Select only files where ID is at the end\n",
    "       filtered_files = [f for f in txt_files if f.endswith(f'_{identifier}.txt')]\n",
    "   else:\n",
    "       # Select only files where ID is surrounded by underscores\n",
    "       filtered_files = [f for f in txt_files if f'_{identifier}_' in f]\n",
    "   \n",
    "   if not filtered_files:\n",
    "       pattern_type = \"at end\" if id_end else \"with underscores\"\n",
    "       print(f\"No .txt file found with identifier {identifier} {pattern_type}\")\n",
    "       return False\n",
    "   \n",
    "   # Overwrite with empty content\n",
    "   file_path = os.path.join(data_path, filtered_files[0])\n",
    "   with open(file_path, 'w') as f:\n",
    "       pass\n",
    "   \n",
    "   print(f\"Cleared metadata file: {filtered_files[0]}\")\n",
    "   return True"
   ]
  },
  {
   "cell_type": "code",
   "execution_count": null,
   "id": "7b13c0e5-0ede-4c38-9190-702a685b8945",
   "metadata": {},
   "outputs": [],
   "source": [
    "#clear_yolo_metadata_by_id(data_path, 497946)"
   ]
  },
  {
   "cell_type": "code",
   "execution_count": null,
   "id": "c6580b94-d1e1-4e4e-a456-682026b13902",
   "metadata": {},
   "outputs": [],
   "source": [
    "#clear_yolo_metadata_by_id(data_path, 2417533)"
   ]
  },
  {
   "cell_type": "code",
   "execution_count": null,
   "id": "15919bca-fadd-4dbf-a23b-e1d04e501b8a",
   "metadata": {},
   "outputs": [],
   "source": [
    "files_to_delete = ['visual_genome_2405738.jpg', 'visual_genome_2392290.jpg', 'visual_genome_2378149.jpg',\n",
    "                  'visual_genome_109.jpg','visual_genome_126.jpg', 'visual_genome_653.jpg', 'visual_genome_141.jpg']"
   ]
  },
  {
   "cell_type": "code",
   "execution_count": null,
   "id": "4bad9cf2-652c-40e5-bf06-b9f8fe1fd2b5",
   "metadata": {},
   "outputs": [],
   "source": []
  },
  {
   "cell_type": "code",
   "execution_count": null,
   "id": "f3e5c0b4-9ac6-4c24-b051-17135db16f1e",
   "metadata": {},
   "outputs": [],
   "source": [
    "def delete_files_by_id(data_path, identifier, file_extension, id_end=True):\n",
    "   \"\"\"\n",
    "   Delete files by identifier.\n",
    "   \n",
    "   Args:\n",
    "       data_path: Path to directory containing files\n",
    "       identifier: Integer identifier to search for\n",
    "       file_extension: File extension (e.g., '.txt', '.jpg')\n",
    "       id_end: If True (default), delete only files with ID at end.\n",
    "               If False, delete files with ID surrounded by underscores.\n",
    "   \"\"\"\n",
    "   import os\n",
    "   \n",
    "   def get_file_by_id(data_path, identifier, file_extension):\n",
    "       filenames = []\n",
    "       identifier_underlines = '_' + str(identifier) + '_'\n",
    "       identifier_end = '_' + str(identifier) + '.'\n",
    "       for file in os.listdir(str(data_path)):\n",
    "           id_underline_bool = identifier_underlines in file\n",
    "           id_end_bool = identifier_end in file\n",
    "           id_bool = id_underline_bool or id_end_bool\n",
    "           file_ext_bool = file.endswith(file_extension)\n",
    "           if id_bool and file_ext_bool:\n",
    "               filenames.append(file)\n",
    "       return filenames\n",
    "   \n",
    "   # Get all matching files\n",
    "   files = get_file_by_id(data_path, identifier, file_extension)\n",
    "   \n",
    "   # Filter based on id_end parameter\n",
    "   if id_end:\n",
    "       filtered_files = [f for f in files if f.endswith(f'_{identifier}{file_extension}')]\n",
    "   else:\n",
    "       filtered_files = [f for f in files if f'_{identifier}_' in f]\n",
    "   \n",
    "   # Delete filtered files\n",
    "   deleted_count = 0\n",
    "   for filename in filtered_files:\n",
    "       file_path = os.path.join(data_path, filename)\n",
    "       try:\n",
    "           os.remove(file_path)\n",
    "           print(f\"Deleted: {filename}\")\n",
    "           deleted_count += 1\n",
    "       except OSError as e:\n",
    "           print(f\"Error deleting {filename}: {e}\")\n",
    "   \n",
    "   print(f\"Deleted {deleted_count} files\")\n",
    "   return deleted_count\n",
    "\n",
    "# Usage:\n",
    "# delete_files_by_id('/path/to/files', 2324505, '.txt')  # Delete files ending with _2324505.txt"
   ]
  },
  {
   "cell_type": "code",
   "execution_count": null,
   "id": "25b7ff0b-3f7b-4c0d-80a3-a6cd514e1a8b",
   "metadata": {},
   "outputs": [],
   "source": [
    "for file_to_delete in files_to_delete:\n",
    "    end_part = file_to_delete.split('_')[-1].split('.')[0]\n",
    "    print(end_part)\n",
    "    delete_files_by_id(data_path, int(end_part), '.jpg')"
   ]
  },
  {
   "cell_type": "code",
   "execution_count": null,
   "id": "a2271c97-4287-4278-857e-e4e43464233e",
   "metadata": {},
   "outputs": [],
   "source": []
  }
 ],
 "metadata": {
  "kernelspec": {
   "display_name": "Python 3 (ipykernel)",
   "language": "python",
   "name": "python3"
  },
  "language_info": {
   "codemirror_mode": {
    "name": "ipython",
    "version": 3
   },
   "file_extension": ".py",
   "mimetype": "text/x-python",
   "name": "python",
   "nbconvert_exporter": "python",
   "pygments_lexer": "ipython3",
   "version": "3.12.5"
  }
 },
 "nbformat": 4,
 "nbformat_minor": 5
}
