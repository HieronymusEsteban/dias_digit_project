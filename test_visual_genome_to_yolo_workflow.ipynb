{
 "cells": [
  {
   "cell_type": "code",
   "execution_count": null,
   "id": "dec97a58-207d-41dd-be35-1131e3940a8a",
   "metadata": {},
   "outputs": [],
   "source": [
    "import os\n",
    "from pathlib import Path\n",
    "from PIL import Image"
   ]
  },
  {
   "cell_type": "code",
   "execution_count": null,
   "id": "74379923-3ad0-4904-ab85-40011d7303db",
   "metadata": {},
   "outputs": [],
   "source": [
    "from source.visual_genome_meta_data import read_json_to_dict\n",
    "from source.visual_genome_meta_data import get_image_meta_data\n",
    "from source.visual_genome_meta_data import count_occurrences\n",
    "from source.visual_genome_to_yolo import create_class_mapping_from_list\n",
    "from source.visual_genome_to_yolo import save_class_map_to_yaml\n",
    "from source.visual_genome_to_yolo import convert_single_image_to_yolo\n",
    "from source.visual_genome_to_yolo import read_yaml_to_class_map\n",
    "from source.visual_genome_to_yolo import read_yolo_metadata\n",
    "# from source.visual_genome_to_yolo import visual_genome_to_yolo_data\n",
    "from source.visual_genome_to_yolo import visual_genome_to_yolo_data_n\n",
    "from source.visual_genome_meta_data import plot_image_with_multiple_bboxes\n",
    "from source.visual_genome_meta_data import get_image_ids\n",
    "from source.yolo_training_structure import distribute_train_val_files as dist_train_val\n"
   ]
  },
  {
   "cell_type": "raw",
   "id": "5df3b61f-043e-4ad7-903b-2b3e427c1fb7",
   "metadata": {},
   "source": [
    "def visual_genome_to_yolo_data_n(objects_and_ids, paths, class_map, with_class = True,\n",
    "                              number_of_images = None):\n",
    "    image_counter = 0\n",
    "    \n",
    "    data_path, yolo_path = paths\n",
    "\n",
    "    objects, desired_objects, img_id_list = objects_and_ids\n",
    "    \n",
    "    desired_img_ids = []\n",
    "    \n",
    "    label_paths = []\n",
    "    \n",
    "    occurrence_counts = dict.fromkeys(desired_objects, 0)\n",
    "    \n",
    "    \n",
    "    for idx in list(range(len(objects))):\n",
    "    \n",
    "        if objects[idx]['image_id'] == 1001:\n",
    "            continue\n",
    "    \n",
    "        names = []\n",
    "        for idx_obj in list(range(len(objects[idx]['objects']))):\n",
    "            name = objects[idx]['objects'][idx_obj]['names']\n",
    "            #print(name)\n",
    "            names.extend(name)\n",
    "        #print(names)  \n",
    "        #print('trees' in names)\n",
    "        \n",
    "        if ('image_url' not in list(objects[idx].keys())):\n",
    "            continue\n",
    "    \n",
    "        image_id = objects[idx]['image_id']\n",
    "        #print('\\n')\n",
    "        #print(image_id)\n",
    "        #print(type(image_id))\n",
    "        #count_occurrences(occurrence_counts, names)\n",
    "        inter_set = set(desired_objects).intersection(set(names))\n",
    "        if with_class:\n",
    "            object_condition = (len(inter_set) > 0)\n",
    "        else:\n",
    "            object_condition = (len(inter_set) == 0)\n",
    "        #print('\\n')\n",
    "        #print(inter_set)\n",
    "        if object_condition & (image_id in img_id_list): \n",
    "        #    print('\\n')\n",
    "        #    print('image id:')\n",
    "        #    print(objects[idx]['image_id'])\n",
    "           #print('\\n')\n",
    "           #print('inter_set:')\n",
    "           #print(inter_set)\n",
    "           #print(len(inter_set))\n",
    "           #print('names')\n",
    "           #print(names)\n",
    "           #print('\\n')\n",
    "           #print('image url:')\n",
    "           #print(im_url)\n",
    "           count_occurrences(occurrence_counts, names)\n",
    "           image_dir = str(data_path) + '/'\n",
    "           output_dir = str(yolo_path)\n",
    "           img_data = get_image_meta_data(objects, image_id)\n",
    "           # print(img_data['image_id'])\n",
    "           desired_img_ids.append(image_id)\n",
    "            \n",
    "            #label_path = convert_single_image_to_yolo(objects[0], class_map, image_dir, output_dir)\n",
    "           label_path = convert_single_image_to_yolo(img_data, class_map, image_dir, output_dir)\n",
    "           label_paths.append(label_path)\n",
    "\n",
    "           image_counter += 1\n",
    "        if image_counter == number_of_images:\n",
    "            break\n",
    "    return label_paths, occurrence_counts"
   ]
  },
  {
   "cell_type": "code",
   "execution_count": null,
   "id": "adebc5b8-12d2-4b2d-a066-14b10222bbb8",
   "metadata": {},
   "outputs": [],
   "source": []
  },
  {
   "cell_type": "markdown",
   "id": "a1133cee-32e8-4359-b1c8-b2281c6c3d8d",
   "metadata": {},
   "source": [
    "## Test the visual genome to yolo workflow\n",
    "#### 1. Load meta data\n",
    "#### 2. Make class map for desired object class (mapping object class name to number)\n",
    "#### 3. Save class map in yolo compatible format\n",
    "#### 4. Reload meta data from yolo compatible class map file\n",
    "#### 5. Save meta data about desired object class in yolo compatible meta data files (for images without desired object class the file is empty)\n",
    "#### 6. Plot images with desired object class with corresponding bounding boxes (based on class map and meta data files)\n",
    "#### 7. Check if objects of desired object class have appropriate bounding boxes"
   ]
  },
  {
   "cell_type": "code",
   "execution_count": null,
   "id": "4e23d8d2-9587-4769-ae65-cab87e900741",
   "metadata": {},
   "outputs": [],
   "source": []
  },
  {
   "cell_type": "markdown",
   "id": "02d96e0b-2eaa-458f-b17e-9ff2d7d58e64",
   "metadata": {},
   "source": [
    "### 1. Load data about desired object class"
   ]
  },
  {
   "cell_type": "markdown",
   "id": "dc747ce4-3f11-49b5-9d69-cd5e80a2b03d",
   "metadata": {},
   "source": [
    "#### Define paths: "
   ]
  },
  {
   "cell_type": "code",
   "execution_count": null,
   "id": "f49f0dc7-aadf-47c3-9d7a-7811b695364c",
   "metadata": {},
   "outputs": [],
   "source": [
    "root_path = Path('/Users/stephanehess/Documents/CAS_AML/dias_digit_project')\n",
    "data_path = root_path / 'test_visual_genome'\n",
    "yolo_path = root_path / 'test_visual_genome_yolo'\n",
    "file_path = data_path/'objects_entire.json'"
   ]
  },
  {
   "cell_type": "markdown",
   "id": "ce525404-23c9-4949-a97d-095a66a5ac37",
   "metadata": {},
   "source": [
    "#### Read in objects file with meta data about visual genome data: "
   ]
  },
  {
   "cell_type": "code",
   "execution_count": null,
   "id": "23cdad0b-02bb-4009-b078-eec600d79e4e",
   "metadata": {},
   "outputs": [],
   "source": [
    "objects = read_json_to_dict(file_path)"
   ]
  },
  {
   "cell_type": "code",
   "execution_count": null,
   "id": "a466e1ab-3553-4f0f-b5fe-ccc834425962",
   "metadata": {},
   "outputs": [],
   "source": [
    "len(objects)"
   ]
  },
  {
   "cell_type": "code",
   "execution_count": null,
   "id": "4deb3d4d-95c4-4895-a492-78eda4635556",
   "metadata": {},
   "outputs": [],
   "source": [
    "#objects"
   ]
  },
  {
   "cell_type": "markdown",
   "id": "28d482a4-18e4-46df-9330-eba87a9ca925",
   "metadata": {},
   "source": [
    "#### Get image identifiers: "
   ]
  },
  {
   "cell_type": "code",
   "execution_count": null,
   "id": "d860b1b3-0f38-42cf-b2d4-e36597bd91ee",
   "metadata": {},
   "outputs": [],
   "source": [
    "image_id_list = get_image_ids(data_path)\n",
    "image_id_list.sort()\n",
    "len(image_id_list)"
   ]
  },
  {
   "cell_type": "code",
   "execution_count": null,
   "id": "d7805fe7-a434-4775-a579-360c28cf0810",
   "metadata": {},
   "outputs": [],
   "source": [
    "image_id_list[0:3]"
   ]
  },
  {
   "cell_type": "markdown",
   "id": "eab32022-6529-43ed-a528-ee1a972676f0",
   "metadata": {},
   "source": [
    "### 2. Put meta data about desired object class into class map"
   ]
  },
  {
   "cell_type": "markdown",
   "id": "8094fb14-fe0c-4a1a-b069-1c09bc7fc7b7",
   "metadata": {},
   "source": [
    "#### Choose the desired object class:"
   ]
  },
  {
   "cell_type": "code",
   "execution_count": null,
   "id": "1af7a288-183e-404c-bbdb-0c54b9a439db",
   "metadata": {},
   "outputs": [],
   "source": [
    "\n",
    "desired_objects = ['man']\n",
    "\n",
    "desired_objects"
   ]
  },
  {
   "cell_type": "markdown",
   "id": "c3b5ee5e-b9ab-47a8-902e-0355b78b7ff9",
   "metadata": {},
   "source": [
    "#### Create class map based on desired objects: "
   ]
  },
  {
   "cell_type": "code",
   "execution_count": null,
   "id": "a749c35a-79a3-4d33-bb67-897af6efb091",
   "metadata": {},
   "outputs": [],
   "source": [
    "class_map = create_class_mapping_from_list(desired_objects)"
   ]
  },
  {
   "cell_type": "code",
   "execution_count": null,
   "id": "d529143a-1794-42e0-868c-276b4c02e308",
   "metadata": {},
   "outputs": [],
   "source": [
    "class_map"
   ]
  },
  {
   "cell_type": "markdown",
   "id": "59c29ec1-1fbe-40f4-a978-cd4563182f61",
   "metadata": {},
   "source": [
    "### 3. Save class map in yolo compatible format"
   ]
  },
  {
   "cell_type": "code",
   "execution_count": null,
   "id": "a28ced4f-0ce2-4e7e-99fc-c0d2c14b0d4b",
   "metadata": {},
   "outputs": [],
   "source": [
    "\n",
    "file_path = str(yolo_path) + '/'\n",
    "\n",
    "output_path = file_path + 'class_map.yaml'\n",
    "save_class_map_to_yaml(class_map, output_path)"
   ]
  },
  {
   "cell_type": "markdown",
   "id": "cbe63d2a-1cb2-4103-ae7b-cea5d9126750",
   "metadata": {},
   "source": [
    "### 4. Reload meta data from yolo compatible class map file"
   ]
  },
  {
   "cell_type": "code",
   "execution_count": null,
   "id": "1522ff2f-044d-4f93-b4ac-738ce4254cc0",
   "metadata": {},
   "outputs": [],
   "source": [
    "file_list = os.listdir(yolo_path)\n",
    "for filename in file_list:\n",
    "    if filename.split('_')[-1] == 'map.yaml':\n",
    "        yaml_file_name = filename\n",
    "yaml_file_name"
   ]
  },
  {
   "cell_type": "code",
   "execution_count": null,
   "id": "585de55f-bde9-4042-848f-d905c379b7ba",
   "metadata": {},
   "outputs": [],
   "source": [
    "yaml_path = yolo_path/yaml_file_name\n",
    "\n",
    "class_map = read_yaml_to_class_map(str(yaml_path))\n"
   ]
  },
  {
   "cell_type": "markdown",
   "id": "c31123a8-fb55-40de-b06b-afd440b1cf7f",
   "metadata": {},
   "source": [
    "#### Check content of class_map.yaml file:"
   ]
  },
  {
   "cell_type": "code",
   "execution_count": null,
   "id": "ff8767bd-a67e-4cd4-aed9-e8adc39f8332",
   "metadata": {},
   "outputs": [],
   "source": [
    "\n",
    "# Print the class mapping\n",
    "print(class_map)"
   ]
  },
  {
   "cell_type": "code",
   "execution_count": null,
   "id": "22ada098-9fb0-4dda-a5be-3a3558604d05",
   "metadata": {},
   "outputs": [],
   "source": [
    "#convert_single_image_to_yolo(objects[0], class_map, data_path, yolo_path)"
   ]
  },
  {
   "cell_type": "markdown",
   "id": "0900bc5b-c0d0-4d57-9a93-8bbd1b8b0c87",
   "metadata": {},
   "source": [
    "### 5. Save meta data about desired object class in yolo compatible meta data files"
   ]
  },
  {
   "cell_type": "markdown",
   "id": "d5d3dec1-aa40-418a-bc23-bbcc3fe1cc34",
   "metadata": {},
   "source": [
    "#### The yolo compatible meta data files have to contain bounding box information for images containing the desired object:"
   ]
  },
  {
   "cell_type": "code",
   "execution_count": null,
   "id": "29356f11-4b63-4a0c-8b1c-f638e27ac75b",
   "metadata": {},
   "outputs": [],
   "source": [
    "len(objects)"
   ]
  },
  {
   "cell_type": "markdown",
   "id": "d60bbf21-8f0c-411d-af14-c12a415fe27f",
   "metadata": {},
   "source": [
    "#### Prepare input for visual_genome_to_yolo_data function:"
   ]
  },
  {
   "cell_type": "code",
   "execution_count": null,
   "id": "acaf0e99-d7e1-4b2d-bcb0-a7c75fa4db52",
   "metadata": {},
   "outputs": [],
   "source": [
    "objects_and_ids = (objects, desired_objects, image_id_list)\n",
    "# objects: contains meta data about all visual genome images.\n",
    "# desired_objects: list of desired object classes\n",
    "# image_id_list: list of ids designating selection of images containing the desired object class\n",
    "# among the images in the test_visual_genome directory (i.e. not all the visual genome images with the\n",
    "# desired object class).\n",
    "\n",
    "paths = (data_path, yolo_path)\n",
    "# data_path: path to directory containing images.\n",
    "# yolo_path: path to directory where the yolo compatible meta data files are going to be saved."
   ]
  },
  {
   "cell_type": "code",
   "execution_count": null,
   "id": "27ea4d4f-bfd4-4e3d-a97b-56431d984195",
   "metadata": {},
   "outputs": [],
   "source": [
    "\n",
    "objects_and_ids = (objects, desired_objects, image_id_list)\n",
    "paths = (data_path, yolo_path)\n",
    "\n",
    "#label_paths_w, occurrence_counts = visual_genome_to_yolo_data(objects_and_ids, paths, class_map)\n",
    "#len(label_paths_w)\n",
    "\n",
    "label_paths_w, occurrence_counts = visual_genome_to_yolo_data_n(objects_and_ids, paths, class_map)\n",
    "len(label_paths_w)"
   ]
  },
  {
   "cell_type": "code",
   "execution_count": null,
   "id": "32f97925-a90c-4915-b33f-73ca60fe13c5",
   "metadata": {},
   "outputs": [],
   "source": [
    "occurrence_counts"
   ]
  },
  {
   "cell_type": "code",
   "execution_count": null,
   "id": "2ed6c8d3-efdf-4a54-b959-a33c5da1e0e1",
   "metadata": {},
   "outputs": [],
   "source": [
    "label_paths_w[0:3]"
   ]
  },
  {
   "cell_type": "code",
   "execution_count": null,
   "id": "23ebcbfd-d082-42e6-bf2a-916fc377f394",
   "metadata": {},
   "outputs": [],
   "source": [
    "class_map"
   ]
  },
  {
   "cell_type": "code",
   "execution_count": null,
   "id": "a4a575b0-66d7-4778-988d-f85ff0cadc5d",
   "metadata": {},
   "outputs": [],
   "source": [
    "occurrence_counts"
   ]
  },
  {
   "cell_type": "markdown",
   "id": "0d2732ab-c3ff-435e-833c-53cac394c3a4",
   "metadata": {},
   "source": [
    "#### Get number of required images without desired object for balanced data set:"
   ]
  },
  {
   "cell_type": "code",
   "execution_count": null,
   "id": "a51904c7-ef0f-448a-b9f1-1a87913dcc4d",
   "metadata": {},
   "outputs": [],
   "source": [
    "desired_objects"
   ]
  },
  {
   "cell_type": "code",
   "execution_count": null,
   "id": "d994510c-5f00-4355-b47d-57e540ddd045",
   "metadata": {},
   "outputs": [],
   "source": [
    "desired_objects[0]"
   ]
  },
  {
   "cell_type": "code",
   "execution_count": null,
   "id": "48c03467-ce62-402e-9fa2-7f4ca4f0b984",
   "metadata": {},
   "outputs": [],
   "source": [
    "if len(desired_objects) == 1:\n",
    "    number_occurrences = occurrence_counts[desired_objects[0]]\n",
    "    print(number_occurrences)\n",
    "else:\n",
    "    number_occurrences = 'No unique answer: more than one desired objects!'\n",
    "    print(number_occurrences)"
   ]
  },
  {
   "cell_type": "code",
   "execution_count": null,
   "id": "86a7ae61-7b31-41d0-bcc1-5bf85026ab59",
   "metadata": {},
   "outputs": [],
   "source": [
    "number_images_without = round((number_occurrences/100) * 30)\n",
    "number_images_without"
   ]
  },
  {
   "cell_type": "markdown",
   "id": "184e094c-ba7d-4c20-8d61-dfb3ac368a38",
   "metadata": {},
   "source": [
    "#### Create meta data text files for images without desired object:"
   ]
  },
  {
   "cell_type": "code",
   "execution_count": null,
   "id": "67a2f704-13c6-4baa-877e-ffa931ce3b90",
   "metadata": {},
   "outputs": [],
   "source": [
    "label_paths_n, occurrence_counts = visual_genome_to_yolo_data_n(objects_and_ids, paths, class_map,\n",
    "                                                           with_class = False, number_of_images = number_images_without)\n",
    "len(label_paths_n)"
   ]
  },
  {
   "cell_type": "code",
   "execution_count": null,
   "id": "53237ab4-365e-4146-991e-df19a7607c3b",
   "metadata": {},
   "outputs": [],
   "source": [
    "label_paths_n[0:3]"
   ]
  },
  {
   "cell_type": "code",
   "execution_count": null,
   "id": "c1e23733-183a-4391-90ba-c76fb59a1bd5",
   "metadata": {},
   "outputs": [],
   "source": []
  },
  {
   "cell_type": "markdown",
   "id": "a45acaa6-1d9b-4c71-8292-a92a92e2e8f3",
   "metadata": {},
   "source": [
    "#### Have a look at the numbers of files with and without desired object:"
   ]
  },
  {
   "cell_type": "code",
   "execution_count": null,
   "id": "24c76f14-778e-457d-b134-f0f5d35bba4b",
   "metadata": {},
   "outputs": [],
   "source": [
    "# Paths to label files with desired objects:\n",
    "print(type(label_paths_w))\n",
    "print(len(label_paths_w))\n",
    "# Paths to label files without desired objects: \n",
    "print(type(label_paths_n))\n",
    "print(len(label_paths_n))"
   ]
  },
  {
   "cell_type": "code",
   "execution_count": null,
   "id": "00f00005-7ecc-409a-b2fe-c17bbe7232ac",
   "metadata": {},
   "outputs": [],
   "source": [
    "label_paths = label_paths_w + label_paths_n\n",
    "len(label_paths)"
   ]
  },
  {
   "cell_type": "markdown",
   "id": "7c901a54-46ee-4252-8f96-f6a0d3cf86fa",
   "metadata": {},
   "source": [
    "### 6. Plot selected images (with and without desired object class) and use class_map file to plot bounding boxes:"
   ]
  },
  {
   "cell_type": "code",
   "execution_count": null,
   "id": "b27d0da1-e298-49f3-91a9-49c6b665b212",
   "metadata": {},
   "outputs": [],
   "source": [
    "for label_path in label_paths:\n",
    "    print(label_path)\n",
    "    img_id = label_path.split('_')[-1].split('.')[0]\n",
    "    print(img_id)\n",
    "    \n",
    "    labels, bboxes = read_yolo_metadata(label_path, class_map)\n",
    "    class_names = list(labels)\n",
    "    image_path_gen = data_path/'visual_genome_'\n",
    "    image_path = str(image_path_gen) + str(img_id) + '.jpg'\n",
    "    print(image_path)\n",
    "    plot_image_with_multiple_bboxes(image_path, bboxes, class_names)\n",
    "    "
   ]
  },
  {
   "cell_type": "code",
   "execution_count": null,
   "id": "11096246-d176-417a-b86f-cf8dcc8ebc80",
   "metadata": {},
   "outputs": [],
   "source": []
  },
  {
   "cell_type": "markdown",
   "id": "3dea4661-5162-44ea-9b3f-7e6449fa1f2b",
   "metadata": {},
   "source": [
    "### 7. The two images containing the desired object class were correctly selected, one image without desired object class was correctly selected, bounding boxes were correctly placed around desired objects."
   ]
  },
  {
   "cell_type": "code",
   "execution_count": null,
   "id": "bbaac1ca-568b-4129-8631-ce133c42338f",
   "metadata": {},
   "outputs": [],
   "source": []
  },
  {
   "cell_type": "code",
   "execution_count": null,
   "id": "8ffe9257-5ac8-4f06-802b-ead346822689",
   "metadata": {},
   "outputs": [],
   "source": []
  },
  {
   "cell_type": "markdown",
   "id": "d93b53d6-83bc-4d30-80ae-ae3472cda919",
   "metadata": {},
   "source": [
    "## Test conversion to yolo compatible structure for one single image"
   ]
  },
  {
   "cell_type": "code",
   "execution_count": null,
   "id": "b78dd0e7-3fec-4bdb-8a35-dc75a9962758",
   "metadata": {},
   "outputs": [],
   "source": [
    "len(objects[0]['objects'])"
   ]
  },
  {
   "cell_type": "code",
   "execution_count": null,
   "id": "3c7d711b-03e1-4142-981e-67baf27bca57",
   "metadata": {},
   "outputs": [],
   "source": [
    "obj_list = [objects[0]['objects'][idx]['names'][0] for idx in range(0, len(objects[0]['objects']))]\n",
    "obj_list[0:3]"
   ]
  },
  {
   "cell_type": "code",
   "execution_count": null,
   "id": "e768c31d-0470-400d-b98d-c78f8f44b954",
   "metadata": {},
   "outputs": [],
   "source": [
    "len(obj_list)"
   ]
  },
  {
   "cell_type": "code",
   "execution_count": null,
   "id": "b40ed31f-7520-4ca1-8135-423ed31cd1f9",
   "metadata": {},
   "outputs": [],
   "source": [
    "obj_list.sort()\n",
    "obj_list"
   ]
  },
  {
   "cell_type": "code",
   "execution_count": null,
   "id": "e1c03476-7fe7-41ca-8e23-f602edd5406d",
   "metadata": {},
   "outputs": [],
   "source": [
    "#desired_objects = obj_list[0:7]\n",
    "desired_objects = ['shirt']"
   ]
  },
  {
   "cell_type": "code",
   "execution_count": null,
   "id": "476f208f-31e4-4e9e-b343-fe495c39c0b1",
   "metadata": {},
   "outputs": [],
   "source": [
    "obj_list.count('shirt')"
   ]
  },
  {
   "cell_type": "code",
   "execution_count": null,
   "id": "73a85027-7165-4d38-b4d0-c1a4cac9588b",
   "metadata": {},
   "outputs": [],
   "source": [
    "class_map = create_class_mapping_from_list(desired_objects)"
   ]
  },
  {
   "cell_type": "code",
   "execution_count": null,
   "id": "63c66d2d-92d8-4eac-b182-7e9fa8cbe392",
   "metadata": {},
   "outputs": [],
   "source": [
    "class_map"
   ]
  },
  {
   "cell_type": "code",
   "execution_count": null,
   "id": "30ac9a56-fa69-480b-8b69-ed58e7a03f3b",
   "metadata": {},
   "outputs": [],
   "source": []
  },
  {
   "cell_type": "code",
   "execution_count": null,
   "id": "594c76f4-a011-40cb-a200-5d39b905592d",
   "metadata": {},
   "outputs": [],
   "source": [
    "image_dir = data_path/'convert_single_img_test'\n",
    "output_dir = yolo_path/'convert_single_img_test'"
   ]
  },
  {
   "cell_type": "code",
   "execution_count": null,
   "id": "52e11c87-b6a2-4052-b3af-00c58c75199d",
   "metadata": {},
   "outputs": [],
   "source": []
  },
  {
   "cell_type": "code",
   "execution_count": null,
   "id": "6e98d46e-df69-46c3-b606-341c5d10a950",
   "metadata": {},
   "outputs": [],
   "source": [
    "label_path = convert_single_image_to_yolo(objects[0], class_map, image_dir, output_dir)"
   ]
  },
  {
   "cell_type": "code",
   "execution_count": null,
   "id": "0e17bf7e-01fb-4057-9594-f7ff74c2c5b6",
   "metadata": {},
   "outputs": [],
   "source": [
    "label_paths = [label_path]"
   ]
  },
  {
   "cell_type": "code",
   "execution_count": null,
   "id": "d80cb815-179e-4abe-8d96-5e317a968f00",
   "metadata": {},
   "outputs": [],
   "source": [
    "for label_path in label_paths:\n",
    "    print(label_path)\n",
    "    img_id = label_path.split('_')[-1].split('.')[0]\n",
    "    print(img_id)\n",
    "    \n",
    "    labels, bboxes = read_yolo_metadata(label_path, class_map)\n",
    "    class_names = list(labels)\n",
    "    image_path_gen = data_path/'visual_genome_'\n",
    "    image_path = str(image_path_gen) + str(img_id) + '.jpg'\n",
    "    print(image_path)\n",
    "    plot_image_with_multiple_bboxes(image_path, bboxes, class_names)"
   ]
  },
  {
   "cell_type": "code",
   "execution_count": null,
   "id": "e59e70c5-95c7-4925-ba75-bc8fcf4ca78d",
   "metadata": {},
   "outputs": [],
   "source": []
  },
  {
   "cell_type": "code",
   "execution_count": null,
   "id": "495cf7d3-17da-41b6-b618-2f5ec9230804",
   "metadata": {},
   "outputs": [],
   "source": [
    "file_path = output_dir/'visual_genome_1.txt'\n",
    "\n",
    "with open(file_path, 'r') as f:\n",
    "   lines = f.readlines()"
   ]
  },
  {
   "cell_type": "code",
   "execution_count": null,
   "id": "4bf26e9a-fa02-4521-abf3-491af5348c2f",
   "metadata": {},
   "outputs": [],
   "source": [
    "lines"
   ]
  },
  {
   "cell_type": "code",
   "execution_count": null,
   "id": "2dbb8977-9828-47d5-88b4-fec4ef22d89d",
   "metadata": {},
   "outputs": [],
   "source": [
    "type(lines)"
   ]
  },
  {
   "cell_type": "code",
   "execution_count": null,
   "id": "49b0315a-1a78-442c-86ff-774f7ad1b82b",
   "metadata": {},
   "outputs": [],
   "source": [
    "len(lines)"
   ]
  },
  {
   "cell_type": "code",
   "execution_count": null,
   "id": "315720ea-617c-4f20-8f82-e647490954fb",
   "metadata": {},
   "outputs": [],
   "source": []
  },
  {
   "cell_type": "code",
   "execution_count": null,
   "id": "a7fac4c8-b47f-4940-b8c5-92fcdfb84411",
   "metadata": {},
   "outputs": [],
   "source": []
  },
  {
   "cell_type": "code",
   "execution_count": null,
   "id": "8898847f-14d7-4584-9ca0-fcffa0178d56",
   "metadata": {},
   "outputs": [],
   "source": []
  }
 ],
 "metadata": {
  "kernelspec": {
   "display_name": "Python 3 (ipykernel)",
   "language": "python",
   "name": "python3"
  },
  "language_info": {
   "codemirror_mode": {
    "name": "ipython",
    "version": 3
   },
   "file_extension": ".py",
   "mimetype": "text/x-python",
   "name": "python",
   "nbconvert_exporter": "python",
   "pygments_lexer": "ipython3",
   "version": "3.12.5"
  }
 },
 "nbformat": 4,
 "nbformat_minor": 5
}
