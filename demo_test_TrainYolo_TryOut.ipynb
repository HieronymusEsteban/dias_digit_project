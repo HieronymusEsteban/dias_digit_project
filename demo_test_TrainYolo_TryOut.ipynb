{
 "cells": [
  {
   "cell_type": "code",
   "execution_count": null,
   "id": "ea044f75-a73a-4195-b899-10c09f1866b7",
   "metadata": {},
   "outputs": [],
   "source": [
    "import os\n",
    "from ultralytics import YOLO\n",
    "import yaml\n",
    "from pathlib import Path\n",
    "import matplotlib.pyplot as plt\n",
    "import matplotlib.patches as patches\n",
    "from PIL import Image\n",
    "import numpy as np\n",
    "from source.visual_genome_meta_data import read_json_to_dict\n",
    "from source.visual_genome_meta_data import get_image_meta_data\n",
    "from source.visual_genome_data import count_occurrences\n",
    "from source.visual_genome_to_yolo import create_class_mapping_from_list\n",
    "from source.visual_genome_to_yolo import save_class_map_to_yaml\n",
    "from source.visual_genome_to_yolo import convert_single_image_to_yolo\n",
    "from source.visual_genome_to_yolo import read_yaml_to_class_map\n",
    "from source.visual_genome_to_yolo import read_yolo_metadata\n",
    "from source.visual_genome_to_yolo import visual_genome_to_yolo_data_n\n",
    "from source.visual_genome_meta_data import plot_image_with_multiple_bboxes\n",
    "from source.visual_genome_data import get_image_ids"
   ]
  },
  {
   "cell_type": "code",
   "execution_count": null,
   "id": "62daa60f-ce53-4b52-a71b-950fb050c915",
   "metadata": {},
   "outputs": [],
   "source": [
    "from PIL import Image"
   ]
  },
  {
   "cell_type": "code",
   "execution_count": null,
   "id": "0900b860-c9d9-449d-851f-cfa9ded17f5e",
   "metadata": {},
   "outputs": [],
   "source": [
    "def train_yolo_on_single_class(\n",
    "    data_dir,          # Directory with your dataset\n",
    "    class_yaml_path,   # Path to your class_map.yaml file\n",
    "    target_class,      # The single class to train on (e.g., 'mountain')\n",
    "    output_dir,        # Directory to save results\n",
    "    epochs=50,         # Number of training epochs\n",
    "    img_size=640,      # Input image size\n",
    "    batch_size=16,     # Batch size\n",
    "    device=None        # Device for training - will auto-select MPS if available\n",
    "):\n",
    "    \"\"\"\n",
    "    Train YOLO v11 on a single class from your dataset using M1 Mac's MPS acceleration.\n",
    "    \"\"\"\n",
    "    import os\n",
    "    import yaml\n",
    "    import torch\n",
    "    from ultralytics import YOLO  # Assuming this is the import for YOLOv11\n",
    "    \n",
    "    # Auto-select the best available device with priority for MPS on Mac\n",
    "    if device is None:\n",
    "        if torch.backends.mps.is_available():\n",
    "            device = 'mps'\n",
    "            print(f\"Using MPS acceleration on Apple Silicon\")\n",
    "        elif torch.cuda.is_available():\n",
    "            device = 'cuda'\n",
    "            print(f\"Using CUDA acceleration\")\n",
    "        else:\n",
    "            device = 'cpu'\n",
    "            print(f\"Using CPU for training (this will be slow)\")\n",
    "    \n",
    "    # Ensure output directory exists\n",
    "    os.makedirs(output_dir, exist_ok=True)\n",
    "    \n",
    "    # 1. Load the full class map\n",
    "    with open(class_yaml_path, 'r') as f:\n",
    "        class_data = yaml.safe_load(f)\n",
    "    \n",
    "    # Find the index of the target class\n",
    "    all_classes = class_data['names']\n",
    "    if target_class not in all_classes:\n",
    "        raise ValueError(f\"Class '{target_class}' not found in class map. Available classes: {all_classes}\")\n",
    "    \n",
    "    target_class_id = all_classes.index(target_class)\n",
    "    print(f\"Training on class: {target_class} (class_id: {target_class_id})\")\n",
    "    \n",
    "    # 2. Create a new YAML file for single-class training\n",
    "    single_class_yaml = os.path.join(output_dir, f\"single_class_{target_class}.yaml\")\n",
    "    \n",
    "    # Update dataset configuration\n",
    "    train_path = os.path.join(data_dir, 'train/images')\n",
    "    val_path = os.path.join(data_dir, 'val/images')\n",
    "    \n",
    "    single_class_config = {\n",
    "        'path': os.path.abspath(data_dir),\n",
    "        'train': 'train/images',\n",
    "        'val': 'val/images',\n",
    "        'nc': 1,  # Just one class\n",
    "        'names': [target_class]  # Only the target class\n",
    "    }\n",
    "    \n",
    "    with open(single_class_yaml, 'w') as f:\n",
    "        yaml.dump(single_class_config, f)\n",
    "    \n",
    "    print(f\"Created single-class configuration at: {single_class_yaml}\")\n",
    "    \n",
    "    # 3. Initialize YOLO model\n",
    "    model = YOLO(\"yolo11n.pt\")  # Using YOLOv11 nano (smallest model)\n",
    "    \n",
    "    # 4. Train the model with MPS-specific configurations\n",
    "    results = model.train(\n",
    "        data=single_class_yaml,\n",
    "        epochs=epochs,\n",
    "        imgsz=img_size,\n",
    "        batch=batch_size,\n",
    "        project=output_dir,\n",
    "        name=f\"yolov11_{target_class}\",\n",
    "        exist_ok=True,\n",
    "        patience=0,  # Early stopping\n",
    "        verbose=True,\n",
    "        device=device,  # Specify device for training\n",
    "        amp=True       # Enable mixed precision training (improves performance on M1/M2)\n",
    "    )\n",
    "    \n",
    "    print(f\"Training completed. Model saved to {output_dir}/yolov11_{target_class}\")\n",
    "    return results"
   ]
  },
  {
   "cell_type": "code",
   "execution_count": null,
   "id": "d9320f38-3fc5-4498-b98a-7e98025bd557",
   "metadata": {},
   "outputs": [],
   "source": [
    "#model = YOLO('yolov8n.pt')"
   ]
  },
  {
   "cell_type": "code",
   "execution_count": null,
   "id": "2c002319-0e0a-41ec-a45b-e1f461d27099",
   "metadata": {},
   "outputs": [],
   "source": []
  },
  {
   "cell_type": "code",
   "execution_count": null,
   "id": "79b414bf-8d47-4d18-ac34-605972207067",
   "metadata": {},
   "outputs": [],
   "source": [
    "def test_and_plot_yolo_model(model_path, test_images_dir, output_dir=None, conf_threshold=0.3):\n",
    "   \"\"\"\n",
    "   Test YOLO model and plot results with bounding boxes.\n",
    "   Combines testing metrics with visual plotting.\n",
    "   \"\"\"\n",
    "   import os\n",
    "   import glob\n",
    "   import matplotlib.pyplot as plt\n",
    "   import matplotlib.patches as patches\n",
    "   import numpy as np\n",
    "   from PIL import Image\n",
    "   from ultralytics import YOLO\n",
    "   from pathlib import Path\n",
    "   \n",
    "   # Load model\n",
    "   model = YOLO(model_path)\n",
    "   \n",
    "   # Get test images\n",
    "   test_images = [f for f in os.listdir(test_images_dir) if f.lower().endswith(('.jpg', '.jpeg', '.png', '.tif'))]\n",
    "   \n",
    "   # Create output directory if specified\n",
    "   if output_dir:\n",
    "       os.makedirs(output_dir, exist_ok=True)\n",
    "   \n",
    "   # Summary statistics\n",
    "   total_images = len(test_images)\n",
    "   images_with_detections = 0\n",
    "   total_detections = 0\n",
    "   \n",
    "   # Process each image\n",
    "   for i, img_file in enumerate(test_images):\n",
    "       img_path = os.path.join(test_images_dir, img_file)\n",
    "       \n",
    "       # Run inference\n",
    "       results = model(img_path, conf=conf_threshold)\n",
    "       detections = results[0].boxes\n",
    "       \n",
    "       # Count detections\n",
    "       if len(detections) > 0:\n",
    "           images_with_detections += 1\n",
    "           total_detections += len(detections)\n",
    "       \n",
    "       # Plot every 5th image or save all if output_dir specified\n",
    "       should_plot = (i % 5 == 0) or output_dir\n",
    "       \n",
    "       if should_plot:\n",
    "           img = Image.open(img_path)\n",
    "           fig, ax = plt.subplots(figsize=(10, 10))\n",
    "           ax.imshow(np.array(img))\n",
    "           \n",
    "           # Add bounding boxes\n",
    "           for det in detections:\n",
    "               box = det.xyxy[0].cpu().numpy()\n",
    "               rect = patches.Rectangle(\n",
    "                   (box[0], box[1]), box[2] - box[0], box[3] - box[1],\n",
    "                   linewidth=2, edgecolor='red', facecolor='none'\n",
    "               )\n",
    "               ax.add_patch(rect)\n",
    "               \n",
    "               cls_id = int(det.cls[0])\n",
    "               conf = float(det.conf[0])\n",
    "               class_name = model.names[cls_id]\n",
    "               ax.text(box[0], box[1] - 5, f\"{class_name}: {conf:.2f}\", \n",
    "                      color='red', fontsize=12, bbox=dict(facecolor='white', alpha=0.7))\n",
    "           \n",
    "           ax.set_title(f\"Image {i+1}/{total_images}: {len(detections)} detections\")\n",
    "           plt.axis('off')\n",
    "           plt.tight_layout()\n",
    "           \n",
    "           # Save or show\n",
    "           if output_dir:\n",
    "               plt.savefig(os.path.join(output_dir, f\"result_{Path(img_file).stem}.jpg\"), \n",
    "                          bbox_inches='tight', dpi=150)\n",
    "               plt.close()\n",
    "           else:\n",
    "               plt.show()\n",
    "               plt.close()\n",
    "       \n",
    "       if (i+1) % 10 == 0:\n",
    "           print(f\"Processed {i+1}/{total_images} images\")\n",
    "   \n",
    "   # Print summary\n",
    "   print(f\"\\nTest Results Summary:\")\n",
    "   print(f\"Total images: {total_images}\")\n",
    "   print(f\"Images with detections: {images_with_detections} ({images_with_detections/total_images*100:.1f}%)\")\n",
    "   print(f\"Total detections: {total_detections}\")\n",
    "   print(f\"Average detections per image: {total_detections/total_images:.2f}\")\n",
    "   \n",
    "   return results"
   ]
  },
  {
   "cell_type": "code",
   "execution_count": null,
   "id": "2daa6eb2-c5d8-4a56-ad37-f102af2f7c8b",
   "metadata": {},
   "outputs": [],
   "source": []
  },
  {
   "cell_type": "code",
   "execution_count": null,
   "id": "e6b8fd05-ac19-4d3a-8f58-c31d6b9263eb",
   "metadata": {},
   "outputs": [],
   "source": [
    "root_path = Path('/Users/stephanehess/Documents/CAS_AML/dias_digit_project/test_yolo_object_train')\n",
    "data_dir = root_path / 'yolo_object_train'\n",
    "class_yaml_path = data_dir / 'class_map.yaml'\n",
    "\n",
    "target_class = 'lighthouse'\n",
    "output_dir_after = data_dir / 'output_test_posttrain'\n",
    "output_dir_train = data_dir / 'output_train'\n",
    "output_dir_test_before = data_dir / 'output_test_pretrain'\n",
    "\n"
   ]
  },
  {
   "cell_type": "code",
   "execution_count": null,
   "id": "172fb116-ac50-4248-8872-16161a59db65",
   "metadata": {},
   "outputs": [],
   "source": [
    "print(root_path)\n",
    "print(data_dir)\n",
    "print(class_yaml_path)\n",
    "print(output_dir_test_before)"
   ]
  },
  {
   "cell_type": "code",
   "execution_count": null,
   "id": "72e7ca5c-251c-46b6-af61-292c396e5861",
   "metadata": {},
   "outputs": [],
   "source": []
  },
  {
   "cell_type": "code",
   "execution_count": null,
   "id": "5f489d69-6143-410d-9f3f-bbddd0ae76ca",
   "metadata": {},
   "outputs": [],
   "source": [
    "#model_path = data_dir / 'output/yolov11_mountain/weights/best.pt'\n",
    "#model_path = data_dir / 'output/yolov11_church/weights/best.pt'\n",
    "#model_path = data_dir / 'output/yolov11_church/weights/last.pt'\n"
   ]
  },
  {
   "cell_type": "code",
   "execution_count": null,
   "id": "d0960952-2b88-4e64-8bff-2ca483aed470",
   "metadata": {},
   "outputs": [],
   "source": [
    "test_images_dir = data_dir / 'test'\n",
    "test_images_dir"
   ]
  },
  {
   "cell_type": "markdown",
   "id": "4a0f319a-7469-4ce6-8932-e5d72ce18929",
   "metadata": {},
   "source": [
    "### Initialize YOLO model: "
   ]
  },
  {
   "cell_type": "code",
   "execution_count": null,
   "id": "1f584c72-3d3a-417a-b9a3-7c4e580a45bd",
   "metadata": {},
   "outputs": [],
   "source": [
    "# Initialize YOLO model\n",
    "model = YOLO(\"yolo11n.pt\")  # Using YOLOv11 nano (smallest model)"
   ]
  },
  {
   "cell_type": "markdown",
   "id": "f19c43d4-4d99-4867-9485-ae08fc2cff21",
   "metadata": {},
   "source": [
    "### Test untrained model:"
   ]
  },
  {
   "cell_type": "code",
   "execution_count": null,
   "id": "5d15b2b2-8a75-4f34-ac25-879d23c74de3",
   "metadata": {},
   "outputs": [],
   "source": [
    "# Step 1: Test untrained model\n",
    "print(\"=== Testing Untrained Model ===\")\n",
    "test_and_plot_yolo_model(\n",
    "    model_path=\"yolo11n.pt\",\n",
    "    test_images_dir=test_images_dir,\n",
    "    output_dir=output_dir_test_before,\n",
    "    conf_threshold=0.1\n",
    ")"
   ]
  },
  {
   "cell_type": "markdown",
   "id": "0f371097-78a8-476c-b626-bf5a2a5981d1",
   "metadata": {},
   "source": [
    "### Train model to recognise lighthouses: "
   ]
  },
  {
   "cell_type": "code",
   "execution_count": null,
   "id": "c05df7ab-72b6-4aa3-a403-569f1d80f4ab",
   "metadata": {},
   "outputs": [],
   "source": [
    "# Step 2: Train model  \n",
    "print(\"\\n=== Training Model ===\")\n",
    "training_results = train_yolo_on_single_class(\n",
    "    data_dir=data_dir,\n",
    "    class_yaml_path=class_yaml_path,\n",
    "    target_class=\"lighthouse\",\n",
    "    output_dir=output_dir_train\n",
    ")"
   ]
  },
  {
   "cell_type": "code",
   "execution_count": null,
   "id": "c3b6874e-dd4b-47ce-acb8-f072e18e2553",
   "metadata": {},
   "outputs": [],
   "source": [
    "model_path = output_dir_train / \"yolov11_lighthouse/weights/best.pt\""
   ]
  },
  {
   "cell_type": "code",
   "execution_count": null,
   "id": "65ffc0c5-5abc-4167-976b-e6ff86fa9f3e",
   "metadata": {},
   "outputs": [],
   "source": [
    "# Step 3: Test trained model\n",
    "print(\"\\n=== Testing Trained Model ===\")\n",
    "test_and_plot_yolo_model(\n",
    "    model_path=model_path,\n",
    "    test_images_dir=test_images_dir, \n",
    "    output_dir=output_dir_after,\n",
    "    conf_threshold=0.1\n",
    ")\n"
   ]
  },
  {
   "cell_type": "code",
   "execution_count": null,
   "id": "ac833d03-6be8-4f20-981a-580a749ada85",
   "metadata": {},
   "outputs": [],
   "source": [
    "output_dir_train"
   ]
  },
  {
   "cell_type": "code",
   "execution_count": null,
   "id": "d36b25be-96ca-4a1a-88ed-8a0c00d36219",
   "metadata": {},
   "outputs": [],
   "source": [
    "model_path"
   ]
  },
  {
   "cell_type": "code",
   "execution_count": null,
   "id": "e3b34bd6-03e8-47d8-8138-13235c0ccf53",
   "metadata": {},
   "outputs": [],
   "source": []
  },
  {
   "cell_type": "code",
   "execution_count": null,
   "id": "d7c89014-f0ca-4ac9-a886-94a5710a8f80",
   "metadata": {},
   "outputs": [],
   "source": []
  },
  {
   "cell_type": "code",
   "execution_count": null,
   "id": "43f0ef82-789f-42db-998f-fc889d025371",
   "metadata": {},
   "outputs": [],
   "source": []
  },
  {
   "cell_type": "code",
   "execution_count": null,
   "id": "a45f196b-d40c-4c0e-b7c2-a5da5ee8e0af",
   "metadata": {},
   "outputs": [],
   "source": []
  },
  {
   "cell_type": "code",
   "execution_count": null,
   "id": "f2ffe688-527b-42d8-8538-183577a70a40",
   "metadata": {},
   "outputs": [],
   "source": []
  },
  {
   "cell_type": "code",
   "execution_count": null,
   "id": "faa8d26a-3d49-4afa-aac5-fcd0b1ac6007",
   "metadata": {},
   "outputs": [],
   "source": [
    "np.log(1)"
   ]
  },
  {
   "cell_type": "code",
   "execution_count": null,
   "id": "bc2621a2-285b-4e3c-9d05-678e354eddb2",
   "metadata": {},
   "outputs": [],
   "source": [
    "np.log(0)"
   ]
  },
  {
   "cell_type": "code",
   "execution_count": null,
   "id": "b9f12737-66fb-4645-a4b6-93c4194ba83f",
   "metadata": {},
   "outputs": [],
   "source": []
  },
  {
   "cell_type": "code",
   "execution_count": null,
   "id": "3cf02fcc-bca1-4f92-88fc-26a18adf6f32",
   "metadata": {},
   "outputs": [],
   "source": []
  },
  {
   "cell_type": "code",
   "execution_count": null,
   "id": "c2097ac5-7a1b-40f8-ba50-9431b48c3ecf",
   "metadata": {},
   "outputs": [],
   "source": []
  },
  {
   "cell_type": "code",
   "execution_count": null,
   "id": "c20999f9-1bb2-4b68-9c0c-46c96c23d34d",
   "metadata": {},
   "outputs": [],
   "source": []
  }
 ],
 "metadata": {
  "kernelspec": {
   "display_name": "Python 3 (ipykernel)",
   "language": "python",
   "name": "python3"
  },
  "language_info": {
   "codemirror_mode": {
    "name": "ipython",
    "version": 3
   },
   "file_extension": ".py",
   "mimetype": "text/x-python",
   "name": "python",
   "nbconvert_exporter": "python",
   "pygments_lexer": "ipython3",
   "version": "3.12.5"
  }
 },
 "nbformat": 4,
 "nbformat_minor": 5
}
