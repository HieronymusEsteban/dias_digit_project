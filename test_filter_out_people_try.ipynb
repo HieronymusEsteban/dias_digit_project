{
 "cells": [
  {
   "cell_type": "code",
   "execution_count": null,
   "id": "5de50bf5-56eb-40d7-8016-22959f1f1264",
   "metadata": {},
   "outputs": [],
   "source": [
    "import os\n",
    "from pathlib import Path\n",
    "from ultralytics import YOLO\n",
    "from PIL import Image\n",
    "import shutil\n",
    "import pandas as pd\n",
    "from source import image_id_converter as img_idc\n",
    "from source import sort_img_files as sif"
   ]
  },
  {
   "cell_type": "code",
   "execution_count": null,
   "id": "5ebd0d8e-bb05-411b-9684-8e0edd348996",
   "metadata": {},
   "outputs": [],
   "source": [
    "os.getcwd()"
   ]
  },
  {
   "cell_type": "markdown",
   "id": "25ad9cd2-eee5-44cf-a6dd-cee0115b112e",
   "metadata": {},
   "source": [
    "## Set paths:"
   ]
  },
  {
   "cell_type": "code",
   "execution_count": null,
   "id": "386e14a3-c84e-44ab-90a3-287d078b8805",
   "metadata": {},
   "outputs": [],
   "source": [
    "root_path = Path('/Users/stephanehess/Documents/CAS_AML/dias_digit_project/project')"
   ]
  },
  {
   "cell_type": "code",
   "execution_count": null,
   "id": "52c9ff36-8849-4814-9d1b-99e39f0e6482",
   "metadata": {},
   "outputs": [],
   "source": [
    "\n",
    "# Define paths\n",
    "image_dir = root_path/\"../test_data\"  # Replace with your directory containing images\n",
    "output_dir_with_person = root_path/\"../test_with_person\"  # Replace with output directory for images with persons\n",
    "output_dir_without_person = root_path/\"../test_without_person\"  # Replace with output directory for images without persons\n"
   ]
  },
  {
   "cell_type": "markdown",
   "id": "26ea01b5-5273-4c33-bac4-65123ebc6102",
   "metadata": {},
   "source": [
    "## Create directories for sorting the images:"
   ]
  },
  {
   "cell_type": "code",
   "execution_count": null,
   "id": "cacf52a5-56f8-4204-9e47-378e996472b7",
   "metadata": {},
   "outputs": [],
   "source": [
    "# Create output directories\n",
    "#os.chdir(root_path/'..')\n",
    "os.makedirs(output_dir_with_person, exist_ok=True)\n",
    "os.makedirs(output_dir_without_person, exist_ok=True)\n",
    "#os.chdir('root_path')"
   ]
  },
  {
   "cell_type": "markdown",
   "id": "24a83c0f-fab5-4993-bfee-34f92a23da91",
   "metadata": {},
   "source": [
    "## Define the pretrained model:"
   ]
  },
  {
   "cell_type": "code",
   "execution_count": null,
   "id": "a80166cf-42cd-48d6-a5ea-074716419a9d",
   "metadata": {},
   "outputs": [],
   "source": [
    "# Load the YOLOv5 model\n",
    "model = YOLO(\"yolov8n.pt\")  # Use yolov8n (nano) for faster inference\n"
   ]
  },
  {
   "cell_type": "markdown",
   "id": "26d3e0ce-6f84-4e7a-9001-14f6f4b49dfc",
   "metadata": {},
   "source": [
    "## Loop through images, sort them into the respective output folders according to person detection result and store results in list:"
   ]
  },
  {
   "cell_type": "raw",
   "id": "67b97b3f-44b4-4d85-9e97-90474a46877c",
   "metadata": {},
   "source": [
    "# Create empty lists to store the image ids and person detection results:\n",
    "img_ids = []\n",
    "with_person = []"
   ]
  },
  {
   "cell_type": "raw",
   "id": "4d35d2b5-b82b-4a29-92bb-d91cd255dad0",
   "metadata": {},
   "source": [
    "# Iterate through images\n",
    "for image_path in Path(image_dir).glob(\"*.tif\"):\n",
    "    path_str = str(image_path)\n",
    "    parts = path_str.split('.tif')\n",
    "    img_id = parts[-2][-3:]\n",
    "    img_ids.append(img_id)\n",
    "\n",
    "    try:\n",
    "        # Ensure the file is an image\n",
    "        img = Image.open(image_path)\n",
    "        img.verify()\n",
    "\n",
    "        # Perform object detection\n",
    "        results = model(image_path, verbose=False)\n",
    "\n",
    "        # Check if a person is detected\n",
    "        has_person = any(int(box[5]) == 0 for box in results[0].boxes.data.tolist())  # Class ID 0 is for 'person'\n",
    "        \n",
    "        with_person.append(has_person)\n",
    "        \n",
    "        # Move image to the corresponding folder\n",
    "        if has_person:\n",
    "            shutil.move(str(image_path), os.path.join(output_dir_with_person, image_path.name))\n",
    "        else:\n",
    "            shutil.move(str(image_path), os.path.join(output_dir_without_person, image_path.name))\n",
    "\n",
    "    except Exception as e:\n",
    "        print(f\"Error processing {image_path}: {e}\")\n",
    "\n",
    "print(\"Filtering complete!\")"
   ]
  },
  {
   "cell_type": "code",
   "execution_count": null,
   "id": "2a696001-b66f-4a55-be94-190f0b36acf3",
   "metadata": {},
   "outputs": [],
   "source": [
    "img_ids, with_person = sif.sort_img_files(image_dir, model, output_dir_with_person, output_dir_without_person)"
   ]
  },
  {
   "cell_type": "code",
   "execution_count": null,
   "id": "de1e768b-b55a-44de-9181-12cf98f2f5ad",
   "metadata": {},
   "outputs": [],
   "source": [
    "img_ids"
   ]
  },
  {
   "cell_type": "code",
   "execution_count": null,
   "id": "a7dc0a8b-394f-45ab-99f9-09cc0ffb2439",
   "metadata": {},
   "outputs": [],
   "source": [
    "with_person"
   ]
  },
  {
   "cell_type": "markdown",
   "id": "972c752b-e8b7-4661-b8dd-6392c57b98e8",
   "metadata": {},
   "source": [
    "## Load person predictions into a dataframe: "
   ]
  },
  {
   "cell_type": "code",
   "execution_count": null,
   "id": "23c9109a-8ee8-49fc-86b4-2b67f56d1514",
   "metadata": {},
   "outputs": [],
   "source": [
    "results_person = pd.DataFrame({'image_id': img_ids, 'with_person': with_person})\n",
    "results_person.head()\n"
   ]
  },
  {
   "cell_type": "markdown",
   "id": "700135be-b2cc-43e0-be66-03eb03a48178",
   "metadata": {},
   "source": [
    "## Add one-hot-coded person predictions:"
   ]
  },
  {
   "cell_type": "code",
   "execution_count": null,
   "id": "5e4984e3-c840-48d6-8067-cb2111ee34f9",
   "metadata": {},
   "outputs": [],
   "source": [
    "results_person['with_person_pred']= [1 if x else 0 for x in results_person.with_person]\n",
    "results_person.head()"
   ]
  },
  {
   "cell_type": "markdown",
   "id": "7f8e639f-5027-469f-b955-5e19b9a56976",
   "metadata": {},
   "source": [
    "## Load person label data:"
   ]
  },
  {
   "cell_type": "markdown",
   "id": "0196c960-9bfd-4daa-8fca-48e0dc8347d8",
   "metadata": {},
   "source": [
    "The file with_without_person.csv contains labels added by (human) visual inspection. The labels thus represent the ground truth regarding to whether or not an image contains a person. The column with_person indicates whether a person or several persons are in the image, the columns recognisable indicates whether such person would be recognisable to a human familiar with the person in question based on their appearance (according to the jugdement of the author)."
   ]
  },
  {
   "cell_type": "code",
   "execution_count": null,
   "id": "57a0c99d-5dea-446e-9c6c-a959f2fc5aeb",
   "metadata": {},
   "outputs": [],
   "source": [
    "with_without_person = pd.read_csv(image_dir/'with_without_person_mod_test.csv')\n",
    "with_without_person\n"
   ]
  },
  {
   "cell_type": "code",
   "execution_count": null,
   "id": "9f1695ee-5062-4bf5-ac14-29dcb9faf3d0",
   "metadata": {},
   "outputs": [],
   "source": [
    "img_ids = list(with_without_person.image_id)"
   ]
  },
  {
   "cell_type": "code",
   "execution_count": null,
   "id": "d2ba10d8-b24e-4008-809d-9ff18e4ef8e3",
   "metadata": {},
   "outputs": [],
   "source": [
    "with_without_person['image_id'] = img_idc.reconvert_image_ids(img_ids)"
   ]
  },
  {
   "cell_type": "code",
   "execution_count": null,
   "id": "bcbd5a44-796e-4b2e-9c5a-c97ce035f5fc",
   "metadata": {},
   "outputs": [],
   "source": [
    "with_without_person.head()"
   ]
  },
  {
   "cell_type": "markdown",
   "id": "50265cce-896e-484c-8aab-0475c5c0e19a",
   "metadata": {},
   "source": [
    "## Rename the labels:"
   ]
  },
  {
   "cell_type": "code",
   "execution_count": null,
   "id": "a9a548af-66dc-43c5-a9db-129f101a276c",
   "metadata": {},
   "outputs": [],
   "source": [
    "with_without_person.rename(columns={'with_person': 'person_label', 'recognisable': 'recognisable_label'}, inplace=True)\n",
    "with_without_person.head()\n"
   ]
  },
  {
   "cell_type": "markdown",
   "id": "920a17dc-4c15-4d1a-b808-1dd7be6703d3",
   "metadata": {},
   "source": [
    "## Merge label data with the predictions:"
   ]
  },
  {
   "cell_type": "code",
   "execution_count": null,
   "id": "33349e62-6be4-408a-8efc-103e2655948c",
   "metadata": {},
   "outputs": [],
   "source": [
    "labels_results = with_without_person.merge(results_person, how='inner', on='image_id')\n",
    "labels_results.head()"
   ]
  },
  {
   "cell_type": "code",
   "execution_count": null,
   "id": "67f13dd6-b6b0-4f56-8d39-67e111df81c9",
   "metadata": {},
   "outputs": [],
   "source": [
    "labels_results.shape"
   ]
  },
  {
   "cell_type": "markdown",
   "id": "adf9df5a-88f0-4de3-ae3c-dde8d4185905",
   "metadata": {},
   "source": [
    "## Calculate sensitivity and specificity for person predictions and get lists images with positive person predictions:"
   ]
  },
  {
   "cell_type": "code",
   "execution_count": null,
   "id": "1e6fb8f9-2032-4908-8c66-1eebdddafb20",
   "metadata": {},
   "outputs": [],
   "source": [
    "positive_bools = labels_results.person_label == 1\n",
    "negative_bools = labels_results.person_label == 0\n",
    "positive_pred_bools = labels_results.with_person_pred == 1\n",
    "negative_pred_bools = labels_results.with_person_pred == 0\n",
    "\n",
    "positives = labels_results[positive_bools]\n",
    "negatives = labels_results[negative_bools]\n",
    "true_positives = labels_results[positive_bools & positive_pred_bools]\n",
    "true_negatives = labels_results[negative_bools & negative_pred_bools]\n",
    "\n",
    "false_negatives = labels_results[positive_bools & negative_pred_bools]\n",
    "false_positives = labels_results[negative_bools & positive_pred_bools]\n",
    "\n",
    "sensitivity = true_positives.shape[0] / positives.shape[0]\n",
    "print('sensitivity:')\n",
    "print(sensitivity)\n",
    "\n",
    "specificity = true_negatives.shape[0] / negatives.shape[0]\n",
    "print('specificity:')\n",
    "print(specificity)\n"
   ]
  },
  {
   "cell_type": "markdown",
   "id": "851c95cb-6605-49d0-b3af-c3ff908641a7",
   "metadata": {},
   "source": [
    "## Inspect false negatives:"
   ]
  },
  {
   "cell_type": "code",
   "execution_count": null,
   "id": "6c446b2d-4b55-4bef-8485-f2be100e1cd8",
   "metadata": {},
   "outputs": [],
   "source": [
    "false_negatives"
   ]
  },
  {
   "cell_type": "code",
   "execution_count": null,
   "id": "778ab826-ee62-4c77-8347-e8d9d24f0995",
   "metadata": {},
   "outputs": [],
   "source": []
  },
  {
   "cell_type": "markdown",
   "id": "4343ee97-be36-46cc-a187-222201fa544d",
   "metadata": {},
   "source": [
    "## Inspect false positives:"
   ]
  },
  {
   "cell_type": "code",
   "execution_count": null,
   "id": "ef5f47b2-baed-4a59-8307-f8ca516b4ec2",
   "metadata": {},
   "outputs": [],
   "source": [
    "false_positives"
   ]
  },
  {
   "cell_type": "markdown",
   "id": "97ba07bd-6049-4440-a879-6a2df6e620ed",
   "metadata": {},
   "source": [
    "## Visually inspect the images in the two folders!"
   ]
  },
  {
   "cell_type": "markdown",
   "id": "88257e62-8e10-40ea-8570-e42f8110a574",
   "metadata": {},
   "source": [
    "Visually verified all classified images, false negatives are all images with non-recognisable persons (according to my judgement)."
   ]
  },
  {
   "cell_type": "code",
   "execution_count": null,
   "id": "c1fbf1fb-af81-4867-8d66-5167dfb97585",
   "metadata": {},
   "outputs": [],
   "source": []
  },
  {
   "cell_type": "markdown",
   "id": "32baff67-1cb5-4414-a715-591a507a6f84",
   "metadata": {},
   "source": [
    "## Check how many images have been moved to folder output_dir_with_person:"
   ]
  },
  {
   "cell_type": "code",
   "execution_count": null,
   "id": "40998e8f-4a68-4c16-b505-0a6ac5ac0c1b",
   "metadata": {},
   "outputs": [],
   "source": [
    "files_pred_with_person = os.listdir(output_dir_with_person)\n",
    "if '.DS_Store' in files_pred_with_person:\n",
    "  files_pred_with_person.remove('.DS_Store')\n",
    "#files_pred_with_person"
   ]
  },
  {
   "cell_type": "code",
   "execution_count": null,
   "id": "fd0df5f1-6e54-4e8c-a8fc-add914134241",
   "metadata": {},
   "outputs": [],
   "source": [
    "len(files_pred_with_person)"
   ]
  },
  {
   "cell_type": "code",
   "execution_count": null,
   "id": "b886e4b3-2f57-4272-9340-53a519f027f4",
   "metadata": {},
   "outputs": [],
   "source": [
    "files_pred_with_person"
   ]
  },
  {
   "cell_type": "markdown",
   "id": "f2f0bf11-3eb4-4f0f-b7f7-8b51d52220a0",
   "metadata": {},
   "source": [
    "## Check how many images have been moved to folder output_dir_without_person:"
   ]
  },
  {
   "cell_type": "code",
   "execution_count": null,
   "id": "b83fe04e-7449-4cb7-ba92-b46475c1aad8",
   "metadata": {},
   "outputs": [],
   "source": [
    "files_pred_without_person = os.listdir(output_dir_without_person)\n",
    "if '.DS_Store' in files_pred_without_person:\n",
    "  files_pred_without_person.remove('.DS_Store')\n",
    "#files_pred_without_person"
   ]
  },
  {
   "cell_type": "code",
   "execution_count": null,
   "id": "12817d6f-9a13-48e1-9298-413df23913dc",
   "metadata": {},
   "outputs": [],
   "source": [
    "len(files_pred_without_person)"
   ]
  },
  {
   "cell_type": "code",
   "execution_count": null,
   "id": "b67b3f1d-fd66-45f3-9105-7717b6a6aef2",
   "metadata": {},
   "outputs": [],
   "source": [
    "files_pred_without_person"
   ]
  },
  {
   "cell_type": "code",
   "execution_count": null,
   "id": "ecc23368-afe3-46b1-8c63-4b09ee9a858c",
   "metadata": {},
   "outputs": [],
   "source": []
  },
  {
   "cell_type": "code",
   "execution_count": null,
   "id": "91fd215d-9911-4b11-ba52-fe7eafc50310",
   "metadata": {},
   "outputs": [],
   "source": []
  },
  {
   "cell_type": "markdown",
   "id": "5b53abc7-5a7b-43cc-bab1-b4517d4651c1",
   "metadata": {},
   "source": [
    "## Compare files moved to folders with results in labels_results:"
   ]
  },
  {
   "cell_type": "code",
   "execution_count": null,
   "id": "04d963dd-2cc7-4396-b623-8dbc44206a8e",
   "metadata": {},
   "outputs": [],
   "source": [
    "pred_positives = labels_results[positive_pred_bools]\n",
    "#pred_positives"
   ]
  },
  {
   "cell_type": "code",
   "execution_count": null,
   "id": "f2733394-69ea-4881-b0fe-2d53d969e7cb",
   "metadata": {},
   "outputs": [],
   "source": [
    "len(pred_positives)"
   ]
  },
  {
   "cell_type": "code",
   "execution_count": null,
   "id": "6632193b-5194-4591-9122-c8582da0a3f7",
   "metadata": {},
   "outputs": [],
   "source": [
    "pred_negatives = labels_results[negative_pred_bools]"
   ]
  },
  {
   "cell_type": "code",
   "execution_count": null,
   "id": "9c7efb5d-9843-4258-be5f-a45653931e7b",
   "metadata": {},
   "outputs": [],
   "source": [
    "len(pred_negatives)"
   ]
  },
  {
   "cell_type": "markdown",
   "id": "5a4946e1-447a-4972-b742-54359fe318b0",
   "metadata": {},
   "source": [
    "#### Get image ids of the files in the two folders (with or without_persons):"
   ]
  },
  {
   "cell_type": "code",
   "execution_count": null,
   "id": "6f747ab1-796d-4912-a8e6-44d49abde9dc",
   "metadata": {},
   "outputs": [],
   "source": [
    "files_pred_with_person_folder = []\n",
    "for file in files_pred_with_person:\n",
    "    parts = file.split('.tif')\n",
    "    img_id = parts[-2][-3:]\n",
    "    files_pred_with_person_folder.append(img_id)"
   ]
  },
  {
   "cell_type": "code",
   "execution_count": null,
   "id": "a960abfe-f381-4fa0-b367-5a9e4c3dbfb9",
   "metadata": {},
   "outputs": [],
   "source": [
    "files_pred_without_person_folder = []\n",
    "for file in files_pred_without_person:\n",
    "    parts = file.split('.tif')\n",
    "    img_id = parts[-2][-3:]\n",
    "    #print(img_id)\n",
    "    files_pred_without_person_folder.append(img_id)"
   ]
  },
  {
   "cell_type": "markdown",
   "id": "25290b2d-fa58-4247-93d5-4a82e686870a",
   "metadata": {},
   "source": [
    "#### Compare image ids form the files with the image ids in the labels_results dataframe:"
   ]
  },
  {
   "cell_type": "code",
   "execution_count": null,
   "id": "08d0229b-f2c5-49e2-a0fa-84575dfbc92f",
   "metadata": {},
   "outputs": [],
   "source": [
    "files_pred_positives_doc = set(pred_positives.image_id)"
   ]
  },
  {
   "cell_type": "code",
   "execution_count": null,
   "id": "41d539f2-7302-4c5a-b626-22fd5aa6252c",
   "metadata": {},
   "outputs": [],
   "source": [
    "print(len(pred_positives))\n",
    "print(len(files_pred_positives_doc))"
   ]
  },
  {
   "cell_type": "code",
   "execution_count": null,
   "id": "3aa0c225-dce3-4447-981a-5c1c829259c7",
   "metadata": {},
   "outputs": [],
   "source": [
    "print(len(files_pred_with_person_folder))\n",
    "print(len(set(files_pred_with_person_folder)))\n"
   ]
  },
  {
   "cell_type": "code",
   "execution_count": null,
   "id": "aba2b6c9-2b4a-4af2-8a0f-589d3f57ad6b",
   "metadata": {},
   "outputs": [],
   "source": [
    "files_pred_with_person_folder = set(files_pred_with_person_folder)"
   ]
  },
  {
   "cell_type": "code",
   "execution_count": null,
   "id": "3e1800d7-aa5e-4ce7-9c3d-2bcaa2b873d2",
   "metadata": {},
   "outputs": [],
   "source": [
    "files_pred_with_person_folder"
   ]
  },
  {
   "cell_type": "markdown",
   "id": "bc80d104-1db2-4559-9211-9a8ff1ac9029",
   "metadata": {},
   "source": [
    "#### Get the intersection of the image id sets, check if it is as big as each set. If so, the two sets are identical:"
   ]
  },
  {
   "cell_type": "code",
   "execution_count": null,
   "id": "3ddded25-aed4-4179-9956-ce5cc279f77d",
   "metadata": {},
   "outputs": [],
   "source": [
    "length_intersection = len(set.intersection(files_pred_positives_doc, files_pred_with_person_folder))\n",
    "length_folder = len(files_pred_with_person_folder)\n",
    "length_doc = len(files_pred_positives_doc)"
   ]
  },
  {
   "cell_type": "code",
   "execution_count": null,
   "id": "c1071786-883b-4c23-aca9-e5be08320634",
   "metadata": {},
   "outputs": [],
   "source": [
    "print(length_intersection == length_folder)\n",
    "print(length_folder == length_doc)"
   ]
  },
  {
   "cell_type": "code",
   "execution_count": null,
   "id": "74eb235b-d099-4a0f-a9d0-75878986e6f6",
   "metadata": {},
   "outputs": [],
   "source": [
    "print(len(set(files_pred_with_person_folder)))\n",
    "print(len(set(files_pred_positives_doc)))\n",
    "print(length_intersection)"
   ]
  },
  {
   "cell_type": "code",
   "execution_count": null,
   "id": "12c9a4a4-503a-4128-b505-d7bcc0b0f088",
   "metadata": {},
   "outputs": [],
   "source": [
    "files_pred_with_person_folder.difference(files_pred_positives_doc)"
   ]
  },
  {
   "cell_type": "code",
   "execution_count": null,
   "id": "9d8e2ed2-d442-46f1-9485-4e321f77b58c",
   "metadata": {},
   "outputs": [],
   "source": [
    "pred_negatives = labels_results[negative_pred_bools]\n",
    "files_pred_negatives_doc = set(pred_negatives.image_id)"
   ]
  },
  {
   "cell_type": "code",
   "execution_count": null,
   "id": "4a4fda3e-3597-4a48-b66e-919bd44b915a",
   "metadata": {},
   "outputs": [],
   "source": [
    "length_intersection = len(set.intersection(files_pred_negatives_doc, files_pred_without_person_folder))\n",
    "length_folder = len(files_pred_without_person_folder)\n",
    "length_doc = len(files_pred_negatives_doc)"
   ]
  },
  {
   "cell_type": "code",
   "execution_count": null,
   "id": "f91f21b9-2447-4bde-acb1-1cbfb89d7ce3",
   "metadata": {},
   "outputs": [],
   "source": [
    "print(length_intersection == length_folder)\n",
    "print(length_folder == length_doc)"
   ]
  },
  {
   "cell_type": "code",
   "execution_count": null,
   "id": "355c09ec-2278-4fda-abc9-71afe15eb850",
   "metadata": {},
   "outputs": [],
   "source": [
    "length_intersection"
   ]
  },
  {
   "cell_type": "code",
   "execution_count": null,
   "id": "fffc5f63-977a-4f48-a467-8cff66d08194",
   "metadata": {},
   "outputs": [],
   "source": [
    "length_folder"
   ]
  },
  {
   "cell_type": "markdown",
   "id": "fb1319be-905b-471f-b9fd-706b0408a780",
   "metadata": {},
   "source": [
    "## Save labels and results:"
   ]
  },
  {
   "cell_type": "code",
   "execution_count": null,
   "id": "7f451591-afbb-41d9-a3b2-d1be9914fe3f",
   "metadata": {},
   "outputs": [],
   "source": [
    "labels_results"
   ]
  },
  {
   "cell_type": "code",
   "execution_count": null,
   "id": "be394aa6-5b9e-4050-b684-d5cff2ca6238",
   "metadata": {},
   "outputs": [],
   "source": []
  },
  {
   "cell_type": "code",
   "execution_count": null,
   "id": "2d305021-7cdd-46ef-8338-9af38927bef7",
   "metadata": {},
   "outputs": [],
   "source": [
    "# Add image ids that will remain string type even when saved to csv and reloaded:\n",
    "labels = list(labels_results.image_id)\n",
    "new_labels = img_idc.complete_image_ids(labels)\n",
    "labels_results['image_id_str'] = new_labels\n",
    "labels_results"
   ]
  },
  {
   "cell_type": "code",
   "execution_count": null,
   "id": "7268a577-6522-4e06-96a2-81f32875fbb9",
   "metadata": {},
   "outputs": [],
   "source": [
    "os.getcwd()"
   ]
  },
  {
   "cell_type": "code",
   "execution_count": null,
   "id": "a4c9ee53-47e7-4ba3-bbab-3f7dcd588bb3",
   "metadata": {},
   "outputs": [],
   "source": [
    "cols_to_select = ['image_id', 'person_label', 'recognisable_label', 'with_person_pred', 'image_id_str']"
   ]
  },
  {
   "cell_type": "code",
   "execution_count": null,
   "id": "c2f8e612-4bc6-45c4-8306-df02cde9e9de",
   "metadata": {},
   "outputs": [],
   "source": [
    "labels_results_to_store = labels_results[cols_to_select].copy()\n",
    "labels_results_to_store"
   ]
  },
  {
   "cell_type": "code",
   "execution_count": null,
   "id": "6a6671fb-d2e6-4b18-bf58-7ebb322d0691",
   "metadata": {},
   "outputs": [],
   "source": []
  },
  {
   "cell_type": "code",
   "execution_count": null,
   "id": "e3f353a1-894b-4f9a-9998-3bfd7cb33192",
   "metadata": {},
   "outputs": [],
   "source": [
    "labels_results_to_store.rename({'with_person_pred': 'prediction_with_person'}, axis='columns',\n",
    "                              inplace=True)"
   ]
  },
  {
   "cell_type": "code",
   "execution_count": null,
   "id": "06557fef-2f42-42d4-b2ef-a8d48870c256",
   "metadata": {},
   "outputs": [],
   "source": [
    "labels_results_to_store"
   ]
  },
  {
   "cell_type": "code",
   "execution_count": null,
   "id": "a7c2ab9b-b8c3-4020-806d-c6ba76fc2207",
   "metadata": {},
   "outputs": [],
   "source": [
    "labels_results_to_store.to_csv(image_dir/'results_people_detection_test.csv')"
   ]
  },
  {
   "cell_type": "code",
   "execution_count": null,
   "id": "164b9b61-1df5-4ee6-999c-f2c2f302a7dc",
   "metadata": {},
   "outputs": [],
   "source": []
  },
  {
   "cell_type": "code",
   "execution_count": null,
   "id": "704780fe-5e1c-4d3e-a3ac-a4e1080fe59e",
   "metadata": {},
   "outputs": [],
   "source": []
  },
  {
   "cell_type": "code",
   "execution_count": null,
   "id": "5e31038a-4fc5-4591-baec-168fa8887add",
   "metadata": {},
   "outputs": [],
   "source": []
  },
  {
   "cell_type": "code",
   "execution_count": null,
   "id": "a5ffb72b-83d0-4fde-80d2-bebad8e13d19",
   "metadata": {},
   "outputs": [],
   "source": []
  }
 ],
 "metadata": {
  "kernelspec": {
   "display_name": "Python 3 (ipykernel)",
   "language": "python",
   "name": "python3"
  },
  "language_info": {
   "codemirror_mode": {
    "name": "ipython",
    "version": 3
   },
   "file_extension": ".py",
   "mimetype": "text/x-python",
   "name": "python",
   "nbconvert_exporter": "python",
   "pygments_lexer": "ipython3",
   "version": "3.12.5"
  }
 },
 "nbformat": 4,
 "nbformat_minor": 5
}
