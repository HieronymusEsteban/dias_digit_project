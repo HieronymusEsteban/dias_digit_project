{
 "cells": [
  {
   "cell_type": "code",
   "execution_count": null,
   "id": "b8e57569-c61b-4cad-b608-a0b0705d1c96",
   "metadata": {},
   "outputs": [],
   "source": [
    "import os\n",
    "from pathlib import Path\n",
    "from PIL import Image\n",
    "import shutil\n",
    "import pandas as pd\n",
    "from source import image_id_converter as img_idc"
   ]
  },
  {
   "cell_type": "code",
   "execution_count": null,
   "id": "4267470a-7556-4351-8c68-f1caf4b8a23a",
   "metadata": {},
   "outputs": [],
   "source": [
    "import csv"
   ]
  },
  {
   "cell_type": "code",
   "execution_count": null,
   "id": "405a70eb-745a-4566-8977-81343b1a44fd",
   "metadata": {},
   "outputs": [],
   "source": [
    "os.getcwd()"
   ]
  },
  {
   "cell_type": "code",
   "execution_count": null,
   "id": "4fda7ba5-9a44-4c5b-9b5c-9e0e5fb188ce",
   "metadata": {},
   "outputs": [],
   "source": [
    "#import functions as fn"
   ]
  },
  {
   "cell_type": "code",
   "execution_count": null,
   "id": "c0d5e76e-6124-41be-81ae-f7236f4a2d59",
   "metadata": {},
   "outputs": [],
   "source": [
    "os.getcwd()"
   ]
  },
  {
   "cell_type": "code",
   "execution_count": null,
   "id": "a7874bad-3ad1-427d-b463-766c687cdf28",
   "metadata": {},
   "outputs": [],
   "source": [
    "root_path = Path('/Users/stephanehess/Documents/CAS_AML/dias_digit_project/project')"
   ]
  },
  {
   "cell_type": "code",
   "execution_count": null,
   "id": "78dd3332-8a78-4283-92c6-f1c6c8798af6",
   "metadata": {},
   "outputs": [],
   "source": [
    "os.chdir(root_path)"
   ]
  },
  {
   "cell_type": "code",
   "execution_count": null,
   "id": "bbdf160f-3150-443a-b315-160ff7670fb4",
   "metadata": {},
   "outputs": [],
   "source": [
    "\n",
    "# Define paths\n",
    "image_dir = root_path/\"../test_data\"  # Replace with your directory containing images\n",
    "#output_dir_with_person = root_path/\"../with_person\"  # Replace with output directory for images with persons\n",
    "#output_dir_without_person = root_path/\"../without_person\"  # Replace with output directory for images without persons\n"
   ]
  },
  {
   "cell_type": "code",
   "execution_count": null,
   "id": "20d8b1a7-d658-417e-9451-5f973b56a938",
   "metadata": {},
   "outputs": [],
   "source": [
    "with_without_person_raw = pd.read_csv(image_dir/'with_without_person_test.csv')\n",
    "with_without_person_raw['recognisable'] = with_without_person_raw['recognisable'].fillna(0).astype(int)\n",
    "with_without_person = with_without_person_raw.iloc[:,0:3]\n",
    "with_without_person"
   ]
  },
  {
   "cell_type": "code",
   "execution_count": null,
   "id": "ba0bbac9-cd9f-4a8c-83e1-28ae8bd15254",
   "metadata": {},
   "outputs": [],
   "source": []
  },
  {
   "cell_type": "code",
   "execution_count": null,
   "id": "fa066b35-deb6-47e3-bc64-8c4897d25114",
   "metadata": {},
   "outputs": [],
   "source": [
    "# Convert labels to strings:\n",
    "img_ids = list(with_without_person.image_id)\n",
    "img_ids_strings = [str(x) for x in img_ids]\n",
    "img_ids_strings[:3]"
   ]
  },
  {
   "cell_type": "code",
   "execution_count": null,
   "id": "2464bcdd-f610-4942-8f2c-7c9bcf119274",
   "metadata": {},
   "outputs": [],
   "source": [
    "with_without_person['image_id'] = img_idc.complete_image_ids(img_ids_strings)"
   ]
  },
  {
   "cell_type": "code",
   "execution_count": null,
   "id": "3c853f45-957f-4020-b9fa-5493328661ec",
   "metadata": {},
   "outputs": [],
   "source": [
    "type(with_without_person['image_id'][0])"
   ]
  },
  {
   "cell_type": "code",
   "execution_count": null,
   "id": "557c745b-fbff-473f-983a-6f60067a3b20",
   "metadata": {},
   "outputs": [],
   "source": [
    "with_without_person.head()"
   ]
  },
  {
   "cell_type": "code",
   "execution_count": null,
   "id": "84bffe88-0820-4b2c-bee2-de46227733f7",
   "metadata": {},
   "outputs": [],
   "source": [
    "with_without_person"
   ]
  },
  {
   "cell_type": "code",
   "execution_count": null,
   "id": "1f9b4fb5-fc07-4cdb-9e35-179d407143c2",
   "metadata": {},
   "outputs": [],
   "source": [
    "with_without_person.sort_values(by='image_id', inplace=True)"
   ]
  },
  {
   "cell_type": "code",
   "execution_count": null,
   "id": "da6e5b44-d39d-4cb5-9507-b8f306fbd3ba",
   "metadata": {},
   "outputs": [],
   "source": [
    "with_without_person"
   ]
  },
  {
   "cell_type": "code",
   "execution_count": null,
   "id": "57fcb89f-640d-4df5-8092-cf6dcef73486",
   "metadata": {},
   "outputs": [],
   "source": [
    "with_without_person.reset_index(inplace=True, drop=True)"
   ]
  },
  {
   "cell_type": "code",
   "execution_count": null,
   "id": "cff1c5bb-e83a-4152-a7a1-5fac19d181cc",
   "metadata": {},
   "outputs": [],
   "source": [
    "with_without_person"
   ]
  },
  {
   "cell_type": "code",
   "execution_count": null,
   "id": "02548ea6-ffdc-441f-8ffa-cd1726cc8d23",
   "metadata": {},
   "outputs": [],
   "source": [
    "os.getcwd()"
   ]
  },
  {
   "cell_type": "code",
   "execution_count": null,
   "id": "3680b0e5-858b-488d-baed-bed04ce1919b",
   "metadata": {},
   "outputs": [],
   "source": [
    "with_without_person.to_csv(image_dir/'with_without_person_mod_test.csv', index=False)"
   ]
  },
  {
   "cell_type": "code",
   "execution_count": null,
   "id": "cefae7e5-86be-4053-a8cd-a7f8c57baef5",
   "metadata": {},
   "outputs": [],
   "source": []
  },
  {
   "cell_type": "code",
   "execution_count": null,
   "id": "89a4dfae-ec26-4cf5-a2f8-038cd1c4692d",
   "metadata": {},
   "outputs": [],
   "source": [
    "with_without_person = pd.read_csv(image_dir/'with_without_person_mod_test.csv')\n",
    "with_without_person"
   ]
  },
  {
   "cell_type": "raw",
   "id": "b3a9887b-1aeb-46f9-8dc5-864eea47229e",
   "metadata": {},
   "source": [
    "def reconvert_image_ids(image_ids):\n",
    "    new_image_ids = []\n",
    "    for image_id in image_ids:\n",
    "        new_image_id = image_id.split('id')[1]\n",
    "        new_image_ids.append(new_image_id)\n",
    "    return new_image_ids"
   ]
  },
  {
   "cell_type": "code",
   "execution_count": null,
   "id": "82c3f51f-b0e4-4743-a426-fe3850172682",
   "metadata": {},
   "outputs": [],
   "source": []
  },
  {
   "cell_type": "code",
   "execution_count": null,
   "id": "138e32e3-a431-44dd-98cf-f27de5772c6a",
   "metadata": {},
   "outputs": [],
   "source": [
    "img_ids = list(with_without_person.image_id)"
   ]
  },
  {
   "cell_type": "code",
   "execution_count": null,
   "id": "2853d092-474a-446c-9c3d-78bc2d4f5541",
   "metadata": {},
   "outputs": [],
   "source": [
    "with_without_person.image_id = img_idc.reconvert_image_ids(img_ids)"
   ]
  },
  {
   "cell_type": "code",
   "execution_count": null,
   "id": "f9d2a458-d0bd-4f2c-aa26-6094e39861b8",
   "metadata": {},
   "outputs": [],
   "source": [
    "with_without_person"
   ]
  },
  {
   "cell_type": "code",
   "execution_count": null,
   "id": "b34c0d4c-7aa1-447c-941e-8e560a9d4922",
   "metadata": {},
   "outputs": [],
   "source": []
  },
  {
   "cell_type": "code",
   "execution_count": null,
   "id": "06ec73e0-5752-4373-96e7-d93e83bcbe20",
   "metadata": {},
   "outputs": [],
   "source": []
  },
  {
   "cell_type": "code",
   "execution_count": null,
   "id": "ef7e204e-fea2-4b21-bbb8-408439020971",
   "metadata": {},
   "outputs": [],
   "source": []
  },
  {
   "cell_type": "code",
   "execution_count": null,
   "id": "c842b430-ef5e-4675-99b6-b006f611a7c0",
   "metadata": {},
   "outputs": [],
   "source": []
  },
  {
   "cell_type": "code",
   "execution_count": null,
   "id": "dc2d2596-c801-4f88-8ffe-cc280df7c30b",
   "metadata": {},
   "outputs": [],
   "source": []
  },
  {
   "cell_type": "code",
   "execution_count": null,
   "id": "91f96684-37da-435d-87a6-89e206323d7f",
   "metadata": {},
   "outputs": [],
   "source": []
  }
 ],
 "metadata": {
  "kernelspec": {
   "display_name": "Python 3 (ipykernel)",
   "language": "python",
   "name": "python3"
  },
  "language_info": {
   "codemirror_mode": {
    "name": "ipython",
    "version": 3
   },
   "file_extension": ".py",
   "mimetype": "text/x-python",
   "name": "python",
   "nbconvert_exporter": "python",
   "pygments_lexer": "ipython3",
   "version": "3.12.5"
  }
 },
 "nbformat": 4,
 "nbformat_minor": 5
}
