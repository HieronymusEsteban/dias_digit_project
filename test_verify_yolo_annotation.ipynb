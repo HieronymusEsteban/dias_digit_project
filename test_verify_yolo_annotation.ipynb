{
 "cells": [
  {
   "cell_type": "code",
   "execution_count": null,
   "id": "dec97a58-207d-41dd-be35-1131e3940a8a",
   "metadata": {},
   "outputs": [],
   "source": [
    "import os\n",
    "from pathlib import Path\n",
    "from PIL import Image"
   ]
  },
  {
   "cell_type": "code",
   "execution_count": null,
   "id": "74379923-3ad0-4904-ab85-40011d7303db",
   "metadata": {},
   "outputs": [],
   "source": [
    "from source.visual_genome_meta_data import read_json_to_dict\n",
    "from source.visual_genome_meta_data import get_image_meta_data\n",
    "from source.visual_genome_meta_data import count_occurrences\n",
    "from source.visual_genome_to_yolo import create_class_mapping_from_list\n",
    "from source.visual_genome_to_yolo import save_class_map_to_yaml\n",
    "from source.visual_genome_to_yolo import convert_single_image_to_yolo\n",
    "from source.visual_genome_to_yolo import read_yaml_to_class_map\n",
    "from source.visual_genome_to_yolo import read_yolo_metadata\n",
    "# from source.visual_genome_to_yolo import visual_genome_to_yolo_data\n",
    "from source.visual_genome_to_yolo import visual_genome_to_yolo_data_n\n",
    "from source.visual_genome_meta_data import plot_image_with_multiple_bboxes\n",
    "from source.visual_genome_meta_data import get_image_ids\n",
    "from source.yolo_training_structure import distribute_train_val_files as dist_train_val\n"
   ]
  },
  {
   "cell_type": "code",
   "execution_count": null,
   "id": "2a84c3a9-018a-43a7-9e4b-e4c472c49762",
   "metadata": {},
   "outputs": [],
   "source": [
    "def get_file_by_id(data_path, identifier, file_extension):\n",
    "    filenames = []\n",
    "    identifier_underlines = '_' + str(identifier) + '_'\n",
    "    identifier_end = '_' + str(identifier) + '.'\n",
    "    for file in os.listdir(str(data_path)):\n",
    "        id_underline_bool = identifier_underlines in file\n",
    "        id_end_bool = identifier_end in file\n",
    "        id_bool = id_underline_bool or id_end_bool\n",
    "        file_ext_bool = file.endswith(file_extension)\n",
    "        if id_bool and file_ext_bool:\n",
    "            filenames.append(file)\n",
    "            \n",
    "    return filenames"
   ]
  },
  {
   "cell_type": "code",
   "execution_count": null,
   "id": "adebc5b8-12d2-4b2d-a066-14b10222bbb8",
   "metadata": {},
   "outputs": [],
   "source": []
  },
  {
   "cell_type": "code",
   "execution_count": null,
   "id": "4e23d8d2-9587-4769-ae65-cab87e900741",
   "metadata": {},
   "outputs": [],
   "source": []
  },
  {
   "cell_type": "markdown",
   "id": "02d96e0b-2eaa-458f-b17e-9ff2d7d58e64",
   "metadata": {},
   "source": [
    "### 1. Load data about desired object class"
   ]
  },
  {
   "cell_type": "markdown",
   "id": "dc747ce4-3f11-49b5-9d69-cd5e80a2b03d",
   "metadata": {},
   "source": [
    "#### Define paths: "
   ]
  },
  {
   "cell_type": "code",
   "execution_count": null,
   "id": "7b5a0dcb-3e8d-4c0a-a15c-dfe374f88bb8",
   "metadata": {},
   "outputs": [],
   "source": [
    "root_path = Path.cwd()\n",
    "data_path = root_path /'..'/'test_old_photo_effect'\n",
    "yolo_path = root_path /'..'/ 'visual_genome_yolo'\n",
    "originals_path = data_path / 'originals'\n",
    "old_effect_path = data_path / 'old_effect'\n",
    "spec_old_effect_path = data_path / 'old_effect_spec'\n",
    "yolo_path_test = data_path / 'visual_genome_yolo'\n",
    "data_augmented_path = data_path / 'data_augmented'\n",
    "yolo_augmented_path = data_path / 'yolo_augmented'"
   ]
  },
  {
   "cell_type": "code",
   "execution_count": null,
   "id": "a057f754-a75f-4a71-afbc-cfec97e78c0a",
   "metadata": {},
   "outputs": [],
   "source": [
    "root_path"
   ]
  },
  {
   "cell_type": "code",
   "execution_count": null,
   "id": "fbef83b4-1682-482f-8895-364e7a80df47",
   "metadata": {},
   "outputs": [],
   "source": [
    "data_path"
   ]
  },
  {
   "cell_type": "code",
   "execution_count": null,
   "id": "d6f6fae4-e690-4cf6-a0df-e10febf81f7c",
   "metadata": {},
   "outputs": [],
   "source": [
    "yolo_path"
   ]
  },
  {
   "cell_type": "code",
   "execution_count": null,
   "id": "7f83e7a4-979b-427f-9f18-743313a30c7d",
   "metadata": {},
   "outputs": [],
   "source": []
  },
  {
   "cell_type": "code",
   "execution_count": null,
   "id": "51bed6ba-c9a0-4c55-bf10-71afc533749b",
   "metadata": {},
   "outputs": [],
   "source": []
  },
  {
   "cell_type": "markdown",
   "id": "eab32022-6529-43ed-a528-ee1a972676f0",
   "metadata": {},
   "source": [
    "### 2. Put meta data about desired object class into class map"
   ]
  },
  {
   "cell_type": "markdown",
   "id": "8094fb14-fe0c-4a1a-b069-1c09bc7fc7b7",
   "metadata": {},
   "source": [
    "#### Choose the desired object class:"
   ]
  },
  {
   "cell_type": "code",
   "execution_count": null,
   "id": "1af7a288-183e-404c-bbdb-0c54b9a439db",
   "metadata": {},
   "outputs": [],
   "source": [
    "\n",
    "desired_objects = ['church']\n",
    "\n",
    "desired_objects"
   ]
  },
  {
   "cell_type": "markdown",
   "id": "c3b5ee5e-b9ab-47a8-902e-0355b78b7ff9",
   "metadata": {},
   "source": [
    "#### Create class map based on desired objects: "
   ]
  },
  {
   "cell_type": "code",
   "execution_count": null,
   "id": "a749c35a-79a3-4d33-bb67-897af6efb091",
   "metadata": {},
   "outputs": [],
   "source": [
    "class_map = create_class_mapping_from_list(desired_objects)"
   ]
  },
  {
   "cell_type": "code",
   "execution_count": null,
   "id": "d529143a-1794-42e0-868c-276b4c02e308",
   "metadata": {},
   "outputs": [],
   "source": [
    "class_map"
   ]
  },
  {
   "cell_type": "markdown",
   "id": "7c901a54-46ee-4252-8f96-f6a0d3cf86fa",
   "metadata": {},
   "source": [
    "### 6. Plot selected images (with and without desired object class) and use class_map file to plot bounding boxes:"
   ]
  },
  {
   "cell_type": "code",
   "execution_count": null,
   "id": "e46ba2f7-96bd-4581-9806-660a780dd94e",
   "metadata": {},
   "outputs": [],
   "source": [
    "image_id_list = get_image_ids(data_augmented_path)\n",
    "image_id_list.sort()\n",
    "print(len(image_id_list))\n",
    "print(image_id_list[0:3])"
   ]
  },
  {
   "cell_type": "code",
   "execution_count": null,
   "id": "767bd327-673c-43d1-be52-ab17ef90c3da",
   "metadata": {},
   "outputs": [],
   "source": []
  },
  {
   "cell_type": "code",
   "execution_count": null,
   "id": "b27d0da1-e298-49f3-91a9-49c6b665b212",
   "metadata": {},
   "outputs": [],
   "source": [
    "\n",
    "for img_id in image_id_list:\n",
    "    print(img_id)\n",
    "    filename_yolo = get_file_by_id(str(yolo_augmented_path), img_id, '.txt')[0]\n",
    "    filename_image = get_file_by_id(str(data_augmented_path), img_id, '.jpg')[0]\n",
    "    label_path = os.path.join(yolo_augmented_path, filename_yolo)\n",
    "    image_path = os.path.join(data_augmented_path, filename_image)\n",
    "    \n",
    "    labels, bboxes = read_yolo_metadata(label_path, class_map)\n",
    "    class_names = list(labels)\n",
    "    print(class_names)\n",
    "    print(bboxes)\n",
    "\n",
    "    print(image_path)\n",
    "    plot_image_with_multiple_bboxes(image_path, bboxes, class_names)\n",
    "    "
   ]
  },
  {
   "cell_type": "code",
   "execution_count": null,
   "id": "11096246-d176-417a-b86f-cf8dcc8ebc80",
   "metadata": {},
   "outputs": [],
   "source": []
  },
  {
   "cell_type": "code",
   "execution_count": null,
   "id": "bbaac1ca-568b-4129-8631-ce133c42338f",
   "metadata": {},
   "outputs": [],
   "source": []
  },
  {
   "cell_type": "code",
   "execution_count": null,
   "id": "8ffe9257-5ac8-4f06-802b-ead346822689",
   "metadata": {},
   "outputs": [],
   "source": []
  },
  {
   "cell_type": "markdown",
   "id": "d93b53d6-83bc-4d30-80ae-ae3472cda919",
   "metadata": {},
   "source": [
    "## Test conversion to yolo compatible structure for one single image"
   ]
  },
  {
   "cell_type": "code",
   "execution_count": null,
   "id": "b78dd0e7-3fec-4bdb-8a35-dc75a9962758",
   "metadata": {},
   "outputs": [],
   "source": [
    "len(objects[0]['objects'])"
   ]
  },
  {
   "cell_type": "code",
   "execution_count": null,
   "id": "3c7d711b-03e1-4142-981e-67baf27bca57",
   "metadata": {},
   "outputs": [],
   "source": [
    "obj_list = [objects[0]['objects'][idx]['names'][0] for idx in range(0, len(objects[0]['objects']))]\n",
    "obj_list[0:3]"
   ]
  },
  {
   "cell_type": "code",
   "execution_count": null,
   "id": "e768c31d-0470-400d-b98d-c78f8f44b954",
   "metadata": {},
   "outputs": [],
   "source": [
    "len(obj_list)"
   ]
  },
  {
   "cell_type": "code",
   "execution_count": null,
   "id": "b40ed31f-7520-4ca1-8135-423ed31cd1f9",
   "metadata": {},
   "outputs": [],
   "source": [
    "obj_list.sort()\n",
    "obj_list"
   ]
  },
  {
   "cell_type": "code",
   "execution_count": null,
   "id": "e1c03476-7fe7-41ca-8e23-f602edd5406d",
   "metadata": {},
   "outputs": [],
   "source": [
    "#desired_objects = obj_list[0:7]\n",
    "desired_objects = ['shirt']"
   ]
  },
  {
   "cell_type": "code",
   "execution_count": null,
   "id": "476f208f-31e4-4e9e-b343-fe495c39c0b1",
   "metadata": {},
   "outputs": [],
   "source": [
    "obj_list.count('shirt')"
   ]
  },
  {
   "cell_type": "code",
   "execution_count": null,
   "id": "73a85027-7165-4d38-b4d0-c1a4cac9588b",
   "metadata": {},
   "outputs": [],
   "source": [
    "class_map = create_class_mapping_from_list(desired_objects)"
   ]
  },
  {
   "cell_type": "code",
   "execution_count": null,
   "id": "63c66d2d-92d8-4eac-b182-7e9fa8cbe392",
   "metadata": {},
   "outputs": [],
   "source": [
    "class_map"
   ]
  },
  {
   "cell_type": "code",
   "execution_count": null,
   "id": "30ac9a56-fa69-480b-8b69-ed58e7a03f3b",
   "metadata": {},
   "outputs": [],
   "source": []
  },
  {
   "cell_type": "code",
   "execution_count": null,
   "id": "594c76f4-a011-40cb-a200-5d39b905592d",
   "metadata": {},
   "outputs": [],
   "source": [
    "image_dir = data_path/'convert_single_img_test'\n",
    "output_dir = yolo_path/'convert_single_img_test'"
   ]
  },
  {
   "cell_type": "code",
   "execution_count": null,
   "id": "52e11c87-b6a2-4052-b3af-00c58c75199d",
   "metadata": {},
   "outputs": [],
   "source": []
  },
  {
   "cell_type": "code",
   "execution_count": null,
   "id": "6e98d46e-df69-46c3-b606-341c5d10a950",
   "metadata": {},
   "outputs": [],
   "source": [
    "label_path = convert_single_image_to_yolo(objects[0], class_map, image_dir, output_dir)"
   ]
  },
  {
   "cell_type": "code",
   "execution_count": null,
   "id": "0e17bf7e-01fb-4057-9594-f7ff74c2c5b6",
   "metadata": {},
   "outputs": [],
   "source": [
    "label_paths = [label_path]"
   ]
  },
  {
   "cell_type": "code",
   "execution_count": null,
   "id": "d80cb815-179e-4abe-8d96-5e317a968f00",
   "metadata": {},
   "outputs": [],
   "source": [
    "for label_path in label_paths:\n",
    "    print(label_path)\n",
    "    img_id = label_path.split('_')[-1].split('.')[0]\n",
    "    print(img_id)\n",
    "    \n",
    "    labels, bboxes = read_yolo_metadata(label_path, class_map)\n",
    "    class_names = list(labels)\n",
    "    image_path_gen = data_path/'visual_genome_'\n",
    "    image_path = str(image_path_gen) + str(img_id) + '.jpg'\n",
    "    get_image_by_id(\n",
    "    print(image_path)\n",
    "    plot_image_with_multiple_bboxes(image_path, bboxes, class_names)"
   ]
  },
  {
   "cell_type": "code",
   "execution_count": null,
   "id": "e59e70c5-95c7-4925-ba75-bc8fcf4ca78d",
   "metadata": {},
   "outputs": [],
   "source": [
    "get_file_by_id(spec_old_effect_path, 1, '.jpg')[0]"
   ]
  },
  {
   "cell_type": "code",
   "execution_count": null,
   "id": "495cf7d3-17da-41b6-b618-2f5ec9230804",
   "metadata": {},
   "outputs": [],
   "source": [
    "file_path = output_dir/'visual_genome_1.txt'\n",
    "\n",
    "with open(file_path, 'r') as f:\n",
    "   lines = f.readlines()"
   ]
  },
  {
   "cell_type": "code",
   "execution_count": null,
   "id": "4bf26e9a-fa02-4521-abf3-491af5348c2f",
   "metadata": {},
   "outputs": [],
   "source": [
    "lines"
   ]
  },
  {
   "cell_type": "code",
   "execution_count": null,
   "id": "2dbb8977-9828-47d5-88b4-fec4ef22d89d",
   "metadata": {},
   "outputs": [],
   "source": [
    "type(lines)"
   ]
  },
  {
   "cell_type": "code",
   "execution_count": null,
   "id": "49b0315a-1a78-442c-86ff-774f7ad1b82b",
   "metadata": {},
   "outputs": [],
   "source": [
    "len(lines)"
   ]
  },
  {
   "cell_type": "code",
   "execution_count": null,
   "id": "315720ea-617c-4f20-8f82-e647490954fb",
   "metadata": {},
   "outputs": [],
   "source": []
  },
  {
   "cell_type": "code",
   "execution_count": null,
   "id": "a7fac4c8-b47f-4940-b8c5-92fcdfb84411",
   "metadata": {},
   "outputs": [],
   "source": []
  },
  {
   "cell_type": "code",
   "execution_count": null,
   "id": "8898847f-14d7-4584-9ca0-fcffa0178d56",
   "metadata": {},
   "outputs": [],
   "source": []
  }
 ],
 "metadata": {
  "kernelspec": {
   "display_name": "Python 3 (ipykernel)",
   "language": "python",
   "name": "python3"
  },
  "language_info": {
   "codemirror_mode": {
    "name": "ipython",
    "version": 3
   },
   "file_extension": ".py",
   "mimetype": "text/x-python",
   "name": "python",
   "nbconvert_exporter": "python",
   "pygments_lexer": "ipython3",
   "version": "3.12.5"
  }
 },
 "nbformat": 4,
 "nbformat_minor": 5
}
