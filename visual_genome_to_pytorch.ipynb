{
 "cells": [
  {
   "cell_type": "code",
   "execution_count": null,
   "id": "dec97a58-207d-41dd-be35-1131e3940a8a",
   "metadata": {},
   "outputs": [],
   "source": [
    "import os\n",
    "from pathlib import Path\n",
    "import shutil\n",
    "import cv2\n",
    "import numpy as np\n",
    "from PIL import Image, ImageEnhance, ImageFilter\n",
    "import random\n",
    "import matplotlib.pyplot as plt\n",
    "from PIL import Image\n",
    "import pandas as pd"
   ]
  },
  {
   "cell_type": "code",
   "execution_count": null,
   "id": "74379923-3ad0-4904-ab85-40011d7303db",
   "metadata": {},
   "outputs": [],
   "source": [
    "from source.visual_genome_meta_data import read_json_to_dict\n",
    "from source.visual_genome_meta_data import get_image_meta_data\n",
    "from source.visual_genome_meta_data import count_occurrences\n",
    "from source.visual_genome_to_yolo import create_class_mapping_from_list\n",
    "from source.visual_genome_to_yolo import save_class_map_to_yaml\n",
    "from source.visual_genome_to_yolo import convert_single_image_to_yolo\n",
    "from source.visual_genome_to_yolo import read_yaml_to_class_map\n",
    "from source.visual_genome_to_yolo import read_yolo_metadata\n",
    "from source.visual_genome_to_yolo import visual_genome_to_yolo_data_n\n",
    "from source.visual_genome_meta_data import plot_image_with_multiple_bboxes\n",
    "from source.visual_genome_meta_data import get_image_ids\n",
    "from source.yolo_training_structure import distribute_train_val_files as dist_train_val\n",
    "from source.visual_genome_data import get_file_by_id\n"
   ]
  },
  {
   "cell_type": "code",
   "execution_count": null,
   "id": "dc73b3d7-7a1d-407e-9139-2eeb38dbce3c",
   "metadata": {},
   "outputs": [],
   "source": [
    "\n",
    "def select_img_ids_with_obj(desired_objects, data_path, objects, image_ids_present, with_obj = True):\n",
    "    \n",
    "    occurrence_counts = dict.fromkeys(desired_objects, 0)\n",
    "    \n",
    "    selected_image_ids = []\n",
    "    \n",
    "    round_counter = 0\n",
    "    image_counter = 0\n",
    "    \n",
    "    for idx in list(range(len(objects))):\n",
    "    \n",
    "        image_id = objects[idx]['image_id']\n",
    "        #print(image_id)\n",
    "        if image_id not in image_ids_present:\n",
    "            #print('continue')\n",
    "            continue\n",
    "        #print(image_id)\n",
    "        \n",
    "        names = []\n",
    "        for idx_obj in list(range(len(objects[idx]['objects']))):\n",
    "            name = objects[idx]['objects'][idx_obj]['names']\n",
    "            #print(name)\n",
    "            names.extend(name)\n",
    "        #print(names)\n",
    "        \n",
    "        inter_set = set(desired_objects).intersection(set(names))\n",
    "    \n",
    "        #count_occurrences(occurrence_counts, names)\n",
    "        inter_set = set(desired_objects).intersection(set(names))\n",
    "        if (len(inter_set) > 0) and with_obj: \n",
    "            count_occurrences(occurrence_counts, names)\n",
    "            image_counter += 1\n",
    "            selected_image_ids.append(image_id)\n",
    "        elif (len(inter_set) == 0) and not with_obj: \n",
    "            count_occurrences(occurrence_counts, names)\n",
    "            image_counter += 1\n",
    "            selected_image_ids.append(image_id)\n",
    "        \n",
    "        round_counter += 1\n",
    "        #print(round_counter)\n",
    "        #print(round_counter > 7)\n",
    "    return selected_image_ids\n"
   ]
  },
  {
   "cell_type": "code",
   "execution_count": null,
   "id": "2ecf41eb-5dd7-45d7-9485-f9369bf07e25",
   "metadata": {},
   "outputs": [],
   "source": [
    "def load_image_paths(image_directory, extensions=('.jpg', '.jpeg', '.tif', '.tiff')):\n",
    "    \"\"\"\n",
    "    Load all image file paths from a directory.\n",
    "    \n",
    "    Args:\n",
    "        image_directory (str): Path to directory containing images\n",
    "        extensions (tuple): Allowed file extensions\n",
    "        \n",
    "    Returns:\n",
    "        list: Sorted list of image file paths\n",
    "    \"\"\"\n",
    "    image_paths = []\n",
    "    image_dir = Path(image_directory)\n",
    "    \n",
    "    if not image_dir.exists():\n",
    "        raise FileNotFoundError(f\"Directory {image_directory} does not exist\")\n",
    "    \n",
    "    for ext in extensions:\n",
    "        # Find files with current extension (case insensitive)\n",
    "        image_paths.extend(image_dir.glob(f\"*{ext}\"))\n",
    "        image_paths.extend(image_dir.glob(f\"*{ext.upper()}\"))\n",
    "    \n",
    "    # Sort paths to ensure consistent ordering\n",
    "    image_paths = sorted([str(path) for path in image_paths])\n",
    "    \n",
    "    print(f\"Found {len(image_paths)} images in {image_directory}\")\n",
    "    return image_paths"
   ]
  },
  {
   "cell_type": "code",
   "execution_count": null,
   "id": "d86e8dcb-caf5-401e-aff2-7f430ca1fce4",
   "metadata": {},
   "outputs": [],
   "source": [
    "from pathlib import Path\n",
    "from PIL import Image\n",
    "\n",
    "\n",
    "def meets_size_requirements(image_path, minimum_side_length):\n",
    "    \"\"\"\n",
    "    Check if image meets minimum size requirements.\n",
    "    \n",
    "    Args:\n",
    "        image_path (str): Path to image file\n",
    "        minimum_side_length (int): Minimum required dimension for both height and width\n",
    "        \n",
    "    Returns:\n",
    "        tuple: (meets_requirements, width, height) or (False, None, None) if error\n",
    "    \"\"\"\n",
    "    try:\n",
    "        with Image.open(image_path) as img:\n",
    "            width, height = img.size\n",
    "            meets_req = width >= minimum_side_length and height >= minimum_side_length\n",
    "            return meets_req, width, height\n",
    "    except Exception as e:\n",
    "        print(f\"Error checking {image_path}: {e}\")\n",
    "        return False, None, None\n",
    "\n",
    "\n",
    "def downsample_image(image, minimum_side_length):\n",
    "    \"\"\"\n",
    "    Downsample image so that the smaller dimension equals minimum_side_length.\n",
    "    Preserves aspect ratio.\n",
    "    \n",
    "    Args:\n",
    "        image (PIL.Image): Input image\n",
    "        minimum_side_length (int): Target size for smaller dimension\n",
    "        \n",
    "    Returns:\n",
    "        PIL.Image: Downsampled image\n",
    "    \"\"\"\n",
    "    width, height = image.size\n",
    "    \n",
    "    # If both dimensions are already equal to minimum_side_length, no downsampling needed\n",
    "    if min(width, height) == minimum_side_length:\n",
    "        return image\n",
    "    \n",
    "    # Calculate new dimensions maintaining aspect ratio\n",
    "    if width < height:\n",
    "        new_width = minimum_side_length\n",
    "        new_height = int((height * minimum_side_length) / width)\n",
    "    else:\n",
    "        new_height = minimum_side_length\n",
    "        new_width = int((width * minimum_side_length) / height)\n",
    "    \n",
    "    return image.resize((new_width, new_height), Image.Resampling.LANCZOS)\n",
    "\n",
    "\n",
    "def center_crop_to_square(image, side_length):\n",
    "    \"\"\"\n",
    "    Center crop image to square shape.\n",
    "    \n",
    "    Args:\n",
    "        image (PIL.Image): Input image\n",
    "        side_length (int): Side length of output square\n",
    "        \n",
    "    Returns:\n",
    "        PIL.Image: Square cropped image\n",
    "    \"\"\"\n",
    "    width, height = image.size\n",
    "    \n",
    "    # Calculate center crop coordinates\n",
    "    left = (width - side_length) // 2\n",
    "    top = (height - side_length) // 2\n",
    "    right = left + side_length\n",
    "    bottom = top + side_length\n",
    "    \n",
    "    return image.crop((left, top, right, bottom))\n",
    "\n",
    "\n",
    "def generate_processed_filename(original_path, tag=\"proc\"):\n",
    "    \"\"\"\n",
    "    Generate new filename with processing tag while preserving identifier.\n",
    "    \n",
    "    Args:\n",
    "        original_path (str): Original file path\n",
    "        tag (str): Processing tag to insert\n",
    "        \n",
    "    Returns:\n",
    "        str: New filename with tag\n",
    "        \n",
    "    Example: visual_genome_23.jpg -> visual_genome_proc_23.jpg\n",
    "    \"\"\"\n",
    "    path_obj = Path(original_path)\n",
    "    name_parts = path_obj.stem.split('_')\n",
    "    \n",
    "    if len(name_parts) >= 2:\n",
    "        # Insert tag before the last part (identifier)\n",
    "        identifier = name_parts[-1]\n",
    "        base_parts = name_parts[:-1]\n",
    "        new_name = '_'.join(base_parts + [tag, identifier])\n",
    "    else:\n",
    "        # If no underscore structure, just add tag before extension\n",
    "        new_name = f\"{path_obj.stem}_{tag}\"\n",
    "    \n",
    "    return f\"{new_name}{path_obj.suffix}\"\n",
    "\n",
    "\n",
    "def select_downsize_images(image_paths, output_directory, minimum_side_length):\n",
    "    \"\"\"\n",
    "    Select, downsize, and crop images according to specifications.\n",
    "    \n",
    "    Args:\n",
    "        image_paths (list): List of image file paths\n",
    "        output_directory (str): Directory to save processed images\n",
    "        minimum_side_length (int): Minimum side length for filtering and final square size\n",
    "        \n",
    "    Returns:\n",
    "        list: Paths to processed images\n",
    "    \"\"\"\n",
    "    # Create output directory if it doesn't exist\n",
    "    output_path = Path(output_directory)\n",
    "    output_path.mkdir(parents=True, exist_ok=True)\n",
    "    \n",
    "    if not image_paths:\n",
    "        #print(\"No image paths provided\")\n",
    "        return []\n",
    "    \n",
    "    processed_paths = []\n",
    "    selected_count = 0\n",
    "    \n",
    "    #print(f\"Processing {len(image_paths)} images with minimum side length: {minimum_side_length}\")\n",
    "    #print(f\"Output directory: {output_directory}\")\n",
    "    \n",
    "    for i, image_path in enumerate(image_paths):\n",
    "        # Step 1: Check size requirements\n",
    "        meets_req, width, height = meets_size_requirements(image_path, minimum_side_length)\n",
    "        \n",
    "        if not meets_req:\n",
    "            #if width is not None and height is not None:\n",
    "            #    print(f\"Skipping {Path(image_path).name}: size {width}x{height} too small\")\n",
    "            continue\n",
    "        \n",
    "        selected_count += 1\n",
    "        \n",
    "        try:\n",
    "            # Load image\n",
    "            with Image.open(image_path) as img:\n",
    "                processed_img = img.copy()\n",
    "            \n",
    "            # Step 2: Downsample if needed\n",
    "            if min(width, height) > minimum_side_length:\n",
    "                processed_img = downsample_image(processed_img, minimum_side_length)\n",
    "                #print(f\"Downsampled {Path(image_path).name}: {width}x{height} -> {processed_img.size}\")\n",
    "            \n",
    "            # Step 3: Center crop to square\n",
    "            processed_img = center_crop_to_square(processed_img, minimum_side_length)\n",
    "            \n",
    "            # Step 4: Generate new filename and save\n",
    "            new_filename = generate_processed_filename(image_path)\n",
    "            output_path_full = output_path / new_filename\n",
    "            \n",
    "            # Save in original format\n",
    "            processed_img.save(output_path_full)\n",
    "            processed_paths.append(str(output_path_full))\n",
    "            \n",
    "            #print(f\"Processed: {Path(image_path).name} -> {new_filename}\")\n",
    "            \n",
    "        except Exception as e:\n",
    "            #print(f\"Error processing {image_path}: {e}\")\n",
    "            continue\n",
    "        \n",
    "        # Progress indicator\n",
    "        if selected_count % 50 == 0:\n",
    "            print(f\"Processed {selected_count} images...\")\n",
    "    \n",
    "    print(f\"\\nCompleted processing:\")\n",
    "    print(f\"Total images found: {len(image_paths)}\")\n",
    "    print(f\"Images meeting size requirements: {selected_count}\")\n",
    "    print(f\"Successfully processed: {len(processed_paths)}\")\n",
    "    print(f\"Final image size: {minimum_side_length}x{minimum_side_length}\")\n",
    "    \n",
    "    return processed_paths"
   ]
  },
  {
   "cell_type": "code",
   "execution_count": null,
   "id": "f46f6242-ae9a-463b-a45a-b6cccae92f90",
   "metadata": {},
   "outputs": [],
   "source": [
    "def analyze_image_sizes(image_paths, extensions=('.jpg', '.jpeg', '.tif', '.tiff')):\n",
    "   \"\"\"\n",
    "   Analyze image sizes in a directory to help determine appropriate target_size.\n",
    "   \n",
    "   Args:\n",
    "       image_paths (list): Paths to all images\n",
    "       extensions (tuple): Allowed file extensions\n",
    "       \n",
    "   Returns:\n",
    "       dict: Dictionary containing size analysis results\n",
    "   \"\"\"\n",
    "   \n",
    "   if not image_paths:\n",
    "       print(\"No images found in directory\")\n",
    "       return None\n",
    "   \n",
    "   sizes = []\n",
    "   widths = []\n",
    "   heights = []\n",
    "   failed_images = []\n",
    "   \n",
    "   print(f\"Analyzing {len(image_paths)} images...\")\n",
    "   \n",
    "   # Analyze each image\n",
    "   for i, image_path in enumerate(image_paths):\n",
    "       try:\n",
    "           with Image.open(image_path) as img:\n",
    "               width, height = img.size\n",
    "               sizes.append((width, height))\n",
    "               widths.append(width)\n",
    "               heights.append(height)\n",
    "       except Exception as e:\n",
    "           failed_images.append((image_path, str(e)))\n",
    "           print(f\"Failed to read {image_path}: {e}\")\n",
    "       \n",
    "       # Progress indicator for large datasets\n",
    "       if (i + 1) % 100 == 0:\n",
    "           print(f\"Processed {i + 1}/{len(image_paths)} images...\")\n",
    "   \n",
    "   if not sizes:\n",
    "       print(\"No valid images found\")\n",
    "       return None\n",
    "   \n",
    "   # Calculate statistics\n",
    "   unique_sizes = list(set(sizes))\n",
    "   all_same_size = len(unique_sizes) == 1\n",
    "   \n",
    "   min_width = min(widths)\n",
    "   max_width = max(widths)\n",
    "   avg_width = sum(widths) / len(widths)\n",
    "   \n",
    "   min_height = min(heights)\n",
    "   max_height = max(heights)\n",
    "   avg_height = sum(heights) / len(heights)\n",
    "   \n",
    "   # Calculate quartiles\n",
    "   import numpy as np\n",
    "   width_q25, width_median, width_q75 = np.percentile(widths, [25, 50, 75])\n",
    "   height_q25, height_median, height_q75 = np.percentile(heights, [25, 50, 75])\n",
    "   \n",
    "   min_size = (min_width, min_height)\n",
    "   max_size = (max_width, max_height)\n",
    "   avg_size = (avg_width, avg_height)\n",
    "   \n",
    "   # Create results dictionary\n",
    "   results = {\n",
    "       'total_images': len(image_paths),\n",
    "       'valid_images': len(sizes),\n",
    "       'failed_images': len(failed_images),\n",
    "       'all_same_size': all_same_size,\n",
    "       'unique_sizes_count': len(unique_sizes),\n",
    "       'min_size': min_size,\n",
    "       'max_size': max_size,\n",
    "       'avg_size': avg_size,\n",
    "       'min_width': min_width,\n",
    "       'max_width': max_width,\n",
    "       'avg_width': avg_width,\n",
    "       'min_height': min_height,\n",
    "       'max_height': max_height,\n",
    "       'avg_height': avg_height,\n",
    "       'width_q25': width_q25,\n",
    "       'width_median': width_median,\n",
    "       'width_q75': width_q75,\n",
    "       'height_q25': height_q25,\n",
    "       'height_median': height_median,\n",
    "       'height_q75': height_q75,\n",
    "       'failed_images': failed_images\n",
    "   }\n",
    "   \n",
    "   # Print summary\n",
    "   print(\"\\n\" + \"=\"*50)\n",
    "   print(\"IMAGE SIZE ANALYSIS SUMMARY\")\n",
    "   print(\"=\"*50)\n",
    "   print(f\"Total images found: {results['total_images']}\")\n",
    "   print(f\"Valid images: {results['valid_images']}\")\n",
    "   print(f\"Failed to read: {results['failed_images']}\")\n",
    "   print(f\"\\nAll images same size: {'Yes' if all_same_size else 'No'}\")\n",
    "   print(f\"Number of unique sizes: {results['unique_sizes_count']}\")\n",
    "   \n",
    "   print(f\"\\nSize ranges:\")\n",
    "   print(f\"  Minimum size: {min_size[0]} x {min_size[1]}\")\n",
    "   print(f\"  Maximum size: {max_size[0]} x {max_size[1]}\")\n",
    "   print(f\"  Average size: {avg_size[0]:.1f} x {avg_size[1]:.1f}\")\n",
    "   \n",
    "   print(f\"\\nWidth range: {min_width} - {max_width} (avg: {avg_width:.1f})\")\n",
    "   print(f\"Width quartiles: Q25={width_q25:.1f}, Median={width_median:.1f}, Q75={width_q75:.1f}\")\n",
    "   print(f\"Height range: {min_height} - {max_height} (avg: {avg_height:.1f})\")\n",
    "   print(f\"Height quartiles: Q25={height_q25:.1f}, Median={height_median:.1f}, Q75={height_q75:.1f}\")\n",
    "   \n",
    "   if results['failed_images']:\n",
    "       print(f\"\\nFailed images:\")\n",
    "       for path, error in results['failed_images'][:5]:  # Show first 5 failures\n",
    "           print(f\"  {path}: {error}\")\n",
    "       if len(results['failed_images']) > 5:\n",
    "           print(f\"  ... and {len(results['failed_images']) - 5} more\")\n",
    "   \n",
    "   # Suggest target size\n",
    "   if all_same_size:\n",
    "       print(f\"\\nRecommendation: Use target_size={min_size} (all images are the same size)\")\n",
    "   else:\n",
    "       # Suggest a reasonable target size based on minimum dimensions\n",
    "       suggested_size = min(min_width, min_height)\n",
    "       # Round to common sizes\n",
    "       common_sizes = [28, 32, 64, 128, 224, 256, 512]\n",
    "       suggested_size = min(common_sizes, key=lambda x: abs(x - suggested_size))\n",
    "       print(f\"\\nRecommendation: Consider target_size=({suggested_size}, {suggested_size})\")\n",
    "       print(f\"  (Based on minimum dimension and common image sizes)\")\n",
    "   \n",
    "   return results"
   ]
  },
  {
   "cell_type": "code",
   "execution_count": null,
   "id": "c46d130f-37cd-42d0-a855-cb142303a5f3",
   "metadata": {},
   "outputs": [],
   "source": [
    "def get_file_paths_by_id(data_path, identifiers, file_extension):\n",
    "    file_paths = []\n",
    "    for ids in identifiers:\n",
    "        file_name = get_file_by_id(data_path, ids, file_extension)\n",
    "        if len(file_name) > 1:\n",
    "            print('more than one image')\n",
    "        file_path = data_path / file_name[0]\n",
    "        file_paths.append(file_path)\n",
    "    return file_paths"
   ]
  },
  {
   "cell_type": "markdown",
   "id": "dc747ce4-3f11-49b5-9d69-cd5e80a2b03d",
   "metadata": {},
   "source": [
    "### Define paths: "
   ]
  },
  {
   "cell_type": "code",
   "execution_count": null,
   "id": "f49f0dc7-aadf-47c3-9d7a-7811b695364c",
   "metadata": {},
   "outputs": [],
   "source": [
    "#root_path = Path('/Users/stephanehess/Documents/CAS_AML/dias_digit_project')\n",
    "\n",
    "\n",
    "project_path = Path.cwd()\n",
    "root_path = (project_path / '..').resolve()\n",
    "\n",
    "#root_path = Path('/Users/stephanehess/Documents/CAS_AML/dias_digit_project/test_yolo_object_train')\n",
    "data_path = root_path / 'visual_genome_data'\n",
    "data_proc_path = root_path / 'visual_genome_proc_data'\n",
    "#data_path = root_path / 'visual_genome_data_all'\n",
    "#yolo_path = root_path / 'visual_genome_yolo'\n",
    "#yolo_path = root_path / 'visual_genome_yolo_all'"
   ]
  },
  {
   "cell_type": "code",
   "execution_count": null,
   "id": "5fb3f33f-1ad1-46dc-bd65-08cb0b45ce99",
   "metadata": {},
   "outputs": [],
   "source": [
    "root_path"
   ]
  },
  {
   "cell_type": "code",
   "execution_count": null,
   "id": "20aa548f-9685-4f07-85d6-107199f35265",
   "metadata": {},
   "outputs": [],
   "source": [
    "data_path"
   ]
  },
  {
   "cell_type": "code",
   "execution_count": null,
   "id": "12674e56-532b-40d4-a5d1-2ccb4e095001",
   "metadata": {},
   "outputs": [],
   "source": [
    "data_proc_path"
   ]
  },
  {
   "cell_type": "code",
   "execution_count": null,
   "id": "9104101e-e113-4a5b-85d7-6f9c64fe36c8",
   "metadata": {},
   "outputs": [],
   "source": [
    "image_paths = load_image_paths(data_path, '.jpg')"
   ]
  },
  {
   "cell_type": "code",
   "execution_count": null,
   "id": "af75fa87-43fb-41da-bfc5-372660d464ea",
   "metadata": {},
   "outputs": [],
   "source": [
    "results = analyze_image_sizes(image_paths, extensions=('.jpg', '.jpeg', '.tif', '.tiff'))\n",
    "results"
   ]
  },
  {
   "cell_type": "markdown",
   "id": "f96414e7-b486-4356-bd5d-2326db147cd9",
   "metadata": {},
   "source": [
    "### Define minimum required side length for processed images to be used later:"
   ]
  },
  {
   "cell_type": "code",
   "execution_count": null,
   "id": "370db129-2fac-4abb-95e3-6e0eb90059dd",
   "metadata": {},
   "outputs": [],
   "source": [
    "minimum_side_length = 320"
   ]
  },
  {
   "cell_type": "code",
   "execution_count": null,
   "id": "fe76eaf1-bca9-4dfa-ac20-778a794c73d1",
   "metadata": {},
   "outputs": [],
   "source": []
  },
  {
   "cell_type": "markdown",
   "id": "0b66ee74-e9a6-4ea5-ac90-4e1407e6970d",
   "metadata": {},
   "source": [
    "### Select image paths of images with minimum_side_length or bigger, downsize them if necessary, and save images in data_proc_path"
   ]
  },
  {
   "cell_type": "code",
   "execution_count": null,
   "id": "c06e8893-de9c-49f0-8b13-d9afa0caf9fc",
   "metadata": {},
   "outputs": [],
   "source": [
    "\n",
    "\n",
    "# Then preprocess using the paths directly\n",
    "processed_paths = select_downsize_images(\n",
    "    image_paths=image_paths,\n",
    "    output_directory=data_proc_path,\n",
    "    minimum_side_length=minimum_side_length\n",
    ")"
   ]
  },
  {
   "cell_type": "code",
   "execution_count": null,
   "id": "4733d249-0ff7-41c1-8629-67a38fd057bd",
   "metadata": {},
   "outputs": [],
   "source": []
  },
  {
   "cell_type": "markdown",
   "id": "ce525404-23c9-4949-a97d-095a66a5ac37",
   "metadata": {},
   "source": [
    "### Read in objects file with meta data about visual genome data: "
   ]
  },
  {
   "cell_type": "code",
   "execution_count": null,
   "id": "dc77fa7e-9aab-4c3a-923a-764bc220bd6c",
   "metadata": {},
   "outputs": [],
   "source": [
    "objects_file_path = data_path/'objects.json'\n"
   ]
  },
  {
   "cell_type": "code",
   "execution_count": null,
   "id": "23cdad0b-02bb-4009-b078-eec600d79e4e",
   "metadata": {},
   "outputs": [],
   "source": [
    "objects = read_json_to_dict(objects_file_path)"
   ]
  },
  {
   "cell_type": "markdown",
   "id": "28d482a4-18e4-46df-9330-eba87a9ca925",
   "metadata": {},
   "source": [
    "### Get image identifiers of images in directory: "
   ]
  },
  {
   "cell_type": "code",
   "execution_count": null,
   "id": "d860b1b3-0f38-42cf-b2d4-e36597bd91ee",
   "metadata": {},
   "outputs": [],
   "source": [
    "image_ids_present = get_image_ids(data_proc_path)\n",
    "image_ids_present.sort()\n",
    "len(image_ids_present)"
   ]
  },
  {
   "cell_type": "code",
   "execution_count": null,
   "id": "0c2d65a6-bac2-4e90-a037-5b5a4fbb3fff",
   "metadata": {},
   "outputs": [],
   "source": []
  },
  {
   "cell_type": "markdown",
   "id": "8094fb14-fe0c-4a1a-b069-1c09bc7fc7b7",
   "metadata": {},
   "source": [
    "### Choose the desired objects from visual genome and attribute new object class name:"
   ]
  },
  {
   "cell_type": "code",
   "execution_count": null,
   "id": "1af7a288-183e-404c-bbdb-0c54b9a439db",
   "metadata": {},
   "outputs": [],
   "source": [
    "#desired_objects = ['forest', 'mountain', 'mountains', 'building', 'house', \n",
    "#                   'church', 'city', 'village', 'lake', 'river', 'stream', 'glacier']\n",
    "\n",
    "#desired_objects = ['mountain']\n",
    "#desired_objects = ['church']\n",
    "#desired_objects = ['lighthouse']\n"
   ]
  },
  {
   "cell_type": "code",
   "execution_count": null,
   "id": "7274906f-2f4f-4cde-a3df-e45b28caacdc",
   "metadata": {},
   "outputs": [],
   "source": [
    "#desired_objects = ['mountain', 'mountains', 'hill', 'hills', \n",
    "#                       'church', 'city', 'village', 'lake', 'river', 'stream', \n",
    "#                       'glacier', 'water body', 'watercourse', 'waters', 'man']\n",
    "\n",
    "#desired_objects = ['church']\n",
    "\n",
    "#desired_objects = ['mountain', 'mountains']\n",
    "\n",
    "\n",
    "desired_objects = ['house', 'building', 'village', 'city', 'church']\n",
    "new_object_class_name = 'buildings'"
   ]
  },
  {
   "cell_type": "code",
   "execution_count": null,
   "id": "b182e1f5-b29a-4bff-bdc5-edd0067dbe00",
   "metadata": {},
   "outputs": [],
   "source": []
  },
  {
   "cell_type": "markdown",
   "id": "d4d8aa7c-0d4c-44f0-8734-75e759230da5",
   "metadata": {},
   "source": [
    "### Get file paths with desired object class:"
   ]
  },
  {
   "cell_type": "code",
   "execution_count": null,
   "id": "1c023de3-2ad2-4975-aafb-eafd6bf00361",
   "metadata": {},
   "outputs": [],
   "source": [
    "selected_image_ids_with = select_img_ids_with_obj(desired_objects, data_proc_path, objects, image_ids_present)\n",
    "number_imgs_with = len(selected_image_ids_with)\n",
    "print(number_imgs_with)\n",
    "print(selected_image_ids_with[0:3])"
   ]
  },
  {
   "cell_type": "raw",
   "id": "bdb8cdc6-c163-4f7c-bf37-608ffba3a2fc",
   "metadata": {},
   "source": [
    "file_paths_with = []\n",
    "for ids in selected_image_ids_with:\n",
    "    file_name = get_file_by_id(data_path, ids, '.jpg')\n",
    "    if len(file_name) > 1:\n",
    "        print('more than one image')\n",
    "    file_path = data_path / file_name[0]\n",
    "    file_paths_with.append(file_path)\n",
    "print(len(file_paths_with))\n",
    "print(file_paths_with[0:3])\n",
    "\n"
   ]
  },
  {
   "cell_type": "code",
   "execution_count": null,
   "id": "4fadb2e7-ec66-4246-875a-82e1d956c531",
   "metadata": {},
   "outputs": [],
   "source": [
    "file_paths_with = get_file_paths_by_id(data_proc_path, selected_image_ids_with, '.jpg')\n",
    "print(len(file_paths_with))\n",
    "print(file_paths_with[0:3])"
   ]
  },
  {
   "cell_type": "code",
   "execution_count": null,
   "id": "bb9db26d-4861-4f8e-905b-28ee2aa81e4b",
   "metadata": {},
   "outputs": [],
   "source": [
    "file_paths_with[0:3]"
   ]
  },
  {
   "cell_type": "code",
   "execution_count": null,
   "id": "e06093dd-0ba6-484f-af78-aee6108b16c6",
   "metadata": {},
   "outputs": [],
   "source": [
    "iter_count = 0\n",
    "for file_path in file_paths_with:\n",
    "\n",
    "    image = Image.open(file_path)\n",
    "    \n",
    "    plt.figure(figsize=(8, 6))\n",
    "    plt.imshow(image)\n",
    "    plt.axis('off')\n",
    "    plt.show()\n",
    "    iter_count += 1\n",
    "    if iter_count > 3:\n",
    "        break"
   ]
  },
  {
   "cell_type": "markdown",
   "id": "4c16bc34-7d0e-44c7-95c3-b5824bbb62dd",
   "metadata": {},
   "source": [
    "### Make labels for images with object class: "
   ]
  },
  {
   "cell_type": "code",
   "execution_count": null,
   "id": "2187854c-8b6b-40bb-91db-c9b4e9b8d88f",
   "metadata": {},
   "outputs": [],
   "source": [
    "labels_with = [1] * len(file_paths_with)\n",
    "print(len(labels_with))\n",
    "print(labels_with[0:3])"
   ]
  },
  {
   "cell_type": "code",
   "execution_count": null,
   "id": "a70007dc-c218-424d-afc6-02c77ceb3ed5",
   "metadata": {},
   "outputs": [],
   "source": []
  },
  {
   "cell_type": "markdown",
   "id": "17773d23-b313-4d2b-8e95-fd52cfb3eea7",
   "metadata": {},
   "source": [
    "### Get file paths without desired object class:"
   ]
  },
  {
   "cell_type": "code",
   "execution_count": null,
   "id": "7494bfac-8c17-4cbc-9237-b5169f3e5beb",
   "metadata": {},
   "outputs": [],
   "source": [
    "selected_image_ids_without_o = select_img_ids_with_obj(desired_objects, data_proc_path, objects, image_ids_present, with_obj=False)\n",
    "len(selected_image_ids_without_o)"
   ]
  },
  {
   "cell_type": "code",
   "execution_count": null,
   "id": "e8148a0c-fea5-4e06-8169-65d1289f32af",
   "metadata": {},
   "outputs": [],
   "source": []
  },
  {
   "cell_type": "code",
   "execution_count": null,
   "id": "bbaac1ca-568b-4129-8631-ce133c42338f",
   "metadata": {},
   "outputs": [],
   "source": [
    "import random"
   ]
  },
  {
   "cell_type": "code",
   "execution_count": null,
   "id": "0b4e06c0-5906-4f66-96aa-8c04f596e409",
   "metadata": {},
   "outputs": [],
   "source": [
    "# Randomly draw the same number of images without as there are images with the object class:\n",
    "selected_image_ids_without = random.sample(selected_image_ids_without_o, number_imgs_with)"
   ]
  },
  {
   "cell_type": "raw",
   "id": "fea2c12e-37cf-4f82-9cd2-f538aa3f1e05",
   "metadata": {},
   "source": [
    "file_paths_without = []\n",
    "for ids in selected_image_ids_without:\n",
    "    file_path = get_file_by_id(data_path, ids, '.jpg')\n",
    "    if len(file_path) > 1:\n",
    "        print('more than one image')\n",
    "    file_paths_without.append(file_path[0])"
   ]
  },
  {
   "cell_type": "code",
   "execution_count": null,
   "id": "ac5277ef-f800-4e35-9404-82cef057f08c",
   "metadata": {},
   "outputs": [],
   "source": [
    "file_paths_without = get_file_paths_by_id(data_proc_path, selected_image_ids_without, '.jpg')\n",
    "print(len(file_paths_without))\n",
    "print(file_paths_without[0:3])"
   ]
  },
  {
   "cell_type": "code",
   "execution_count": null,
   "id": "34c0b3ea-8116-483e-9620-864ff0fad6e6",
   "metadata": {},
   "outputs": [],
   "source": [
    "iter_count = 0\n",
    "for file_path in file_paths_without:\n",
    "\n",
    "    image = Image.open(file_path)\n",
    "    \n",
    "    plt.figure(figsize=(8, 6))\n",
    "    plt.imshow(image)\n",
    "    plt.axis('off')\n",
    "    plt.show()\n",
    "    iter_count += 1\n",
    "    if iter_count > 10:\n",
    "        break"
   ]
  },
  {
   "cell_type": "markdown",
   "id": "c98cce3b-a576-4d92-a12d-f53b1b958559",
   "metadata": {},
   "source": [
    "### Make labels for images without object class: "
   ]
  },
  {
   "cell_type": "code",
   "execution_count": null,
   "id": "8ff2ac40-7e6e-40e8-b819-c909d969fcfe",
   "metadata": {},
   "outputs": [],
   "source": [
    "labels_without = [0] * len(file_paths_without)\n",
    "print(len(labels_without))\n",
    "print(labels_without[0:3])"
   ]
  },
  {
   "cell_type": "code",
   "execution_count": null,
   "id": "815b8c81-4860-470c-8aee-630d7a45ef4d",
   "metadata": {},
   "outputs": [],
   "source": []
  },
  {
   "cell_type": "markdown",
   "id": "d8c876cc-b3c0-4fb1-bc99-767868eb9295",
   "metadata": {},
   "source": [
    "### Make meta data file: "
   ]
  },
  {
   "cell_type": "code",
   "execution_count": null,
   "id": "1e9956b7-c972-4fdd-b163-fef7f022d0fd",
   "metadata": {},
   "outputs": [],
   "source": [
    "selected_image_ids_all = selected_image_ids_with + selected_image_ids_without\n",
    "file_paths_all = file_paths_with + file_paths_without\n",
    "labels_all = labels_with + labels_without"
   ]
  },
  {
   "cell_type": "code",
   "execution_count": null,
   "id": "43e9e904-b7e3-4b6a-9f57-bbf500d0202b",
   "metadata": {},
   "outputs": [],
   "source": [
    "print(len(selected_image_ids_all))\n",
    "print(len(file_paths_all))\n",
    "print(len(labels_all))"
   ]
  },
  {
   "cell_type": "code",
   "execution_count": null,
   "id": "5a7c6de7-f190-4ddf-954d-ac2bed7371ee",
   "metadata": {},
   "outputs": [],
   "source": [
    "#labels = pd.DataFrame({'image_id': selected_image_ids_all, 'file_paths': file_paths_all, 'mountains': labels_all})\n",
    "labels = pd.DataFrame({'image_id': selected_image_ids_all, 'file_paths': file_paths_all, new_object_class_name: labels_all})\n",
    "\n",
    "labels.head()"
   ]
  },
  {
   "cell_type": "code",
   "execution_count": null,
   "id": "2f900fbe-470f-4f70-b2f2-54bac3c96b10",
   "metadata": {},
   "outputs": [],
   "source": [
    "labels_file_path = data_proc_path / 'labels.csv'"
   ]
  },
  {
   "cell_type": "code",
   "execution_count": null,
   "id": "f1252ec0-adde-4044-a1da-a931f48aa35b",
   "metadata": {},
   "outputs": [],
   "source": [
    "labels.to_csv(labels_file_path, index=False, sep=',', encoding='utf-8')"
   ]
  },
  {
   "cell_type": "code",
   "execution_count": null,
   "id": "826bca40-caa2-4941-b286-04a9a22f52d1",
   "metadata": {},
   "outputs": [],
   "source": [
    "data_path"
   ]
  },
  {
   "cell_type": "code",
   "execution_count": null,
   "id": "28d69cb6-1d91-4dbb-b449-7782c918e7ca",
   "metadata": {},
   "outputs": [],
   "source": []
  },
  {
   "cell_type": "code",
   "execution_count": null,
   "id": "f18c4ef2-dad8-4a6c-8b93-33360e73fe2f",
   "metadata": {},
   "outputs": [],
   "source": []
  },
  {
   "cell_type": "code",
   "execution_count": null,
   "id": "c3f39235-5e22-48fb-926b-5d62789742a8",
   "metadata": {},
   "outputs": [],
   "source": []
  },
  {
   "cell_type": "code",
   "execution_count": null,
   "id": "9aa4c995-02c4-47f5-ab1c-c6a1ffe315aa",
   "metadata": {},
   "outputs": [],
   "source": []
  },
  {
   "cell_type": "code",
   "execution_count": null,
   "id": "4e57a215-5df4-4c09-a3a9-33c9da2308cb",
   "metadata": {},
   "outputs": [],
   "source": []
  },
  {
   "cell_type": "code",
   "execution_count": null,
   "id": "2fa8a36f-ead9-4ff3-ac03-0aba5a3f48f8",
   "metadata": {},
   "outputs": [],
   "source": []
  },
  {
   "cell_type": "code",
   "execution_count": null,
   "id": "9be5f529-1256-4b9c-a77a-316695fd51c9",
   "metadata": {},
   "outputs": [],
   "source": []
  }
 ],
 "metadata": {
  "kernelspec": {
   "display_name": "Python 3 (ipykernel)",
   "language": "python",
   "name": "python3"
  },
  "language_info": {
   "codemirror_mode": {
    "name": "ipython",
    "version": 3
   },
   "file_extension": ".py",
   "mimetype": "text/x-python",
   "name": "python",
   "nbconvert_exporter": "python",
   "pygments_lexer": "ipython3",
   "version": "3.12.5"
  }
 },
 "nbformat": 4,
 "nbformat_minor": 5
}
