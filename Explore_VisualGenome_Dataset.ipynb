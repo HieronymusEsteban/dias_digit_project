{
 "cells": [
  {
   "cell_type": "code",
   "execution_count": null,
   "id": "3bd3901f-f4fb-4737-9ffe-5f68f6ea8749",
   "metadata": {},
   "outputs": [],
   "source": [
    "import os\n",
    "from pathlib import Path\n",
    "#import requests\n",
    "from PIL import Image\n",
    "import numpy as np\n",
    "import matplotlib.pyplot as plt\n",
    "from source.visual_genome_meta_data import read_json_to_dict\n",
    "from source.visual_genome_data import download_image\n",
    "from source.visual_genome_data import convert_url\n",
    "from source.visual_genome_meta_data import count_occurrences\n",
    "from source.visual_genome_meta_data import get_image_meta_data\n",
    "from source.visual_genome_meta_data import bboxes_from_metadata\n",
    "from source.visual_genome_meta_data import plot_image_with_multiple_bboxes\n",
    "from source.visual_genome_to_yolo import create_class_mapping_from_list\n",
    "from source.visual_genome_to_yolo import save_class_map_to_yaml\n",
    "from source.visual_genome_to_yolo import read_yaml_to_class_map\n",
    "from source.visual_genome_to_yolo import convert_single_image_to_yolo\n",
    "from source.visual_genome_to_yolo import read_yolo_metadata\n",
    "#from source.visual_genome_to_yolo import visualize_yolo_annotations\n"
   ]
  },
  {
   "cell_type": "code",
   "execution_count": null,
   "id": "0bfe78f9-dab4-4ca2-b775-83c536841d56",
   "metadata": {},
   "outputs": [],
   "source": [
    "os.listdir()"
   ]
  },
  {
   "cell_type": "code",
   "execution_count": null,
   "id": "05155af0-b942-4ca5-9f54-761073237c89",
   "metadata": {},
   "outputs": [],
   "source": [
    "root_path = Path('/Users/stephanehess/Documents/CAS_AML/dias_digit_project')\n",
    "data_path = Path('/Users/stephanehess/Documents/CAS_AML/dias_digit_project/visual_genome_data')\n",
    "yolo_path = root_path / 'visual_genome_yolo'\n"
   ]
  },
  {
   "cell_type": "code",
   "execution_count": null,
   "id": "e32c5a82-bde1-472c-9493-c6c68a6b0731",
   "metadata": {},
   "outputs": [],
   "source": [
    "file_path = data_path/'objects.json'\n",
    "objects = read_json_to_dict(file_path)\n",
    "#objects_3 = read_json_to_dict('visual_genome_data/objects_3.json')\n",
    "#objects_5 = read_json_to_dict('visual_genome_data/objects_5.json')"
   ]
  },
  {
   "cell_type": "code",
   "execution_count": null,
   "id": "0f10eabb-9ea8-404b-84f3-88b6f02f1ca6",
   "metadata": {},
   "outputs": [],
   "source": [
    "len(objects)"
   ]
  },
  {
   "cell_type": "code",
   "execution_count": null,
   "id": "8dacfd02-e20e-48cc-9d21-dca5ee1bdd76",
   "metadata": {},
   "outputs": [],
   "source": []
  },
  {
   "cell_type": "markdown",
   "id": "337aafec-90dd-4080-9f72-187dc9bfda24",
   "metadata": {},
   "source": [
    "### The object is a list:"
   ]
  },
  {
   "cell_type": "code",
   "execution_count": null,
   "id": "d3faaab5-109b-48d0-890b-f97728c1500f",
   "metadata": {},
   "outputs": [],
   "source": [
    "type(objects)"
   ]
  },
  {
   "cell_type": "code",
   "execution_count": null,
   "id": "80bcbc9e-ea0a-4bbf-b212-497098f5070c",
   "metadata": {},
   "outputs": [],
   "source": [
    "len(objects)"
   ]
  },
  {
   "cell_type": "markdown",
   "id": "c9a7afcb-49a9-44d5-9d9c-ded9a855a206",
   "metadata": {},
   "source": [
    "### Each element in the list is a dictionary:"
   ]
  },
  {
   "cell_type": "code",
   "execution_count": null,
   "id": "634d5b8a-59b1-4c1a-98f9-e2a04102a5b1",
   "metadata": {},
   "outputs": [],
   "source": [
    "type(objects[0])"
   ]
  },
  {
   "cell_type": "markdown",
   "id": "d214c64f-b50b-4f4c-b1dc-2dc5ab2283cb",
   "metadata": {},
   "source": [
    "### Each such element (dictionary) discribes an image:"
   ]
  },
  {
   "cell_type": "code",
   "execution_count": null,
   "id": "55d61db7-903b-4848-95c5-3da6e27e047a",
   "metadata": {},
   "outputs": [],
   "source": [
    "objects[0].keys()"
   ]
  },
  {
   "cell_type": "markdown",
   "id": "12e4c4b8-8d7d-4db5-8375-ef283d34978d",
   "metadata": {},
   "source": [
    "### Each value element of the key 'object' in the dictionary is again a list: "
   ]
  },
  {
   "cell_type": "code",
   "execution_count": null,
   "id": "64cf4445-83cf-4b0b-9e71-b8f6821e1c47",
   "metadata": {},
   "outputs": [],
   "source": [
    "type(objects[0]['objects'])"
   ]
  },
  {
   "cell_type": "code",
   "execution_count": null,
   "id": "0e7c3979-2608-4afc-a7a6-2495d79635f9",
   "metadata": {},
   "outputs": [],
   "source": [
    "len(objects[0]['objects'])"
   ]
  },
  {
   "cell_type": "code",
   "execution_count": null,
   "id": "a99533c6-1ffa-4eff-a217-d77ac2b7e94a",
   "metadata": {},
   "outputs": [],
   "source": [
    "type(objects[0]['image_url'])"
   ]
  },
  {
   "cell_type": "code",
   "execution_count": null,
   "id": "605aa738-37ed-422c-b2d4-b6ed586a2b4d",
   "metadata": {},
   "outputs": [],
   "source": [
    "type(objects[0]['image_id'])"
   ]
  },
  {
   "cell_type": "markdown",
   "id": "59afaf6f-8287-4a19-8daa-c519836aa15f",
   "metadata": {},
   "source": [
    "### The 'objects' list appears to contain the annotations and object coordinates:"
   ]
  },
  {
   "cell_type": "code",
   "execution_count": null,
   "id": "9b3b2865-9dc9-4c4d-83cb-36a03ee20a1d",
   "metadata": {},
   "outputs": [],
   "source": [
    "objects[0]['objects'][0]"
   ]
  },
  {
   "cell_type": "code",
   "execution_count": null,
   "id": "54196c36-9104-4b60-8973-a89849ccfc73",
   "metadata": {},
   "outputs": [],
   "source": [
    "objects[0]['image_id']"
   ]
  },
  {
   "cell_type": "code",
   "execution_count": null,
   "id": "14b752be-fa03-4918-95c1-af636400ddf9",
   "metadata": {},
   "outputs": [],
   "source": [
    "\n",
    "for obj in objects[0]['objects']:\n",
    "    print(obj['names'])"
   ]
  },
  {
   "cell_type": "code",
   "execution_count": null,
   "id": "fe53b1dc-14d7-4aaa-9204-5bcebdb9aa28",
   "metadata": {},
   "outputs": [],
   "source": [
    "obj_list = [obj['names'][0] for obj in objects[0]['objects']]\n",
    "obj_list"
   ]
  },
  {
   "cell_type": "code",
   "execution_count": null,
   "id": "3641fa38-7e23-4f62-905e-ec0404da357e",
   "metadata": {},
   "outputs": [],
   "source": [
    "obj_list.sort()\n",
    "obj_list"
   ]
  },
  {
   "cell_type": "code",
   "execution_count": null,
   "id": "825844e0-a79d-48c7-916e-8c1f83259cd0",
   "metadata": {},
   "outputs": [],
   "source": [
    "round_counter = 0\n",
    "\n",
    "for idx in list(range(len(objects))):\n",
    "    #print(idx)\n",
    "    print('\\n')\n",
    "    print('image id:')\n",
    "    print(objects[idx]['image_id'])\n",
    "    print('\\n')\n",
    "    print('image url:')\n",
    "    print(objects[idx]['image_url'])\n",
    "    print('\\n')\n",
    "    print('objects:')\n",
    "    print(len(objects[idx]['objects']))\n",
    "    #print(objects[idx]['objects'][0]['names'])\n",
    "    #print([objects[idx]['objects'][i]['names'] for i in list(range(len(objects[idx]['objects'])))])\n",
    "    names = []\n",
    "    for idx_obj in list(range(len(objects[idx]['objects']))):\n",
    "        name = objects[idx]['objects'][idx_obj]['names']\n",
    "        #print(name)\n",
    "        names.extend(name)\n",
    "    print(names)  \n",
    "    round_counter += 1\n",
    "    if round_counter > 1:\n",
    "        break"
   ]
  },
  {
   "cell_type": "raw",
   "id": "cd1e8e46-9873-4f5b-b65c-00422c6b40f7",
   "metadata": {},
   "source": [
    "import os\n",
    "import requests\n",
    "from pathlib import Path"
   ]
  },
  {
   "cell_type": "code",
   "execution_count": null,
   "id": "b4ee1926-e778-4e48-9383-ea4e60e47ff9",
   "metadata": {},
   "outputs": [],
   "source": []
  },
  {
   "cell_type": "raw",
   "id": "19ca81ec-c1c5-4f12-9ea1-0264c0361d78",
   "metadata": {},
   "source": [
    "def convert_url(original_url):\n",
    "    \"\"\"\n",
    "    Converts URLs from VG_100K_2 format to VG_100K format.\n",
    "    \n",
    "    Example:\n",
    "    https://cs.stanford.edu/people/rak248/VG_100K_2/1.jpg -> https://cs.stanford.edu/people/rak248/VG_100K/1.jpg\n",
    "    \"\"\"\n",
    "    # Replace VG_100K_2 with VG_100K in the URL\n",
    "    new_url = original_url.replace(\"VG_100K_2\", \"VG_100K\")\n",
    "    return new_url\n",
    "\n",
    "# Example usage\n",
    "original_url = \"https://cs.stanford.edu/people/rak248/VG_100K_2/1.jpg\"\n",
    "converted_url = convert_url(original_url)\n",
    "print(f\"Original URL: {original_url}\")\n",
    "print(f\"Converted URL: {converted_url}\")"
   ]
  },
  {
   "cell_type": "raw",
   "id": "5522432b-c36b-42b0-b60e-64c3b23ab019",
   "metadata": {},
   "source": [
    "import requests\n",
    "\n",
    "def download_image(original_url, directory_path, change_url=False):\n",
    "    \"\"\"\n",
    "    Downloads an image from a URL and saves it to the specified file path.\n",
    "    Assumes the directory already exists.\n",
    "    \n",
    "    Parameters:\n",
    "    image_url (str): URL of the image to download\n",
    "    file_path (str): Full path where the image will be saved\n",
    "    \n",
    "    Returns:\n",
    "    bool: True if successful, False otherwise\n",
    "    \"\"\"\n",
    "    # Modify url if necessary (it appears that for the moment only one image is present at the new address):\n",
    "    if change_url:\n",
    "        image_url = convert_url(original_url)\n",
    "    else:\n",
    "        image_url = original_url\n",
    "    # Extract filename from URL\n",
    "    filename_raw = os.path.basename(image_url)  # This will be \"1.jpg\"\n",
    "    filename = 'visual_genome_' + filename_raw\n",
    "    # Combine directory path with filename\n",
    "    directory = directory_path\n",
    "    file_path = os.path.join(directory, filename)\n",
    "    try:\n",
    "        # Download the image\n",
    "        # requests.get() sends an HTTP GET request to the specified URL\n",
    "        # This method retrieves the content from the URL\n",
    "        # The response object contains the status code, headers, and content\n",
    "        response = requests.get(image_url)\n",
    "        \n",
    "        # Check if the request was successful\n",
    "        # HTTP status code 200 means \"OK\" (request succeeded)\n",
    "        # Other common codes: 404 (Not Found), 403 (Forbidden), 500 (Server Error)\n",
    "        if response.status_code == 200:\n",
    "            # Write the image to the specified file path\n",
    "            # Open a file in binary write mode ('wb')\n",
    "            # This creates a new file or overwrites an existing one\n",
    "            # The with statement ensures that the file is properly \n",
    "            # closed after writing, even if an error occurs during the write \n",
    "            # operation.\n",
    "        \n",
    "            with open(file_path, 'wb') as file:\n",
    "                file.write(response.content)\n",
    "            return True\n",
    "        else:\n",
    "            #print(f\"Failed to download image. Status code: {response.status_code}\")\n",
    "            return False\n",
    "            \n",
    "    except Exception as e:\n",
    "        print(f\"Error: {e}\")\n",
    "        return False\n"
   ]
  },
  {
   "cell_type": "raw",
   "id": "df24b0a2-c3d8-4e61-ad32-cc1a81e1450f",
   "metadata": {},
   "source": [
    "\n",
    "# Example usage\n",
    "if __name__ == \"__main__\":\n",
    "    image_url = \"https://example.com/image.jpg\"\n",
    "    file_path = \"/path/to/existing/directory/image.jpg\"\n",
    "    \n",
    "    success = download_image(image_url, file_path)\n",
    "    if success:\n",
    "        print(f\"Image successfully saved to {file_path}\")\n",
    "    else:\n",
    "        print(\"Failed to download and save the image\")"
   ]
  },
  {
   "cell_type": "code",
   "execution_count": null,
   "id": "96048063-a004-45e2-bacb-ba962cb9e5f4",
   "metadata": {},
   "outputs": [],
   "source": [
    "\n",
    "#file_path = '/Users/stephanehess/Documents/CAS_AML/dias_digit_project/visual_genome_data'\n",
    "file_path = str(data_path)\n",
    "im_url = 'https://cs.stanford.edu/people/rak248/VG_100K_2/1.jpg'\n"
   ]
  },
  {
   "cell_type": "code",
   "execution_count": null,
   "id": "91e32bec-1371-4090-b1ef-fc81070c987a",
   "metadata": {},
   "outputs": [],
   "source": [
    "#download_image(im_url, file_path) "
   ]
  },
  {
   "cell_type": "code",
   "execution_count": null,
   "id": "7c7a8490-4cc4-424a-873d-7422da97dfe1",
   "metadata": {},
   "outputs": [],
   "source": [
    "os.getcwd()"
   ]
  },
  {
   "cell_type": "code",
   "execution_count": null,
   "id": "4874e127-71dd-499a-af4a-59373ef04043",
   "metadata": {},
   "outputs": [],
   "source": [
    "os.path.dirname(file_path)"
   ]
  },
  {
   "cell_type": "markdown",
   "id": "7ab00cae-d0a9-4872-8d75-49d6181fb6be",
   "metadata": {},
   "source": [
    "### Cave!\n",
    "Unfortunately, some images seems to be downloadable from https://cs.stanford.edu/people/rak248/VG_100K_2.\n",
    "Other images the following address has to be used: \n",
    "https://cs.stanford.edu/people/rak248/VG_100K\n",
    "Some of the images on https://cs.stanford.edu/people/rak248/VG_100K have a wrong url attached to them in the objects object: http://crowdfile.blob.core.chinacloudapi.cn/4615/\n",
    "\n",
    "Consider the example below: "
   ]
  },
  {
   "cell_type": "code",
   "execution_count": null,
   "id": "2b3e9b9b-dcfa-4587-8888-0b937f76be10",
   "metadata": {},
   "outputs": [],
   "source": [
    "objects[0]['image_url']"
   ]
  },
  {
   "cell_type": "code",
   "execution_count": null,
   "id": "a6cf0fb0-85cd-4e1b-ab03-3212e596fca4",
   "metadata": {},
   "outputs": [],
   "source": [
    "objects[101000]['image_url']"
   ]
  },
  {
   "cell_type": "code",
   "execution_count": null,
   "id": "2c43c87a-85a9-4799-8439-d8c64d624ec0",
   "metadata": {},
   "outputs": [],
   "source": [
    "test_url = 'https://cs.stanford.edu/people/rak248/VG_100K/' + '2317239.jpg'\n",
    "test_url"
   ]
  },
  {
   "cell_type": "code",
   "execution_count": null,
   "id": "ec2a2118-511a-4499-8275-228ccf3e8d3b",
   "metadata": {},
   "outputs": [],
   "source": [
    "converted_url = convert_url(test_url)\n",
    "converted_url"
   ]
  },
  {
   "cell_type": "code",
   "execution_count": null,
   "id": "95565e30-0bcc-4c18-8f02-a0b95c0f4e1e",
   "metadata": {},
   "outputs": [],
   "source": [
    "convert_url(converted_url)"
   ]
  },
  {
   "cell_type": "code",
   "execution_count": null,
   "id": "ab475163-c20c-4d03-bfc7-d705a52e97d6",
   "metadata": {},
   "outputs": [],
   "source": [
    "objects[101000]['image_id']"
   ]
  },
  {
   "cell_type": "code",
   "execution_count": null,
   "id": "516154c0-0576-48f7-8e2a-57c00168854d",
   "metadata": {},
   "outputs": [],
   "source": [
    "data_path"
   ]
  },
  {
   "cell_type": "code",
   "execution_count": null,
   "id": "08736cc9-7f4a-4f63-a2f9-ac7a7cd6c597",
   "metadata": {},
   "outputs": [],
   "source": [
    "str(data_path)"
   ]
  },
  {
   "cell_type": "code",
   "execution_count": null,
   "id": "861a38a5-655b-4b9a-a5b1-08120e583616",
   "metadata": {},
   "outputs": [],
   "source": [
    "data_path"
   ]
  },
  {
   "cell_type": "code",
   "execution_count": null,
   "id": "5806218c-c415-42ff-b03a-c8ea035ae525",
   "metadata": {},
   "outputs": [],
   "source": [
    "all_file_list = os.listdir(data_path)\n",
    "image_file_list = []\n",
    "for filename in all_file_list:\n",
    "    file_extension = filename.split('.')[-1]\n",
    "    if file_extension == 'jpg':\n",
    "        image_file_list.append(filename)\n",
    "    \n",
    "print(len(image_file_list))\n",
    "image_file_list.sort()\n",
    "image_file_list[0:7]"
   ]
  },
  {
   "cell_type": "code",
   "execution_count": null,
   "id": "e5004365-da19-448f-924c-46d2d06aa77f",
   "metadata": {},
   "outputs": [],
   "source": [
    "image_ids_present = []\n",
    "for filename in image_file_list:\n",
    "    img_id = int(filename.split('_')[-1].split('.')[0])\n",
    "    image_ids_present.append(img_id)\n",
    "print(len(image_ids_present))\n",
    "image_ids_present_set = set(image_ids_present)"
   ]
  },
  {
   "cell_type": "code",
   "execution_count": null,
   "id": "3d4677fb-ecb0-4901-b287-0212b1e58e35",
   "metadata": {},
   "outputs": [],
   "source": []
  },
  {
   "cell_type": "code",
   "execution_count": null,
   "id": "7e3f8369-4b1a-405f-96b8-d24be0215cab",
   "metadata": {},
   "outputs": [],
   "source": [
    "desired_objects = ['eins', 'drei']\n",
    "\n",
    "occurrence_counts = dict.fromkeys(desired_objects, 0)\n",
    "\n",
    "input_list = ['eins', 'zwei', 'eins', 'drei', 'eins', 'vier']"
   ]
  },
  {
   "cell_type": "code",
   "execution_count": null,
   "id": "b9c066d2-19d6-48c5-ab6c-e3cb8bc7f9c0",
   "metadata": {},
   "outputs": [],
   "source": [
    "occurrence_counts"
   ]
  },
  {
   "cell_type": "code",
   "execution_count": null,
   "id": "042c7e57-6f5f-4e27-b423-251db42a9947",
   "metadata": {},
   "outputs": [],
   "source": [
    "count_occurrences(occurrence_counts, input_list)"
   ]
  },
  {
   "cell_type": "code",
   "execution_count": null,
   "id": "0d61f24e-8dd1-4f0e-aa12-af819fd436cf",
   "metadata": {},
   "outputs": [],
   "source": []
  },
  {
   "cell_type": "code",
   "execution_count": null,
   "id": "df8d1f1e-33d4-46fa-83b9-6c31f8d95854",
   "metadata": {},
   "outputs": [],
   "source": []
  },
  {
   "cell_type": "code",
   "execution_count": null,
   "id": "ea8be226-18df-4726-8334-461b39fc978b",
   "metadata": {},
   "outputs": [],
   "source": [
    "#file_path = '/Users/stephanehess/Documents/CAS_AML/dias_digit_project/visual_genome_data'\n",
    "file_path = str(data_path)\n",
    "desired_objects = ['bridge', 'lighthouse', 'water tower', 'windmill']\n",
    "#desired_objects = ['church']\n",
    "#desired_objects = ['mountain', 'mountains', 'church', 'lake', 'river', 'stream', 'glacier', 'water body']\n",
    "#desired_objects = ['forest', 'mountain', 'mountains',\n",
    "#                   'church', 'lake', 'river', 'stream', 'glacier', 'water body', \n",
    "#                   'watercourse']\n",
    "\n",
    "\n",
    "#desired_objects = ['tree', 'man']\n",
    "\n",
    "#desired_objects = ['car']\n",
    "\n",
    "failed_downloads = []\n",
    "\n",
    "chinacloudapi = []\n",
    "\n",
    "round_counter = 0\n",
    "\n",
    "image_counter = 0\n",
    "\n",
    "occurrence_counts = dict.fromkeys(desired_objects, 0)\n",
    "\n",
    "\n",
    "\n",
    "for idx in list(range(len(objects))): # objects is a list where each element is a dictionary representing one image\n",
    "    round_counter += 1\n",
    "    if objects[idx]['image_id'] == 1001:\n",
    "        continue\n",
    "    if objects[idx]['image_id'] in image_ids_present_set: # Check if the image is already present among the previously downloaded images\n",
    "        continue\n",
    "    if ('image_url' not in list(objects[idx].keys())): # Check if url is present in the meta-data\n",
    "        continue\n",
    "\n",
    "    names = [] # Make a list of objects contained in the image (I will use it further down to check if it containes one of my desired objects)\n",
    "    for idx_obj in list(range(len(objects[idx]['objects']))):\n",
    "        name = objects[idx]['objects'][idx_obj]['names']\n",
    "        #print(name)\n",
    "        names.extend(name)\n",
    "        \n",
    "    inter_set = set(desired_objects).intersection(set(names)) # Check if the image in question contains any of the objects I am interested in\n",
    "    #print('\\n')\n",
    "    #print(inter_set)\n",
    "    if len(inter_set) == 0: \n",
    "        continue\n",
    "    \n",
    "    \n",
    "    if 'chinacloudapi' in objects[idx]['image_url']: # Check if the url needs to be adapted (the chinacloudapi seems to not work anymore)\n",
    "        image_id = objects[idx]['image_id']\n",
    "        im_url = 'https://cs.stanford.edu/people/rak248/VG_100K/' + str(image_id) + '.jpg'\n",
    "        chinacloudapi.append(objects[idx]['image_url'])\n",
    "    else:\n",
    "        im_url = objects[idx]['image_url'] \n",
    "\n",
    "    down_load_bool = download_image(im_url, file_path, change_url=True) \n",
    "    if down_load_bool:\n",
    "        print('change_url=True worked')\n",
    "        count_occurrences(occurrence_counts, names)\n",
    "        image_counter += 1\n",
    "    else:\n",
    "        down_load_bool = download_image(im_url, file_path, change_url=False) \n",
    "        if down_load_bool:\n",
    "            count_occurrences(occurrence_counts, names)\n",
    "            image_counter += 1\n",
    "        else:\n",
    "            failed_downloads.append(im_url)\n",
    "            continue\n",
    "        \n",
    "    \n",
    "    \n",
    "    \n",
    "    \n",
    "    #print('round_counter')\n",
    "    #print(round_counter)\n",
    "    #if round_counter > 1:\n",
    "    #   break\n",
    "    \n",
    "    \n",
    "    #if len(inter_set) == 1:\n",
    "    #    print(round_counter)\n",
    "    #    print(inter_set)\n",
    "    #    break\n",
    "\n"
   ]
  },
  {
   "cell_type": "code",
   "execution_count": null,
   "id": "44dc9e77-3b15-4e79-bc23-f7761516898c",
   "metadata": {},
   "outputs": [],
   "source": []
  },
  {
   "cell_type": "code",
   "execution_count": null,
   "id": "7e1675d1-55eb-4b47-b180-055a282bfd92",
   "metadata": {},
   "outputs": [],
   "source": []
  },
  {
   "cell_type": "markdown",
   "id": "328a485b-61c1-4a79-b6b2-3c8299a4dabe",
   "metadata": {},
   "source": [
    "### Download images based on the objects they contain:"
   ]
  },
  {
   "cell_type": "code",
   "execution_count": null,
   "id": "24180058-499e-4194-9027-f6fed9e668bf",
   "metadata": {},
   "outputs": [],
   "source": [
    "#file_path = '/Users/stephanehess/Documents/CAS_AML/dias_digit_project/visual_genome_data'\n",
    "file_path = str(data_path)\n",
    "desired_objects = ['church']\n",
    "#desired_objects = ['mountain', 'mountains', 'church', 'lake', 'river', 'stream', 'glacier', 'water body']\n",
    "#desired_objects = ['forest', 'mountain', 'mountains',\n",
    "#                   'church', 'lake', 'river', 'stream', 'glacier', 'water body', \n",
    "#                   'watercourse']\n",
    "\n",
    "#desired_objects = ['tree', 'man']\n",
    "\n",
    "#desired_objects = ['car']\n",
    "\n",
    "failed_downloads = []\n",
    "\n",
    "chinacloudapi = []\n",
    "\n",
    "round_counter = 0\n",
    "\n",
    "image_counter = 0\n",
    "\n",
    "occurrence_counts = dict.fromkeys(desired_objects, 0)\n",
    "\n",
    "\n",
    "\n",
    "for idx in list(range(len(objects))): # objects is a list where each element is a dictionary representing one image\n",
    "\n",
    "    if objects[idx]['image_id'] == 1001:\n",
    "        continue\n",
    "    if objects[idx]['image_id'] in image_ids_present_set: # Check if the image is already present among the previously downloaded images\n",
    "        continue\n",
    "\n",
    "    names = [] # Make a list of objects contained in the image (I will use it further down to check if it containes one of my desired objects)\n",
    "    for idx_obj in list(range(len(objects[idx]['objects']))):\n",
    "        name = objects[idx]['objects'][idx_obj]['names']\n",
    "        #print(name)\n",
    "        names.extend(name)\n",
    "\n",
    "    \n",
    "    if ('image_url' not in list(objects[idx].keys())): # Check if url is present in the meta-data\n",
    "        continue\n",
    "    else:\n",
    "        if 'chinacloudapi' in objects[idx]['image_url']: # Check if the url needs to be adapted (the chinacloudapi seems to not work anymore)\n",
    "            image_id = objects[idx]['image_id']\n",
    "            im_url = 'https://cs.stanford.edu/people/rak248/VG_100K/' + str(image_id) + '.jpg'\n",
    "            chinacloudapi.append(objects[idx]['image_url'])\n",
    "        else: \n",
    "            im_url = objects[idx]['image_url']\n",
    "\n",
    "        inter_set = set(desired_objects).intersection(set(names)) # Check if the image in question contains any of the objects I am interested in\n",
    "        #print('\\n')\n",
    "        #print(inter_set)\n",
    "        if len(inter_set) > 0: \n",
    "           #print('\\n')\n",
    "           #print('image id:')\n",
    "           #print(objects[idx]['image_id'])\n",
    "           #print('\\n')\n",
    "           #print('inter_set:')\n",
    "           #print(inter_set)\n",
    "           #print(len(inter_set))\n",
    "           #print('names')\n",
    "           #print(names)\n",
    "           #print('\\n')\n",
    "           #print('image url:')\n",
    "           #print(im_url)\n",
    "            down_load_bool = download_image(im_url, file_path, change_url=True) \n",
    "            if down_load_bool:\n",
    "                count_occurrences(occurrence_counts, names)\n",
    "                image_counter += 1\n",
    "            else:\n",
    "                down_load_bool = download_image(im_url, file_path, change_url=False) \n",
    "                if down_load_bool:\n",
    "                    count_occurrences(occurrence_counts, names)\n",
    "                    image_counter += 1\n",
    "                else:\n",
    "                    failed_downloads.append(im_url)\n",
    "                    continue\n",
    "            \n",
    "        \n",
    "    round_counter += 1\n",
    "    #print('round_counter')\n",
    "    #print(round_counter)\n",
    "    #print(round_counter > 7)\n",
    "    #if round_counter > 10:\n",
    "    #    break"
   ]
  },
  {
   "cell_type": "code",
   "execution_count": null,
   "id": "1124707a-daa7-498f-973d-a33826c2c1d2",
   "metadata": {},
   "outputs": [],
   "source": []
  },
  {
   "cell_type": "code",
   "execution_count": null,
   "id": "1f20fbb1-7228-4849-afa7-a3dff0bf4cf4",
   "metadata": {},
   "outputs": [],
   "source": []
  },
  {
   "cell_type": "code",
   "execution_count": null,
   "id": "133f9c0e-ca46-44ed-b6a5-9604871aa251",
   "metadata": {},
   "outputs": [],
   "source": []
  },
  {
   "cell_type": "markdown",
   "id": "ca9d102e-d819-432e-9191-0bd91a2bbf10",
   "metadata": {},
   "source": [
    "## Count objects contained in downloaded images: "
   ]
  },
  {
   "cell_type": "code",
   "execution_count": null,
   "id": "ef1b6a8b-e546-4f6d-b0d3-9576b30e8192",
   "metadata": {},
   "outputs": [],
   "source": [
    "occurrence_counts"
   ]
  },
  {
   "cell_type": "raw",
   "id": "e9b7cd54-dfa8-4f88-8974-3eee5e5d32db",
   "metadata": {},
   "source": [
    "{'mountain': 943,\n",
    " 'mountains': 457,\n",
    " 'church': 70,\n",
    " 'lake': 220,\n",
    " 'river': 300,\n",
    " 'stream': 41,\n",
    " 'glacier': 0,\n",
    " 'water body': 6}"
   ]
  },
  {
   "cell_type": "raw",
   "id": "4f30c526-f237-4d73-9216-af0d9f986699",
   "metadata": {},
   "source": [
    "{'tree': 948,\n",
    " 'trees': 258,\n",
    " 'forest': 13,\n",
    " 'woods': 10,\n",
    " 'mountain': 43,\n",
    " 'mountains': 22,\n",
    " 'building': 1242,\n",
    " 'house': 101,\n",
    " 'church': 10,\n",
    " 'city': 26,\n",
    " 'village': 0,\n",
    " 'lake': 6,\n",
    " 'river': 16,\n",
    " 'stream': 4,\n",
    " 'glacier': 0,\n",
    " 'water body': 1,\n",
    " 'watercourse': 0,\n",
    " 'water': 204,\n",
    " 'waters': 0}"
   ]
  },
  {
   "cell_type": "code",
   "execution_count": null,
   "id": "d40968a9-79ed-432a-954c-51d072ce1917",
   "metadata": {},
   "outputs": [],
   "source": [
    "image_counter"
   ]
  },
  {
   "cell_type": "raw",
   "id": "36a438e4-47ec-476f-8b12-1ff758d8a0cc",
   "metadata": {},
   "source": [
    "503"
   ]
  },
  {
   "cell_type": "code",
   "execution_count": null,
   "id": "840f16fb-a7f5-4e32-b22d-2a218a54b097",
   "metadata": {},
   "outputs": [],
   "source": [
    "idx"
   ]
  },
  {
   "cell_type": "raw",
   "id": "fd2e4b68-e5eb-43be-88b4-f81cc08bebf4",
   "metadata": {},
   "source": [
    "108076"
   ]
  },
  {
   "cell_type": "code",
   "execution_count": null,
   "id": "592df874-a930-4f95-a946-c9ef0dc9df79",
   "metadata": {},
   "outputs": [],
   "source": [
    "idx"
   ]
  },
  {
   "cell_type": "code",
   "execution_count": null,
   "id": "1536ab00-2944-4e02-9c9e-f6eb42f3adab",
   "metadata": {},
   "outputs": [],
   "source": [
    "len(failed_downloads)"
   ]
  },
  {
   "cell_type": "markdown",
   "id": "3a1b25e8-cbbb-4f91-91d9-7bda2e0846ba",
   "metadata": {},
   "source": [
    "len(failed_downloads)\n",
    "1"
   ]
  },
  {
   "cell_type": "code",
   "execution_count": null,
   "id": "b2eabaef-4209-4903-9ea1-3e720aee4591",
   "metadata": {},
   "outputs": [],
   "source": [
    "failed_downloads"
   ]
  },
  {
   "cell_type": "code",
   "execution_count": null,
   "id": "317648c7-ab23-433f-876c-56030defea62",
   "metadata": {},
   "outputs": [],
   "source": []
  },
  {
   "cell_type": "code",
   "execution_count": null,
   "id": "4edcbe3a-5fbf-41a2-aada-558fb52212e1",
   "metadata": {},
   "outputs": [],
   "source": [
    "len(chinacloudapi)"
   ]
  },
  {
   "cell_type": "raw",
   "id": "3a019018-9203-4333-b44e-369dcac53aa9",
   "metadata": {},
   "source": [
    "len(chinacloudapi)\n",
    "61952"
   ]
  },
  {
   "cell_type": "raw",
   "id": "c585e3fa-2257-4fcc-b9fd-4ae07c8e97ff",
   "metadata": {},
   "source": [
    "len(chinacloudapi)\n",
    "21089"
   ]
  },
  {
   "cell_type": "code",
   "execution_count": null,
   "id": "0d04c468-cc56-4b96-b5b5-a63e804fb767",
   "metadata": {},
   "outputs": [],
   "source": [
    "chinacloudapi[0:7]"
   ]
  },
  {
   "cell_type": "code",
   "execution_count": null,
   "id": "463a3a04-a2c0-44f3-bd09-f5a552622a91",
   "metadata": {},
   "outputs": [],
   "source": [
    "objects[1005]['image_id']"
   ]
  },
  {
   "cell_type": "code",
   "execution_count": null,
   "id": "1c456f4b-85e6-429d-a024-c88bbfe70a7d",
   "metadata": {},
   "outputs": [],
   "source": []
  },
  {
   "cell_type": "markdown",
   "id": "7aa32c88-8344-4fae-95b0-5954dbb210cf",
   "metadata": {},
   "source": [
    "## Quickly test the object counting method:"
   ]
  },
  {
   "cell_type": "code",
   "execution_count": null,
   "id": "fd67fe2d-67d7-4b63-9ed9-e9e502275008",
   "metadata": {},
   "outputs": [],
   "source": [
    "#file_path = '/Users/stephanehess/Documents/CAS_AML/dias_digit_project/visual_genome_data'\n",
    "file_path = str(data_path)\n",
    "\n",
    "#desired_objects = ['tree', 'man']\n",
    "\n",
    "#desired_objects = ['car']\n",
    "#desired_objects = ['church']\n",
    "desired_objects = ['bridge', 'lighthouse', 'water tower', 'windmill']\n",
    "\n",
    "round_counter = 0\n",
    "\n",
    "image_counter = 0\n",
    "\n",
    "occurrence_counts = dict.fromkeys(desired_objects, 0)\n",
    "\n",
    "\n",
    "\n",
    "for idx in list(range(len(objects))):\n",
    "\n",
    "    #print('\\n')\n",
    "    #print(idx)\n",
    "    #print('\\n')\n",
    "    #print('image id:')\n",
    "    #print(objects[idx]['image_id'])\n",
    "    if objects[idx]['image_id'] == 1001:\n",
    "        continue\n",
    "\n",
    "    #print('\\n')\n",
    "    #print('objects:')\n",
    "    #print(len(objects[idx]['objects']))\n",
    "    #print(objects[idx]['objects'])\n",
    "    #print(objects[idx]['objects'][0]['names'])\n",
    "    #print([objects[idx]['objects'][i]['names'] for i in list(range(len(objects[idx]['objects'])))])\n",
    "    names = []\n",
    "    for idx_obj in list(range(len(objects[idx]['objects']))):\n",
    "        name = objects[idx]['objects'][idx_obj]['names']\n",
    "        #print(name)\n",
    "        names.extend(name)\n",
    "    #print(names)  \n",
    "    #print('trees' in names)\n",
    "    \n",
    "    if ('image_url' not in list(objects[idx].keys())):\n",
    "        continue\n",
    "    #elif 'chinacloudapi' in objects[idx]['image_url']:\n",
    "    #    #print('hey')\n",
    "    #    continue\n",
    "    else:\n",
    "        im_url = objects[idx]['image_url']\n",
    "\n",
    "        #if ('mountain' in names) and ('chinacloudapi' not in im_url):\n",
    "\n",
    "\n",
    "        #count_occurrences(occurrence_counts, names)\n",
    "        inter_set = set(desired_objects).intersection(set(names))\n",
    "        #print('\\n')\n",
    "        #print(inter_set)\n",
    "        if len(inter_set) > 0: \n",
    "           #print('\\n')\n",
    "           #print('image id:')\n",
    "           #print(objects[idx]['image_id'])\n",
    "           #print('\\n')\n",
    "           #print('inter_set:')\n",
    "           #print(inter_set)\n",
    "           #print(len(inter_set))\n",
    "           #print('names')\n",
    "           #print(names)\n",
    "           #print('\\n')\n",
    "           #print('image url:')\n",
    "           #print(im_url)\n",
    "            count_occurrences(occurrence_counts, names)\n",
    "            image_counter += 1\n",
    "            \n",
    "        \n",
    "    round_counter += 1\n",
    "    #print('round_counter')\n",
    "    #print(round_counter)\n",
    "    #print(round_counter > 7)\n",
    "    #if round_counter > 0:\n",
    "     #   break"
   ]
  },
  {
   "cell_type": "code",
   "execution_count": null,
   "id": "caeab312-678a-42d0-be87-5cf669dd1865",
   "metadata": {},
   "outputs": [],
   "source": [
    "occurrence_counts"
   ]
  },
  {
   "cell_type": "code",
   "execution_count": null,
   "id": "b233474d-912b-435c-b63b-504370a88cee",
   "metadata": {},
   "outputs": [],
   "source": []
  },
  {
   "cell_type": "code",
   "execution_count": null,
   "id": "5c485b85-3b93-4f44-9829-80af91641227",
   "metadata": {},
   "outputs": [],
   "source": [
    "\n",
    "image_number = 0\n",
    "print(len(objects[image_number]['objects']))\n",
    "#print(objects[image_number]['objects'][0]['names'])\n",
    "\n",
    "object_name_list = []\n",
    "for idx in list(range(0, len(objects[image_number]['objects']))):\n",
    "    #print(idx)\n",
    "    names = objects[image_number]['objects'][idx]['names']\n",
    "    #print(names)\n",
    "    object_name_list.extend(names)\n",
    "\n",
    "tree_counter = 0\n",
    "man_counter = 0\n",
    "car_counter = 0\n",
    "for obj in object_name_list:\n",
    "    if obj == 'tree':\n",
    "        tree_counter +=1\n",
    "    if obj == 'man':\n",
    "        man_counter += 1\n",
    "    if obj == 'car':\n",
    "        car_counter += 1"
   ]
  },
  {
   "cell_type": "code",
   "execution_count": null,
   "id": "dc885a0d-2033-47ca-be9b-a2acac3d6f96",
   "metadata": {},
   "outputs": [],
   "source": []
  },
  {
   "cell_type": "code",
   "execution_count": null,
   "id": "0fd9b74c-4104-40fc-b4f2-7253d2d24e34",
   "metadata": {},
   "outputs": [],
   "source": [
    "print(tree_counter)\n",
    "print(man_counter)\n",
    "print(car_counter)"
   ]
  },
  {
   "cell_type": "code",
   "execution_count": null,
   "id": "da621693-fc44-4d05-a9fb-7a8e67397e9d",
   "metadata": {},
   "outputs": [],
   "source": [
    "object_name_list.sort()\n",
    "object_name_list"
   ]
  },
  {
   "cell_type": "code",
   "execution_count": null,
   "id": "15e4e42f-29c6-4cac-ae19-549a431ad0ed",
   "metadata": {},
   "outputs": [],
   "source": [
    "objects[0]['objects'][0:3]"
   ]
  },
  {
   "cell_type": "code",
   "execution_count": null,
   "id": "54847f3f-196c-4385-9544-3f2ad6de8f8e",
   "metadata": {},
   "outputs": [],
   "source": [
    "for obj in objects[0]['objects']:\n",
    "    print(obj['names'])"
   ]
  },
  {
   "cell_type": "code",
   "execution_count": null,
   "id": "209df167-82cf-410f-a98a-bbaf16609946",
   "metadata": {},
   "outputs": [],
   "source": [
    "idx"
   ]
  },
  {
   "cell_type": "markdown",
   "id": "0de1f8cd-6621-41a9-bbc8-382ae4ca9ba1",
   "metadata": {},
   "source": [
    "### Quickly test the create_class_mapping_from_list function: "
   ]
  },
  {
   "cell_type": "code",
   "execution_count": null,
   "id": "509d2aea-8d8a-4f8b-888c-0c53eba152ac",
   "metadata": {},
   "outputs": [],
   "source": [
    "desired_objects = ['tree', 'man']\n",
    "#desired_objects = ['car']\n",
    "desired_objects"
   ]
  },
  {
   "cell_type": "code",
   "execution_count": null,
   "id": "c7283d95-a5c8-4f78-a5a0-c244cdc14695",
   "metadata": {},
   "outputs": [],
   "source": [
    "class_map = create_class_mapping_from_list(desired_objects)"
   ]
  },
  {
   "cell_type": "code",
   "execution_count": null,
   "id": "1b66977d-d746-48ca-85c8-a75a0fd1372a",
   "metadata": {},
   "outputs": [],
   "source": [
    "desired_objects"
   ]
  },
  {
   "cell_type": "code",
   "execution_count": null,
   "id": "558025d1-19ab-456c-95af-d2ca706c7d5c",
   "metadata": {},
   "outputs": [],
   "source": [
    "class_map"
   ]
  },
  {
   "cell_type": "code",
   "execution_count": null,
   "id": "f32a8f94-75b5-4a87-81ef-af3c5f3b3891",
   "metadata": {},
   "outputs": [],
   "source": []
  },
  {
   "cell_type": "markdown",
   "id": "353e3ba0-2ebc-4b63-b491-fb0a9cad6ba1",
   "metadata": {},
   "source": [
    "### Quickly test the save_class_map_to_yaml and read_yaml_to_class_map functions: "
   ]
  },
  {
   "cell_type": "code",
   "execution_count": null,
   "id": "d72b9e8d-d724-4a26-9617-4411fbd9813e",
   "metadata": {},
   "outputs": [],
   "source": [
    "os.getcwd()"
   ]
  },
  {
   "cell_type": "code",
   "execution_count": null,
   "id": "622e9d3b-6d89-4bc6-bc79-1ed553297028",
   "metadata": {},
   "outputs": [],
   "source": [
    "class_map"
   ]
  },
  {
   "cell_type": "code",
   "execution_count": null,
   "id": "9577a3be-5796-489f-8d72-32e4b20408d3",
   "metadata": {},
   "outputs": [],
   "source": [
    "#file_path = '/Users/stephanehess/Documents/CAS_AML/dias_digit_project/visual_genome_yolo/'\n",
    "file_path = str(yolo_path) + '/'\n",
    "\n",
    "output_path = file_path + 'class_map_test.yaml'\n",
    "save_class_map_to_yaml(class_map, output_path)\n"
   ]
  },
  {
   "cell_type": "code",
   "execution_count": null,
   "id": "d2b0ca8e-9ff5-4f3b-861b-63e3ffc92251",
   "metadata": {},
   "outputs": [],
   "source": []
  },
  {
   "cell_type": "code",
   "execution_count": null,
   "id": "58da935b-f876-4aba-8983-0c3f4b3dac0e",
   "metadata": {},
   "outputs": [],
   "source": [
    "file_list = os.listdir(yolo_path)\n",
    "print(file_list)\n",
    "for filename in file_list:\n",
    "    if filename.split('_')[-1] == 'test.yaml':\n",
    "        print(filename)\n",
    "        yaml_file_name = filename\n",
    "yaml_file_name"
   ]
  },
  {
   "cell_type": "code",
   "execution_count": null,
   "id": "17b386e6-82db-46fb-bd95-aab378f138e9",
   "metadata": {},
   "outputs": [],
   "source": [
    "\n",
    "yaml_path = yolo_path/yaml_file_name\n",
    "\n",
    "class_map = read_yaml_to_class_map(str(yaml_path))\n",
    "\n",
    "# Print the class mapping\n",
    "print(class_map)"
   ]
  },
  {
   "cell_type": "markdown",
   "id": "a57aedbc-8b35-463d-8a49-3987a90cdaf9",
   "metadata": {},
   "source": [
    "### Quickly test convert_single_image_to_yolo function and associated workflow:"
   ]
  },
  {
   "cell_type": "code",
   "execution_count": null,
   "id": "7e796423-3644-4cd2-b04f-b73746105b9c",
   "metadata": {},
   "outputs": [],
   "source": [
    "img_id = 23"
   ]
  },
  {
   "cell_type": "code",
   "execution_count": null,
   "id": "6f9fae2f-a80b-42b7-b657-cc18308f62c7",
   "metadata": {},
   "outputs": [],
   "source": [
    "label_path_gen = yolo_path/'visual_genome_'\n",
    "label_path = str(label_path_gen) + str(img_id) + '.txt'\n",
    "print(label_path)\n",
    "\n",
    "image_path_gen = data_path/'visual_genome_'\n",
    "image_path = str(image_path_gen) + str(img_id) + '.jpg'\n",
    "print(image_path)\n",
    "\n",
    "yaml_path = yolo_path/'class_map_test.yaml'\n",
    "yaml_path = str(yaml_path)\n",
    "print(yaml_path)"
   ]
  },
  {
   "cell_type": "raw",
   "id": "be16b15b-6765-4b35-8e02-1a9e2c9903c0",
   "metadata": {},
   "source": [
    "def get_image_meta_data(objects, desired_image_id):\n",
    "    for image_metadata in objects:\n",
    "        image_id = image_metadata['image_id']\n",
    "        if image_id == desired_image_id:\n",
    "            print(image_id)\n",
    "            print(image_metadata['image_url'])\n",
    "            desired_image_metadata = image_metadata\n",
    "    return desired_image_metadata"
   ]
  },
  {
   "cell_type": "code",
   "execution_count": null,
   "id": "fefe4a3f-6e66-44db-a8a3-e09ad2bdbf8a",
   "metadata": {},
   "outputs": [],
   "source": [
    "img_data = get_image_meta_data(objects, img_id)\n",
    "img_data['image_id']"
   ]
  },
  {
   "cell_type": "code",
   "execution_count": null,
   "id": "0f21c0e1-322e-49a6-82cf-744b80f8aa95",
   "metadata": {},
   "outputs": [],
   "source": []
  },
  {
   "cell_type": "code",
   "execution_count": null,
   "id": "008128f7-e8f9-410e-9755-d1707a0f72c0",
   "metadata": {},
   "outputs": [],
   "source": [
    "object_name_list = []\n",
    "for idx in list(range(0, len(img_data['objects']))):\n",
    "    #print(idx)\n",
    "    names = img_data['objects'][idx]['names']\n",
    "    #print(names)\n",
    "    object_name_list.extend(names)\n",
    "print(object_name_list)"
   ]
  },
  {
   "cell_type": "code",
   "execution_count": null,
   "id": "cf5f7c6d-1147-48c8-80b1-ed987d31f3c6",
   "metadata": {},
   "outputs": [],
   "source": [
    "desired_object = 'tree'"
   ]
  },
  {
   "cell_type": "code",
   "execution_count": null,
   "id": "bdbc67a2-647a-49dc-9cd6-9c93f4e29509",
   "metadata": {},
   "outputs": [],
   "source": [
    "\n",
    "list_of_boxes = bboxes_from_metadata(image_path, objects, desired_object)\n",
    "\n",
    "list_of_boxes"
   ]
  },
  {
   "cell_type": "code",
   "execution_count": null,
   "id": "d11b4449-52e2-4195-a3f0-f75326cf5aca",
   "metadata": {},
   "outputs": [],
   "source": [
    "list_of_boxes"
   ]
  },
  {
   "cell_type": "code",
   "execution_count": null,
   "id": "22860668-bc25-434f-8aad-29e27bba491a",
   "metadata": {},
   "outputs": [],
   "source": [
    "#Example usage:\n",
    "#bboxes = [(0.5, 0.5, 0.3, 0.4), (0.7, 0.7, 0.2, 0.2)]\n",
    "#bboxes = [(x_center, y_center, width, height), (0.7, 0.7, 0.2, 0.2)]\n",
    "bboxes = list_of_boxes\n",
    "\n",
    "class_names = ['desired_object', 'desired_object']\n",
    "plot_image_with_multiple_bboxes(image_path, bboxes, class_names)"
   ]
  },
  {
   "cell_type": "markdown",
   "id": "1d3a5a80-f761-4123-87e8-979800983956",
   "metadata": {},
   "source": [
    "### Quickly test convert_single_image_to_yolo function:"
   ]
  },
  {
   "cell_type": "code",
   "execution_count": null,
   "id": "bdeb6486-39e2-496f-a60a-70ae0796028e",
   "metadata": {},
   "outputs": [],
   "source": [
    "image_dir = str(data_path) + '/'\n",
    "output_dir = str(yolo_path)\n",
    "\n",
    "\n",
    "#label_path = convert_single_image_to_yolo(objects[0], class_map, image_dir, output_dir)\n",
    "label_path = convert_single_image_to_yolo(img_data, class_map, image_dir, output_dir)\n"
   ]
  },
  {
   "cell_type": "code",
   "execution_count": null,
   "id": "67d5bbb6-8d05-4579-bbf0-ec3776cae756",
   "metadata": {},
   "outputs": [],
   "source": [
    "label_path"
   ]
  },
  {
   "cell_type": "code",
   "execution_count": null,
   "id": "50e6aa93-7a4f-47a4-af8e-744f7dfc3771",
   "metadata": {},
   "outputs": [],
   "source": [
    "yolo_images = os.listdir(yolo_path)\n",
    "yolo_images"
   ]
  },
  {
   "cell_type": "code",
   "execution_count": null,
   "id": "ef1c0e5d-2f93-42f7-8acb-a3f5baf7bd4e",
   "metadata": {},
   "outputs": [],
   "source": [
    "data_path"
   ]
  },
  {
   "cell_type": "raw",
   "id": "a3612150-e4f9-42cd-8d3c-e1aba9d85c55",
   "metadata": {},
   "source": [
    "def read_yolo_metadata(file_path, class_map):\n",
    "    \"\"\"\n",
    "    Read YOLO metadata from a text file and return class names and bounding boxes.\n",
    "    \n",
    "    Args:\n",
    "        file_path (str): Path to the YOLO metadata text file\n",
    "        class_map (dict): Dictionary mapping class names to class IDs\n",
    "        \n",
    "    Returns:\n",
    "        tuple: (class_names, bounding_boxes)\n",
    "            - class_names: List of class names in order\n",
    "            - bounding_boxes: List of tuples (x_center, y_center, width, height)\n",
    "    \"\"\"\n",
    "    class_names = []\n",
    "    bounding_boxes = []\n",
    "    \n",
    "    # Create reverse mapping from class_id to class_name\n",
    "    id_to_name = {}\n",
    "    for name, class_id in class_map.items():\n",
    "        id_to_name[class_id] = name\n",
    "    \n",
    "    with open(file_path, 'r') as f:\n",
    "        for line in f:\n",
    "            # Split the line into values\n",
    "            values = line.strip().split()\n",
    "            \n",
    "            # Skip empty lines or invalid formats\n",
    "            if len(values) != 5:\n",
    "                continue\n",
    "            \n",
    "            # Extract class ID and bounding box values\n",
    "            class_id = int(values[0])\n",
    "            x_center = float(values[1])\n",
    "            y_center = float(values[2])\n",
    "            width = float(values[3])\n",
    "            height = float(values[4])\n",
    "            \n",
    "            # Get class name from reversed mapping\n",
    "            class_name = id_to_name.get(class_id, f\"unknown_{class_id}\")\n",
    "            \n",
    "            # Add to lists\n",
    "            class_names.append(class_name)\n",
    "            bounding_boxes.append((x_center, y_center, width, height))\n",
    "    \n",
    "    return class_names, bounding_boxes"
   ]
  },
  {
   "cell_type": "code",
   "execution_count": null,
   "id": "351e63fb-09d8-4efe-9211-e0b594427d7e",
   "metadata": {},
   "outputs": [],
   "source": [
    "class_map"
   ]
  },
  {
   "cell_type": "code",
   "execution_count": null,
   "id": "91fc15db-6365-4c3f-a99b-fd860482c6b6",
   "metadata": {},
   "outputs": [],
   "source": [
    "yaml_path"
   ]
  },
  {
   "cell_type": "code",
   "execution_count": null,
   "id": "05700b3a-3f30-4299-b0cc-9ad7dd9f4573",
   "metadata": {},
   "outputs": [],
   "source": [
    "labels, bboxes = read_yolo_metadata(label_path, class_map)"
   ]
  },
  {
   "cell_type": "code",
   "execution_count": null,
   "id": "8eaf116f-a070-47d7-afa2-812c3bcb0be2",
   "metadata": {},
   "outputs": [],
   "source": [
    "labels"
   ]
  },
  {
   "cell_type": "code",
   "execution_count": null,
   "id": "b98a8cfc-16a0-457c-a627-20841b797465",
   "metadata": {},
   "outputs": [],
   "source": [
    "len(bboxes)"
   ]
  },
  {
   "cell_type": "code",
   "execution_count": null,
   "id": "5f63b207-b8cd-479f-963f-55fb9b4c1001",
   "metadata": {},
   "outputs": [],
   "source": [
    "class_names = list(labels)\n",
    "plot_image_with_multiple_bboxes(image_path, bboxes, class_names)"
   ]
  },
  {
   "cell_type": "code",
   "execution_count": null,
   "id": "1cf3b5fa-777c-40be-958e-db55b435df23",
   "metadata": {},
   "outputs": [],
   "source": []
  },
  {
   "cell_type": "code",
   "execution_count": null,
   "id": "c1066024-7d61-4673-99ee-7bcf7058b390",
   "metadata": {},
   "outputs": [],
   "source": []
  },
  {
   "cell_type": "code",
   "execution_count": null,
   "id": "a7016c71-0297-4ebc-97f8-8b378038f753",
   "metadata": {},
   "outputs": [],
   "source": []
  },
  {
   "cell_type": "code",
   "execution_count": null,
   "id": "46240cb1-0f77-444e-b539-680fad311d90",
   "metadata": {},
   "outputs": [],
   "source": []
  },
  {
   "cell_type": "code",
   "execution_count": null,
   "id": "f0235428-43d2-4be3-9609-237848ad8748",
   "metadata": {},
   "outputs": [],
   "source": []
  },
  {
   "cell_type": "code",
   "execution_count": null,
   "id": "d1b4e358-8053-424c-befa-cff5264116b4",
   "metadata": {},
   "outputs": [],
   "source": [
    "def transform_to_yolo_format(img_data, class_map, img_width=None, img_height=None):\n",
    "    \"\"\"\n",
    "    Transform Visual Genome object data to YOLO format.\n",
    "    \n",
    "    Args:\n",
    "        img_data: Dictionary containing Visual Genome image metadata\n",
    "        class_map: Dictionary mapping class names to class IDs\n",
    "        img_width: Image width (if None, tries to extract from img_data)\n",
    "        img_height: Image height (if None, tries to extract from img_data)\n",
    "    \n",
    "    Returns:\n",
    "        tuple: (yolo_objects, human_readable_objects)\n",
    "            - yolo_objects: List of lists with [class_id, x_center, y_center, width, height]\n",
    "            - human_readable_objects: List of dicts with class name and normalized coordinates\n",
    "    \"\"\"\n",
    "    # If image dimensions are not provided, try to infer them\n",
    "    if img_width is None or img_height is None:\n",
    "        # Try to get from image dimensions if available\n",
    "        # Otherwise use max coordinates from objects as approximate dimensions\n",
    "        max_x = max_y = 0\n",
    "        for obj in img_data['objects']:\n",
    "            max_x = max(max_x, obj['x'] + obj['w'])\n",
    "            max_y = max(max_y, obj['y'] + obj['h'])\n",
    "        \n",
    "        img_width = img_width or max_x\n",
    "        img_height = img_height or max_y\n",
    "    \n",
    "    # Lists to store the results\n",
    "    yolo_objects = []\n",
    "    human_readable_objects = []\n",
    "    \n",
    "    # Process each object\n",
    "    for obj in img_data['objects']:\n",
    "        # Get object class\n",
    "        if isinstance(obj['names'], list) and len(obj['names']) > 0:\n",
    "            class_name = obj['names'][0]\n",
    "        elif isinstance(obj['names'], str):\n",
    "            class_name = obj['names']\n",
    "        else:\n",
    "            continue  # Skip objects with no name\n",
    "        \n",
    "        # Skip if class not in mapping\n",
    "        if class_name not in class_map:\n",
    "            continue\n",
    "        \n",
    "        # Get class ID\n",
    "        class_id = class_map[class_name]\n",
    "        \n",
    "        # Get bounding box coordinates\n",
    "        x, y = obj['x'], obj['y']\n",
    "        w, h = obj['w'], obj['h']\n",
    "        \n",
    "        # Skip invalid bounding boxes\n",
    "        if w <= 0 or h <= 0:\n",
    "            continue\n",
    "        \n",
    "        # Convert to YOLO format (normalized center coordinates)\n",
    "        x_center = (x + w/2) / img_width\n",
    "        y_center = (y + h/2) / img_height\n",
    "        width = w / img_width\n",
    "        height = h / img_height\n",
    "        \n",
    "        # Ensure coordinates are within [0, 1]\n",
    "        x_center = max(0, min(1, x_center))\n",
    "        y_center = max(0, min(1, y_center))\n",
    "        width = max(0, min(1, width))\n",
    "        height = max(0, min(1, height))\n",
    "        \n",
    "        # Add to YOLO objects list (format used in text files)\n",
    "        yolo_objects.append([class_id, x_center, y_center, width, height])\n",
    "        \n",
    "        # Add to human-readable list\n",
    "        human_readable_objects.append({\n",
    "            'class_name': class_name,\n",
    "            'class_id': class_id,\n",
    "            'original': {\n",
    "                'x': x,\n",
    "                'y': y,\n",
    "                'width': w,\n",
    "                'height': h\n",
    "            },\n",
    "            'yolo_normalized': {\n",
    "                'x_center': x_center,\n",
    "                'y_center': y_center,\n",
    "                'width': width,\n",
    "                'height': height\n",
    "            }\n",
    "        })\n",
    "    \n",
    "    return yolo_objects, human_readable_objects\n"
   ]
  },
  {
   "cell_type": "code",
   "execution_count": null,
   "id": "ffbbd7d7-c81a-418a-9856-bc49e8999320",
   "metadata": {},
   "outputs": [],
   "source": []
  },
  {
   "cell_type": "code",
   "execution_count": null,
   "id": "db475495-df4a-4871-a517-f9f78c3e8e9e",
   "metadata": {},
   "outputs": [],
   "source": [
    "# Helper function to format YOLO objects as a string (same as in the text file)\n",
    "def format_yolo_objects_as_string(yolo_objects):\n",
    "    \"\"\"Convert YOLO objects to the string format used in label files.\"\"\"\n",
    "    lines = []\n",
    "    for obj in yolo_objects:\n",
    "        class_id, x_center, y_center, width, height = obj\n",
    "        lines.append(f\"{class_id} {x_center} {y_center} {width} {height}\")\n",
    "    return \"\\n\".join(lines)\n",
    "\n",
    "# Example usage:\n",
    "# img_data = {...}  # Your Visual Genome image data\n",
    "# class_map = {'tree': 0, 'man': 1}  # Your class mapping\n",
    "# yolo_objects, human_readable = transform_to_yolo_format(img_data, class_map)\n",
    "# \n",
    "# # Get the text file content\n",
    "# yolo_text = format_yolo_objects_as_string(yolo_objects)\n",
    "# print(yolo_text)\n",
    "# \n",
    "# # Print human-readable version\n",
    "# import json\n",
    "# print(json.dumps(human_readable, indent=2))"
   ]
  },
  {
   "cell_type": "code",
   "execution_count": null,
   "id": "02d7454f-34da-4285-9522-6483dc64bc45",
   "metadata": {},
   "outputs": [],
   "source": []
  },
  {
   "cell_type": "code",
   "execution_count": null,
   "id": "5547bdc7-90e1-47fe-bc8e-2bb1e13a03df",
   "metadata": {},
   "outputs": [],
   "source": []
  },
  {
   "cell_type": "code",
   "execution_count": null,
   "id": "71d91a7f-2266-4529-88dc-b8820cfc1a73",
   "metadata": {},
   "outputs": [],
   "source": []
  },
  {
   "cell_type": "code",
   "execution_count": null,
   "id": "109cf0d0-a112-4318-b23f-91fbfcdbe6aa",
   "metadata": {},
   "outputs": [],
   "source": [
    "def visualize_yolo_annotations(image_path, label_path, yaml_path):\n",
    "    \"\"\"\n",
    "    Visualize an image with its YOLO format bounding boxes.\n",
    "    \n",
    "    Args:\n",
    "        image_path: Path to the image file\n",
    "        label_path: Path to the YOLO format text file with bounding boxes\n",
    "        yaml_path: Path to the YAML file with class mappings\n",
    "    \"\"\"\n",
    "    # Use the helper function to get class mapping\n",
    "    class_map = read_yaml_to_class_map(yaml_path)\n",
    "    \n",
    "    # Convert class_map to a list where index is class_id\n",
    "    class_names = list(class_map.keys())\n",
    "    \n",
    "    print(f\"Label path: {label_path}\")\n",
    "    print(f\"Image path: {image_path}\")\n",
    "    \n",
    "    # Load the image\n",
    "    image = Image.open(image_path)\n",
    "    img_width, img_height = image.size\n",
    "    \n",
    "    # Convert PIL Image to numpy array for matplotlib\n",
    "    image_np = np.array(image)\n",
    "    \n",
    "    # Create a figure and axis\n",
    "    fig, ax = plt.subplots(1, figsize=(12, 9))\n",
    "    \n",
    "    # Display the image\n",
    "    ax.imshow(image_np)\n",
    "    \n",
    "    # Define colors for bounding boxes\n",
    "    cmap = plt.cm.get_cmap('hsv', len(class_names))"
   ]
  },
  {
   "cell_type": "code",
   "execution_count": null,
   "id": "9b35c9e5-64f8-43be-ad94-7a5912b4fe82",
   "metadata": {},
   "outputs": [],
   "source": [
    "label_path = yolo_path/'visual_genome_1.txt'\n",
    "label_path = str(image_path)\n",
    "\n",
    "image_path = data_path/'visual_genome_1.jpg'\n",
    "image_path = str(image_path)\n",
    "\n",
    "yaml_path = yolo_path/'class_map_test.yaml'\n",
    "yaml_path = str(yaml_path)\n",
    "\n",
    "visualize_yolo_annotations(image_path, label_path, yaml_path)"
   ]
  },
  {
   "cell_type": "code",
   "execution_count": null,
   "id": "4b4291e5-f873-46e1-a618-ad55122b34d5",
   "metadata": {},
   "outputs": [],
   "source": []
  },
  {
   "cell_type": "code",
   "execution_count": null,
   "id": "5a99a29c-d4ec-45a8-94af-d9475ffd4744",
   "metadata": {},
   "outputs": [],
   "source": []
  },
  {
   "cell_type": "code",
   "execution_count": null,
   "id": "c0b5346a-b9e9-4fba-bb32-3c3d82fd77d0",
   "metadata": {},
   "outputs": [],
   "source": []
  },
  {
   "cell_type": "raw",
   "id": "821f174e-0daf-4644-81f1-10870a0866a8",
   "metadata": {},
   "source": [
    "import os\n",
    "from PIL import Image\n",
    "\n",
    "def convert_single_image_to_yolo(img_data, class_map, image_dir, output_dir):\n",
    "    \"\"\"\n",
    "    Convert a single Visual Genome image dictionary to YOLO format.\n",
    "    \n",
    "    Args:\n",
    "        img_data: Dictionary containing image metadata\n",
    "        class_map: Dictionary mapping class names to class IDs\n",
    "        image_dir: Directory containing the images\n",
    "        output_dir: Directory to save YOLO format labels\n",
    "        \n",
    "    Returns:\n",
    "        str: Path to the created label file\n",
    "    \"\"\"\n",
    "    # Create output directory if it doesn't exist\n",
    "    os.makedirs(output_dir, exist_ok=True)\n",
    "    \n",
    "    # Get image ID\n",
    "    image_id = img_data['image_id']\n",
    "    \n",
    "    # Get image path and dimensions\n",
    "    image_path = os.path.join(image_dir, f\"visual_genome_{image_id}.jpg\")\n",
    "    \n",
    "    # Get image dimensions\n",
    "    try:\n",
    "        with Image.open(image_path) as img:\n",
    "            img_width, img_height = img.size\n",
    "    except Exception as e:\n",
    "        print(f\"Error opening image {image_path}: {e}\")\n",
    "        # If image can't be opened, skip this image\n",
    "        return None\n",
    "    \n",
    "    # Create YOLO label file path\n",
    "    label_path = os.path.join(output_dir, f\"visual_genome_{image_id}.txt\")\n",
    "    \n",
    "    # Convert coordinates and create YOLO label file\n",
    "    with open(label_path, 'w') as f:\n",
    "        for obj in img_data['objects']:\n",
    "            # Get object class\n",
    "            if isinstance(obj['names'], list) and len(obj['names']) > 0:\n",
    "                class_name = obj['names'][0]\n",
    "            elif isinstance(obj['names'], str):\n",
    "                class_name = obj['names']\n",
    "            else:\n",
    "                continue  # Skip objects with no name\n",
    "                \n",
    "            # Skip if class not in mapping\n",
    "            if class_name not in class_map:\n",
    "                continue\n",
    "                \n",
    "            class_id = class_map[class_name]\n",
    "            \n",
    "            # Get bounding box coordinates\n",
    "            x, y = obj['x'], obj['y']\n",
    "            w, h = obj['w'], obj['h']\n",
    "            \n",
    "            # Skip invalid bounding boxes\n",
    "            if w <= 0 or h <= 0:\n",
    "                continue\n",
    "                \n",
    "            # Convert to YOLO format (normalized center coordinates)\n",
    "            x_center = (x + w/2) / img_width\n",
    "            y_center = (y + h/2) / img_height\n",
    "            width = w / img_width\n",
    "            height = h / img_height\n",
    "            \n",
    "            # Ensure coordinates are within [0, 1]\n",
    "            x_center = max(0, min(1, x_center))\n",
    "            y_center = max(0, min(1, y_center))\n",
    "            width = max(0, min(1, width))\n",
    "            height = max(0, min(1, height))\n",
    "            \n",
    "            # Write to file\n",
    "            f.write(f\"{class_id} {x_center} {y_center} {width} {height}\\n\")\n",
    "    \n",
    "    return label_path"
   ]
  },
  {
   "cell_type": "raw",
   "id": "77b98d26-f7fb-4df7-a80e-f664ecde7cfc",
   "metadata": {},
   "source": [
    "import yaml\n",
    "\n",
    "def read_yaml_to_class_map(yaml_path):\n",
    "    \"\"\"\n",
    "    Read YAML file and create a class mapping dictionary.\n",
    "    \n",
    "    Args:\n",
    "        yaml_path: Path to the YAML file\n",
    "        \n",
    "    Returns:\n",
    "        dict: Mapping from class names to class IDs (e.g., 'tree': 0)\n",
    "    \"\"\"\n",
    "    # Load the YAML file\n",
    "    with open(yaml_path, 'r') as f:\n",
    "        yaml_data = yaml.safe_load(f)\n",
    "    \n",
    "    # Extract class names\n",
    "    class_names = yaml_data['names']\n",
    "    \n",
    "    # Create mapping from class names to IDs\n",
    "    class_map = {name: idx for idx, name in enumerate(class_names)}\n",
    "    \n",
    "    return class_map\n",
    "\n"
   ]
  },
  {
   "cell_type": "raw",
   "id": "d938cce5-35e8-4a53-8274-a49a6bd704b1",
   "metadata": {},
   "source": [
    "# Example usage in Jupyter Lab\n",
    "yaml_path = \"path/to/your/data.yaml\"  # Update with your actual path\n",
    "class_map = read_yaml_to_class_map(yaml_path)\n",
    "\n",
    "# Print the class mapping\n",
    "print(class_map)"
   ]
  },
  {
   "cell_type": "code",
   "execution_count": null,
   "id": "c2d3daeb-ff34-4b44-94f4-56f883be696d",
   "metadata": {},
   "outputs": [],
   "source": [
    "class_map"
   ]
  },
  {
   "cell_type": "code",
   "execution_count": null,
   "id": "86dca3cb-fe72-4452-a3d9-20c435ad97c1",
   "metadata": {},
   "outputs": [],
   "source": [
    "#image_dir = '/Users/stephanehess/Documents/CAS_AML/dias_digit_project/visual_genome_data/'\n",
    "image_dir = data_path\n",
    "#output_dir = '/Users/stephanehess/Documents/CAS_AML/dias_digit_project/visual_genome_yolo'\n",
    "output_dir = yolo_path\n",
    "label_path = convert_single_image_to_yolo(objects[0], class_map, image_dir, output_dir)\n"
   ]
  },
  {
   "cell_type": "code",
   "execution_count": null,
   "id": "5ae1b7e1-d83e-4142-be05-2667d403f79e",
   "metadata": {},
   "outputs": [],
   "source": []
  },
  {
   "cell_type": "code",
   "execution_count": null,
   "id": "0ddd9601-7c4b-48aa-8089-0500bc9a0a90",
   "metadata": {},
   "outputs": [],
   "source": []
  },
  {
   "cell_type": "code",
   "execution_count": null,
   "id": "d566acf0-ff3d-432c-b0aa-13e8d7da417a",
   "metadata": {},
   "outputs": [],
   "source": [
    "image_dir = '/Users/stephanehess/Documents/CAS_AML/dias_digit_project/visual_genome_data/'\n",
    "yolo_dir = '/Users/stephanehess/Documents/CAS_AML/dias_digit_project/visual_genome_yolo/'\n",
    "\n",
    "image_path = image_dir + 'visual_genome_1.jpg'\n",
    "bbox_path = yolo_dir + 'visual_genome_1.txt'\n",
    "yaml_path = yolo_dir + 'class_map.yaml'\n",
    "\n"
   ]
  },
  {
   "cell_type": "code",
   "execution_count": null,
   "id": "70ff76bb-9d2d-49b6-a9ea-8ff282194d60",
   "metadata": {},
   "outputs": [],
   "source": [
    "class_map = read_yaml_to_class_map(yaml_path)\n",
    "class_map"
   ]
  },
  {
   "cell_type": "code",
   "execution_count": null,
   "id": "31a577be-e7cf-4d03-abd0-7e6dfa326f98",
   "metadata": {},
   "outputs": [],
   "source": []
  },
  {
   "cell_type": "code",
   "execution_count": null,
   "id": "213c88a9-6d3e-4b7e-96ef-56860b385ad0",
   "metadata": {},
   "outputs": [],
   "source": [
    "print(image_path)\n",
    "print(bbox_path)\n",
    "print(yaml_path)"
   ]
  },
  {
   "cell_type": "code",
   "execution_count": null,
   "id": "518bce66-5124-421b-b252-28ba0d64dc2a",
   "metadata": {},
   "outputs": [],
   "source": []
  },
  {
   "cell_type": "code",
   "execution_count": null,
   "id": "d6e5ba4c-88b9-4daf-bd8e-d12183097f99",
   "metadata": {},
   "outputs": [],
   "source": []
  },
  {
   "cell_type": "raw",
   "id": "07fd6c69-1f80-44e7-9f42-2c36f8e96f50",
   "metadata": {},
   "source": [
    "\n",
    "# Example usage\n",
    "if __name__ == \"__main__\":\n",
    "    # Paths to your files\n",
    "    image_path = \"path/to/visual_genome_981.jpg\"\n",
    "    label_path = \"path/to/visual_genome_981.txt\"\n",
    "    yaml_path = \"path/to/data.yaml\"\n",
    "    \n",
    "    # Visualize\n",
    "    fig, ax = visualize_yolo_annotations(image_path, label_path, yaml_path)\n",
    "    plt.show()\n",
    "    \n",
    "    # Optionally save the visualization\n",
    "    # fig.savefig(\"annotated_image.png\", bbox_inches='tight', dpi=300)"
   ]
  },
  {
   "cell_type": "code",
   "execution_count": null,
   "id": "ebca5faf-f217-488d-a164-d864e8a5d612",
   "metadata": {},
   "outputs": [],
   "source": []
  },
  {
   "cell_type": "code",
   "execution_count": null,
   "id": "465eee25-51ed-45b6-a634-2aa7beef774b",
   "metadata": {},
   "outputs": [],
   "source": [
    "os.getcwd()"
   ]
  },
  {
   "cell_type": "code",
   "execution_count": null,
   "id": "06679cd7-1824-4e90-b889-0e669af4f4bb",
   "metadata": {},
   "outputs": [],
   "source": []
  },
  {
   "cell_type": "code",
   "execution_count": null,
   "id": "76c2cc5b-0495-4b1d-a2ff-3fa1f352596b",
   "metadata": {},
   "outputs": [],
   "source": [
    "image_dir = '/Users/stephanehess/Documents/CAS_AML/dias_digit_project/visual_genome_data/'\n",
    "output_dir = '/Users/stephanehess/Documents/CAS_AML/dias_digit_project/visual_genome_yolo'\n",
    "label_path = convert_single_image_to_yolo(objects[0], class_map, image_dir, output_dir)\n"
   ]
  },
  {
   "cell_type": "code",
   "execution_count": null,
   "id": "dc7f575f-bdf9-4b09-a6ae-27f717ed68f7",
   "metadata": {},
   "outputs": [],
   "source": [
    "all_files = os.listdir('visual_genome_data')\n",
    "image_file_list = [f for f in all_files if f.lower().endswith('.jpg')]\n",
    "image_file_list.sort()\n",
    "image_file_list[0:5]"
   ]
  },
  {
   "cell_type": "code",
   "execution_count": null,
   "id": "daf2d0fc-bd3a-4c69-834b-ed0d11c26ada",
   "metadata": {},
   "outputs": [],
   "source": [
    "round_counter = 0\n",
    "for filename in image_file_list:\n",
    "    file_path = image_dir + filename\n",
    "    print(file_path)\n",
    "    round_counter += 1\n",
    "    if round_counter > 5: \n",
    "        break"
   ]
  },
  {
   "cell_type": "code",
   "execution_count": null,
   "id": "d09ca1a5-ca90-4c7d-b73f-1ddcf524d10f",
   "metadata": {},
   "outputs": [],
   "source": [
    "\n",
    "round_counter = 0\n",
    "for filename in image_file_list:\n",
    "    file_path = image_dir + filename\n",
    "    print(file_path)\n",
    "    last_part = file_path.split('_')[-1]\n",
    "    img_id_str = last_part.split('.')[0]\n",
    "    img_id = int(img_id_str)\n",
    "    img_id_minus_1 = img_id-1\n",
    "    print(img_id)\n",
    "    print(objects[img_id_minus_1]['image_id'])\n",
    "    #\n",
    "    #image = Image.open(file_path)\n",
    "    ## Convert PIL Image to numpy array for matplotlib\n",
    "    #image_np = np.array(image)\n",
    "    #plt.imshow(image_np)\n",
    "    #plt.show()\n",
    "    label_path = convert_single_image_to_yolo(objects[img_id_minus_1], class_map, image_dir, output_dir)\n",
    "    print(label_path)\n",
    "    round_counter += 1\n",
    "    #if round_counter > 5: \n",
    "     #   break"
   ]
  },
  {
   "cell_type": "code",
   "execution_count": null,
   "id": "72494752-96da-4a0e-a84d-b353f7f251a7",
   "metadata": {},
   "outputs": [],
   "source": [
    "import cv2\n",
    "import numpy as np\n",
    "import yaml\n",
    "import matplotlib.pyplot as plt\n",
    "import matplotlib.patches as patches\n",
    "from PIL import Image\n",
    "import os\n",
    "\n",
    "def visualize_yolo_annotations(image_path, label_path, yaml_path):\n",
    "    \"\"\"\n",
    "    Visualize an image with its YOLO format bounding boxes.\n",
    "    \n",
    "    Args:\n",
    "        image_path: Path to the image file\n",
    "        label_path: Path to the YOLO format text file with bounding boxes\n",
    "        yaml_path: Path to the YAML file with class mappings\n",
    "    \"\"\"\n",
    "    # Load the class mappings from YAML file\n",
    "    with open(yaml_path, 'r') as f:\n",
    "        yaml_data = yaml.safe_load(f)\n",
    "    \n",
    "    class_names = yaml_data['names']\n",
    "    print(label_path)\n",
    "    # Load the image\n",
    "    print(image_path)\n",
    "    image = Image.open(image_path)\n",
    "    img_width, img_height = image.size\n",
    "    \n",
    "    # Convert PIL Image to numpy array for matplotlib\n",
    "    image_np = np.array(image)\n",
    "    \n",
    "    # Create a figure and axis\n",
    "    fig, ax = plt.subplots(1, figsize=(12, 9))\n",
    "    \n",
    "    # Display the image\n",
    "    ax.imshow(image_np)\n",
    "    \n",
    "    # Define colors for bounding boxes (one for each class)\n",
    "    # Using a colormap to generate distinct colors\n",
    "    cmap = plt.cm.get_cmap('hsv', len(class_names))\n",
    "    colors = [cmap(i) for i in range(len(class_names))]\n",
    "    \n",
    "    # Load and draw bounding boxes from the label file\n",
    "    with open(label_path, 'r') as f:\n",
    "        for line in f:\n",
    "            data = line.strip().split()\n",
    "            print(data)\n",
    "            if len(data) != 5:  # YOLO format has 5 values per line\n",
    "                continue\n",
    "                \n",
    "            class_id = int(data[0])\n",
    "            x_center = float(data[1]) * img_width\n",
    "            y_center = float(data[2]) * img_height\n",
    "            width = float(data[3]) * img_width\n",
    "            height = float(data[4]) * img_height\n",
    "            \n",
    "            # Calculate top-left corner for rectangle\n",
    "            x_min = x_center - (width / 2)\n",
    "            y_min = y_center - (height / 2)\n",
    "            \n",
    "            # Create a rectangle patch\n",
    "            rect = patches.Rectangle(\n",
    "                (x_min, y_min), width, height, \n",
    "                linewidth=2, \n",
    "                edgecolor=colors[class_id], \n",
    "                facecolor='none'\n",
    "            )\n",
    "            \n",
    "            # Add the rectangle to the plot\n",
    "            ax.add_patch(rect)\n",
    "            \n",
    "            # Add class label text above the bounding box\n",
    "            class_name = class_names[class_id] if class_id < len(class_names) else f\"Class {class_id}\"\n",
    "            plt.text(\n",
    "                x_min, y_min - 5, \n",
    "                class_name,\n",
    "                color=colors[class_id], \n",
    "                fontsize=12, \n",
    "                bbox=dict(facecolor='white', alpha=0.7, edgecolor='none', pad=0)\n",
    "            )\n",
    "    \n",
    "    plt.axis('off')  # Hide axes\n",
    "    plt.tight_layout()\n",
    "    \n",
    "    return fig, ax\n"
   ]
  },
  {
   "cell_type": "code",
   "execution_count": null,
   "id": "d5063024-3ef0-442a-987e-cededd9590e0",
   "metadata": {},
   "outputs": [],
   "source": []
  },
  {
   "cell_type": "code",
   "execution_count": null,
   "id": "c5988676-a923-4481-9d3a-0b3bda34c7cc",
   "metadata": {},
   "outputs": [],
   "source": [
    "yaml_path"
   ]
  },
  {
   "cell_type": "code",
   "execution_count": null,
   "id": "a195953d-a276-4152-8de5-f3c462741e5c",
   "metadata": {},
   "outputs": [],
   "source": []
  },
  {
   "cell_type": "code",
   "execution_count": null,
   "id": "10a5b5d4-89d6-4369-a992-2f42d2bfad4b",
   "metadata": {},
   "outputs": [],
   "source": [
    "image_file_list = os.listdir(data_path)\n",
    "image_file_list[0:5]"
   ]
  },
  {
   "cell_type": "code",
   "execution_count": null,
   "id": "d2c4f1fb-e641-4f57-afaf-b4267b2d6b45",
   "metadata": {},
   "outputs": [],
   "source": [
    "\n",
    "round_counter = 0\n",
    "for filename in image_file_list:\n",
    "    image_path = image_dir + filename\n",
    "    print(image_path)\n",
    "    last_part = image_path.split('_')[-1]\n",
    "    img_id_str = last_part.split('.')[0]\n",
    "    img_id = int(img_id_str)\n",
    "    img_id_minus_1 = img_id-1\n",
    "    #print(img_id)\n",
    "    #print(objects[img_id_minus_1]['image_id'])\n",
    "    print(image_path.split('.')[0])\n",
    "    file_path_no_ext = image_path.split('.')[0]\n",
    "    print(file_path_no_ext)\n",
    "    label_path_no_ext = file_path_no_ext.replace('visual_genome_data', 'visual_genome_yolo')\n",
    "    print(label_path_no_ext)\n",
    "    label_path = label_path_no_ext + '.txt'\n",
    "    \n",
    "    visualize_yolo_annotations(image_path, label_path, yaml_path)\n",
    "    \n",
    "    \n",
    "    round_counter += 1\n",
    "    if round_counter > 5: \n",
    "        break"
   ]
  },
  {
   "cell_type": "code",
   "execution_count": null,
   "id": "e3654fbb-e6d0-489e-aa6f-c11b9825364a",
   "metadata": {},
   "outputs": [],
   "source": []
  },
  {
   "cell_type": "code",
   "execution_count": null,
   "id": "06617fa4-b138-472e-af75-1d45a6636d87",
   "metadata": {},
   "outputs": [],
   "source": []
  },
  {
   "cell_type": "code",
   "execution_count": null,
   "id": "5dd67a75-4f41-4563-b800-8437272dba0e",
   "metadata": {},
   "outputs": [],
   "source": []
  },
  {
   "cell_type": "code",
   "execution_count": null,
   "id": "69667a45-3fb6-4b83-8391-cf38b8c8be55",
   "metadata": {},
   "outputs": [],
   "source": []
  },
  {
   "cell_type": "code",
   "execution_count": null,
   "id": "6188ecc1-93a7-4081-80a2-d04cb8291699",
   "metadata": {},
   "outputs": [],
   "source": [
    "file_path = '/Users/stephanehess/Documents/CAS_AML/dias_digit_project/visual_genome_data'\n",
    "desired_objects = ['mountain', 'mountains', 'hill', 'hills', \n",
    "                   'church', 'city', 'village', 'lake', 'river', 'stream', \n",
    "                   'glacier', 'water body', 'watercourse', 'waters']\n",
    "round_counter = 0\n",
    "\n",
    "image_counter = 0\n",
    "\n",
    "occurrence_counts = dict.fromkeys(desired_objects, 0)\n",
    "\n",
    "\n",
    "\n",
    "for idx in list(range(len(objects))):\n",
    "    #print(idx)\n",
    "    #print('\\n')\n",
    "    #print('image id:')\n",
    "    #print(objects[idx]['image_id'])\n",
    "    #print(type(objects[idx]['image_id']))\n",
    "\n",
    "    #print('\\n')\n",
    "    #print('objects:')\n",
    "    #print(len(objects[idx]['objects']))\n",
    "    #print(objects[idx]['objects'])\n",
    "    #print(objects[idx]['objects'][0]['names'])\n",
    "    #print([objects[idx]['objects'][i]['names'] for i in list(range(len(objects[idx]['objects'])))])\n",
    "    names = []\n",
    "    for idx_obj in list(range(len(objects[idx]['objects']))):\n",
    "        name = objects[idx]['objects'][idx_obj]['names']\n",
    "        #print(name)\n",
    "        names.extend(name)\n",
    "    #print(names)  \n",
    "    #print('trees' in names)\n",
    "    inter_set = set(desired_objects).intersection(set(names))\n",
    "    if ('image_url' not in list(objects[idx].keys())):\n",
    "        continue\n",
    "    else:\n",
    "        \n",
    "        im_url = objects[idx]['image_url']\n",
    "        #if ('mountain' in names) and ('chinacloudapi' not in im_url):\n",
    "\n",
    "\n",
    "        #count_occurrences(occurrence_counts, names)\n",
    "        inter_set = set(desired_objects).intersection(set(names))\n",
    "        if len(inter_set) > 0: \n",
    "            print('\\n')\n",
    "            print('image id:')\n",
    "            print(objects[idx]['image_id'])\n",
    "            print('\\n')\n",
    "            print('inter_set:')\n",
    "            print(inter_set)\n",
    "            print(len(inter_set))\n",
    "            print('names')\n",
    "            print(names)\n",
    "            print('\\n')\n",
    "            print('image url:')\n",
    "            print(im_url)\n",
    "            count_occurrences(occurrence_counts, names)\n",
    "            image_counter += 1\n",
    "            \n",
    "        \n",
    "    round_counter += 1\n",
    "    #print(round_counter)\n",
    "    #print(round_counter > 7)\n",
    "    #if round_counter > 1000:\n",
    "     #   break"
   ]
  },
  {
   "cell_type": "code",
   "execution_count": null,
   "id": "92954467-df55-4435-9b0b-7aafeeac284c",
   "metadata": {},
   "outputs": [],
   "source": []
  },
  {
   "cell_type": "code",
   "execution_count": null,
   "id": "844eabd5-133e-4e43-b32d-195b7f5b5a8b",
   "metadata": {},
   "outputs": [],
   "source": []
  },
  {
   "cell_type": "code",
   "execution_count": null,
   "id": "527b2e1f-b718-4ced-990e-7ce582e176f6",
   "metadata": {},
   "outputs": [],
   "source": []
  },
  {
   "cell_type": "code",
   "execution_count": null,
   "id": "78b2729b-8102-4e13-a99d-b702d6cf0b25",
   "metadata": {},
   "outputs": [],
   "source": [
    "print(occurrence_counts)"
   ]
  },
  {
   "cell_type": "code",
   "execution_count": null,
   "id": "9cda4a7c-d6c1-4649-a6fd-2480b26a9556",
   "metadata": {},
   "outputs": [],
   "source": [
    "image_counter"
   ]
  },
  {
   "cell_type": "code",
   "execution_count": null,
   "id": "99558116-2063-41c3-b45d-ea6e426ceb0b",
   "metadata": {},
   "outputs": [],
   "source": [
    "round_counter"
   ]
  },
  {
   "cell_type": "code",
   "execution_count": null,
   "id": "3ca05441-adbf-4b11-9fe0-de33617475ed",
   "metadata": {},
   "outputs": [],
   "source": [
    "idx"
   ]
  },
  {
   "cell_type": "code",
   "execution_count": null,
   "id": "5e05ea97-9890-47b9-82c3-a0ad44deb315",
   "metadata": {},
   "outputs": [],
   "source": [
    "'image_url' in list(objects[idx].keys())"
   ]
  },
  {
   "cell_type": "code",
   "execution_count": null,
   "id": "0ec186b1-c331-4feb-af42-e1d98974abb9",
   "metadata": {},
   "outputs": [],
   "source": [
    "relationships = read_json_to_dict('relationships.json')"
   ]
  },
  {
   "cell_type": "code",
   "execution_count": null,
   "id": "40ee3748-b5d6-475f-8583-28820e2ccff3",
   "metadata": {},
   "outputs": [],
   "source": [
    "type(relationships)"
   ]
  },
  {
   "cell_type": "code",
   "execution_count": null,
   "id": "ff3f4c86-4109-4c98-b9ab-566c0b8db661",
   "metadata": {},
   "outputs": [],
   "source": [
    "len(relationships)"
   ]
  },
  {
   "cell_type": "code",
   "execution_count": null,
   "id": "c65cc614-9ae7-4f9a-bd4e-818e6494e9ef",
   "metadata": {},
   "outputs": [],
   "source": [
    "type(relationships[0])"
   ]
  },
  {
   "cell_type": "code",
   "execution_count": null,
   "id": "4b2ccb5f-40f0-462c-ab4e-d21e3e50cd01",
   "metadata": {},
   "outputs": [],
   "source": [
    "len(relationships[0].keys())"
   ]
  },
  {
   "cell_type": "code",
   "execution_count": null,
   "id": "71d637f7-9a51-4fc3-bcba-79e8a44776bf",
   "metadata": {},
   "outputs": [],
   "source": [
    "relationships[0].keys()"
   ]
  },
  {
   "cell_type": "code",
   "execution_count": null,
   "id": "57868615-7164-4609-8c76-3680dc1487ec",
   "metadata": {},
   "outputs": [],
   "source": [
    "len(relationships[0]['relationships'])"
   ]
  },
  {
   "cell_type": "code",
   "execution_count": null,
   "id": "01ea9921-de26-41d3-8b8c-2a700fc48154",
   "metadata": {},
   "outputs": [],
   "source": [
    "relationships[0]['image_id']"
   ]
  },
  {
   "cell_type": "code",
   "execution_count": null,
   "id": "1f8a9151-511c-4c05-8e42-5f308b3f5fcb",
   "metadata": {},
   "outputs": [],
   "source": []
  },
  {
   "cell_type": "code",
   "execution_count": null,
   "id": "6cb8fcbc-cf34-4abf-871e-94634eaa566f",
   "metadata": {},
   "outputs": [],
   "source": [
    "relationships[2]['image_id']"
   ]
  },
  {
   "cell_type": "code",
   "execution_count": null,
   "id": "a7f89e62-d602-4246-be29-a16bd0e8a793",
   "metadata": {},
   "outputs": [],
   "source": [
    "len(relationships[2]['relationships'])"
   ]
  },
  {
   "cell_type": "code",
   "execution_count": null,
   "id": "17d571d7-b078-40ad-91dc-be3178ea08fe",
   "metadata": {},
   "outputs": [],
   "source": [
    "round_counter = 0\n",
    "\n",
    "for idx in list(range(len(relationships))):\n",
    "    #print(idx)\n",
    "    print('\\n')\n",
    "    print('image id:')\n",
    "    print(relationships[idx]['image_id'])\n",
    "    print('\\n')\n",
    "    print('relationships:')\n",
    "    print(len(relationships[idx]['relationships']))\n",
    "    print(type(relationships[idx]['relationships']))\n",
    "    print('\\n')\n",
    "    print('relationship 0:')\n",
    "    print(type(relationships[idx]['relationships'][0]))\n",
    "    print(relationships[idx]['relationships'][0].keys())\n",
    "    #print(relationships[idx]['relationships'][0]['subject'])\n",
    "    print('\\n')\n",
    "    print('relationship 0:')\n",
    "    print(relationships[idx]['relationships'][0]['object'])\n",
    "    print(relationships[idx]['relationships'][0]['subject'])\n",
    "    round_counter += 1\n",
    "    if round_counter > 3:\n",
    "        break"
   ]
  },
  {
   "cell_type": "code",
   "execution_count": null,
   "id": "94de7a0a-b124-441e-b1c3-272647bc2c4b",
   "metadata": {},
   "outputs": [],
   "source": [
    "from ultralytics import YOLO"
   ]
  },
  {
   "cell_type": "code",
   "execution_count": null,
   "id": "5519c1e7-cf11-4f57-946f-e84f89849fc3",
   "metadata": {},
   "outputs": [],
   "source": []
  }
 ],
 "metadata": {
  "kernelspec": {
   "display_name": "Python 3 (ipykernel)",
   "language": "python",
   "name": "python3"
  },
  "language_info": {
   "codemirror_mode": {
    "name": "ipython",
    "version": 3
   },
   "file_extension": ".py",
   "mimetype": "text/x-python",
   "name": "python",
   "nbconvert_exporter": "python",
   "pygments_lexer": "ipython3",
   "version": "3.12.5"
  }
 },
 "nbformat": 4,
 "nbformat_minor": 5
}
