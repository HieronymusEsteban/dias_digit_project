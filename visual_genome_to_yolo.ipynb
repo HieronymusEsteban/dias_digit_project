{
 "cells": [
  {
   "cell_type": "code",
   "execution_count": null,
   "id": "dec97a58-207d-41dd-be35-1131e3940a8a",
   "metadata": {},
   "outputs": [],
   "source": [
    "import os\n",
    "from pathlib import Path\n",
    "import shutil\n",
    "import cv2\n",
    "import numpy as np\n",
    "from PIL import Image, ImageEnhance, ImageFilter\n",
    "import random\n"
   ]
  },
  {
   "cell_type": "code",
   "execution_count": null,
   "id": "74379923-3ad0-4904-ab85-40011d7303db",
   "metadata": {},
   "outputs": [],
   "source": [
    "from source.visual_genome_meta_data import read_json_to_dict\n",
    "from source.visual_genome_meta_data import get_image_meta_data\n",
    "from source.visual_genome_meta_data import count_occurrences\n",
    "from source.visual_genome_to_yolo import create_class_mapping_from_list\n",
    "from source.visual_genome_to_yolo import save_class_map_to_yaml\n",
    "from source.visual_genome_to_yolo import convert_single_image_to_yolo\n",
    "from source.visual_genome_to_yolo import read_yaml_to_class_map\n",
    "from source.visual_genome_to_yolo import read_yolo_metadata\n",
    "from source.visual_genome_to_yolo import visual_genome_to_yolo_data_n\n",
    "from source.visual_genome_meta_data import plot_image_with_multiple_bboxes\n",
    "from source.visual_genome_meta_data import get_image_ids\n",
    "from source.yolo_training_structure import distribute_train_val_files as dist_train_val\n"
   ]
  },
  {
   "cell_type": "markdown",
   "id": "dc747ce4-3f11-49b5-9d69-cd5e80a2b03d",
   "metadata": {},
   "source": [
    "### Define paths: "
   ]
  },
  {
   "cell_type": "code",
   "execution_count": null,
   "id": "f49f0dc7-aadf-47c3-9d7a-7811b695364c",
   "metadata": {},
   "outputs": [],
   "source": [
    "root_path = Path('/Users/stephanehess/Documents/CAS_AML/dias_digit_project')\n",
    "#root_path = Path('/Users/stephanehess/Documents/CAS_AML/dias_digit_project/test_yolo_object_train')\n",
    "data_path = root_path / 'visual_genome_data'\n",
    "#data_path = root_path / 'visual_genome_data_all'\n",
    "yolo_path = root_path / 'visual_genome_yolo'\n",
    "#yolo_path = root_path / 'visual_genome_yolo_all'"
   ]
  },
  {
   "cell_type": "code",
   "execution_count": null,
   "id": "370db129-2fac-4abb-95e3-6e0eb90059dd",
   "metadata": {},
   "outputs": [],
   "source": [
    "yolo_path"
   ]
  },
  {
   "cell_type": "code",
   "execution_count": null,
   "id": "fe76eaf1-bca9-4dfa-ac20-778a794c73d1",
   "metadata": {},
   "outputs": [],
   "source": []
  },
  {
   "cell_type": "markdown",
   "id": "ce525404-23c9-4949-a97d-095a66a5ac37",
   "metadata": {},
   "source": [
    "### Read in objects file with meta data about visual genome data: "
   ]
  },
  {
   "cell_type": "code",
   "execution_count": null,
   "id": "dc77fa7e-9aab-4c3a-923a-764bc220bd6c",
   "metadata": {},
   "outputs": [],
   "source": [
    "objects_file_path = data_path/'objects.json'\n"
   ]
  },
  {
   "cell_type": "code",
   "execution_count": null,
   "id": "23cdad0b-02bb-4009-b078-eec600d79e4e",
   "metadata": {},
   "outputs": [],
   "source": [
    "objects = read_json_to_dict(objects_file_path)"
   ]
  },
  {
   "cell_type": "markdown",
   "id": "28d482a4-18e4-46df-9330-eba87a9ca925",
   "metadata": {},
   "source": [
    "### Get image identifiers: "
   ]
  },
  {
   "cell_type": "code",
   "execution_count": null,
   "id": "d860b1b3-0f38-42cf-b2d4-e36597bd91ee",
   "metadata": {},
   "outputs": [],
   "source": [
    "image_id_list = get_image_ids(data_path)\n",
    "image_id_list.sort()\n",
    "len(image_id_list)"
   ]
  },
  {
   "cell_type": "code",
   "execution_count": null,
   "id": "d7805fe7-a434-4775-a579-360c28cf0810",
   "metadata": {},
   "outputs": [],
   "source": [
    "image_id_list[0:3]"
   ]
  },
  {
   "cell_type": "code",
   "execution_count": null,
   "id": "f65e8feb-3666-4e31-97f5-df0fdcf10d34",
   "metadata": {},
   "outputs": [],
   "source": [
    "len(objects)"
   ]
  },
  {
   "cell_type": "code",
   "execution_count": null,
   "id": "dfb9c29d-7b96-4084-a5f3-13103b2197eb",
   "metadata": {},
   "outputs": [],
   "source": [
    "objects[132]"
   ]
  },
  {
   "cell_type": "code",
   "execution_count": null,
   "id": "0c2d65a6-bac2-4e90-a037-5b5a4fbb3fff",
   "metadata": {},
   "outputs": [],
   "source": []
  },
  {
   "cell_type": "markdown",
   "id": "8094fb14-fe0c-4a1a-b069-1c09bc7fc7b7",
   "metadata": {},
   "source": [
    "### Choose the desired objects:"
   ]
  },
  {
   "cell_type": "code",
   "execution_count": null,
   "id": "1af7a288-183e-404c-bbdb-0c54b9a439db",
   "metadata": {},
   "outputs": [],
   "source": [
    "#desired_objects = ['forest', 'mountain', 'mountains', 'building', 'house', \n",
    "#                   'church', 'city', 'village', 'lake', 'river', 'stream', 'glacier']\n",
    "\n",
    "#desired_objects = ['mountain']\n",
    "#desired_objects = ['church']\n",
    "desired_objects = ['lighthouse']\n",
    "\n",
    "\n",
    "desired_objects"
   ]
  },
  {
   "cell_type": "markdown",
   "id": "c3b5ee5e-b9ab-47a8-902e-0355b78b7ff9",
   "metadata": {},
   "source": [
    "### Create class map based on desired objects: "
   ]
  },
  {
   "cell_type": "code",
   "execution_count": null,
   "id": "a749c35a-79a3-4d33-bb67-897af6efb091",
   "metadata": {},
   "outputs": [],
   "source": [
    "class_map = create_class_mapping_from_list(desired_objects)"
   ]
  },
  {
   "cell_type": "code",
   "execution_count": null,
   "id": "d529143a-1794-42e0-868c-276b4c02e308",
   "metadata": {},
   "outputs": [],
   "source": [
    "class_map"
   ]
  },
  {
   "cell_type": "code",
   "execution_count": null,
   "id": "a28ced4f-0ce2-4e7e-99fc-c0d2c14b0d4b",
   "metadata": {},
   "outputs": [],
   "source": [
    "\n",
    "file_path = str(yolo_path) + '/'\n",
    "\n",
    "output_path = file_path + 'class_map.yaml'\n",
    "save_class_map_to_yaml(class_map, output_path)"
   ]
  },
  {
   "cell_type": "markdown",
   "id": "c31123a8-fb55-40de-b06b-afd440b1cf7f",
   "metadata": {},
   "source": [
    "### Check content of class_map.yaml file:"
   ]
  },
  {
   "cell_type": "code",
   "execution_count": null,
   "id": "1522ff2f-044d-4f93-b4ac-738ce4254cc0",
   "metadata": {},
   "outputs": [],
   "source": [
    "file_list = os.listdir(yolo_path)\n",
    "for filename in file_list:\n",
    "    if filename.split('_')[-1] == 'map.yaml':\n",
    "        yaml_file_name = filename\n",
    "yaml_file_name"
   ]
  },
  {
   "cell_type": "code",
   "execution_count": null,
   "id": "585de55f-bde9-4042-848f-d905c379b7ba",
   "metadata": {},
   "outputs": [],
   "source": [
    "yaml_path = yolo_path/yaml_file_name\n",
    "\n",
    "class_map = read_yaml_to_class_map(str(yaml_path))\n",
    "\n",
    "# Print the class mapping\n",
    "print(class_map)"
   ]
  },
  {
   "cell_type": "code",
   "execution_count": null,
   "id": "ff8767bd-a67e-4cd4-aed9-e8adc39f8332",
   "metadata": {},
   "outputs": [],
   "source": [
    "len(image_id_list)"
   ]
  },
  {
   "cell_type": "code",
   "execution_count": null,
   "id": "22ada098-9fb0-4dda-a5be-3a3558604d05",
   "metadata": {},
   "outputs": [],
   "source": [
    "#convert_single_image_to_yolo(objects[0], class_map, data_path, yolo_path)"
   ]
  },
  {
   "cell_type": "markdown",
   "id": "d5d3dec1-aa40-418a-bc23-bbcc3fe1cc34",
   "metadata": {},
   "source": [
    "### Create yolo compatible meta data files (bounding box information) for images containing the desired object:"
   ]
  },
  {
   "cell_type": "code",
   "execution_count": null,
   "id": "27ea4d4f-bfd4-4e3d-a97b-56431d984195",
   "metadata": {},
   "outputs": [],
   "source": [
    "\n",
    "objects_and_ids = (objects, desired_objects, image_id_list)\n",
    "paths = (data_path, yolo_path)\n",
    "\n",
    "label_paths_w, occurrence_counts = visual_genome_to_yolo_data_n(objects_and_ids, paths, class_map)\n",
    "len(label_paths_w)"
   ]
  },
  {
   "cell_type": "code",
   "execution_count": null,
   "id": "32f97925-a90c-4915-b33f-73ca60fe13c5",
   "metadata": {},
   "outputs": [],
   "source": [
    "occurrence_counts"
   ]
  },
  {
   "cell_type": "code",
   "execution_count": null,
   "id": "2ed6c8d3-efdf-4a54-b959-a33c5da1e0e1",
   "metadata": {},
   "outputs": [],
   "source": [
    "label_paths_w[0:3]"
   ]
  },
  {
   "cell_type": "code",
   "execution_count": null,
   "id": "23ebcbfd-d082-42e6-bf2a-916fc377f394",
   "metadata": {},
   "outputs": [],
   "source": [
    "class_map"
   ]
  },
  {
   "cell_type": "code",
   "execution_count": null,
   "id": "a4a575b0-66d7-4778-988d-f85ff0cadc5d",
   "metadata": {},
   "outputs": [],
   "source": [
    "label_paths_w[0:3]"
   ]
  },
  {
   "cell_type": "markdown",
   "id": "0d2732ab-c3ff-435e-833c-53cac394c3a4",
   "metadata": {},
   "source": [
    "### Get number of required images without desired object for balanced data set:"
   ]
  },
  {
   "cell_type": "code",
   "execution_count": null,
   "id": "a51904c7-ef0f-448a-b9f1-1a87913dcc4d",
   "metadata": {},
   "outputs": [],
   "source": [
    "desired_objects"
   ]
  },
  {
   "cell_type": "code",
   "execution_count": null,
   "id": "d994510c-5f00-4355-b47d-57e540ddd045",
   "metadata": {},
   "outputs": [],
   "source": [
    "desired_objects[0]"
   ]
  },
  {
   "cell_type": "code",
   "execution_count": null,
   "id": "48c03467-ce62-402e-9fa2-7f4ca4f0b984",
   "metadata": {},
   "outputs": [],
   "source": [
    "if len(desired_objects) == 1:\n",
    "    number_occurrences = occurrence_counts[desired_objects[0]]\n",
    "    print(number_occurrences)\n",
    "else:\n",
    "    number_occurrences = 'No unique answer: more than one desired objects!'\n",
    "    print(number_occurrences)"
   ]
  },
  {
   "cell_type": "code",
   "execution_count": null,
   "id": "86a7ae61-7b31-41d0-bcc1-5bf85026ab59",
   "metadata": {},
   "outputs": [],
   "source": [
    "number_images_without = round((number_occurrences/100) * 30)\n",
    "number_images_without"
   ]
  },
  {
   "cell_type": "markdown",
   "id": "184e094c-ba7d-4c20-8d61-dfb3ac368a38",
   "metadata": {},
   "source": [
    "### Create meta data text files for images without desired object:"
   ]
  },
  {
   "cell_type": "code",
   "execution_count": null,
   "id": "67a2f704-13c6-4baa-877e-ffa931ce3b90",
   "metadata": {},
   "outputs": [],
   "source": [
    "label_paths_n, occurrence_counts = visual_genome_to_yolo_data_n(objects_and_ids, paths, class_map,\n",
    "                                                           with_class = False, number_of_images = number_images_without)\n",
    "len(label_paths_n)"
   ]
  },
  {
   "cell_type": "code",
   "execution_count": null,
   "id": "53237ab4-365e-4146-991e-df19a7607c3b",
   "metadata": {},
   "outputs": [],
   "source": [
    "label_paths_n[0:3]"
   ]
  },
  {
   "cell_type": "code",
   "execution_count": null,
   "id": "71d12cde-e79f-4b00-8397-c2949a4c6759",
   "metadata": {},
   "outputs": [],
   "source": []
  },
  {
   "cell_type": "code",
   "execution_count": null,
   "id": "c1e23733-183a-4391-90ba-c76fb59a1bd5",
   "metadata": {},
   "outputs": [],
   "source": []
  },
  {
   "cell_type": "markdown",
   "id": "a45acaa6-1d9b-4c71-8292-a92a92e2e8f3",
   "metadata": {},
   "source": [
    "### The paths to the meta data files contain the image ids defining the image files to be used"
   ]
  },
  {
   "cell_type": "markdown",
   "id": "3b93f830-7936-4a6e-bc28-b1231613123f",
   "metadata": {},
   "source": [
    "#### Paths to label files with desired objects:"
   ]
  },
  {
   "cell_type": "code",
   "execution_count": null,
   "id": "bd7e7be4-a219-43ef-a279-a27d62536f44",
   "metadata": {},
   "outputs": [],
   "source": [
    "# Paths to label files with desired objects:\n",
    "print(type(label_paths_w))\n",
    "print(len(label_paths_w))"
   ]
  },
  {
   "cell_type": "markdown",
   "id": "4d2c4293-5a54-4c16-9ed9-d12f9621d9f4",
   "metadata": {},
   "source": [
    "#### Paths to label files without desired objects:"
   ]
  },
  {
   "cell_type": "code",
   "execution_count": null,
   "id": "24c76f14-778e-457d-b134-f0f5d35bba4b",
   "metadata": {},
   "outputs": [],
   "source": [
    "# Paths to label files without desired objects: \n",
    "print(type(label_paths_n))\n",
    "print(len(label_paths_n))"
   ]
  },
  {
   "cell_type": "code",
   "execution_count": null,
   "id": "00f00005-7ecc-409a-b2fe-c17bbe7232ac",
   "metadata": {},
   "outputs": [],
   "source": [
    "label_paths = label_paths_w + label_paths_n\n",
    "len(label_paths)"
   ]
  },
  {
   "cell_type": "markdown",
   "id": "7c901a54-46ee-4252-8f96-f6a0d3cf86fa",
   "metadata": {},
   "source": [
    "### Plot first three images and use class_map file to plot bounding boxes:"
   ]
  },
  {
   "cell_type": "code",
   "execution_count": null,
   "id": "b27d0da1-e298-49f3-91a9-49c6b665b212",
   "metadata": {},
   "outputs": [],
   "source": [
    "for label_path in label_paths[0:3]:\n",
    "    print(label_path)\n",
    "    img_id = label_path.split('_')[-1].split('.')[0]\n",
    "    print(img_id)\n",
    "    \n",
    "    labels, bboxes = read_yolo_metadata(label_path, class_map)\n",
    "    class_names = list(labels)\n",
    "    image_path_gen = data_path/'visual_genome_'\n",
    "    image_path = str(image_path_gen) + str(img_id) + '.jpg'\n",
    "    print(image_path)\n",
    "    plot_image_with_multiple_bboxes(image_path, bboxes, class_names)\n",
    "    "
   ]
  },
  {
   "cell_type": "code",
   "execution_count": null,
   "id": "11096246-d176-417a-b86f-cf8dcc8ebc80",
   "metadata": {},
   "outputs": [],
   "source": [
    "root_path"
   ]
  },
  {
   "cell_type": "code",
   "execution_count": null,
   "id": "41517acb-ea93-4a3e-b42d-9f8e3954d46d",
   "metadata": {},
   "outputs": [],
   "source": []
  },
  {
   "cell_type": "markdown",
   "id": "8da27592-99ae-4262-81d0-67dc1d779f8c",
   "metadata": {},
   "source": [
    "### Create file structure to train for recognition of desired object class:"
   ]
  },
  {
   "cell_type": "code",
   "execution_count": null,
   "id": "44e4d5ed-c30c-49a6-984b-5fa7e03b7eac",
   "metadata": {},
   "outputs": [],
   "source": [
    "train_val_trial_path = root_path / 'yolo_object_train'\n",
    "\n",
    "\n",
    "if not os.path.exists(train_val_trial_path):\n",
    "    os.makedirs(train_val_trial_path)"
   ]
  },
  {
   "cell_type": "code",
   "execution_count": null,
   "id": "2898175e-9fb5-40b1-98b3-ef1f47a94dda",
   "metadata": {},
   "outputs": [],
   "source": [
    "train_val_trial_path"
   ]
  },
  {
   "cell_type": "code",
   "execution_count": null,
   "id": "a323acef-4ec8-4432-9919-7e5cf7919e92",
   "metadata": {},
   "outputs": [],
   "source": []
  },
  {
   "cell_type": "code",
   "execution_count": null,
   "id": "f21b0a01-fd30-4817-87f1-ad35f6b36a78",
   "metadata": {},
   "outputs": [],
   "source": [
    "train_data_path = train_val_trial_path / 'train'\n",
    "\n",
    "if not os.path.exists(train_data_path):\n",
    "    os.makedirs(train_data_path)\n"
   ]
  },
  {
   "cell_type": "code",
   "execution_count": null,
   "id": "ac4406ac-bdc0-4e8a-a53a-b413fc7b12d3",
   "metadata": {},
   "outputs": [],
   "source": [
    "os.getcwd()"
   ]
  },
  {
   "cell_type": "code",
   "execution_count": null,
   "id": "41e32f3f-16fb-41ff-b7b0-1a8eb8125a19",
   "metadata": {},
   "outputs": [],
   "source": [
    "train_imgages_path = train_data_path / 'images'\n",
    "\n",
    "if not os.path.exists(train_imgages_path):\n",
    "    os.makedirs(train_imgages_path)\n",
    "\n",
    "train_labels_path = train_data_path / 'labels'\n",
    "\n",
    "if not os.path.exists(train_labels_path):\n",
    "    os.makedirs(train_labels_path)\n"
   ]
  },
  {
   "cell_type": "code",
   "execution_count": null,
   "id": "bac4bfe4-6107-45af-9a66-ea3cc58deb6a",
   "metadata": {},
   "outputs": [],
   "source": [
    "val_data_path = train_val_trial_path  / 'val'\n",
    "if not os.path.exists(val_data_path):\n",
    "    os.makedirs(val_data_path)\n",
    "\n",
    "os.listdir(val_data_path)"
   ]
  },
  {
   "cell_type": "code",
   "execution_count": null,
   "id": "77a32b55-7dfc-4513-a3dc-3c39f11ecc6f",
   "metadata": {},
   "outputs": [],
   "source": [
    "val_imgages_path = val_data_path / 'images'\n",
    "if not os.path.exists(val_imgages_path):\n",
    "    os.makedirs(val_imgages_path)\n",
    "\n",
    "val_labels_path = val_data_path / 'labels'\n",
    "if not os.path.exists(val_labels_path):\n",
    "    os.makedirs(val_labels_path)\n"
   ]
  },
  {
   "cell_type": "code",
   "execution_count": null,
   "id": "b7e25bb0-0fee-49c2-a3c4-514fa0661484",
   "metadata": {},
   "outputs": [],
   "source": [
    "train_images_path = train_data_path / 'images'\n",
    "if not os.path.exists(train_images_path):\n",
    "    os.makedirs(train_images_path)\n",
    "\n",
    "train_labels_path = train_data_path / 'labels'\n",
    "if not os.path.exists(train_labels_path):\n",
    "    os.makedirs(train_labels_path)\n"
   ]
  },
  {
   "cell_type": "code",
   "execution_count": null,
   "id": "24fccb07-48da-48b9-b740-287559add66d",
   "metadata": {},
   "outputs": [],
   "source": [
    "val_images_path = val_data_path / 'images'\n",
    "if not os.path.exists(val_images_path):\n",
    "    os.makedirs(val_images_path)\n",
    "\n",
    "val_labels_path = val_data_path / 'labels'\n",
    "if not os.path.exists(val_labels_path):\n",
    "    os.makedirs(val_labels_path)\n"
   ]
  },
  {
   "cell_type": "code",
   "execution_count": null,
   "id": "b965310c-31f6-40f8-9c84-59597ff166d8",
   "metadata": {},
   "outputs": [],
   "source": [
    "train_images_grey_path = train_val_trial_path / 'train_grey/images'\n",
    " \n",
    "if not os.path.exists(train_images_grey_path):\n",
    "    os.makedirs(train_images_grey_path)"
   ]
  },
  {
   "cell_type": "code",
   "execution_count": null,
   "id": "77c518f8-3474-448b-ac7f-f38e31aec55b",
   "metadata": {},
   "outputs": [],
   "source": [
    "val_images_grey_path = train_val_trial_path / 'val_grey/images'\n",
    "\n",
    "if not os.path.exists(val_images_grey_path):\n",
    "    os.makedirs(val_images_grey_path)"
   ]
  },
  {
   "cell_type": "code",
   "execution_count": null,
   "id": "ca31aae8-6ce3-41d5-b259-627b6b43d830",
   "metadata": {},
   "outputs": [],
   "source": []
  },
  {
   "cell_type": "code",
   "execution_count": null,
   "id": "eb0b4bcd-aaf9-4ecc-84db-8bef9524b5fb",
   "metadata": {},
   "outputs": [],
   "source": [
    "train_val_trial_path"
   ]
  },
  {
   "cell_type": "code",
   "execution_count": null,
   "id": "aecdd27e-adaf-4d16-9706-54817bdf8e60",
   "metadata": {},
   "outputs": [],
   "source": [
    "val_data_path"
   ]
  },
  {
   "cell_type": "code",
   "execution_count": null,
   "id": "058e24e4-967f-4946-a2c5-b519d5999551",
   "metadata": {},
   "outputs": [],
   "source": []
  },
  {
   "cell_type": "code",
   "execution_count": null,
   "id": "61d5aa8a-5f1e-44c9-84f5-ece75eaa2629",
   "metadata": {},
   "outputs": [],
   "source": []
  },
  {
   "cell_type": "markdown",
   "id": "7a1d1d5c-54d7-48cb-8e28-c93e5c7b6361",
   "metadata": {},
   "source": [
    "### Make a list of all selected image ids by looping through the label paths: "
   ]
  },
  {
   "cell_type": "code",
   "execution_count": null,
   "id": "17512f2a-31f3-4f6c-80b3-2cb9abbefddb",
   "metadata": {},
   "outputs": [],
   "source": [
    "round_counter = 0\n",
    "selected_image_ids = []\n",
    "for label_path in label_paths:\n",
    "    #print(label_path)\n",
    "    last_part = label_path.split('_')[-1]\n",
    "    image_id = int(last_part.split('.')[0])\n",
    "    selected_image_ids.append(image_id)\n",
    "    round_counter += 1\n",
    "    #if round_counter > 2:\n",
    "     #   break"
   ]
  },
  {
   "cell_type": "code",
   "execution_count": null,
   "id": "65164427-edff-4d95-8952-78fe53ab56b5",
   "metadata": {},
   "outputs": [],
   "source": [
    "print(len(selected_image_ids))\n",
    "print(selected_image_ids[0:7])\n"
   ]
  },
  {
   "cell_type": "markdown",
   "id": "88ebef3e-6850-4466-bab9-0b3721d9ebe0",
   "metadata": {},
   "source": [
    "### Shuffle selected image ids and subdivide them into training and validation set:"
   ]
  },
  {
   "cell_type": "code",
   "execution_count": null,
   "id": "8decf08b-eb80-4ef5-bdf9-469ad82ae294",
   "metadata": {},
   "outputs": [],
   "source": [
    "import random\n",
    "\n",
    "def split_shuffle(string_list, split_ratio=0.8):\n",
    "    # Shuffle the list in place\n",
    "    random.shuffle(string_list)\n",
    "    \n",
    "    # Calculate split point\n",
    "    split_point = int(len(string_list) * split_ratio)\n",
    "    \n",
    "    # Split the list\n",
    "    train_set = string_list[:split_point]\n",
    "    test_set = string_list[split_point:]\n",
    "    \n",
    "    return train_set, test_set"
   ]
  },
  {
   "cell_type": "code",
   "execution_count": null,
   "id": "cc15f166-e601-4950-80f5-ce39bb009b66",
   "metadata": {},
   "outputs": [],
   "source": [
    "print(len(selected_image_ids))\n",
    "train_ids, val_ids = split_shuffle(selected_image_ids)\n",
    "print(len(train_ids))\n",
    "print(len(val_ids))"
   ]
  },
  {
   "cell_type": "markdown",
   "id": "c664f0f6-085c-4a08-965a-fa492befe34b",
   "metadata": {},
   "source": [
    "### Get a list of all image files:"
   ]
  },
  {
   "cell_type": "code",
   "execution_count": null,
   "id": "e0349c5c-c396-4311-939b-6057a6601f6c",
   "metadata": {},
   "outputs": [],
   "source": [
    "all_file_list = os.listdir(data_path)\n",
    "image_file_list = []\n",
    "for filename in all_file_list:\n",
    "    file_extension = filename.split('.')[-1]\n",
    "    if file_extension == 'jpg':\n",
    "        image_file_list.append(filename)\n",
    "    \n",
    "print(len(image_file_list))\n",
    "\n",
    "image_file_list[0:7]"
   ]
  },
  {
   "cell_type": "code",
   "execution_count": null,
   "id": "16808a97-efae-44f6-97f8-8f78ace343bc",
   "metadata": {},
   "outputs": [],
   "source": []
  },
  {
   "cell_type": "code",
   "execution_count": null,
   "id": "7362355b-1965-4568-a729-b84a1bfcf3e1",
   "metadata": {},
   "outputs": [],
   "source": []
  },
  {
   "cell_type": "code",
   "execution_count": null,
   "id": "e9658a0b-555e-4a70-9455-03cf77b3d22e",
   "metadata": {},
   "outputs": [],
   "source": []
  },
  {
   "cell_type": "code",
   "execution_count": null,
   "id": "5562efe5-2263-4ac6-a60e-8aa9afe9c8ce",
   "metadata": {},
   "outputs": [],
   "source": []
  },
  {
   "cell_type": "code",
   "execution_count": null,
   "id": "a8a6ebdc-b05b-487e-8f8c-a637703a6495",
   "metadata": {},
   "outputs": [],
   "source": []
  },
  {
   "cell_type": "markdown",
   "id": "51440b9c-08b9-4b2d-887f-341e2e8699d0",
   "metadata": {},
   "source": [
    "### Loop through image file list and label_paths list and move files to the training or validation folder according to their id:"
   ]
  },
  {
   "cell_type": "code",
   "execution_count": null,
   "id": "2902518b-03e1-47b2-a0e7-a2048139361d",
   "metadata": {},
   "outputs": [],
   "source": [
    "train_imgages_path"
   ]
  },
  {
   "cell_type": "code",
   "execution_count": null,
   "id": "ec9cf46a-30e4-4362-b564-3a5da10622e6",
   "metadata": {},
   "outputs": [],
   "source": [
    "train_labels_path"
   ]
  },
  {
   "cell_type": "code",
   "execution_count": null,
   "id": "269aad96-c22a-4b11-a2d7-ff64f7a0dd9c",
   "metadata": {},
   "outputs": [],
   "source": [
    "train_ids[0:7]"
   ]
  },
  {
   "cell_type": "code",
   "execution_count": null,
   "id": "b04ca787-aff0-45a0-9037-0e5dd2ffa335",
   "metadata": {},
   "outputs": [],
   "source": [
    "val_ids[0:7]"
   ]
  },
  {
   "cell_type": "code",
   "execution_count": null,
   "id": "c70c15d3-3b0a-4a48-ab44-adc9730976a4",
   "metadata": {},
   "outputs": [],
   "source": [
    "image_file_list.sort(key=len, reverse=True)\n",
    "for file in image_file_list:\n",
    "    print(len(file))\n",
    "    print(file)\n",
    "    break"
   ]
  },
  {
   "cell_type": "code",
   "execution_count": null,
   "id": "b0ca5f95-14a9-4de9-85e1-7c5f1469c793",
   "metadata": {},
   "outputs": [],
   "source": [
    "label_paths[0:2]"
   ]
  },
  {
   "cell_type": "code",
   "execution_count": null,
   "id": "66448102-60a0-4000-9b1c-9f997c474762",
   "metadata": {},
   "outputs": [],
   "source": [
    "import shutil"
   ]
  },
  {
   "cell_type": "code",
   "execution_count": null,
   "id": "9196b54f-a094-416e-bb48-77af96e6f13d",
   "metadata": {},
   "outputs": [],
   "source": [
    "dist_train_val(image_file_list, train_ids, val_ids, data_path, \n",
    "               train_imgages_path, val_imgages_path)\n",
    "dist_train_val(label_paths, train_ids, val_ids, yolo_path, \n",
    "                           train_labels_path, val_labels_path, full_path=True)\n"
   ]
  },
  {
   "cell_type": "code",
   "execution_count": null,
   "id": "1cf41263-c671-4097-ab3f-615722f02ffa",
   "metadata": {},
   "outputs": [],
   "source": []
  },
  {
   "cell_type": "markdown",
   "id": "3c6a689f-22ab-4811-839b-d44c5fbf3cbe",
   "metadata": {},
   "source": [
    "### Remove content from meta data files referring to badly labelled images (the word referring to object class written on signs or inside of rooms)"
   ]
  },
  {
   "cell_type": "code",
   "execution_count": null,
   "id": "38f05695-387d-4169-a4fa-026603126c63",
   "metadata": {},
   "outputs": [],
   "source": [
    "from source.visual_genome_data import get_file_by_id\n",
    "\n",
    "def clear_yolo_metadata_by_id(data_path, identifier, id_end=True):\n",
    "   \"\"\"\n",
    "   Clear YOLO metadata file by identifier - makes it empty (removes all bounding boxes)\n",
    "   \n",
    "   Args:\n",
    "       data_path: Path to directory containing .txt files\n",
    "       identifier: Integer identifier to search for\n",
    "       id_end: If True (default), select file with ID at end only.\n",
    "               If False, select file with ID surrounded by underscores.\n",
    "   \"\"\"\n",
    "\n",
    "   \n",
    "   # Get all matching files\n",
    "   txt_files = get_file_by_id(data_path, identifier, '.txt')\n",
    "   \n",
    "   if not txt_files:\n",
    "       print(f\"No .txt file found with identifier {identifier}\")\n",
    "       return False\n",
    "   \n",
    "   # Filter based on id_end parameter\n",
    "   if id_end:\n",
    "       # Select only files where ID is at the end\n",
    "       filtered_files = [f for f in txt_files if f.endswith(f'_{identifier}.txt')]\n",
    "   else:\n",
    "       # Select only files where ID is surrounded by underscores\n",
    "       filtered_files = [f for f in txt_files if f'_{identifier}_' in f]\n",
    "   \n",
    "   if not filtered_files:\n",
    "       pattern_type = \"at end\" if id_end else \"with underscores\"\n",
    "       print(f\"No .txt file found with identifier {identifier} {pattern_type}\")\n",
    "       return False\n",
    "   \n",
    "   # Overwrite with empty content\n",
    "   file_path = os.path.join(data_path, filtered_files[0])\n",
    "   with open(file_path, 'w') as f:\n",
    "       pass\n",
    "   \n",
    "   print(f\"Cleared metadata file: {filtered_files[0]}\")\n",
    "   return True"
   ]
  },
  {
   "cell_type": "raw",
   "id": "ed7da1d3-96a1-44c0-a482-f6ac621fbc5f",
   "metadata": {},
   "source": [
    "ids_delete_yolo_metadata = [61591,\n",
    "498224,\n",
    "1591985,\n",
    "2352008,\n",
    "2363367,\n",
    "2396536,\n",
    "2397641]\n",
    "\n",
    "for identifier in ids_delete_yolo_metadata: \n",
    "    clear_yolo_metadata_by_id(train_labels_path, identifier, id_end=True)"
   ]
  },
  {
   "cell_type": "code",
   "execution_count": null,
   "id": "bf6a62d2-e071-4cf2-91c0-e4e4b6e6c770",
   "metadata": {},
   "outputs": [],
   "source": []
  },
  {
   "cell_type": "markdown",
   "id": "9820c6ee-3100-4b0d-a06b-5662e593346d",
   "metadata": {},
   "source": [
    "### Convert images to grey scale images"
   ]
  },
  {
   "cell_type": "code",
   "execution_count": null,
   "id": "c6f2f16f-2272-4f74-aa31-bd16f6956b9b",
   "metadata": {},
   "outputs": [],
   "source": [
    "import cv2\n",
    "import os\n",
    "from pathlib import Path\n",
    "\n",
    "def convert_dataset_to_grayscale(input_dir, output_dir):\n",
    "    \"\"\"Convert all images in dataset to grayscale\"\"\"\n",
    "    os.makedirs(output_dir, exist_ok=True)\n",
    "    \n",
    "    for img_path in Path(input_dir).glob('*.jpg'):\n",
    "        # Read image\n",
    "        img = cv2.imread(str(img_path))\n",
    "        \n",
    "        # Convert to grayscale\n",
    "        gray_img = cv2.cvtColor(img, cv2.COLOR_BGR2GRAY)\n",
    "        \n",
    "        # Convert back to 3-channel (YOLO expects 3 channels)\n",
    "        gray_3channel = cv2.cvtColor(gray_img, cv2.COLOR_GRAY2BGR)\n",
    "        \n",
    "        # Save\n",
    "        output_path = os.path.join(output_dir, img_path.name)\n",
    "        cv2.imwrite(output_path, gray_3channel)\n"
   ]
  },
  {
   "cell_type": "code",
   "execution_count": null,
   "id": "c6c6aace-7c99-4822-b504-72a8411f5a24",
   "metadata": {},
   "outputs": [],
   "source": [
    "train_data_path "
   ]
  },
  {
   "cell_type": "code",
   "execution_count": null,
   "id": "31e63abc-3de4-4dac-9d30-cd998836318e",
   "metadata": {},
   "outputs": [],
   "source": [
    "val_data_path"
   ]
  },
  {
   "cell_type": "code",
   "execution_count": null,
   "id": "09c1a063-1045-4385-9463-6f349b798d3c",
   "metadata": {},
   "outputs": [],
   "source": [
    "train_data_path"
   ]
  },
  {
   "cell_type": "code",
   "execution_count": null,
   "id": "b6f745a6-530c-434a-9432-8289c349f072",
   "metadata": {},
   "outputs": [],
   "source": []
  },
  {
   "cell_type": "code",
   "execution_count": null,
   "id": "f5905ed2-2c8d-45a7-b589-6ca6b5e22132",
   "metadata": {},
   "outputs": [],
   "source": [
    "# Convert your training images\n",
    "convert_dataset_to_grayscale(train_images_path, train_images_grey_path)\n",
    "convert_dataset_to_grayscale(val_images_path, val_images_grey_path)"
   ]
  },
  {
   "cell_type": "code",
   "execution_count": null,
   "id": "9a4a8ef7-6da4-444e-b7bf-c69a451f5435",
   "metadata": {},
   "outputs": [],
   "source": [
    "os.getcwd()"
   ]
  },
  {
   "cell_type": "code",
   "execution_count": null,
   "id": "6d0af53e-7d23-4374-b83d-344be9f85939",
   "metadata": {},
   "outputs": [],
   "source": [
    "test_files_path = root_path / 'test_files'\n",
    "test_files_grey_path = root_path / 'test_files_grey'"
   ]
  },
  {
   "cell_type": "code",
   "execution_count": null,
   "id": "475a2fe8-e8d7-4762-963c-d57b1a067e92",
   "metadata": {},
   "outputs": [],
   "source": [
    "convert_dataset_to_grayscale(test_files_path, test_files_grey_path)"
   ]
  },
  {
   "cell_type": "markdown",
   "id": "17502db1-c909-4d1f-8841-6728a804e1a0",
   "metadata": {},
   "source": [
    "### Adapt brightness and contrast of grey scale images to make them look old:"
   ]
  },
  {
   "cell_type": "code",
   "execution_count": null,
   "id": "9b9bfa9c-0c3d-49dd-8385-5ce8599eb4d3",
   "metadata": {},
   "outputs": [],
   "source": [
    "import cv2\n",
    "import numpy as np\n",
    "from PIL import Image, ImageEnhance, ImageFilter\n",
    "import random\n",
    "import os"
   ]
  },
  {
   "cell_type": "code",
   "execution_count": null,
   "id": "646350aa-124e-409e-8cb3-e54edc6f7c74",
   "metadata": {},
   "outputs": [],
   "source": [
    "def simulate_specific_old_effects(image_path, output_path):\n",
    "    \"\"\"\n",
    "    Apply specific effects that match your old photos.\n",
    "    Adjust these based on what you observe in your test images.\n",
    "    \"\"\"\n",
    "    img = Image.open(image_path).convert('RGB')\n",
    "    \n",
    "    # Heavy JPEG compression (very low quality)\n",
    "    img.save('temp.jpg', 'JPEG', quality=15)\n",
    "    img = Image.open('temp.jpg')\n",
    "    os.remove('temp.jpg')\n",
    "    \n",
    "    # Significant brightness reduction\n",
    "    enhancer = ImageEnhance.Brightness(img)\n",
    "    img = enhancer.enhance(0.8)\n",
    "    \n",
    "    # Low contrast\n",
    "    enhancer = ImageEnhance.Contrast(img)\n",
    "    img = enhancer.enhance(0.9)\n",
    "    \n",
    "    # Add significant noise\n",
    "    img_array = np.array(img)\n",
    "    noise = np.random.normal(0, 0.1, img_array.shape).astype(np.uint8)\n",
    "    img_array = np.clip(img_array.astype(np.int16) + noise, 0, 255).astype(np.uint8)\n",
    "    img = Image.fromarray(img_array)\n",
    "    \n",
    "    # Strong blur\n",
    "    img = img.filter(ImageFilter.GaussianBlur(radius=1.5))\n",
    "    \n",
    "    img.save(output_path, 'JPEG', quality=85) \n"
   ]
  },
  {
   "cell_type": "code",
   "execution_count": null,
   "id": "58bdd262-67f6-4981-8d40-7312e3b72f3c",
   "metadata": {},
   "outputs": [],
   "source": [
    "def process_training_dataset_spec(input_dir, output_dir, augmentation_ratio=0.5):\n",
    "    \"\"\"\n",
    "    Process a directory of training images to simulate old photo effects.\n",
    "    \n",
    "    Args:\n",
    "        input_dir: Directory with original images\n",
    "        output_dir: Directory to save processed images\n",
    "        augmentation_ratio: Fraction of images to augment (0.5 = 50%)\n",
    "    \"\"\"\n",
    "    os.makedirs(output_dir, exist_ok=True)\n",
    "    \n",
    "    image_files = [f for f in os.listdir(input_dir) if f.lower().endswith(('.jpg', '.jpeg', '.png', '.tif'))]\n",
    "    \n",
    "    for img_file in image_files:\n",
    "        input_path = os.path.join(input_dir, img_file)\n",
    "        \n",
    "        # Always copy original\n",
    "        original_output = os.path.join(output_dir, img_file)\n",
    "        #img = Image.open(input_path)\n",
    "        #img.save(original_output)\n",
    "        \n",
    "\n",
    "        # Create filename for augmented version\n",
    "        name, ext = os.path.splitext(img_file)\n",
    "        aug_filename = f\"{name}_aged{ext}\"\n",
    "        aug_output = os.path.join(output_dir, aug_filename)\n",
    "        #aug_output = os.path.join(output_dir, img_file)\n",
    "        \n",
    "        # Apply aging effects with random intensity\n",
    "        intensity = random.uniform(0.3, 0.8)\n",
    "        simulate_specific_old_effects(input_path, aug_output)\n",
    "    \n",
    "    print(f\"Processed {len(image_files)} images in {input_dir}\")"
   ]
  },
  {
   "cell_type": "code",
   "execution_count": null,
   "id": "fb1642c3-2fce-4f17-bf55-b500fe398377",
   "metadata": {},
   "outputs": [],
   "source": []
  },
  {
   "cell_type": "code",
   "execution_count": null,
   "id": "9c5d6f43-8f7d-46b0-885e-ad4ab683556e",
   "metadata": {},
   "outputs": [],
   "source": [
    "train_images_aged_path = train_val_trial_path / 'train_grey/images_aged'\n",
    "val_images_aged_path = train_val_trial_path / 'val_grey/images_aged'"
   ]
  },
  {
   "cell_type": "code",
   "execution_count": null,
   "id": "ae2ea54c-0a09-49db-b704-50d97d0129ec",
   "metadata": {},
   "outputs": [],
   "source": [
    "process_training_dataset_spec(train_images_grey_path, train_images_aged_path)\n",
    "process_training_dataset_spec(val_images_grey_path, val_images_aged_path)"
   ]
  },
  {
   "cell_type": "code",
   "execution_count": null,
   "id": "4564abb6-8c72-433e-b051-424f46360f37",
   "metadata": {},
   "outputs": [],
   "source": []
  },
  {
   "cell_type": "markdown",
   "id": "447b429e-0d6f-4da6-a7a1-2aebd9287172",
   "metadata": {},
   "source": [
    "### Move all grey images back to train and val folders (overwriting the coloured images)"
   ]
  },
  {
   "cell_type": "code",
   "execution_count": null,
   "id": "49dc32e2-71d3-49c9-a8be-87f93ec22097",
   "metadata": {},
   "outputs": [],
   "source": [
    "grey_image_list = os.listdir(train_images_grey_path)\n",
    "for image in grey_image_list:\n",
    "    grey_image_path = train_images_grey_path / image\n",
    "    dest_grey_image_path = train_images_path / image\n",
    "    shutil.copy(grey_image_path, dest_grey_image_path)"
   ]
  },
  {
   "cell_type": "code",
   "execution_count": null,
   "id": "18a63410-80f8-4494-ae6c-781ec2192726",
   "metadata": {},
   "outputs": [],
   "source": [
    "grey_image_list = os.listdir(val_images_grey_path)\n",
    "for image in grey_image_list:\n",
    "    grey_image_path = val_images_grey_path / image\n",
    "    dest_grey_image_path = val_images_path / image\n",
    "    shutil.copy(grey_image_path, dest_grey_image_path)"
   ]
  },
  {
   "cell_type": "code",
   "execution_count": null,
   "id": "30932251-422f-4905-aaf6-e3cac5bc85b8",
   "metadata": {},
   "outputs": [],
   "source": [
    "grey_image_list = os.listdir(test_files_grey_path)\n",
    "for image in grey_image_list:\n",
    "    grey_image_path = test_files_grey_path / image\n",
    "    dest_grey_image_path = test_files_path / image\n",
    "    shutil.copy(grey_image_path, dest_grey_image_path)"
   ]
  },
  {
   "cell_type": "code",
   "execution_count": null,
   "id": "e6acce0e-e999-4a04-97c6-d51e556d06f9",
   "metadata": {},
   "outputs": [],
   "source": [
    "from source.visual_genome_aged_effect import simulate_specific_old_effects\n",
    "from source.visual_genome_aged_effect import process_training_dataset_spec\n",
    "from source.visual_genome_aged_effect import copy_with_new_id\n",
    "from source.visual_genome_aged_effect import add_new_id_img_meta"
   ]
  },
  {
   "cell_type": "code",
   "execution_count": null,
   "id": "6b78da94-c459-4a0a-a484-cd8f5179ead7",
   "metadata": {},
   "outputs": [],
   "source": [
    "train_images_aged_path"
   ]
  },
  {
   "cell_type": "markdown",
   "id": "82017ade-2c4b-481e-9daa-d7115c8bdd5c",
   "metadata": {},
   "source": [
    "### Get identifiers of training and validation images:"
   ]
  },
  {
   "cell_type": "code",
   "execution_count": null,
   "id": "211cbe7c-a006-41db-a977-fc12fed3ccb4",
   "metadata": {},
   "outputs": [],
   "source": [
    "train_img_ids = get_image_ids(str(train_images_path))\n",
    "val_img_ids = get_image_ids(str(val_images_path))\n",
    "train_max_id = max(train_img_ids)\n",
    "val_max_id = max(val_img_ids)\n",
    "max_id = max([train_max_id, val_max_id])\n",
    "max_id"
   ]
  },
  {
   "cell_type": "markdown",
   "id": "136cb5da-dfd3-44be-b73c-1b1499dfb17b",
   "metadata": {},
   "source": [
    "### Create and add new identifiers to aged versions of images; move files to train and val folder:"
   ]
  },
  {
   "cell_type": "markdown",
   "id": "4c130bac-1748-42cf-9e57-0a9ca028d47e",
   "metadata": {},
   "source": [
    "#### The aged image versions are added to the original grey scale images, so that for every image there is an original and a grey scale version"
   ]
  },
  {
   "cell_type": "code",
   "execution_count": null,
   "id": "118fb860-df97-41ef-a8eb-af27a5b3b2cb",
   "metadata": {},
   "outputs": [],
   "source": [
    "file_extensions = ['.jpg', '.txt']\n",
    "tag = 'aged'\n",
    "add_new_id_img_meta(train_images_aged_path, train_labels_path, \n",
    "                    train_images_path, train_labels_path, \n",
    "                    train_img_ids, max_id, tag, file_extensions)"
   ]
  },
  {
   "cell_type": "code",
   "execution_count": null,
   "id": "f68a72e0-d55a-43bf-9517-50d76c32b34b",
   "metadata": {},
   "outputs": [],
   "source": [
    "train_img_ids = get_image_ids(str(train_images_path))\n",
    "val_img_ids = get_image_ids(str(val_images_path))\n",
    "train_max_id = max(train_img_ids)\n",
    "val_max_id = max(val_img_ids)\n",
    "max_id = max([train_max_id, val_max_id])\n",
    "max_id"
   ]
  },
  {
   "cell_type": "code",
   "execution_count": null,
   "id": "c93c4c8c-4810-4e1a-b607-ba73f8d2274f",
   "metadata": {},
   "outputs": [],
   "source": [
    "file_extensions = ['.jpg', '.txt']\n",
    "tag = 'aged'\n",
    "\n",
    "add_new_id_img_meta(val_images_aged_path, val_labels_path, \n",
    "                    val_images_path, val_labels_path, \n",
    "                    val_img_ids, max_id, tag, file_extensions)"
   ]
  },
  {
   "cell_type": "code",
   "execution_count": null,
   "id": "42d3412e-9e7c-4c7b-8945-fb75fda2cdc9",
   "metadata": {},
   "outputs": [],
   "source": []
  },
  {
   "cell_type": "markdown",
   "id": "ed35fc50-dac5-4874-a2d7-35295a7fb7ed",
   "metadata": {},
   "source": [
    "### Copy yaml file to training folder:"
   ]
  },
  {
   "cell_type": "code",
   "execution_count": null,
   "id": "0cbeda41-6f70-4600-912e-af3626b4acdc",
   "metadata": {},
   "outputs": [],
   "source": [
    "yaml_path"
   ]
  },
  {
   "cell_type": "code",
   "execution_count": null,
   "id": "0440b9a8-1e87-4441-99e4-1a7bd88f3694",
   "metadata": {},
   "outputs": [],
   "source": [
    "yolo_yaml_path = train_val_trial_path / yaml_file_name\n",
    "yolo_yaml_path"
   ]
  },
  {
   "cell_type": "code",
   "execution_count": null,
   "id": "95af2f6d-d9f0-4f81-aaa1-acf0e6c926b3",
   "metadata": {},
   "outputs": [],
   "source": [
    "shutil.copy(yaml_path, yolo_yaml_path)"
   ]
  },
  {
   "cell_type": "code",
   "execution_count": null,
   "id": "87dda670-79d7-4afc-8afe-1d20732e01a2",
   "metadata": {},
   "outputs": [],
   "source": []
  },
  {
   "cell_type": "code",
   "execution_count": null,
   "id": "8b948ae2-5121-4c3c-a8d9-eb8e9bff2708",
   "metadata": {},
   "outputs": [],
   "source": []
  },
  {
   "cell_type": "code",
   "execution_count": null,
   "id": "3fc9e545-3713-456f-943b-7a042ade1fc1",
   "metadata": {},
   "outputs": [],
   "source": []
  },
  {
   "cell_type": "code",
   "execution_count": null,
   "id": "bcb52c64-371f-4d09-ba56-2fa179a3a81f",
   "metadata": {},
   "outputs": [],
   "source": []
  },
  {
   "cell_type": "code",
   "execution_count": null,
   "id": "ceb70edd-be73-42ad-a2b1-b84ece4352d2",
   "metadata": {},
   "outputs": [],
   "source": []
  },
  {
   "cell_type": "code",
   "execution_count": null,
   "id": "5c43915a-481e-43f7-bbe4-b3a3cb5901f2",
   "metadata": {},
   "outputs": [],
   "source": []
  },
  {
   "cell_type": "code",
   "execution_count": null,
   "id": "0a20cbc7-5b0d-467e-a68e-721d46c70b34",
   "metadata": {},
   "outputs": [],
   "source": []
  },
  {
   "cell_type": "code",
   "execution_count": null,
   "id": "d7ba7502-b9d6-48f4-bc73-b73103c5a4cd",
   "metadata": {},
   "outputs": [],
   "source": []
  },
  {
   "cell_type": "code",
   "execution_count": null,
   "id": "fd0e26fc-ccfa-4a89-beb2-9f32537cf988",
   "metadata": {},
   "outputs": [],
   "source": []
  },
  {
   "cell_type": "code",
   "execution_count": null,
   "id": "05ec46b0-0c08-4749-9f61-bf856ce5fe81",
   "metadata": {},
   "outputs": [],
   "source": []
  },
  {
   "cell_type": "code",
   "execution_count": null,
   "id": "f539a944-9f3d-4e9e-8975-8a6a6311c0b8",
   "metadata": {},
   "outputs": [],
   "source": []
  },
  {
   "cell_type": "code",
   "execution_count": null,
   "id": "bf5adee6-40f5-4a8d-bcb8-bf14f8d4ef32",
   "metadata": {},
   "outputs": [],
   "source": []
  },
  {
   "cell_type": "code",
   "execution_count": null,
   "id": "28a0b570-1e91-48fb-a5d9-0b12ee276a3b",
   "metadata": {},
   "outputs": [],
   "source": []
  },
  {
   "cell_type": "code",
   "execution_count": null,
   "id": "48deabf4-7093-4a3d-ab06-26187dc4ec3b",
   "metadata": {},
   "outputs": [],
   "source": []
  },
  {
   "cell_type": "code",
   "execution_count": null,
   "id": "6e27d91e-2c24-4bc7-8683-cbeb978c863a",
   "metadata": {},
   "outputs": [],
   "source": []
  },
  {
   "cell_type": "code",
   "execution_count": null,
   "id": "2ce40e37-d6bc-42d8-be06-4955aacc0e9a",
   "metadata": {},
   "outputs": [],
   "source": []
  },
  {
   "cell_type": "code",
   "execution_count": null,
   "id": "1ec53f7c-9700-4b9f-b100-a7cdd836546e",
   "metadata": {},
   "outputs": [],
   "source": []
  },
  {
   "cell_type": "code",
   "execution_count": null,
   "id": "922e2579-8d9a-4be6-981e-daaa5a1c7f49",
   "metadata": {},
   "outputs": [],
   "source": []
  },
  {
   "cell_type": "code",
   "execution_count": null,
   "id": "cda9423c-49ce-416b-9a9c-f5745fdca4bf",
   "metadata": {},
   "outputs": [],
   "source": []
  },
  {
   "cell_type": "code",
   "execution_count": null,
   "id": "b8f33089-7ff2-4230-be8a-18cbff03cf53",
   "metadata": {},
   "outputs": [],
   "source": []
  },
  {
   "cell_type": "code",
   "execution_count": null,
   "id": "e5d7ea9a-c6fc-4fb2-91c4-e2f2b5d55320",
   "metadata": {},
   "outputs": [],
   "source": [
    "itercounter = 0\n",
    "#img_file_test_list = ['visual_genome_1116.jpg']\n",
    "#for file in image_file_list:\n",
    "for file in img_file_test_list:\n",
    "    print(file)\n",
    "    img_id = int(file.split('_')[-1].split('.')[0])\n",
    "    print(img_id)\n",
    "    print(type(img_id))\n",
    "    if img_id in train_ids:\n",
    "        print('train')\n",
    "        source_path_img = data_path / file\n",
    "        destination_path_img = train_imgs / file\n",
    "        shutil.copy2(source_path_img, destination_path_img)\n",
    "        \n",
    "    elif img_id in val_ids:\n",
    "        print('val')\n",
    "        source_path = data_path / file\n",
    "        destination_path = val_imgs / file\n",
    "        shutil.copy2(source_path, destination_path)\n",
    "    else:\n",
    "        print('no')\n",
    "    itercounter += 1\n",
    "    if itercounter > 70:\n",
    "        break"
   ]
  },
  {
   "cell_type": "code",
   "execution_count": null,
   "id": "a044e69e-a250-4eff-a718-3c7830f73b7c",
   "metadata": {},
   "outputs": [],
   "source": [
    "round_counter = 0\n",
    "for img_id in image_id_list:\n",
    "    print(img_id)\n",
    "    round_counter += 1\n",
    "    if round_counter > 2:\n",
    "        break"
   ]
  },
  {
   "cell_type": "code",
   "execution_count": null,
   "id": "cbfdd5e7-5163-44ef-ab94-2018d972240c",
   "metadata": {},
   "outputs": [],
   "source": []
  },
  {
   "cell_type": "code",
   "execution_count": null,
   "id": "ba3b3423-9ad6-4f01-98c5-c4d210082e02",
   "metadata": {},
   "outputs": [],
   "source": []
  },
  {
   "cell_type": "code",
   "execution_count": null,
   "id": "03c0e0f7-c6f2-4071-a0cd-434a0dab97ae",
   "metadata": {},
   "outputs": [],
   "source": []
  },
  {
   "cell_type": "code",
   "execution_count": null,
   "id": "7494bfac-8c17-4cbc-9237-b5169f3e5beb",
   "metadata": {},
   "outputs": [],
   "source": []
  },
  {
   "cell_type": "code",
   "execution_count": null,
   "id": "bbaac1ca-568b-4129-8631-ce133c42338f",
   "metadata": {},
   "outputs": [],
   "source": []
  },
  {
   "cell_type": "code",
   "execution_count": null,
   "id": "3c7d711b-03e1-4142-981e-67baf27bca57",
   "metadata": {},
   "outputs": [],
   "source": []
  },
  {
   "cell_type": "code",
   "execution_count": null,
   "id": "6e98d46e-df69-46c3-b606-341c5d10a950",
   "metadata": {},
   "outputs": [],
   "source": []
  },
  {
   "cell_type": "code",
   "execution_count": null,
   "id": "0e17bf7e-01fb-4057-9594-f7ff74c2c5b6",
   "metadata": {},
   "outputs": [],
   "source": []
  },
  {
   "cell_type": "code",
   "execution_count": null,
   "id": "d80cb815-179e-4abe-8d96-5e317a968f00",
   "metadata": {},
   "outputs": [],
   "source": []
  },
  {
   "cell_type": "code",
   "execution_count": null,
   "id": "e59e70c5-95c7-4925-ba75-bc8fcf4ca78d",
   "metadata": {},
   "outputs": [],
   "source": []
  },
  {
   "cell_type": "code",
   "execution_count": null,
   "id": "c20f8741-9c1d-446d-ac41-d35a7e1314d2",
   "metadata": {},
   "outputs": [],
   "source": [
    "desired_objects = ['tree', 'trees', 'forest', 'woods', 'mountain', 'mountains', 'building', 'house', \n",
    "                   'church', 'city', 'village', 'lake', 'river', 'stream', 'glacier', 'water body', \n",
    "                   'watercourse', 'water', 'waters']\n",
    "class_map = create_class_mapping_from_list(desired_objects)\n"
   ]
  },
  {
   "cell_type": "code",
   "execution_count": null,
   "id": "277678f7-cc57-46ac-ad34-84c1181d5ab6",
   "metadata": {},
   "outputs": [],
   "source": [
    "class_map"
   ]
  },
  {
   "cell_type": "code",
   "execution_count": null,
   "id": "518f1251-122d-4808-bece-a16980403551",
   "metadata": {},
   "outputs": [],
   "source": [
    "\n",
    "yaml_path = yolo_path/'class_map.yaml'"
   ]
  },
  {
   "cell_type": "code",
   "execution_count": null,
   "id": "05f737d8-9447-48de-a5c2-3a9ebdc541e1",
   "metadata": {},
   "outputs": [],
   "source": [
    "\n",
    "save_class_map_to_yaml(class_map, yaml_path)"
   ]
  },
  {
   "cell_type": "code",
   "execution_count": null,
   "id": "583375a1-aedf-44f3-8afd-a296e2758cab",
   "metadata": {},
   "outputs": [],
   "source": [
    "class_map = read_yaml_to_class_map(yaml_path)"
   ]
  },
  {
   "cell_type": "code",
   "execution_count": null,
   "id": "362a75e7-2d7c-4d44-bfe6-54630841a724",
   "metadata": {},
   "outputs": [],
   "source": [
    "class_map"
   ]
  },
  {
   "cell_type": "code",
   "execution_count": null,
   "id": "8eb926fb-5f0a-4add-992d-243b85a98c68",
   "metadata": {},
   "outputs": [],
   "source": [
    "#image_dir = '/Users/stephanehess/Documents/CAS_AML/dias_digit_project/visual_genome_data/'\n",
    "#output_dir = root_path/'visual_genome_yolo'\n",
    "\n",
    "label_path = convert_single_image_to_yolo(objects[0], class_map, data_path, yolo_path)"
   ]
  },
  {
   "cell_type": "code",
   "execution_count": null,
   "id": "6b473338-2b80-47c0-8143-0abbb402ae4a",
   "metadata": {},
   "outputs": [],
   "source": []
  },
  {
   "cell_type": "code",
   "execution_count": null,
   "id": "988f5f90-652e-4da1-abc0-20786dff574c",
   "metadata": {},
   "outputs": [],
   "source": [
    "all_files = os.listdir(data_path)\n",
    "image_file_list = [f for f in all_files if f.lower().endswith('.jpg')]\n",
    "image_file_list.sort()\n",
    "image_file_list[0:5]"
   ]
  },
  {
   "cell_type": "code",
   "execution_count": null,
   "id": "66f1cc5e-056d-44e7-b258-82bb929f7fab",
   "metadata": {},
   "outputs": [],
   "source": [
    "round_counter = 0\n",
    "for filename in image_file_list:\n",
    "    file_path = data_path/filename\n",
    "    print(file_path)\n",
    "    round_counter += 1\n",
    "    if round_counter > 5: \n",
    "        break"
   ]
  },
  {
   "cell_type": "code",
   "execution_count": null,
   "id": "b3eff22a-1512-41fb-9ac0-445996beba4e",
   "metadata": {},
   "outputs": [],
   "source": [
    "len(image_file_list)"
   ]
  },
  {
   "cell_type": "code",
   "execution_count": null,
   "id": "f2b8431d-9105-4f7a-9bdf-88266b2ce44b",
   "metadata": {},
   "outputs": [],
   "source": [
    "data_path"
   ]
  },
  {
   "cell_type": "code",
   "execution_count": null,
   "id": "f0eed478-ea74-47d8-a6eb-20723b2b9804",
   "metadata": {},
   "outputs": [],
   "source": []
  },
  {
   "cell_type": "code",
   "execution_count": null,
   "id": "a1ec0088-a473-4215-a190-476ac18aaaa3",
   "metadata": {},
   "outputs": [],
   "source": [
    "test_path = root_path/'test_visual_genome'"
   ]
  },
  {
   "cell_type": "code",
   "execution_count": null,
   "id": "45d81481-d204-4607-8789-9ff03aed1d9f",
   "metadata": {},
   "outputs": [],
   "source": []
  },
  {
   "cell_type": "code",
   "execution_count": null,
   "id": "80cf8966-4a11-4e78-9764-c2fb25f95f58",
   "metadata": {},
   "outputs": [],
   "source": [
    "image_id_list = get_image_ids(data_path)\n",
    "len(image_id_list)"
   ]
  },
  {
   "cell_type": "code",
   "execution_count": null,
   "id": "87a0e0c1-b6e9-4b32-83fd-6eea7266bdd8",
   "metadata": {},
   "outputs": [],
   "source": [
    "image_id_list.sort()"
   ]
  },
  {
   "cell_type": "code",
   "execution_count": null,
   "id": "d66d122a-7043-45c1-9b51-f57001d3d10f",
   "metadata": {},
   "outputs": [],
   "source": [
    "print(image_id_list[0:3])\n",
    "print(image_id_list[0])"
   ]
  },
  {
   "cell_type": "code",
   "execution_count": null,
   "id": "18ff7e65-09e4-4be9-b279-2ab324d93e54",
   "metadata": {},
   "outputs": [],
   "source": []
  },
  {
   "cell_type": "code",
   "execution_count": null,
   "id": "00d8110e-579a-474e-9d62-59ecf5ec9c1a",
   "metadata": {},
   "outputs": [],
   "source": []
  },
  {
   "cell_type": "code",
   "execution_count": null,
   "id": "89748b53-e06e-4a64-beff-bb33e7648480",
   "metadata": {},
   "outputs": [],
   "source": [
    "iterations = 0\n",
    "for idx in list(range(0, len(objects))):\n",
    "    print('\\n')\n",
    "    print(idx)\n",
    "\n",
    "    object_idx = objects[idx]\n",
    "\n",
    "    print('image_id')\n",
    "    img_id = object_idx['image_id']\n",
    "    print(img_id)\n",
    "    \n",
    "    if img_id in image_id_list:\n",
    "\n",
    "        label_path = convert_single_image_to_yolo(object_idx, class_map, data_path, yolo_path)\n",
    "        print(label_path)\n",
    "    iterations += 1\n",
    "    if iterations > 2:\n",
    "        break"
   ]
  },
  {
   "cell_type": "code",
   "execution_count": null,
   "id": "f4f3f57a-bec8-4442-9057-4153fc18dd3f",
   "metadata": {},
   "outputs": [],
   "source": []
  },
  {
   "cell_type": "code",
   "execution_count": null,
   "id": "765f1bbc-5b12-461a-9324-324af7720bea",
   "metadata": {},
   "outputs": [],
   "source": []
  },
  {
   "cell_type": "code",
   "execution_count": null,
   "id": "495cf7d3-17da-41b6-b618-2f5ec9230804",
   "metadata": {},
   "outputs": [],
   "source": []
  },
  {
   "cell_type": "code",
   "execution_count": null,
   "id": "4bf26e9a-fa02-4521-abf3-491af5348c2f",
   "metadata": {},
   "outputs": [],
   "source": []
  },
  {
   "cell_type": "code",
   "execution_count": null,
   "id": "ad82322e-9b75-43b4-9ff2-4fb8b9ef8fb6",
   "metadata": {},
   "outputs": [],
   "source": []
  },
  {
   "cell_type": "code",
   "execution_count": null,
   "id": "c348c788-0fdb-4f39-9bf7-144b8dd2e230",
   "metadata": {},
   "outputs": [],
   "source": []
  },
  {
   "cell_type": "code",
   "execution_count": null,
   "id": "f6c77885-6033-4ba5-952a-ece3459a04e1",
   "metadata": {},
   "outputs": [],
   "source": [
    "import cv2\n",
    "import numpy as np\n",
    "import yaml\n",
    "import matplotlib.pyplot as plt\n",
    "import matplotlib.patches as patches\n",
    "from PIL import Image\n",
    "import os\n",
    "\n",
    "def visualize_yolo_annotations(image_path, label_path, yaml_path):\n",
    "    \"\"\"\n",
    "    Visualize an image with its YOLO format bounding boxes.\n",
    "    \n",
    "    Args:\n",
    "        image_path: Path to the image file\n",
    "        label_path: Path to the YOLO format text file with bounding boxes\n",
    "        yaml_path: Path to the YAML file with class mappings\n",
    "    \"\"\"\n",
    "    # Load the class mappings from YAML file\n",
    "    with open(yaml_path, 'r') as f:\n",
    "        yaml_data = yaml.safe_load(f)\n",
    "    \n",
    "    class_names = yaml_data['names']\n",
    "    print(label_path)\n",
    "    # Load the image\n",
    "    print(image_path)\n",
    "    image = Image.open(image_path)\n",
    "    img_width, img_height = image.size\n",
    "    \n",
    "    # Convert PIL Image to numpy array for matplotlib\n",
    "    image_np = np.array(image)\n",
    "    \n",
    "    # Create a figure and axis\n",
    "    fig, ax = plt.subplots(1, figsize=(12, 9))\n",
    "    \n",
    "    # Display the image\n",
    "    ax.imshow(image_np)\n",
    "    \n",
    "    # Define colors for bounding boxes (one for each class)\n",
    "    # Using a colormap to generate distinct colors\n",
    "    cmap = plt.cm.get_cmap('hsv', len(class_names))\n",
    "    colors = [cmap(i) for i in range(len(class_names))]\n",
    "    \n",
    "    # Load and draw bounding boxes from the label file\n",
    "    with open(label_path, 'r') as f:\n",
    "        for line in f:\n",
    "            data = line.strip().split()\n",
    "            print(data)\n",
    "            if len(data) != 5:  # YOLO format has 5 values per line\n",
    "                continue\n",
    "                \n",
    "            class_id = int(data[0])\n",
    "            x_center = float(data[1]) * img_width\n",
    "            y_center = float(data[2]) * img_height\n",
    "            width = float(data[3]) * img_width\n",
    "            height = float(data[4]) * img_height\n",
    "            \n",
    "            # Calculate top-left corner for rectangle\n",
    "            x_min = x_center - (width / 2)\n",
    "            y_min = y_center - (height / 2)\n",
    "            \n",
    "            # Create a rectangle patch\n",
    "            rect = patches.Rectangle(\n",
    "                (x_min, y_min), width, height, \n",
    "                linewidth=2, \n",
    "                edgecolor=colors[class_id], \n",
    "                facecolor='none'\n",
    "            )\n",
    "            \n",
    "            # Add the rectangle to the plot\n",
    "            ax.add_patch(rect)\n",
    "            \n",
    "            # Add class label text above the bounding box\n",
    "            class_name = class_names[class_id] if class_id < len(class_names) else f\"Class {class_id}\"\n",
    "            plt.text(\n",
    "                x_min, y_min - 5, \n",
    "                class_name,\n",
    "                color=colors[class_id], \n",
    "                fontsize=12, \n",
    "                bbox=dict(facecolor='white', alpha=0.7, edgecolor='none', pad=0)\n",
    "            )\n",
    "    \n",
    "    plt.axis('off')  # Hide axes\n",
    "    plt.tight_layout()\n",
    "    \n",
    "    return fig, ax"
   ]
  },
  {
   "cell_type": "code",
   "execution_count": null,
   "id": "01ece8e3-e8a4-463d-b748-b4d5127679d3",
   "metadata": {},
   "outputs": [],
   "source": []
  },
  {
   "cell_type": "code",
   "execution_count": null,
   "id": "6759c778-5d8c-4629-92cc-63f27bd9f4fa",
   "metadata": {},
   "outputs": [],
   "source": [
    "\n",
    "round_counter = 0\n",
    "for filename in image_file_list:\n",
    "    image_path = image_dir + filename\n",
    "    print(image_path)\n",
    "    last_part = image_path.split('_')[-1]\n",
    "    img_id_str = last_part.split('.')[0]\n",
    "    img_id = int(img_id_str)\n",
    "    img_id_minus_1 = img_id-1\n",
    "    #print(img_id)\n",
    "    #print(objects[img_id_minus_1]['image_id'])\n",
    "    print(image_path.split('.')[0])\n",
    "    file_path_no_ext = image_path.split('.')[0]\n",
    "    print(file_path_no_ext)\n",
    "    label_path_no_ext = file_path_no_ext.replace('visual_genome_data', 'visual_genome_yolo')\n",
    "    print(label_path_no_ext)\n",
    "    label_path = label_path_no_ext + '.txt'\n",
    "    \n",
    "    visualize_yolo_annotations(image_path, label_path, yaml_path)\n",
    "    \n",
    "    \n",
    "    round_counter += 1\n",
    "    if round_counter > 5: \n",
    "        break"
   ]
  },
  {
   "cell_type": "code",
   "execution_count": null,
   "id": "d1c7f609-5c9c-4f04-98c1-6ccce1753763",
   "metadata": {},
   "outputs": [],
   "source": []
  },
  {
   "cell_type": "code",
   "execution_count": null,
   "id": "eaa0e24c-3bb6-4531-910d-bbd4117394e5",
   "metadata": {},
   "outputs": [],
   "source": []
  }
 ],
 "metadata": {
  "kernelspec": {
   "display_name": "Python 3 (ipykernel)",
   "language": "python",
   "name": "python3"
  },
  "language_info": {
   "codemirror_mode": {
    "name": "ipython",
    "version": 3
   },
   "file_extension": ".py",
   "mimetype": "text/x-python",
   "name": "python",
   "nbconvert_exporter": "python",
   "pygments_lexer": "ipython3",
   "version": "3.12.5"
  }
 },
 "nbformat": 4,
 "nbformat_minor": 5
}
